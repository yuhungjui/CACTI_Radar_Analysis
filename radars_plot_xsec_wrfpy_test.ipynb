{
 "cells": [
  {
   "cell_type": "markdown",
   "id": "0d83fd60",
   "metadata": {},
   "source": [
    "## CACTI Radars Analysis: Cross-sections:\n",
    "\n",
    "**Radar data cross-section plotting and analysis test codes.**\n",
    "\n",
    "* Use wrf-python module to do cross-sections.\n",
    "\n",
    "**Hungjui Yu 20220408**"
   ]
  },
  {
   "cell_type": "code",
   "execution_count": 1,
   "id": "b73f0210",
   "metadata": {},
   "outputs": [
    {
     "name": "stdout",
     "output_type": "stream",
     "text": [
      "Once deleted, variables cannot be recovered. Proceed (y/[n])? y\n"
     ]
    }
   ],
   "source": [
    "%reset"
   ]
  },
  {
   "cell_type": "code",
   "execution_count": 2,
   "id": "dc7517fc",
   "metadata": {},
   "outputs": [],
   "source": [
    "import sys\n",
    "import time\n",
    "import datetime as dt\n",
    "from netCDF4 import Dataset # MFDataset\n",
    "import numpy as np\n",
    "from scipy.interpolate import interpn\n",
    "import xarray as xr\n",
    "\n",
    "import cartopy.crs as ccrs\n",
    "import cartopy.feature as cfeat\n",
    "import cartopy.io.img_tiles as cimgt\n",
    "\n",
    "import matplotlib as mpl\n",
    "import matplotlib.pyplot as plt\n",
    "import matplotlib.cm as cm\n",
    "from matplotlib.colors import ( from_levels_and_colors, Normalize ) \n",
    "\n",
    "\n",
    "from metpy.plots import ctables\n"
   ]
  },
  {
   "cell_type": "code",
   "execution_count": 3,
   "id": "c8bd3199",
   "metadata": {},
   "outputs": [],
   "source": [
    "from wrf import ( getvar, interplevel, to_np, get_cartopy, latlon_coords, vertcross,\n",
    "                  cartopy_xlim, cartopy_ylim, interpline, CoordPair, WrfProj )"
   ]
  },
  {
   "cell_type": "markdown",
   "id": "a39ea74b",
   "metadata": {},
   "source": [
    "### Open radar data from local:"
   ]
  },
  {
   "cell_type": "code",
   "execution_count": null,
   "id": "53697297",
   "metadata": {},
   "outputs": [],
   "source": [
    "test_method = 'SAMURAI'\n",
    "test_time = dt.datetime(2019, 1, 25, 22, 0, 0)\n",
    "\n",
    "# ds_radar = xr.open_dataset('/Users/yuhungjui/Downloads/samurai_XYZ_analysis_m.nc')\n",
    "ds_radar = xr.open_dataset('/Users/yuhungjui/Downloads/samurai_XYZ_analysis.nc')"
   ]
  },
  {
   "cell_type": "markdown",
   "id": "478b73c6",
   "metadata": {
    "jp-MarkdownHeadingCollapsed": true,
    "tags": []
   },
   "source": [
    "### Open radar data on Maui:"
   ]
  },
  {
   "cell_type": "code",
   "execution_count": 5,
   "id": "a40c9766",
   "metadata": {},
   "outputs": [],
   "source": [
    "data_path_1 = '/home/hyu/2scratch2/DATA_DOE_CACTI_cases'"
   ]
  },
  {
   "cell_type": "markdown",
   "id": "534c916c",
   "metadata": {},
   "source": [
    "#### from SAMURAI:"
   ]
  },
  {
   "cell_type": "code",
   "execution_count": 6,
   "id": "14fcd39d",
   "metadata": {},
   "outputs": [],
   "source": [
    "test_method = 'SAMURAI'\n",
    "test_time = dt.datetime(2019, 1, 25, 22, 0, 0)\n",
    "# test_output = '2ppi'\n",
    "test_output = '2ppi_1rhi_2hsrhi'\n",
    "\n",
    "data_path_2_met = '/test_{}'.format(test_method)\n",
    "data_path_3_dt = '/test_{}'.format(test_time.strftime('%Y%m%d_%H%M%S'))\n",
    "\n",
    "data_path_full = data_path_1 \\\n",
    "               + data_path_2_met \\\n",
    "               + data_path_3_dt \\\n",
    "               + '/output_' + test_output + '/samurai_XYZ_analysis.nc'\n",
    "               \n",
    "ds_radar = xr.open_dataset(data_path_full)"
   ]
  },
  {
   "cell_type": "code",
   "execution_count": 8,
   "id": "afc53461",
   "metadata": {},
   "outputs": [],
   "source": [
    "# ds_radar"
   ]
  },
  {
   "cell_type": "code",
   "execution_count": null,
   "id": "4349bb78",
   "metadata": {},
   "outputs": [],
   "source": [
    "# ds_radar.W.sel(altitude=2).plot()\n",
    "# ds_radar.W.isel(altitude=4).plot()\n",
    "# ds_radar.DBZ.sel(altitude=2).data[0].shape"
   ]
  },
  {
   "cell_type": "markdown",
   "id": "863a3c8e",
   "metadata": {},
   "source": [
    "#### from FRACTL:"
   ]
  },
  {
   "cell_type": "code",
   "execution_count": null,
   "id": "15d9bc67",
   "metadata": {},
   "outputs": [],
   "source": []
  },
  {
   "cell_type": "markdown",
   "id": "1788947a",
   "metadata": {},
   "source": [
    "#### from EVAD:"
   ]
  },
  {
   "cell_type": "code",
   "execution_count": null,
   "id": "06af6755",
   "metadata": {},
   "outputs": [],
   "source": [
    "# ds_radar = xr.open_dataset('/home/hyu/2scratch2/DATA_DOE_CACTI_cases/test_EVAD/output/20190125/profile.20190125_180003.CSAPR2.nc')"
   ]
  },
  {
   "cell_type": "code",
   "execution_count": null,
   "id": "24627108",
   "metadata": {},
   "outputs": [],
   "source": [
    "# ds_radar"
   ]
  },
  {
   "cell_type": "code",
   "execution_count": null,
   "id": "828cb64a",
   "metadata": {},
   "outputs": [],
   "source": [
    "# ds_radar.profile.plot()"
   ]
  },
  {
   "cell_type": "markdown",
   "id": "c5cef219",
   "metadata": {},
   "source": [
    "### Set data arrays:"
   ]
  },
  {
   "cell_type": "code",
   "execution_count": 7,
   "id": "40940cac",
   "metadata": {},
   "outputs": [],
   "source": [
    "ds_radar_re=ds_radar.squeeze()\n",
    "\n",
    "## Get variables:\n",
    "da_DBZ = ds_radar_re['DBZ']\n",
    "da_U = ds_radar_re['U']\n",
    "da_V = ds_radar_re['V']\n",
    "da_W = ds_radar_re['W']\n",
    "\n",
    "## Mesh Lat/Lon:\n",
    "lon, lat = np.meshgrid( ds_radar_re.longitude, ds_radar_re.latitude )"
   ]
  },
  {
   "cell_type": "markdown",
   "id": "519e61c2",
   "metadata": {},
   "source": [
    "### Plot: Cross-sections using WRF-Python:"
   ]
  },
  {
   "cell_type": "markdown",
   "id": "a8c25871",
   "metadata": {},
   "source": [
    "#### Calculate linear DBZ:"
   ]
  },
  {
   "cell_type": "code",
   "execution_count": 8,
   "id": "78f4b358",
   "metadata": {},
   "outputs": [],
   "source": [
    "da_LDBZ = 10**(da_DBZ/10.)\n",
    "# da_LDBZ"
   ]
  },
  {
   "cell_type": "markdown",
   "id": "fbac9058",
   "metadata": {},
   "source": [
    "#### Generate 3-D z data:"
   ]
  },
  {
   "cell_type": "code",
   "execution_count": 9,
   "id": "ba7a40e1",
   "metadata": {},
   "outputs": [
    {
     "data": {
      "text/plain": [
       "(51, 201, 201)"
      ]
     },
     "execution_count": 9,
     "metadata": {},
     "output_type": "execute_result"
    }
   ],
   "source": [
    "z_data = ds_radar_re.altitude.data\n",
    "# z_data\n",
    "\n",
    "z_data_3d = np.tile(z_data[:, np.newaxis, np.newaxis], (1, 201, 201))\n",
    "z_data_3d.shape"
   ]
  },
  {
   "cell_type": "code",
   "execution_count": 16,
   "id": "b199cd18",
   "metadata": {},
   "outputs": [],
   "source": [
    "# ds_radar_re = ds_radar_re.assign({'z': (('altitude', 'latitude', 'longitude'), z_data_3d)})\n",
    "# ds_radar_re"
   ]
  },
  {
   "cell_type": "markdown",
   "id": "6729117e",
   "metadata": {},
   "source": [
    "#### Function: Find the nearest grid locations to the desired point:"
   ]
  },
  {
   "cell_type": "code",
   "execution_count": 10,
   "id": "f81f5fdd",
   "metadata": {},
   "outputs": [],
   "source": [
    "def xy_point_loc_from_grid_latlon(grid_lon, grid_lat, lon, lat):\n",
    "    abslon = np.abs(grid_lon-lon)\n",
    "    abslat = np.abs(grid_lat-lat)\n",
    "    c = np.maximum(abslon, abslat)\n",
    "    ([xloc], [yloc]) = np.where(c == np.min(c))\n",
    "    \n",
    "    # print(c)\n",
    "    # print(np.min(c))\n",
    "    # print(np.where(c == np.min(c)))\n",
    "    \n",
    "    return xloc, yloc"
   ]
  },
  {
   "cell_type": "markdown",
   "id": "f2a260f0",
   "metadata": {},
   "source": [
    "#### Set cross-section parameters:"
   ]
  },
  {
   "cell_type": "code",
   "execution_count": 11,
   "id": "2102f51f",
   "metadata": {},
   "outputs": [],
   "source": [
    "## Set the LON/LAT for cross-section Start/End points:\n",
    "xsec1_LON = [-65.3, -63.5]\n",
    "xsec1_LAT = [-33, -30.5]"
   ]
  },
  {
   "cell_type": "markdown",
   "id": "d4935812",
   "metadata": {},
   "source": [
    "#### Define the cross-section start and end points to nearest X, Y locations:"
   ]
  },
  {
   "cell_type": "code",
   "execution_count": 12,
   "id": "3bc66c2b",
   "metadata": {},
   "outputs": [],
   "source": [
    "xsec_LON = xsec1_LON\n",
    "xsec_LAT = xsec1_LAT\n",
    "\n",
    "loc_start = xy_point_loc_from_grid_latlon(lon, lat, xsec_LON[0], xsec_LAT[0])\n",
    "loc_end = xy_point_loc_from_grid_latlon(lon, lat, xsec_LON[1], xsec_LAT[1])\n",
    "\n",
    "## !!! REMEMBER TO SWITCH X, Y TO GET THE CORRECT LAT/LON !!!\n",
    "cross_start = CoordPair(x=loc_start[1], y=loc_start[0])\n",
    "cross_end = CoordPair(x=loc_end[1], y=loc_end[0])"
   ]
  },
  {
   "cell_type": "markdown",
   "id": "a3097ef5",
   "metadata": {},
   "source": [
    "#### Compute the vertical cross-section (from X, Y):"
   ]
  },
  {
   "cell_type": "code",
   "execution_count": 13,
   "id": "807cd930",
   "metadata": {},
   "outputs": [],
   "source": [
    "DBZ_xsec = vertcross( da_LDBZ # Use linear Z for interpolation\n",
    "                    , z_data_3d #ds_radar_re.z.data\n",
    "                    , start_point=cross_start\n",
    "                    , end_point=cross_end\n",
    "                    )\n",
    "\n",
    "DBZ_xsec = 10.0 * np.log10(DBZ_xsec) # Convert back to dBZ after interpolation"
   ]
  },
  {
   "cell_type": "code",
   "execution_count": 43,
   "id": "83479842",
   "metadata": {},
   "outputs": [],
   "source": [
    "# DBZ_xsec"
   ]
  },
  {
   "cell_type": "code",
   "execution_count": 14,
   "id": "3815ad46",
   "metadata": {},
   "outputs": [],
   "source": [
    "W_xsec = vertcross( da_W\n",
    "                  , z_data_3d #ds_radar_re.z.data\n",
    "                  , start_point=cross_start\n",
    "                  , end_point=cross_end\n",
    "                  )\n"
   ]
  },
  {
   "cell_type": "markdown",
   "id": "74f9f8ef",
   "metadata": {},
   "source": [
    "#### Get lat/lon coordinate for the cross section line:"
   ]
  },
  {
   "cell_type": "code",
   "execution_count": 15,
   "id": "425d07a5",
   "metadata": {},
   "outputs": [],
   "source": [
    "xsec_lon = interpline( lon\n",
    "                     # , wrfin=wrf_file\n",
    "                     , start_point=cross_start\n",
    "                     , end_point=cross_end\n",
    "                     )\n",
    "xsec_lat = interpline( lat\n",
    "                     # , wrfin=wrf_file\n",
    "                     , start_point=cross_start\n",
    "                     , end_point=cross_end\n",
    "                     )"
   ]
  },
  {
   "cell_type": "markdown",
   "id": "4078e4f9",
   "metadata": {},
   "source": [
    "### Plot 1: Cross-section:"
   ]
  },
  {
   "cell_type": "markdown",
   "id": "dcc40d65",
   "metadata": {
    "tags": []
   },
   "source": [
    "#### Function: Creating new map:"
   ]
  },
  {
   "cell_type": "code",
   "execution_count": 66,
   "id": "20bd8240",
   "metadata": {},
   "outputs": [],
   "source": [
    "# np.arange(0, xsec_lon.size, 5)\n",
    "# print(DBZ_xsec.vertical.data)\n",
    "# print(xsec_lon.data)"
   ]
  },
  {
   "cell_type": "code",
   "execution_count": 16,
   "id": "b9468f19",
   "metadata": {},
   "outputs": [],
   "source": [
    "def new_xsec(fig):\n",
    "    \n",
    "    # axis_color = xsec_line2_color\n",
    "    \n",
    "    ax = plt.axes()\n",
    "    \n",
    "    ax.set_xticks([0, xsec_lon.size-1])\n",
    "    ax.set_xticklabels( ['A', 'B']\n",
    "                        # ['SW', 'NE'] \n",
    "                        # ['NW', 'SE']\n",
    "                        # ['W', 'E']\n",
    "                      , fontsize=14\n",
    "                      , fontweight='bold'\n",
    "                      # , color=axis_color\n",
    "                      # , rotation = 45\n",
    "                      , ha='right' # horizontalalignment\n",
    "                      )\n",
    "    \n",
    "#     ax.set_xticks(np.arange(0, xsec_lon.size, 5))\n",
    "#     ax.set_xticklabels( np.arange(0, xsec_lon.size, 5)\n",
    "#                       , fontsize=12\n",
    "#                       , fontweight='bold'\n",
    "#                       )\n",
    "    \n",
    "    ax.set_ylim([-0.5, 25])\n",
    "    ax.set_yticks(np.arange(0, 26, 2))\n",
    "    ax.set_yticklabels( np.arange(0, 26, 2)\n",
    "                      , fontsize=14\n",
    "                      , fontweight='bold'\n",
    "                      )\n",
    "    \n",
    "    # ax.spines['bottom'].set_color(axis_color)\n",
    "    # ax.spines['bottom'].set_linewidth(2.5)\n",
    "    \n",
    "    return ax"
   ]
  },
  {
   "cell_type": "markdown",
   "id": "5469a05c",
   "metadata": {},
   "source": [
    "#### Plot dBZ:"
   ]
  },
  {
   "cell_type": "code",
   "execution_count": 17,
   "id": "b8b531e0",
   "metadata": {},
   "outputs": [],
   "source": [
    "## Set NWS reflectivity colorbar:\n",
    "from metpy.plots import ctables\n",
    "ref_norm, ref_cmap = ctables.registry.get_with_steps('NWSStormClearReflectivity', -20, 0.5)\n",
    "\n",
    "## Set CWB reflectivity colorbar:\n",
    "clevs = [-5,0,5,10,15,20,25,30,35,40,45,50,55,60,65,70,75,85]\n",
    "ccols = ['#ffffff','#98ffff','#009aff','#1919ff','#19ff19','#19cd19','#19A019','#fefe08','#ffcb00','#ff9c00','#fe0005','#c90200','#9d0000','#9a009d','#cf00d7','#ff00f7','#fdcafe']\n",
    "# clevs = [-30,-25,-20,-15,-10,-5,0,5,10,15,20,25,30,35,40,45,50,55,60,65,70,75,85]\n",
    "# ccols = ['#f0f8ff','#f0f8ff','#f0f8ff','#f0f8ff','#f0f8ff','#f0f8ff','#98ffff','#009aff','#1919ff','#19ff19','#19cd19','#19A019','#fefe08','#ffcb00','#ff9c00','#fe0005','#c90200','#9d0000','#9a009d','#cf00d7','#ff00f7','#fdcafe']"
   ]
  },
  {
   "cell_type": "code",
   "execution_count": 18,
   "id": "536031f4",
   "metadata": {
    "tags": []
   },
   "outputs": [
    {
     "data": {
      "text/plain": [
       "'2019-01-25T22:00:03'"
      ]
     },
     "execution_count": 18,
     "metadata": {},
     "output_type": "execute_result"
    }
   ],
   "source": [
    "np.datetime_as_string(ds_radar.time.data[0], unit='s')"
   ]
  },
  {
   "cell_type": "code",
   "execution_count": 19,
   "id": "b987850e",
   "metadata": {},
   "outputs": [
    {
     "data": {
      "image/png": "[encoded data removed]",
      "text/plain": [
       "<Figure size 1152x648 with 2 Axes>"
      ]
     },
     "metadata": {
      "needs_background": "light"
     },
     "output_type": "display_data"
    }
   ],
   "source": [
    "fig_xsec = plt.figure(figsize=(16,9))\n",
    "ax_xsec = new_xsec(fig_xsec)\n",
    "\n",
    "plotting_var = DBZ_xsec.data\n",
    "plotting_x = np.arange(DBZ_xsec.xy_loc.size)\n",
    "plotting_y = DBZ_xsec.vertical.data\n",
    "\n",
    "## CWB colorbar (xarray plot):\n",
    "# cf2 = dbz_xsec.plot.contourf( vmin=0, vmax=80, levels=clevs, colors=ccols)\n",
    "\n",
    "## CWB colorbar:\n",
    "cf1 = ax_xsec.contourf( plotting_x, plotting_y, plotting_var\n",
    "                      , levels=clevs\n",
    "                      , colors=ccols\n",
    "                      # , vmin=0\n",
    "                      # , vmax=20\n",
    "                      )\n",
    "\n",
    "## NWS colorbar:\n",
    "# cf2 = ax_xsec.pcolormesh( plotting_x, plotting_y, plotting_var\n",
    "#                         , cmap=ref_cmap\n",
    "#                         , norm=ref_norm\n",
    "#                         , shading='auto'\n",
    "#                         )\n",
    "\n",
    "plt.xlabel('Cross-section', {'size': 14, 'weight': 'bold'})\n",
    "plt.ylabel('Altitude (km)', {'size': 14, 'weight': 'bold'})\n",
    "\n",
    "## Plot the sigmal level line:\n",
    "# xsec_color = xsec_line2_color\n",
    "\n",
    "# sigma_lev_h = ax_xsec.plot( plotting_x, sigma_line\n",
    "#                           , color=xsec_color)\n",
    "\n",
    "# ax_xsec.legend( sigma_lev_h, ['$\\sigma$-level: ' + str(sigma_lev)]\n",
    "#               , loc='upper left'\n",
    "#               # , fontsize=14\n",
    "#               , prop={'size':14, 'weight':'bold'}\n",
    "#               )\n",
    "\n",
    "## Fill in the mountain terrain:\n",
    "# ter_fill = ax_xsec.fill_between(plotting_x, 0, ter_line,\n",
    "#                                 facecolor='dimgrey')\n",
    "\n",
    "cf1_title = plt.title( 'Retrieved dBZ Cross-section'\n",
    "                     # + test_time.strftime('%Y-%m-%d T%H:%M:%SZ') \n",
    "                     + '\\n Time: ' + np.datetime_as_string(ds_radar.time.data[0], unit='s') + 'Z'\n",
    "                     + ' / Method: ' + test_method\n",
    "                     ,fontsize=16\n",
    "                     ,fontweight='bold'\n",
    "                     )\n",
    "\n",
    "cbar_ax = fig_xsec.add_axes([0.92, 0.3, 0.02, 0.4])\n",
    "cbar = fig_xsec.colorbar(cf1, fraction=0.04, cax=cbar_ax)\n",
    "cbar.ax.tick_params(labelsize=14)\n",
    "cbar.ax.set_title('[dBZ]', fontsize=14, y=-0.1) #fontweight='bold'\n",
    "\n",
    "\n",
    "## Save figure:\n",
    "plt.savefig( test_time.strftime('%Y%m%d_%H%M%S')\n",
    "             # './' + ds_radar.time.data[0].astype('datetime64[s]').item().strftime('%Y%m%d_%H%M%S')\n",
    "           + '_xsec_DBZ.png'\n",
    "           , bbox_inches='tight'\n",
    "           , dpi=300\n",
    "           )\n",
    "\n",
    "\n"
   ]
  },
  {
   "cell_type": "markdown",
   "id": "92369108",
   "metadata": {},
   "source": [
    "#### Plot W:"
   ]
  },
  {
   "cell_type": "code",
   "execution_count": 20,
   "id": "35a8ee9f",
   "metadata": {},
   "outputs": [],
   "source": [
    "## W Colormap settings:\n",
    "w_bounds = np.arange(-5, 5.1, 0.5)\n",
    "w_cmap = cm.get_cmap('RdBu_r', w_bounds.size+1)\n",
    "w_norm = mpl.colors.BoundaryNorm(w_bounds, w_cmap.N, extend='both')\n"
   ]
  },
  {
   "cell_type": "code",
   "execution_count": 21,
   "id": "61fc0b6e",
   "metadata": {},
   "outputs": [
    {
     "data": {
      "image/png": "[encoded data removed]",
      "text/plain": [
       "<Figure size 1152x648 with 2 Axes>"
      ]
     },
     "metadata": {
      "needs_background": "light"
     },
     "output_type": "display_data"
    }
   ],
   "source": [
    "fig_xsec = plt.figure(figsize=(16,9))\n",
    "ax_xsec = new_xsec(fig_xsec)\n",
    "\n",
    "plotting_var = W_xsec.data\n",
    "plotting_x = np.arange(W_xsec.xy_loc.size)\n",
    "plotting_y = W_xsec.vertical.data\n",
    "\n",
    "## CWB colorbar (xarray plot):\n",
    "# cf2 = dbz_xsec.plot.contourf( vmin=0, vmax=80, levels=clevs, colors=ccols)\n",
    "\n",
    "## CWB colorbar:\n",
    "cf1 = ax_xsec.pcolormesh( plotting_x, plotting_y, plotting_var\n",
    "                      , cmap=w_cmap\n",
    "                      , norm=w_norm\n",
    "                      # , alpha=0.8\n",
    "                      , shading='auto'\n",
    "                      )\n",
    "\n",
    "## NWS colorbar:\n",
    "# cf2 = ax_xsec.pcolormesh( plotting_x, plotting_y, plotting_var\n",
    "#                         , cmap=ref_cmap\n",
    "#                         , norm=ref_norm\n",
    "#                         , shading='auto'\n",
    "#                         )\n",
    "\n",
    "plt.ylabel('Altitude (km)', {'size': 14, 'weight': 'bold'})\n",
    "\n",
    "## Plot the sigmal level line:\n",
    "# xsec_color = xsec_line2_color\n",
    "\n",
    "# sigma_lev_h = ax_xsec.plot( plotting_x, sigma_line\n",
    "#                           , color=xsec_color)\n",
    "\n",
    "# ax_xsec.legend( sigma_lev_h, ['$\\sigma$-level: ' + str(sigma_lev)]\n",
    "#               , loc='upper left'\n",
    "#               # , fontsize=14\n",
    "#               , prop={'size':14, 'weight':'bold'}\n",
    "#               )\n",
    "\n",
    "## Fill in the mountain terrain:\n",
    "# ter_fill = ax_xsec.fill_between(plotting_x, 0, ter_line,\n",
    "#                                 facecolor='dimgrey')\n",
    "\n",
    "cf1_title = plt.title( 'Retrieved W Cross-section'\n",
    "                     # + test_time.strftime('%Y-%m-%d T%H:%M:%SZ') \n",
    "                     + '\\n Time: ' + np.datetime_as_string(ds_radar.time.data[0], unit='s') + 'Z'\n",
    "                     + ' / Method: ' + test_method\n",
    "                     ,fontsize=16\n",
    "                     ,fontweight='bold'\n",
    "                     )\n",
    "\n",
    "cbar_ax = fig_xsec.add_axes([0.92, 0.3, 0.02, 0.4])\n",
    "cbar = fig_xsec.colorbar(cf1, fraction=0.04, cax=cbar_ax)\n",
    "cbar.ax.tick_params(labelsize=14)\n",
    "cbar.ax.set_title('[m/s]', fontsize=14, y=-0.2) #fontweight='bold'\n",
    "\n",
    "\n",
    "## Save figure:\n",
    "plt.savefig( test_time.strftime('%Y%m%d_%H%M%S')\n",
    "             # './' + ds_radar.time.data[0].astype('datetime64[s]').item().strftime('%Y%m%d_%H%M%S')\n",
    "           + '_xsec_W.png'\n",
    "           , bbox_inches='tight'\n",
    "           , dpi=300\n",
    "           )\n",
    "\n",
    "\n"
   ]
  },
  {
   "cell_type": "markdown",
   "id": "e6a5fd10",
   "metadata": {},
   "source": [
    "### <font color='teal'>**Supplement Codes:**</font>"
   ]
  },
  {
   "cell_type": "markdown",
   "id": "b9b61699",
   "metadata": {},
   "source": [
    "### Plot 1: Maps:"
   ]
  },
  {
   "cell_type": "markdown",
   "id": "2e6bc885",
   "metadata": {},
   "source": [
    "#### Set plotting parameters:"
   ]
  },
  {
   "cell_type": "code",
   "execution_count": null,
   "id": "bb7abdf5",
   "metadata": {},
   "outputs": [],
   "source": [
    "plot_alt = 2.5 #km"
   ]
  },
  {
   "cell_type": "markdown",
   "id": "7013115b",
   "metadata": {},
   "source": [
    "#### Function: Creating new map:"
   ]
  },
  {
   "cell_type": "code",
   "execution_count": null,
   "id": "b4d60e33",
   "metadata": {},
   "outputs": [],
   "source": [
    "def new_map(fig):\n",
    "    \n",
    "    # proj = ccrs.LambertConformal( central_longitude=0.0, central_latitude=30, globe=None )\n",
    "    # proj = ccrs.LambertCylindrical( central_longitude=0.0, globe=None )\n",
    "    proj = ccrs.PlateCarree( central_longitude=0, globe=None)\n",
    "    \n",
    "    # ax = fig.add_subplot(1, 1, 1, projection=proj)\n",
    "    ax = plt.axes(projection=proj)\n",
    "    \n",
    "    ## Add background image:\n",
    "    # ax.stock_img()\n",
    "    \n",
    "    ## Add Stamen terrain:\n",
    "    stamen_terrain = cimgt.Stamen('terrain')\n",
    "    \n",
    "    ax.add_image(stamen_terrain, 8)\n",
    "    \n",
    "    ## Set extent:\n",
    "    # ax.set_global()\n",
    "    \n",
    "    ## S. America:\n",
    "    # ax.set_extent([-30, -90, 20, -60], crs=proj)\n",
    "    ## CACTI:\n",
    "    # ax.set_extent([-61.5, -67, -28.5, -34.5], crs=proj)\n",
    "    ax.set_extent([-62.5, -66.5, -29.5, -33.5], crs=proj)\n",
    "    # ax.set_extent([-62.5, -66, -29.5, -33.5], crs=proj)\n",
    "    # ax.set_extent([-55, -75, -20, -40], crs=proj)\n",
    "    \n",
    "    ## Add coast lines:\n",
    "    ax.coastlines('10m', 'black', linewidth=1)\n",
    "    \n",
    "    ## Grab state shapefile:\n",
    "    state_borders = cfeat.NaturalEarthFeature( category='cultural' # 'physical'\n",
    "                                             , name='admin_1_states_provinces_lines'\n",
    "                                             # , name='geography_regions_elevation_points'\n",
    "                                             , scale='50m'\n",
    "                                             , facecolor='none'\n",
    "                                             , edgecolor='gray'\n",
    "                                             )\n",
    "    ## Add features:\n",
    "    # ax.add_feature(cfeat.BORDERS)\n",
    "    # ax.add_feature(cfeat.LAND)\n",
    "    # ax.add_feature(cfeat.COASTLINE)\n",
    "    # ax.add_feature(cfeat.OCEAN, edgecolor=None) #, fc='none')\n",
    "    # ax.add_feature(cfeat.GSHHSFeature(scale='auto', levels=None))\n",
    "    # ax.add_feature(state_borders, linewidth=0.8)\n",
    "    \n",
    "    ## Add the gridlines:\n",
    "    latlon_grid_int = 1\n",
    "    ax_gl = ax.gridlines( crs=ccrs.PlateCarree()\n",
    "                        , linewidth=0.5\n",
    "                        , color='#454545' \n",
    "                        , alpha=0.9\n",
    "                        , linestyle='--'\n",
    "                        , draw_labels=True \n",
    "                        , dms=True\n",
    "                        # , x_inline=False \n",
    "                        # , y_inline=False\n",
    "                        , xlocs=np.arange(-180, 181, latlon_grid_int)\n",
    "                        , ylocs=np.arange(-90, 91, latlon_grid_int)\n",
    "                        )\n",
    "    ax_gl.top_labels = False\n",
    "    ax_gl.right_labels = False\n",
    "    ax_gl.bottom_labels = True\n",
    "    ax_gl.left_labels = True\n",
    "    ax_gl.xlabel_style = {'size': 14, 'weight': 'bold'}\n",
    "    ax_gl.ylabel_style = {'size': 14, 'weight': 'bold'}\n",
    "    \n",
    "    \n",
    "    return ax"
   ]
  },
  {
   "cell_type": "markdown",
   "id": "9fd153c2",
   "metadata": {},
   "source": [
    "#### Plot dBZ:"
   ]
  },
  {
   "cell_type": "code",
   "execution_count": null,
   "id": "5919a299",
   "metadata": {},
   "outputs": [],
   "source": [
    "## Set NWS reflectivity colorbar:\n",
    "from metpy.plots import ctables\n",
    "ref_norm, ref_cmap = ctables.registry.get_with_steps('NWSStormClearReflectivity', -20, 0.5)\n",
    "\n",
    "## Set CWB reflectivity colorbar:\n",
    "clevs = [-5,0,5,10,15,20,25,30,35,40,45,50,55,60,65,70,75,85]\n",
    "ccols = ['#ffffff','#98ffff','#009aff','#1919ff','#19ff19','#19cd19','#19A019','#fefe08','#ffcb00','#ff9c00','#fe0005','#c90200','#9d0000','#9a009d','#cf00d7','#ff00f7','#fdcafe']\n",
    "# clevs = [-30,-25,-20,-15,-10,-5,0,5,10,15,20,25,30,35,40,45,50,55,60,65,70,75,85]\n",
    "# ccols = ['#f0f8ff','#f0f8ff','#f0f8ff','#f0f8ff','#f0f8ff','#f0f8ff','#98ffff','#009aff','#1919ff','#19ff19','#19cd19','#19A019','#fefe08','#ffcb00','#ff9c00','#fe0005','#c90200','#9d0000','#9a009d','#cf00d7','#ff00f7','#fdcafe']"
   ]
  },
  {
   "cell_type": "code",
   "execution_count": null,
   "id": "56874abc",
   "metadata": {},
   "outputs": [],
   "source": [
    "np.datetime_as_string(ds_radar.time.data[0], unit='s')"
   ]
  },
  {
   "cell_type": "code",
   "execution_count": null,
   "id": "4f04628c",
   "metadata": {},
   "outputs": [],
   "source": [
    "fig = plt.figure(figsize=(10,10))\n",
    "ax1 = new_map(fig)\n",
    "# ax1 = plt.axes(projection = ccrs.LambertConformal(central_longitude=-100, central_latitude=40))\n",
    "# ax1 = plt.axes(projection = ccrs.PlateCarree())\n",
    "\n",
    "plotting_var = ds_radar.DBZ.sel(altitude=plot_alt).data[0]\n",
    "plotting_lon = ds_radar.longitude\n",
    "plotting_lat = ds_radar.latitude\n",
    "\n",
    "\n",
    "## CWB colorbar:\n",
    "cf1 = ax1.contourf( plotting_lon, plotting_lat, plotting_var\n",
    "                  , levels=clevs, colors=ccols\n",
    "                  , alpha=0.6\n",
    "                  )\n",
    "\n",
    "## NWS colorbar:\n",
    "# cf1 = ax1.pcolormesh( plotting_lon, plotting_lat, plotting_var\n",
    "#                     , cmap=ref_cmap, norm=ref_norm\n",
    "#                     , alpha=0.8\n",
    "#                     , shading='auto'\n",
    "#                     )\n",
    "# cf1 = ax1.pcolormesh( plotting_lon, plotting_lat, plotting_var\n",
    "#                     , vmax=70\n",
    "#                     , vmin=-5\n",
    "#                     , cmap=ctables.registry.get_colortable('NWSReflectivity')\n",
    "#                     # , norm=Normalize(-5, 75)\n",
    "#                     )\n",
    "\n",
    "## Loc. CSAPR2:\n",
    "plt.plot( -64.73, -32.13\n",
    "        # , color='k'\n",
    "        , marker='o'\n",
    "        , markersize=10\n",
    "        , mec='k'\n",
    "        , mew=3\n",
    "        , mfc='none'\n",
    "        # , markevery=[0,-1]\n",
    "        # , linewidth=1.0\n",
    "        # , linestyle='--'\n",
    "        )\n",
    "\n",
    "## Loc. CHIVO:\n",
    "plt.plot( -64.17, -31.63\n",
    "        # , color='k'\n",
    "        , marker='o'\n",
    "        , markersize=12\n",
    "        , mec='k'\n",
    "        , mew=1\n",
    "        , mfc='k'\n",
    "        # , markevery=[0,-1]\n",
    "        # , linewidth=1.0\n",
    "        # , linestyle='--'\n",
    "        )\n",
    "\n",
    "cf1_title = plt.title( 'Retrieved dBZ'\n",
    "                     # + test_time.strftime('%Y-%m-%d T%H:%M:%SZ') \n",
    "                     + '\\n Time: ' + np.datetime_as_string(ds_radar.time.data[0], unit='s') + 'Z'\n",
    "                     + ' / Height: ' + str(plot_alt) + '-km'\n",
    "                     + ' \\n Method: ' + test_method\n",
    "                     ,fontsize=14 \n",
    "                     ,fontweight='bold'\n",
    "                     )\n",
    "\n",
    "cbar_ax = fig.add_axes([0.95, 0.3, 0.02, 0.4])\n",
    "cbar = fig.colorbar(cf1, cax=cbar_ax, fraction=0.04)\n",
    "cbar.ax.tick_params(labelsize=12)\n",
    "cbar.ax.set_title('[dBZ]', fontsize=12, y=-0.1)\n",
    "\n",
    "\n",
    "## Save figure:\n",
    "\n",
    "# plt.savefig('./' + np.datetime_as_string(dbz_lev.Time.data, unit='h') + '_dbz_xline.png', \n",
    "#             bbox_inches='tight', \n",
    "#             dpi=300)\n",
    "\n"
   ]
  },
  {
   "cell_type": "markdown",
   "id": "ece36e52",
   "metadata": {},
   "source": [
    "#### Plot W:"
   ]
  },
  {
   "cell_type": "code",
   "execution_count": null,
   "id": "506840b9",
   "metadata": {},
   "outputs": [],
   "source": [
    "## W Colormap settings:\n",
    "w_bounds = np.arange(-4, 4.1, 0.5)\n",
    "w_cmap = cm.get_cmap('RdBu_r', w_bounds.size+1)\n",
    "w_norm = mpl.colors.BoundaryNorm(w_bounds, w_cmap.N, extend='both')\n"
   ]
  },
  {
   "cell_type": "code",
   "execution_count": null,
   "id": "4271af2d",
   "metadata": {},
   "outputs": [],
   "source": [
    "fig = plt.figure(figsize=(9,16))\n",
    "ax1 = new_map(fig)\n",
    "# ax1 = plt.axes(projection = ccrs.LambertConformal(central_longitude=-100, central_latitude=40))\n",
    "# ax1 = plt.axes(projection = ccrs.PlateCarree())\n",
    "\n",
    "plotting_var = ds_radar.W.sel(altitude=2.5).data[0]\n",
    "plotting_lon = ds_radar.longitude\n",
    "plotting_lat = ds_radar.latitude\n",
    "\n",
    "\n",
    "cf1 = ax1.pcolormesh( plotting_lon, plotting_lat, plotting_var\n",
    "                    , cmap=w_cmap\n",
    "                    , norm=w_norm\n",
    "                    , alpha=0.8\n",
    "                    , shading='auto')\n",
    "\n",
    "\n",
    "## Loc. CSAPR2:\n",
    "plt.plot( -64.73, -32.13\n",
    "        # , color='k'\n",
    "        , marker='o'\n",
    "        , markersize=14\n",
    "        , mec='k'\n",
    "        , mew=1\n",
    "        , mfc='k'\n",
    "        # , markevery=[0,-1]\n",
    "        # , linewidth=1.0\n",
    "        # , linestyle='--'\n",
    "        )\n",
    "\n",
    "## Loc. CHIVO:\n",
    "plt.plot( -64.17, -31.63\n",
    "        # , color='k'\n",
    "        , marker='o'\n",
    "        , markersize=14\n",
    "        , mec='k'\n",
    "        , mew=1\n",
    "        , mfc='k'\n",
    "        # , markevery=[0,-1]\n",
    "        # , linewidth=1.0\n",
    "        # , linestyle='--'\n",
    "        )\n",
    "\n",
    "## Plot cross-section lines:\n",
    "plt.plot( [-63.5, -65.5], [-31.5, -33]\n",
    "        , color='green'\n",
    "        , marker='.'\n",
    "        , markersize=14\n",
    "        # , mec='k'\n",
    "        # , mew=1\n",
    "        # , mfc='k'\n",
    "        , markevery=[0,-1]\n",
    "        , linewidth=2.0\n",
    "        , linestyle='--'\n",
    "        )\n",
    "\n",
    "cf1_title = plt.title( 'Retrieved W'\n",
    "                     # + test_time.strftime('%Y-%m-%d T%H:%M:%SZ') \n",
    "                     + '\\n Time: ' + np.datetime_as_string(ds_radar.time.data[0], unit='s') + 'Z'\n",
    "                     + ' / Height: ' + str(plot_alt) + '-km'\n",
    "                     + ' \\n Method: ' + test_method\n",
    "                     ,fontsize=14 \n",
    "                     ,fontweight='bold'\n",
    "                     )\n",
    "\n",
    "cbar_ax = fig.add_axes([0.95, 0.3, 0.02, 0.4])\n",
    "cbar = fig.colorbar(cf1, cax=cbar_ax, fraction=0.04)\n",
    "cbar.ax.tick_params(labelsize=12)\n",
    "cbar.ax.set_title('[m/s]', fontsize=12, y=-0.1)\n",
    "\n",
    "\n",
    "## Save figure:\n",
    "\n",
    "# plt.savefig('./' + np.datetime_as_string(dbz_lev.Time.data, unit='h') + '_dbz_xline.png', \n",
    "#             bbox_inches='tight', \n",
    "#             dpi=300)\n"
   ]
  },
  {
   "cell_type": "markdown",
   "id": "1eec0f88",
   "metadata": {},
   "source": [
    "### <font color='dodgerblue'>**Supplement Codes from Marqi:**</font>"
   ]
  },
  {
   "cell_type": "code",
   "execution_count": null,
   "id": "4e8d8b36",
   "metadata": {},
   "outputs": [],
   "source": [
    "import numpy as np\n",
    "import matplotlib.pyplot as plt\n",
    "from netCDF4 import Dataset\n",
    "from astropy.convolution import convolve, Gaussian2DKernel\n",
    "import pyart\n",
    "from csu_radartools import (csu_fhc, csu_liquid_ice_mass, csu_blended_rain, \n",
    "                            csu_dsd, csu_kdp, csu_misc, fundamentals)\n",
    "import csu_radartools\n",
    "import matplotlib.colors as colors\n",
    "import difflib\n",
    "import os\n",
    "from datetime import datetime\n"
   ]
  },
  {
   "cell_type": "code",
   "execution_count": null,
   "id": "76876642",
   "metadata": {},
   "outputs": [],
   "source": [
    "print (csu_radartools.__version__)"
   ]
  },
  {
   "cell_type": "code",
   "execution_count": null,
   "id": "5084e214",
   "metadata": {},
   "outputs": [],
   "source": [
    "def two_panel_plot(radar, sweep=0, var1='reflectivity', vmin1=0, vmax1=70,\n",
    "                   cmap1='pyart_HomeyerRainbow', units1='dBZ', var2='differential_reflectivity',\n",
    "                   vmin2=-5, vmax2=5, cmap2='RdYlBu_r', units2='dB', return_flag=False,\n",
    "                   xlim=[-150,150], ylim=[-150,150]):\n",
    "    display = pyart.graph.RadarDisplay(radar)\n",
    "    fig = plt.figure(figsize=(18,5))\n",
    "    fig.patch.set_facecolor('xkcd:white')\n",
    "    ax1 = fig.add_subplot(121)\n",
    "    display.plot_rhi(var1, sweep=sweep, vmin=vmin1, vmax=vmax1, cmap=cmap1, \n",
    "                     colorbar_label=units1, mask_outside=True)\n",
    "    display.set_limits(xlim=xlim, ylim=ylim)\n",
    "    ax2 = fig.add_subplot(122)\n",
    "    display.plot_rhi(var2, sweep=sweep, vmin=vmin2, vmax=vmax2, cmap=cmap2, \n",
    "                     colorbar_label=units2, mask_outside=True)\n",
    "    display.set_limits(xlim=xlim, ylim=ylim)\n",
    "    if return_flag:\n",
    "        return fig, ax1, ax2, display"
   ]
  },
  {
   "cell_type": "code",
   "execution_count": null,
   "id": "a5fec846",
   "metadata": {},
   "outputs": [],
   "source": [
    "#radarfile = '/home/mrocque/research/relampago/csapr2/corcsapr2cfrppiqcM1.b1.20181214.030003.custom.nc2'\n",
    "radarfile = '/home/mrocque/research/relampago/csapr2/corcsapr2cfrppiqcM1.b1.20181214.140003.custom.nc1'\n",
    "#radarfile = '/rasmussen-scratch/krasmussen/DATA/RELAMPAGO/CSAPR2/ppi/20181214/corcsapr2cfrppiqcM1.b1.20181214.141504.custom.nc'\n",
    "#radarfile = '/rasmussen-scratch/krasmussen/DATA/RELAMPAGO/CSAPR2/ppi/20181214/corcsapr2cfrppiqcM1.b1.20181214.234504.custom.nc'\n",
    "#radarfile = '/home/mrocque/research/relampago/csapr2/corcsapr2cfrhsrhiqcM1.b1.20181214.030715.custom.nc2'\n",
    "radar = pyart.io.read(radarfile)\n",
    "print(radar.fields.keys())\n",
    "\n",
    "dz = radar.fields['DZ_qc']['data']\n",
    "dr = radar.fields['ZDR_qc']['data']\n",
    "kd = radar.fields['PHIDP_qc']['data']\n",
    "rh = radar.fields['RHOHV_qc']['data']"
   ]
  },
  {
   "cell_type": "code",
   "execution_count": null,
   "id": "be3b4661",
   "metadata": {},
   "outputs": [],
   "source": [
    "del radar.fields['uncorrected_reflectivity_v']"
   ]
  },
  {
   "cell_type": "code",
   "execution_count": null,
   "id": "8067891c",
   "metadata": {},
   "outputs": [],
   "source": [
    "print (radar.fields.keys())"
   ]
  },
  {
   "cell_type": "code",
   "execution_count": null,
   "id": "52bf2adb",
   "metadata": {},
   "outputs": [],
   "source": [
    "snd_times = []\n",
    "filenames = []\n",
    "for filename in os.listdir('/rasmussen-scratch/mrocque/research/relampago/CACTI_ARM_soundings/netcdf/'):\n",
    "    filenames.append(filename)\n",
    "    str2 = (filename[18:33])\n",
    "    snd_times.append(datetime.strptime(str2, '%Y%m%d.%H%M%S'))\n"
   ]
  },
  {
   "cell_type": "code",
   "execution_count": null,
   "id": "03059b7e",
   "metadata": {},
   "outputs": [],
   "source": [
    "filenames.sort()\n",
    "snd_times.sort()"
   ]
  },
  {
   "cell_type": "code",
   "execution_count": null,
   "id": "2f9efaa2",
   "metadata": {},
   "outputs": [],
   "source": [
    "print (snd_times)"
   ]
  },
  {
   "cell_type": "code",
   "execution_count": null,
   "id": "fced38d6",
   "metadata": {},
   "outputs": [],
   "source": [
    "#str1 = radarfile[63:78]\n",
    "str1 = radarfile[88:103]\n",
    "print (str1)\n",
    "\n",
    "#closest = difflib.get_close_matches(str1, snd_times, 1)\n",
    "#print (snd_times.index(closest[0]))"
   ]
  },
  {
   "cell_type": "code",
   "execution_count": null,
   "id": "e20ea7f1",
   "metadata": {
    "scrolled": true
   },
   "outputs": [],
   "source": [
    "dt_obj = datetime.strptime(str1, '%Y%m%d.%H%M%S')\n",
    "\n",
    "res = min(snd_times, key=lambda sub: abs(sub - dt_obj))\n"
   ]
  },
  {
   "cell_type": "code",
   "execution_count": null,
   "id": "b346be49",
   "metadata": {},
   "outputs": [],
   "source": [
    "print (dt_obj)"
   ]
  },
  {
   "cell_type": "code",
   "execution_count": null,
   "id": "9a672e54",
   "metadata": {},
   "outputs": [],
   "source": [
    "print (res)\n",
    "print (snd_times.index(res))"
   ]
  },
  {
   "cell_type": "code",
   "execution_count": null,
   "id": "c3d79dbb",
   "metadata": {},
   "outputs": [],
   "source": [
    "print (filenames[339])"
   ]
  },
  {
   "cell_type": "code",
   "execution_count": null,
   "id": "95497268",
   "metadata": {},
   "outputs": [],
   "source": [
    "#584\n",
    "#707\n",
    "\n",
    "print (filenames[340])"
   ]
  },
  {
   "cell_type": "code",
   "execution_count": null,
   "id": "245867cb",
   "metadata": {},
   "outputs": [],
   "source": [
    "sndfile = '/rasmussen-scratch/mrocque/research/relampago/CACTI_ARM_soundings/netcdf/corsondewnpnM1.b1.20181214.000000.custom.cdf'\n",
    "\n",
    "data = Dataset(sndfile, 'r')\n",
    "print (data.variables.keys())\n",
    "temp = np.array(data.variables['tdry'])\n",
    "hght = np.array(data.variables['alt'])"
   ]
  },
  {
   "cell_type": "code",
   "execution_count": null,
   "id": "b986f040",
   "metadata": {},
   "outputs": [],
   "source": [
    "print (data.variables['base_time'])"
   ]
  },
  {
   "cell_type": "code",
   "execution_count": null,
   "id": "7ed3864a",
   "metadata": {},
   "outputs": [],
   "source": [
    "def radar_coords_to_cart(rng, az, ele, debug=False):\n",
    "    \"\"\"\n",
    "    TJL - taken from old Py-ART version\n",
    "    Calculate Cartesian coordinate from radar coordinates\n",
    "    Parameters\n",
    "    ----------\n",
    "    rng : array\n",
    "        Distances to the center of the radar gates (bins) in kilometers.\n",
    "    az : array\n",
    "        Azimuth angle of the radar in degrees.\n",
    "    ele : array\n",
    "        Elevation angle of the radar in degrees.\n",
    "    Returns\n",
    "    -------\n",
    "    x, y, z : array\n",
    "        Cartesian coordinates in meters from the radar.\n",
    "    Notes\n",
    "    -----\n",
    "    The calculation for Cartesian coordinate is adapted from equations\n",
    "    2.28(b) and 2.28(c) of Doviak and Zrnic [1]_ assuming a\n",
    "    standard atmosphere (4/3 Earth's radius model).\n",
    "    .. math::\n",
    "        z = \\\\sqrt{r^2+R^2+r*R*sin(\\\\theta_e)} - R\n",
    "        s = R * arcsin(\\\\frac{r*cos(\\\\theta_e)}{R+z})\n",
    "        x = s * sin(\\\\theta_a)\n",
    "        y = s * cos(\\\\theta_a)\n",
    "    Where r is the distance from the radar to the center of the gate,\n",
    "    :math:\\\\theta_a is the azimuth angle, :math:\\\\theta_e is the\n",
    "    elevation angle, s is the arc length, and R is the effective radius\n",
    "    of the earth, taken to be 4/3 the mean radius of earth (6371 km).\n",
    "    References\n",
    "    ----------\n",
    "    .. [1] Doviak and Zrnic, Doppler Radar and Weather Observations, Second\n",
    "        Edition, 1993, p. 21.\n",
    "    \"\"\"\n",
    "    theta_e = ele * np.pi / 180.0  # elevation angle in radians.\n",
    "    theta_a = az * np.pi / 180.0  # azimuth angle in radians.\n",
    "    R = 6371.0 * 1000.0 * 4.0 / 3.0  # effective radius of earth in meters.\n",
    "    r = rng * 1000.0  # distances to gates in meters.\n",
    "\n",
    "    z = (r ** 2 + R ** 2 + 2.0 * r * R * np.sin(theta_e)) ** 0.5 - R\n",
    "    s = R * np.arcsin(r * np.cos(theta_e) / (R + z))  # arc length in m.\n",
    "    x = s * np.sin(theta_a)\n",
    "    y = s * np.cos(theta_a)\n",
    "    return x, y, z\n",
    "\n",
    "\n",
    "def get_z_from_radar(radar):\n",
    "    \"\"\"Input radar object, return z from radar (km, 2D)\"\"\"\n",
    "    azimuth_1D = radar.azimuth['data']\n",
    "    elevation_1D = radar.elevation['data']\n",
    "    srange_1D = radar.range['data']\n",
    "    sr_2d, az_2d = np.meshgrid(srange_1D, azimuth_1D)\n",
    "    el_2d = np.meshgrid(srange_1D, elevation_1D)[1]\n",
    "    xx, yy, zz = radar_coords_to_cart(sr_2d/1000.0, az_2d, el_2d)\n",
    "    return zz + radar.altitude['data']\n",
    "\n",
    "def check_sounding_for_montonic(sounding):\n",
    "    \"\"\"\n",
    "    So the sounding interpolation doesn't fail, force the sounding to behave\n",
    "    monotonically so that z always increases. This eliminates data from\n",
    "    descending balloons.\n",
    "    \"\"\"\n",
    "    snd_T = np.array(sounding.variables['tdry'])\n",
    "    snd_z = np.array(sounding.variables['alt'])\n",
    "    \n",
    "    #snd_T = sounding.soundingdata['temp']  # In old SkewT, was sounding.data\n",
    "    #snd_z = sounding.soundingdata['hght']  # In old SkewT, was sounding.data\n",
    "    dummy_z = []\n",
    "    dummy_T = []\n",
    "    #if not snd_T.mask[0]: #May cause issue for specific soundings\n",
    "    dummy_z.append(snd_z[0])\n",
    "    dummy_T.append(snd_T[0])\n",
    "    for i, height in enumerate(snd_z):\n",
    "        if i > 0:\n",
    "            if snd_z[i] > snd_z[i-1]:# and not snd_T.mask[i]:\n",
    "                dummy_z.append(snd_z[i])\n",
    "                dummy_T.append(snd_T[i])\n",
    "    snd_z = np.array(dummy_z)\n",
    "    snd_T = np.array(dummy_T)\n",
    "    return snd_T, snd_z\n",
    "\n",
    "\n",
    "def interpolate_sounding_to_radar(sounding, radar):\n",
    "    \"\"\"Takes sounding data and interpolates it to every radar gate.\"\"\"\n",
    "    radar_z = get_z_from_radar(radar)\n",
    "    radar_T = None\n",
    "    snd_T, snd_z = check_sounding_for_montonic(sounding)\n",
    "    shape = np.shape(radar_z)\n",
    "    rad_z1d = radar_z.ravel()\n",
    "    rad_T1d = np.interp(rad_z1d, snd_z, snd_T)\n",
    "    return np.reshape(rad_T1d, shape), radar_z\n"
   ]
  },
  {
   "cell_type": "code",
   "execution_count": null,
   "id": "df1ed48a",
   "metadata": {
    "scrolled": true
   },
   "outputs": [],
   "source": [
    "radar_T, radar_z = interpolate_sounding_to_radar(data, radar)"
   ]
  },
  {
   "cell_type": "code",
   "execution_count": null,
   "id": "eaaab095",
   "metadata": {
    "scrolled": true
   },
   "outputs": [],
   "source": [
    "scores = csu_fhc.csu_fhc_summer(dz=dz, zdr=dr, rho=rh, kdp=kd, use_temp=True, band='C',\n",
    "                                T=radar_T, method='hybrid')#, use_trap=True)\n",
    "\n",
    "fh = np.argmax(scores, axis=0) + 1"
   ]
  },
  {
   "cell_type": "code",
   "execution_count": null,
   "id": "ca084d10",
   "metadata": {},
   "outputs": [],
   "source": [
    "def add_field_to_radar_object(field, radar, field_name='HID_hyb', units='unitless', \n",
    "                              long_name='Hydrometeor ID', standard_name='Hydrometeor ID',\n",
    "                              dz_field='DZ_qc'):\n",
    "    \"\"\"\n",
    "    Adds a newly created field to the Py-ART radar object. If reflectivity is a masked array,\n",
    "    make the new field masked the same as reflectivity.\n",
    "    \"\"\"\n",
    "    fill_value = -32768\n",
    "    masked_field = np.ma.asanyarray(field)\n",
    "    masked_field.mask = masked_field == fill_value\n",
    "    if hasattr(radar.fields[dz_field]['data'], 'mask'):\n",
    "        setattr(masked_field, 'mask', \n",
    "                np.logical_or(masked_field.mask, radar.fields[dz_field]['data'].mask))\n",
    "        fill_value = radar.fields[dz_field]['_FillValue']\n",
    "    field_dict = {'data': masked_field,\n",
    "                  'units': units,\n",
    "                  'long_name': long_name,\n",
    "                  'standard_name': standard_name,\n",
    "                  '_FillValue': fill_value}\n",
    "    radar.add_field(field_name, field_dict, replace_existing=True)\n",
    "    return radar"
   ]
  },
  {
   "cell_type": "code",
   "execution_count": null,
   "id": "96d6acc7",
   "metadata": {},
   "outputs": [],
   "source": [
    "radar = add_field_to_radar_object(fh, radar)\n"
   ]
  },
  {
   "cell_type": "code",
   "execution_count": null,
   "id": "085defc1",
   "metadata": {},
   "outputs": [],
   "source": [
    "hid_colors = ['White', 'LightBlue', 'MediumBlue', 'DarkOrange', 'LightPink',\n",
    "              'Cyan', 'DarkGray', 'Lime', 'Yellow', 'Red', 'Fuchsia']\n",
    "cmaphid = colors.ListedColormap(hid_colors)\n",
    "cmapmeth = colors.ListedColormap(hid_colors[0:6])\n",
    "cmapmeth_trop = colors.ListedColormap(hid_colors[0:7])\n",
    "\n",
    "def adjust_fhc_colorbar_for_pyart(cb):\n",
    "    cb.set_ticks(np.arange(1.4, 10, 0.9))\n",
    "    cb.ax.set_yticklabels(['Drizzle', 'Rain', 'Ice Crystals', 'Aggregates',\n",
    "                           'Wet Snow', 'Vertical Ice', 'LD Graupel',\n",
    "                           'HD Graupel', 'Hail', 'Big Drops'])\n",
    "    cb.ax.set_ylabel('')\n",
    "    cb.ax.tick_params(length=0)\n",
    "    return cb\n",
    "\n",
    "def adjust_meth_colorbar_for_pyart(cb, tropical=False):\n",
    "    if not tropical:\n",
    "        cb.set_ticks(np.arange(1.25, 5, 0.833))\n",
    "        cb.ax.set_yticklabels(['R(Kdp, Zdr)', 'R(Kdp)', 'R(Z, Zdr)', 'R(Z)', 'R(Zrain)'])\n",
    "    else:\n",
    "        cb.set_ticks(np.arange(1.3, 6, 0.85))\n",
    "        cb.ax.set_yticklabels(['R(Kdp, Zdr)', 'R(Kdp)', 'R(Z, Zdr)', 'R(Z_all)', 'R(Z_c)', 'R(Z_s)'])\n",
    "    cb.ax.set_ylabel('')\n",
    "    cb.ax.tick_params(length=0)\n",
    "    return cb"
   ]
  },
  {
   "cell_type": "code",
   "execution_count": null,
   "id": "598156c9",
   "metadata": {},
   "outputs": [],
   "source": [
    "# Actual plotting done here\n",
    "lim = [0, 100]\n",
    "lim2 = [0, 20]\n",
    "fig, ax1, ax2, display = two_panel_plot(\n",
    "    radar, sweep=3, var1='DZ_qc', vmin1=0, vmax1=70, var2='HID_hyb', vmin2=0, vmax2=10,\n",
    "    cmap2=cmaphid, units2='', return_flag=True, xlim=lim, ylim=lim2)\n",
    "display.cbs[1] = adjust_fhc_colorbar_for_pyart(display.cbs[1])\n",
    "\n",
    "#plt.savefig('caspr2_20181214_030715_30rhi_hid_hyb.png', dpi=400, bbox_inches='tight')"
   ]
  },
  {
   "cell_type": "code",
   "execution_count": null,
   "id": "00a684ef",
   "metadata": {},
   "outputs": [],
   "source": [
    "plt.plot(temp, hght)\n",
    "plt.xlim(-10, 10)"
   ]
  },
  {
   "cell_type": "code",
   "execution_count": null,
   "id": "7bc6be8b",
   "metadata": {},
   "outputs": [],
   "source": []
  }
 ],
 "metadata": {
  "kernelspec": {
   "display_name": "Python 3",
   "language": "python",
   "name": "python3"
  },
  "language_info": {
   "codemirror_mode": {
    "name": "ipython",
    "version": 3
   },
   "file_extension": ".py",
   "mimetype": "text/x-python",
   "name": "python",
   "nbconvert_exporter": "python",
   "pygments_lexer": "ipython3",
   "version": "3.8.5"
  }
 },
 "nbformat": 4,
 "nbformat_minor": 5
}
