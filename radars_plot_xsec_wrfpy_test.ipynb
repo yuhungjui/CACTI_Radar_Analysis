{
 "cells": [
  {
   "cell_type": "markdown",
   "id": "0611f10d",
   "metadata": {},
   "source": [
    "## CACTI Radars Analysis: Cross-sections:\n",
    "\n",
    "**Radar data cross-section plotting and analysis test codes.**\n",
    "\n",
    "* Output data in LAMBERT_CONFORMAL_CONIC projection. Use WRF python to do cross-sections.\n",
    "\n",
    "**Hungjui Yu 20220406**"
   ]
  },
  {
   "cell_type": "code",
   "execution_count": 33,
   "id": "e4b7bb14",
   "metadata": {},
   "outputs": [
    {
     "name": "stdin",
     "output_type": "stream",
     "text": [
      "Once deleted, variables cannot be recovered. Proceed (y/[n])?  y\n"
     ]
    }
   ],
   "source": [
    "%reset"
   ]
  },
  {
   "cell_type": "code",
   "execution_count": 34,
   "id": "d7920528",
   "metadata": {},
   "outputs": [],
   "source": [
    "import sys\n",
    "import time\n",
    "import datetime as dt\n",
    "from netCDF4 import Dataset # MFDataset\n",
    "import numpy as np\n",
    "from scipy.interpolate import interpn\n",
    "import xarray as xr\n",
    "\n",
    "import cartopy.crs as ccrs\n",
    "import cartopy.feature as cfeat\n",
    "import cartopy.io.img_tiles as cimgt\n",
    "\n",
    "import matplotlib as mpl\n",
    "import matplotlib.pyplot as plt\n",
    "import matplotlib.cm as cm\n",
    "from matplotlib.colors import ( from_levels_and_colors, Normalize ) \n",
    "\n",
    "\n",
    "from metpy.plots import ctables\n"
   ]
  },
  {
   "cell_type": "code",
   "execution_count": 35,
   "id": "3258a451",
   "metadata": {},
   "outputs": [],
   "source": [
    "from wrf import ( getvar, interplevel, to_np, get_cartopy, latlon_coords, vertcross,\n",
    "                  cartopy_xlim, cartopy_ylim, interpline, CoordPair, WrfProj )"
   ]
  },
  {
   "cell_type": "markdown",
   "id": "b2df1e2b-e4ef-4abd-9fe6-7b14453679bf",
   "metadata": {},
   "source": [
    "### Open radar data from local:"
   ]
  },
  {
   "cell_type": "code",
   "execution_count": 36,
   "id": "fe1a6375-54b2-42d1-a844-8bdb6ae1ae15",
   "metadata": {},
   "outputs": [],
   "source": [
    "test_method = 'SAMURAI'\n",
    "test_time = dt.datetime(2019, 1, 25, 22, 0, 0)\n",
    "\n",
    "# ds_radar = xr.open_dataset('/Users/yuhungjui/Downloads/samurai_XYZ_analysis_m.nc')\n",
    "ds_radar = xr.open_dataset('/Users/yuhungjui/Downloads/samurai_XYZ_analysis.nc')\n",
    "\n",
    "ds_radar_re=ds_radar.squeeze()\n",
    "\n",
    "## Get variables:\n",
    "da_DBZ = ds_radar_re['DBZ']\n",
    "da_U = ds_radar_re['U']\n",
    "da_V = ds_radar_re['V']\n",
    "da_W = ds_radar_re['W']\n",
    "\n",
    "## Mesh Lat/Lon:\n",
    "lon, lat = np.meshgrid( ds_radar_re.longitude, ds_radar_re.latitude )"
   ]
  },
  {
   "cell_type": "markdown",
   "id": "befaf2f0",
   "metadata": {
    "jp-MarkdownHeadingCollapsed": true,
    "tags": []
   },
   "source": [
    "### Open radar data on Maui:"
   ]
  },
  {
   "cell_type": "code",
   "execution_count": 50,
   "id": "036b2dc7",
   "metadata": {},
   "outputs": [],
   "source": [
    "data_path_1 = '/home/hyu/2scratch2/DATA_DOE_CACTI_cases'"
   ]
  },
  {
   "cell_type": "markdown",
   "id": "e57da96c",
   "metadata": {},
   "source": [
    "#### from SAMURAI:"
   ]
  },
  {
   "cell_type": "code",
   "execution_count": 51,
   "id": "30a32524",
   "metadata": {},
   "outputs": [],
   "source": [
    "test_method = 'SAMURAI'\n",
    "test_time = dt.datetime(2019, 1, 25, 22, 0, 0)\n",
    "\n",
    "data_path_2_met = '/test_{}'.format(test_method)\n",
    "data_path_3_dt = '/test_{}'.format(test_time.strftime('%Y%m%d_%H%M%S'))\n",
    "\n",
    "data_path_full = data_path_1 \\\n",
    "               + data_path_2_met \\\n",
    "               + data_path_3_dt \\\n",
    "               + '/output/samurai_XYZ_analysis.nc'\n",
    "            \n",
    "ds_radar = xr.open_dataset(data_path_full)"
   ]
  },
  {
   "cell_type": "code",
   "execution_count": 52,
   "id": "bb586c76",
   "metadata": {},
   "outputs": [
    {
     "data": {
      "text/html": [
       "<div><svg style=\"position: absolute; width: 0; height: 0; overflow: hidden\">\n",
       "<defs>\n",
       "<symbol id=\"icon-database\" viewBox=\"0 0 32 32\">\n",
       "<path d=\"M16 0c-8.837 0-16 2.239-16 5v4c0 2.761 7.163 5 16 5s16-2.239 16-5v-4c0-2.761-7.163-5-16-5z\"></path>\n",
       "<path d=\"M16 17c-8.837 0-16-2.239-16-5v6c0 2.761 7.163 5 16 5s16-2.239 16-5v-6c0 2.761-7.163 5-16 5z\"></path>\n",
       "<path d=\"M16 26c-8.837 0-16-2.239-16-5v6c0 2.761 7.163 5 16 5s16-2.239 16-5v-6c0 2.761-7.163 5-16 5z\"></path>\n",
       "</symbol>\n",
       "<symbol id=\"icon-file-text2\" viewBox=\"0 0 32 32\">\n",
       "<path d=\"M28.681 7.159c-0.694-0.947-1.662-2.053-2.724-3.116s-2.169-2.030-3.116-2.724c-1.612-1.182-2.393-1.319-2.841-1.319h-15.5c-1.378 0-2.5 1.121-2.5 2.5v27c0 1.378 1.122 2.5 2.5 2.5h23c1.378 0 2.5-1.122 2.5-2.5v-19.5c0-0.448-0.137-1.23-1.319-2.841zM24.543 5.457c0.959 0.959 1.712 1.825 2.268 2.543h-4.811v-4.811c0.718 0.556 1.584 1.309 2.543 2.268zM28 29.5c0 0.271-0.229 0.5-0.5 0.5h-23c-0.271 0-0.5-0.229-0.5-0.5v-27c0-0.271 0.229-0.5 0.5-0.5 0 0 15.499-0 15.5 0v7c0 0.552 0.448 1 1 1h7v19.5z\"></path>\n",
       "<path d=\"M23 26h-14c-0.552 0-1-0.448-1-1s0.448-1 1-1h14c0.552 0 1 0.448 1 1s-0.448 1-1 1z\"></path>\n",
       "<path d=\"M23 22h-14c-0.552 0-1-0.448-1-1s0.448-1 1-1h14c0.552 0 1 0.448 1 1s-0.448 1-1 1z\"></path>\n",
       "<path d=\"M23 18h-14c-0.552 0-1-0.448-1-1s0.448-1 1-1h14c0.552 0 1 0.448 1 1s-0.448 1-1 1z\"></path>\n",
       "</symbol>\n",
       "</defs>\n",
       "</svg>\n",
       "<style>/* CSS stylesheet for displaying xarray objects in jupyterlab.\n",
       " *\n",
       " */\n",
       "\n",
       ":root {\n",
       "  --xr-font-color0: var(--jp-content-font-color0, rgba(0, 0, 0, 1));\n",
       "  --xr-font-color2: var(--jp-content-font-color2, rgba(0, 0, 0, 0.54));\n",
       "  --xr-font-color3: var(--jp-content-font-color3, rgba(0, 0, 0, 0.38));\n",
       "  --xr-border-color: var(--jp-border-color2, #e0e0e0);\n",
       "  --xr-disabled-color: var(--jp-layout-color3, #bdbdbd);\n",
       "  --xr-background-color: var(--jp-layout-color0, white);\n",
       "  --xr-background-color-row-even: var(--jp-layout-color1, white);\n",
       "  --xr-background-color-row-odd: var(--jp-layout-color2, #eeeeee);\n",
       "}\n",
       "\n",
       "html[theme=dark],\n",
       "body.vscode-dark {\n",
       "  --xr-font-color0: rgba(255, 255, 255, 1);\n",
       "  --xr-font-color2: rgba(255, 255, 255, 0.54);\n",
       "  --xr-font-color3: rgba(255, 255, 255, 0.38);\n",
       "  --xr-border-color: #1F1F1F;\n",
       "  --xr-disabled-color: #515151;\n",
       "  --xr-background-color: #111111;\n",
       "  --xr-background-color-row-even: #111111;\n",
       "  --xr-background-color-row-odd: #313131;\n",
       "}\n",
       "\n",
       ".xr-wrap {\n",
       "  display: block;\n",
       "  min-width: 300px;\n",
       "  max-width: 700px;\n",
       "}\n",
       "\n",
       ".xr-text-repr-fallback {\n",
       "  /* fallback to plain text repr when CSS is not injected (untrusted notebook) */\n",
       "  display: none;\n",
       "}\n",
       "\n",
       ".xr-header {\n",
       "  padding-top: 6px;\n",
       "  padding-bottom: 6px;\n",
       "  margin-bottom: 4px;\n",
       "  border-bottom: solid 1px var(--xr-border-color);\n",
       "}\n",
       "\n",
       ".xr-header > div,\n",
       ".xr-header > ul {\n",
       "  display: inline;\n",
       "  margin-top: 0;\n",
       "  margin-bottom: 0;\n",
       "}\n",
       "\n",
       ".xr-obj-type,\n",
       ".xr-array-name {\n",
       "  margin-left: 2px;\n",
       "  margin-right: 10px;\n",
       "}\n",
       "\n",
       ".xr-obj-type {\n",
       "  color: var(--xr-font-color2);\n",
       "}\n",
       "\n",
       ".xr-sections {\n",
       "  padding-left: 0 !important;\n",
       "  display: grid;\n",
       "  grid-template-columns: 150px auto auto 1fr 20px 20px;\n",
       "}\n",
       "\n",
       ".xr-section-item {\n",
       "  display: contents;\n",
       "}\n",
       "\n",
       ".xr-section-item input {\n",
       "  display: none;\n",
       "}\n",
       "\n",
       ".xr-section-item input + label {\n",
       "  color: var(--xr-disabled-color);\n",
       "}\n",
       "\n",
       ".xr-section-item input:enabled + label {\n",
       "  cursor: pointer;\n",
       "  color: var(--xr-font-color2);\n",
       "}\n",
       "\n",
       ".xr-section-item input:enabled + label:hover {\n",
       "  color: var(--xr-font-color0);\n",
       "}\n",
       "\n",
       ".xr-section-summary {\n",
       "  grid-column: 1;\n",
       "  color: var(--xr-font-color2);\n",
       "  font-weight: 500;\n",
       "}\n",
       "\n",
       ".xr-section-summary > span {\n",
       "  display: inline-block;\n",
       "  padding-left: 0.5em;\n",
       "}\n",
       "\n",
       ".xr-section-summary-in:disabled + label {\n",
       "  color: var(--xr-font-color2);\n",
       "}\n",
       "\n",
       ".xr-section-summary-in + label:before {\n",
       "  display: inline-block;\n",
       "  content: '►';\n",
       "  font-size: 11px;\n",
       "  width: 15px;\n",
       "  text-align: center;\n",
       "}\n",
       "\n",
       ".xr-section-summary-in:disabled + label:before {\n",
       "  color: var(--xr-disabled-color);\n",
       "}\n",
       "\n",
       ".xr-section-summary-in:checked + label:before {\n",
       "  content: '▼';\n",
       "}\n",
       "\n",
       ".xr-section-summary-in:checked + label > span {\n",
       "  display: none;\n",
       "}\n",
       "\n",
       ".xr-section-summary,\n",
       ".xr-section-inline-details {\n",
       "  padding-top: 4px;\n",
       "  padding-bottom: 4px;\n",
       "}\n",
       "\n",
       ".xr-section-inline-details {\n",
       "  grid-column: 2 / -1;\n",
       "}\n",
       "\n",
       ".xr-section-details {\n",
       "  display: none;\n",
       "  grid-column: 1 / -1;\n",
       "  margin-bottom: 5px;\n",
       "}\n",
       "\n",
       ".xr-section-summary-in:checked ~ .xr-section-details {\n",
       "  display: contents;\n",
       "}\n",
       "\n",
       ".xr-array-wrap {\n",
       "  grid-column: 1 / -1;\n",
       "  display: grid;\n",
       "  grid-template-columns: 20px auto;\n",
       "}\n",
       "\n",
       ".xr-array-wrap > label {\n",
       "  grid-column: 1;\n",
       "  vertical-align: top;\n",
       "}\n",
       "\n",
       ".xr-preview {\n",
       "  color: var(--xr-font-color3);\n",
       "}\n",
       "\n",
       ".xr-array-preview,\n",
       ".xr-array-data {\n",
       "  padding: 0 5px !important;\n",
       "  grid-column: 2;\n",
       "}\n",
       "\n",
       ".xr-array-data,\n",
       ".xr-array-in:checked ~ .xr-array-preview {\n",
       "  display: none;\n",
       "}\n",
       "\n",
       ".xr-array-in:checked ~ .xr-array-data,\n",
       ".xr-array-preview {\n",
       "  display: inline-block;\n",
       "}\n",
       "\n",
       ".xr-dim-list {\n",
       "  display: inline-block !important;\n",
       "  list-style: none;\n",
       "  padding: 0 !important;\n",
       "  margin: 0;\n",
       "}\n",
       "\n",
       ".xr-dim-list li {\n",
       "  display: inline-block;\n",
       "  padding: 0;\n",
       "  margin: 0;\n",
       "}\n",
       "\n",
       ".xr-dim-list:before {\n",
       "  content: '(';\n",
       "}\n",
       "\n",
       ".xr-dim-list:after {\n",
       "  content: ')';\n",
       "}\n",
       "\n",
       ".xr-dim-list li:not(:last-child):after {\n",
       "  content: ',';\n",
       "  padding-right: 5px;\n",
       "}\n",
       "\n",
       ".xr-has-index {\n",
       "  font-weight: bold;\n",
       "}\n",
       "\n",
       ".xr-var-list,\n",
       ".xr-var-item {\n",
       "  display: contents;\n",
       "}\n",
       "\n",
       ".xr-var-item > div,\n",
       ".xr-var-item label,\n",
       ".xr-var-item > .xr-var-name span {\n",
       "  background-color: var(--xr-background-color-row-even);\n",
       "  margin-bottom: 0;\n",
       "}\n",
       "\n",
       ".xr-var-item > .xr-var-name:hover span {\n",
       "  padding-right: 5px;\n",
       "}\n",
       "\n",
       ".xr-var-list > li:nth-child(odd) > div,\n",
       ".xr-var-list > li:nth-child(odd) > label,\n",
       ".xr-var-list > li:nth-child(odd) > .xr-var-name span {\n",
       "  background-color: var(--xr-background-color-row-odd);\n",
       "}\n",
       "\n",
       ".xr-var-name {\n",
       "  grid-column: 1;\n",
       "}\n",
       "\n",
       ".xr-var-dims {\n",
       "  grid-column: 2;\n",
       "}\n",
       "\n",
       ".xr-var-dtype {\n",
       "  grid-column: 3;\n",
       "  text-align: right;\n",
       "  color: var(--xr-font-color2);\n",
       "}\n",
       "\n",
       ".xr-var-preview {\n",
       "  grid-column: 4;\n",
       "}\n",
       "\n",
       ".xr-var-name,\n",
       ".xr-var-dims,\n",
       ".xr-var-dtype,\n",
       ".xr-preview,\n",
       ".xr-attrs dt {\n",
       "  white-space: nowrap;\n",
       "  overflow: hidden;\n",
       "  text-overflow: ellipsis;\n",
       "  padding-right: 10px;\n",
       "}\n",
       "\n",
       ".xr-var-name:hover,\n",
       ".xr-var-dims:hover,\n",
       ".xr-var-dtype:hover,\n",
       ".xr-attrs dt:hover {\n",
       "  overflow: visible;\n",
       "  width: auto;\n",
       "  z-index: 1;\n",
       "}\n",
       "\n",
       ".xr-var-attrs,\n",
       ".xr-var-data {\n",
       "  display: none;\n",
       "  background-color: var(--xr-background-color) !important;\n",
       "  padding-bottom: 5px !important;\n",
       "}\n",
       "\n",
       ".xr-var-attrs-in:checked ~ .xr-var-attrs,\n",
       ".xr-var-data-in:checked ~ .xr-var-data {\n",
       "  display: block;\n",
       "}\n",
       "\n",
       ".xr-var-data > table {\n",
       "  float: right;\n",
       "}\n",
       "\n",
       ".xr-var-name span,\n",
       ".xr-var-data,\n",
       ".xr-attrs {\n",
       "  padding-left: 25px !important;\n",
       "}\n",
       "\n",
       ".xr-attrs,\n",
       ".xr-var-attrs,\n",
       ".xr-var-data {\n",
       "  grid-column: 1 / -1;\n",
       "}\n",
       "\n",
       "dl.xr-attrs {\n",
       "  padding: 0;\n",
       "  margin: 0;\n",
       "  display: grid;\n",
       "  grid-template-columns: 125px auto;\n",
       "}\n",
       "\n",
       ".xr-attrs dt,\n",
       ".xr-attrs dd {\n",
       "  padding: 0;\n",
       "  margin: 0;\n",
       "  float: left;\n",
       "  padding-right: 10px;\n",
       "  width: auto;\n",
       "}\n",
       "\n",
       ".xr-attrs dt {\n",
       "  font-weight: normal;\n",
       "  grid-column: 1;\n",
       "}\n",
       "\n",
       ".xr-attrs dt:hover span {\n",
       "  display: inline-block;\n",
       "  background: var(--xr-background-color);\n",
       "  padding-right: 10px;\n",
       "}\n",
       "\n",
       ".xr-attrs dd {\n",
       "  grid-column: 2;\n",
       "  white-space: pre-wrap;\n",
       "  word-break: break-all;\n",
       "}\n",
       "\n",
       ".xr-icon-database,\n",
       ".xr-icon-file-text2 {\n",
       "  display: inline-block;\n",
       "  vertical-align: middle;\n",
       "  width: 1em;\n",
       "  height: 1.5em !important;\n",
       "  stroke-width: 0;\n",
       "  stroke: currentColor;\n",
       "  fill: currentColor;\n",
       "}\n",
       "</style><pre class='xr-text-repr-fallback'>&lt;xarray.Dataset&gt;\n",
       "Dimensions:     (longitude: 201, latitude: 201, altitude: 51, time: 1)\n",
       "Coordinates:\n",
       "  * longitude   (longitude) float32 -66.12 -66.1 -66.07 ... -61.93 -61.9 -61.88\n",
       "  * latitude    (latitude) float32 -33.8 -33.79 -33.77 ... -30.23 -30.21 -30.2\n",
       "  * altitude    (altitude) float32 0.0 0.5 1.0 1.5 2.0 ... 23.5 24.0 24.5 25.0\n",
       "  * time        (time) datetime64[ns] 2019-01-25T22:00:03\n",
       "Data variables: (12/53)\n",
       "    x           (longitude) float32 -200.0 -198.0 -196.0 ... 196.0 198.0 200.0\n",
       "    y           (latitude) float32 -200.0 -198.0 -196.0 ... 196.0 198.0 200.0\n",
       "    U           (time, altitude, latitude, longitude) float32 ...\n",
       "    V           (time, altitude, latitude, longitude) float32 ...\n",
       "    W           (time, altitude, latitude, longitude) float32 ...\n",
       "    WSPD        (time, altitude, latitude, longitude) float32 ...\n",
       "    ...          ...\n",
       "    DQVDZ       (time, altitude, latitude, longitude) float32 ...\n",
       "    DPDZ        (time, altitude, latitude, longitude) float32 ...\n",
       "    DRHODX      (time, altitude, latitude, longitude) float32 ...\n",
       "    DRHODY      (time, altitude, latitude, longitude) float32 ...\n",
       "    DRHODZ      (time, altitude, latitude, longitude) float32 ...\n",
       "    MCRESIDUAL  (time, altitude, latitude, longitude) float32 ...</pre><div class='xr-wrap' hidden><div class='xr-header'><div class='xr-obj-type'>xarray.Dataset</div></div><ul class='xr-sections'><li class='xr-section-item'><input id='section-2843cef0-3dbf-41aa-8640-e7ec8cf0b8d3' class='xr-section-summary-in' type='checkbox' disabled ><label for='section-2843cef0-3dbf-41aa-8640-e7ec8cf0b8d3' class='xr-section-summary'  title='Expand/collapse section'>Dimensions:</label><div class='xr-section-inline-details'><ul class='xr-dim-list'><li><span class='xr-has-index'>longitude</span>: 201</li><li><span class='xr-has-index'>latitude</span>: 201</li><li><span class='xr-has-index'>altitude</span>: 51</li><li><span class='xr-has-index'>time</span>: 1</li></ul></div><div class='xr-section-details'></div></li><li class='xr-section-item'><input id='section-36d2a59b-b97c-4001-b689-4c4c23890518' class='xr-section-summary-in' type='checkbox'  checked><label for='section-36d2a59b-b97c-4001-b689-4c4c23890518' class='xr-section-summary' >Coordinates: <span>(4)</span></label><div class='xr-section-inline-details'></div><div class='xr-section-details'><ul class='xr-var-list'><li class='xr-var-item'><div class='xr-var-name'><span class='xr-has-index'>longitude</span></div><div class='xr-var-dims'>(longitude)</div><div class='xr-var-dtype'>float32</div><div class='xr-var-preview xr-preview'>-66.12 -66.1 ... -61.9 -61.88</div><input id='attrs-9addef9b-9e55-4f15-868b-3583399d6256' class='xr-var-attrs-in' type='checkbox' ><label for='attrs-9addef9b-9e55-4f15-868b-3583399d6256' title='Show/Hide attributes'><svg class='icon xr-icon-file-text2'><use xlink:href='#icon-file-text2'></use></svg></label><input id='data-44775672-04c7-4d1c-9e07-1993d0204a6f' class='xr-var-data-in' type='checkbox'><label for='data-44775672-04c7-4d1c-9e07-1993d0204a6f' title='Show/Hide data repr'><svg class='icon xr-icon-database'><use xlink:href='#icon-database'></use></svg></label><div class='xr-var-attrs'><dl class='xr-attrs'><dt><span>units :</span></dt><dd>degrees_east</dd></dl></div><div class='xr-var-data'><pre>array([-66.11678 , -66.09563 , -66.07447 , ..., -61.92553 , -61.904373,\n",
       "       -61.883217], dtype=float32)</pre></div></li><li class='xr-var-item'><div class='xr-var-name'><span class='xr-has-index'>latitude</span></div><div class='xr-var-dims'>(latitude)</div><div class='xr-var-dtype'>float32</div><div class='xr-var-preview xr-preview'>-33.8 -33.79 ... -30.21 -30.2</div><input id='attrs-8e18a0ad-8354-4f79-9ded-9f7536e30f8e' class='xr-var-attrs-in' type='checkbox' ><label for='attrs-8e18a0ad-8354-4f79-9ded-9f7536e30f8e' title='Show/Hide attributes'><svg class='icon xr-icon-file-text2'><use xlink:href='#icon-file-text2'></use></svg></label><input id='data-86414f52-996b-4ac9-bba1-4781c0ae6cf0' class='xr-var-data-in' type='checkbox'><label for='data-86414f52-996b-4ac9-bba1-4781c0ae6cf0' title='Show/Hide data repr'><svg class='icon xr-icon-database'><use xlink:href='#icon-database'></use></svg></label><div class='xr-var-attrs'><dl class='xr-attrs'><dt><span>units :</span></dt><dd>degrees_north</dd></dl></div><div class='xr-var-data'><pre>array([-33.804104, -33.786064, -33.76803 , ..., -30.23148 , -30.213432,\n",
       "       -30.195383], dtype=float32)</pre></div></li><li class='xr-var-item'><div class='xr-var-name'><span class='xr-has-index'>altitude</span></div><div class='xr-var-dims'>(altitude)</div><div class='xr-var-dtype'>float32</div><div class='xr-var-preview xr-preview'>0.0 0.5 1.0 1.5 ... 24.0 24.5 25.0</div><input id='attrs-12a6dddc-0527-4b0f-b8d0-e754d06ac7dd' class='xr-var-attrs-in' type='checkbox' ><label for='attrs-12a6dddc-0527-4b0f-b8d0-e754d06ac7dd' title='Show/Hide attributes'><svg class='icon xr-icon-file-text2'><use xlink:href='#icon-file-text2'></use></svg></label><input id='data-6e6e32b4-df47-48a2-b0df-d720f431e48c' class='xr-var-data-in' type='checkbox'><label for='data-6e6e32b4-df47-48a2-b0df-d720f431e48c' title='Show/Hide data repr'><svg class='icon xr-icon-database'><use xlink:href='#icon-database'></use></svg></label><div class='xr-var-attrs'><dl class='xr-attrs'><dt><span>units :</span></dt><dd>km</dd></dl></div><div class='xr-var-data'><pre>array([ 0. ,  0.5,  1. ,  1.5,  2. ,  2.5,  3. ,  3.5,  4. ,  4.5,  5. ,  5.5,\n",
       "        6. ,  6.5,  7. ,  7.5,  8. ,  8.5,  9. ,  9.5, 10. , 10.5, 11. , 11.5,\n",
       "       12. , 12.5, 13. , 13.5, 14. , 14.5, 15. , 15.5, 16. , 16.5, 17. , 17.5,\n",
       "       18. , 18.5, 19. , 19.5, 20. , 20.5, 21. , 21.5, 22. , 22.5, 23. , 23.5,\n",
       "       24. , 24.5, 25. ], dtype=float32)</pre></div></li><li class='xr-var-item'><div class='xr-var-name'><span class='xr-has-index'>time</span></div><div class='xr-var-dims'>(time)</div><div class='xr-var-dtype'>datetime64[ns]</div><div class='xr-var-preview xr-preview'>2019-01-25T22:00:03</div><input id='attrs-a27bd8c0-20f1-46f5-8ad8-7d8543615445' class='xr-var-attrs-in' type='checkbox' disabled><label for='attrs-a27bd8c0-20f1-46f5-8ad8-7d8543615445' title='Show/Hide attributes'><svg class='icon xr-icon-file-text2'><use xlink:href='#icon-file-text2'></use></svg></label><input id='data-63be52ec-d823-4aaf-8a97-4bc576b81517' class='xr-var-data-in' type='checkbox'><label for='data-63be52ec-d823-4aaf-8a97-4bc576b81517' title='Show/Hide data repr'><svg class='icon xr-icon-database'><use xlink:href='#icon-database'></use></svg></label><div class='xr-var-attrs'><dl class='xr-attrs'></dl></div><div class='xr-var-data'><pre>array([&#x27;2019-01-25T22:00:03.000000000&#x27;], dtype=&#x27;datetime64[ns]&#x27;)</pre></div></li></ul></div></li><li class='xr-section-item'><input id='section-afdf5c2e-138a-4b46-a91a-60540c2b973c' class='xr-section-summary-in' type='checkbox'  ><label for='section-afdf5c2e-138a-4b46-a91a-60540c2b973c' class='xr-section-summary' >Data variables: <span>(53)</span></label><div class='xr-section-inline-details'></div><div class='xr-section-details'><ul class='xr-var-list'><li class='xr-var-item'><div class='xr-var-name'><span>x</span></div><div class='xr-var-dims'>(longitude)</div><div class='xr-var-dtype'>float32</div><div class='xr-var-preview xr-preview'>...</div><input id='attrs-7a75ddb1-51b2-46ce-8f05-bfe071ad29e3' class='xr-var-attrs-in' type='checkbox' ><label for='attrs-7a75ddb1-51b2-46ce-8f05-bfe071ad29e3' title='Show/Hide attributes'><svg class='icon xr-icon-file-text2'><use xlink:href='#icon-file-text2'></use></svg></label><input id='data-9c1e6fc0-46ff-44f1-936f-6ef71e7bb959' class='xr-var-data-in' type='checkbox'><label for='data-9c1e6fc0-46ff-44f1-936f-6ef71e7bb959' title='Show/Hide data repr'><svg class='icon xr-icon-database'><use xlink:href='#icon-database'></use></svg></label><div class='xr-var-attrs'><dl class='xr-attrs'><dt><span>units :</span></dt><dd>km</dd></dl></div><div class='xr-var-data'><pre>array([-200., -198., -196., ...,  196.,  198.,  200.], dtype=float32)</pre></div></li><li class='xr-var-item'><div class='xr-var-name'><span>y</span></div><div class='xr-var-dims'>(latitude)</div><div class='xr-var-dtype'>float32</div><div class='xr-var-preview xr-preview'>...</div><input id='attrs-a0a5159f-331a-4125-9a2d-f71560907e60' class='xr-var-attrs-in' type='checkbox' ><label for='attrs-a0a5159f-331a-4125-9a2d-f71560907e60' title='Show/Hide attributes'><svg class='icon xr-icon-file-text2'><use xlink:href='#icon-file-text2'></use></svg></label><input id='data-a19c010d-6bb3-489a-9508-3f1717880497' class='xr-var-data-in' type='checkbox'><label for='data-a19c010d-6bb3-489a-9508-3f1717880497' title='Show/Hide data repr'><svg class='icon xr-icon-database'><use xlink:href='#icon-database'></use></svg></label><div class='xr-var-attrs'><dl class='xr-attrs'><dt><span>units :</span></dt><dd>km</dd></dl></div><div class='xr-var-data'><pre>array([-200., -198., -196., ...,  196.,  198.,  200.], dtype=float32)</pre></div></li><li class='xr-var-item'><div class='xr-var-name'><span>U</span></div><div class='xr-var-dims'>(time, altitude, latitude, longitude)</div><div class='xr-var-dtype'>float32</div><div class='xr-var-preview xr-preview'>...</div><input id='attrs-6cca0d10-bdcc-4bb3-9012-7b904ff3de0a' class='xr-var-attrs-in' type='checkbox' ><label for='attrs-6cca0d10-bdcc-4bb3-9012-7b904ff3de0a' title='Show/Hide attributes'><svg class='icon xr-icon-file-text2'><use xlink:href='#icon-file-text2'></use></svg></label><input id='data-b3c6b0d4-7c02-43cf-a0ef-259f64ae7ab6' class='xr-var-data-in' type='checkbox'><label for='data-b3c6b0d4-7c02-43cf-a0ef-259f64ae7ab6' title='Show/Hide data repr'><svg class='icon xr-icon-database'><use xlink:href='#icon-database'></use></svg></label><div class='xr-var-attrs'><dl class='xr-attrs'><dt><span>units :</span></dt><dd>m s-1</dd><dt><span>long_name :</span></dt><dd>u wind component</dd></dl></div><div class='xr-var-data'><pre>[2060451 values with dtype=float32]</pre></div></li><li class='xr-var-item'><div class='xr-var-name'><span>V</span></div><div class='xr-var-dims'>(time, altitude, latitude, longitude)</div><div class='xr-var-dtype'>float32</div><div class='xr-var-preview xr-preview'>...</div><input id='attrs-4c8d24ca-61f3-432c-ae16-35c0361c8606' class='xr-var-attrs-in' type='checkbox' ><label for='attrs-4c8d24ca-61f3-432c-ae16-35c0361c8606' title='Show/Hide attributes'><svg class='icon xr-icon-file-text2'><use xlink:href='#icon-file-text2'></use></svg></label><input id='data-57f0038f-ce23-4453-b0e3-87b8cffb25ea' class='xr-var-data-in' type='checkbox'><label for='data-57f0038f-ce23-4453-b0e3-87b8cffb25ea' title='Show/Hide data repr'><svg class='icon xr-icon-database'><use xlink:href='#icon-database'></use></svg></label><div class='xr-var-attrs'><dl class='xr-attrs'><dt><span>units :</span></dt><dd>m s-1</dd><dt><span>long_name :</span></dt><dd>v wind component</dd></dl></div><div class='xr-var-data'><pre>[2060451 values with dtype=float32]</pre></div></li><li class='xr-var-item'><div class='xr-var-name'><span>W</span></div><div class='xr-var-dims'>(time, altitude, latitude, longitude)</div><div class='xr-var-dtype'>float32</div><div class='xr-var-preview xr-preview'>...</div><input id='attrs-b090d95f-6a00-47e9-a7f5-f3cd6d802897' class='xr-var-attrs-in' type='checkbox' ><label for='attrs-b090d95f-6a00-47e9-a7f5-f3cd6d802897' title='Show/Hide attributes'><svg class='icon xr-icon-file-text2'><use xlink:href='#icon-file-text2'></use></svg></label><input id='data-6e4d7f3f-ab4a-4c5d-829c-1ebb7d92ddab' class='xr-var-data-in' type='checkbox'><label for='data-6e4d7f3f-ab4a-4c5d-829c-1ebb7d92ddab' title='Show/Hide data repr'><svg class='icon xr-icon-database'><use xlink:href='#icon-database'></use></svg></label><div class='xr-var-attrs'><dl class='xr-attrs'><dt><span>units :</span></dt><dd>m s-1</dd><dt><span>long_name :</span></dt><dd>w wind component</dd></dl></div><div class='xr-var-data'><pre>[2060451 values with dtype=float32]</pre></div></li><li class='xr-var-item'><div class='xr-var-name'><span>WSPD</span></div><div class='xr-var-dims'>(time, altitude, latitude, longitude)</div><div class='xr-var-dtype'>float32</div><div class='xr-var-preview xr-preview'>...</div><input id='attrs-2f77abb6-024d-43fd-9b7a-daa959c76dbe' class='xr-var-attrs-in' type='checkbox' ><label for='attrs-2f77abb6-024d-43fd-9b7a-daa959c76dbe' title='Show/Hide attributes'><svg class='icon xr-icon-file-text2'><use xlink:href='#icon-file-text2'></use></svg></label><input id='data-f31db4db-5b1f-4401-a362-2afed619342d' class='xr-var-data-in' type='checkbox'><label for='data-f31db4db-5b1f-4401-a362-2afed619342d' title='Show/Hide data repr'><svg class='icon xr-icon-database'><use xlink:href='#icon-database'></use></svg></label><div class='xr-var-attrs'><dl class='xr-attrs'><dt><span>units :</span></dt><dd>m s-1</dd><dt><span>long_name :</span></dt><dd>wind speed</dd></dl></div><div class='xr-var-data'><pre>[2060451 values with dtype=float32]</pre></div></li><li class='xr-var-item'><div class='xr-var-name'><span>RH</span></div><div class='xr-var-dims'>(time, altitude, latitude, longitude)</div><div class='xr-var-dtype'>float32</div><div class='xr-var-preview xr-preview'>...</div><input id='attrs-89f103a7-b137-4356-aca1-3f8b7605c63a' class='xr-var-attrs-in' type='checkbox' ><label for='attrs-89f103a7-b137-4356-aca1-3f8b7605c63a' title='Show/Hide attributes'><svg class='icon xr-icon-file-text2'><use xlink:href='#icon-file-text2'></use></svg></label><input id='data-99d57934-61bc-4cd9-be0d-ef1f238e0104' class='xr-var-data-in' type='checkbox'><label for='data-99d57934-61bc-4cd9-be0d-ef1f238e0104' title='Show/Hide data repr'><svg class='icon xr-icon-database'><use xlink:href='#icon-database'></use></svg></label><div class='xr-var-attrs'><dl class='xr-attrs'><dt><span>units :</span></dt><dd>percent</dd><dt><span>long_name :</span></dt><dd>relative humidity</dd></dl></div><div class='xr-var-data'><pre>[2060451 values with dtype=float32]</pre></div></li><li class='xr-var-item'><div class='xr-var-name'><span>HP</span></div><div class='xr-var-dims'>(time, altitude, latitude, longitude)</div><div class='xr-var-dtype'>float32</div><div class='xr-var-preview xr-preview'>...</div><input id='attrs-b0fba3f9-3699-4977-9c7c-486deeccf081' class='xr-var-attrs-in' type='checkbox' ><label for='attrs-b0fba3f9-3699-4977-9c7c-486deeccf081' title='Show/Hide attributes'><svg class='icon xr-icon-file-text2'><use xlink:href='#icon-file-text2'></use></svg></label><input id='data-8b094f3a-b8a5-407d-85f9-934e9fac6f5f' class='xr-var-data-in' type='checkbox'><label for='data-8b094f3a-b8a5-407d-85f9-934e9fac6f5f' title='Show/Hide data repr'><svg class='icon xr-icon-database'><use xlink:href='#icon-database'></use></svg></label><div class='xr-var-attrs'><dl class='xr-attrs'><dt><span>units :</span></dt><dd>kJ</dd><dt><span>long_name :</span></dt><dd>moist static energy perturbation</dd></dl></div><div class='xr-var-data'><pre>[2060451 values with dtype=float32]</pre></div></li><li class='xr-var-item'><div class='xr-var-name'><span>QVP</span></div><div class='xr-var-dims'>(time, altitude, latitude, longitude)</div><div class='xr-var-dtype'>float32</div><div class='xr-var-preview xr-preview'>...</div><input id='attrs-adcad016-9236-4ec1-91e9-60d8ec24f175' class='xr-var-attrs-in' type='checkbox' ><label for='attrs-adcad016-9236-4ec1-91e9-60d8ec24f175' title='Show/Hide attributes'><svg class='icon xr-icon-file-text2'><use xlink:href='#icon-file-text2'></use></svg></label><input id='data-f11484f8-5a90-46da-82ae-17e9876caee3' class='xr-var-data-in' type='checkbox'><label for='data-f11484f8-5a90-46da-82ae-17e9876caee3' title='Show/Hide data repr'><svg class='icon xr-icon-database'><use xlink:href='#icon-database'></use></svg></label><div class='xr-var-attrs'><dl class='xr-attrs'><dt><span>units :</span></dt><dd>g kg-1</dd><dt><span>long_name :</span></dt><dd>water vapor mixing ratio perturbation</dd></dl></div><div class='xr-var-data'><pre>[2060451 values with dtype=float32]</pre></div></li><li class='xr-var-item'><div class='xr-var-name'><span>RHOAP</span></div><div class='xr-var-dims'>(time, altitude, latitude, longitude)</div><div class='xr-var-dtype'>float32</div><div class='xr-var-preview xr-preview'>...</div><input id='attrs-1609b259-ff18-439c-bb18-4c413c8a4d5f' class='xr-var-attrs-in' type='checkbox' ><label for='attrs-1609b259-ff18-439c-bb18-4c413c8a4d5f' title='Show/Hide attributes'><svg class='icon xr-icon-file-text2'><use xlink:href='#icon-file-text2'></use></svg></label><input id='data-ca46e02f-cddc-40c1-bf22-3856f1f257ca' class='xr-var-data-in' type='checkbox'><label for='data-ca46e02f-cddc-40c1-bf22-3856f1f257ca' title='Show/Hide data repr'><svg class='icon xr-icon-database'><use xlink:href='#icon-database'></use></svg></label><div class='xr-var-attrs'><dl class='xr-attrs'><dt><span>units :</span></dt><dd>kg m-3</dd><dt><span>long_name :</span></dt><dd>air density perturbation</dd></dl></div><div class='xr-var-data'><pre>[2060451 values with dtype=float32]</pre></div></li><li class='xr-var-item'><div class='xr-var-name'><span>TP</span></div><div class='xr-var-dims'>(time, altitude, latitude, longitude)</div><div class='xr-var-dtype'>float32</div><div class='xr-var-preview xr-preview'>...</div><input id='attrs-d033b5be-412b-4dcd-8bff-b14d37d82ecb' class='xr-var-attrs-in' type='checkbox' ><label for='attrs-d033b5be-412b-4dcd-8bff-b14d37d82ecb' title='Show/Hide attributes'><svg class='icon xr-icon-file-text2'><use xlink:href='#icon-file-text2'></use></svg></label><input id='data-e901104a-8f7f-47ad-a318-61b70a4a0c3d' class='xr-var-data-in' type='checkbox'><label for='data-e901104a-8f7f-47ad-a318-61b70a4a0c3d' title='Show/Hide data repr'><svg class='icon xr-icon-database'><use xlink:href='#icon-database'></use></svg></label><div class='xr-var-attrs'><dl class='xr-attrs'><dt><span>units :</span></dt><dd>K</dd><dt><span>long_name :</span></dt><dd>temperature perturbation</dd></dl></div><div class='xr-var-data'><pre>[2060451 values with dtype=float32]</pre></div></li><li class='xr-var-item'><div class='xr-var-name'><span>PP</span></div><div class='xr-var-dims'>(time, altitude, latitude, longitude)</div><div class='xr-var-dtype'>float32</div><div class='xr-var-preview xr-preview'>...</div><input id='attrs-3ec347f9-de78-481a-988f-79784429011c' class='xr-var-attrs-in' type='checkbox' ><label for='attrs-3ec347f9-de78-481a-988f-79784429011c' title='Show/Hide attributes'><svg class='icon xr-icon-file-text2'><use xlink:href='#icon-file-text2'></use></svg></label><input id='data-ab109e6c-71f1-4251-a8b7-d3e12a73de35' class='xr-var-data-in' type='checkbox'><label for='data-ab109e6c-71f1-4251-a8b7-d3e12a73de35' title='Show/Hide data repr'><svg class='icon xr-icon-database'><use xlink:href='#icon-database'></use></svg></label><div class='xr-var-attrs'><dl class='xr-attrs'><dt><span>units :</span></dt><dd>hPa</dd><dt><span>long_name :</span></dt><dd>pressure perturbation</dd></dl></div><div class='xr-var-data'><pre>[2060451 values with dtype=float32]</pre></div></li><li class='xr-var-item'><div class='xr-var-name'><span>VORT</span></div><div class='xr-var-dims'>(time, altitude, latitude, longitude)</div><div class='xr-var-dtype'>float32</div><div class='xr-var-preview xr-preview'>...</div><input id='attrs-758e71ba-a35e-4e76-9f90-4c29fbb2e298' class='xr-var-attrs-in' type='checkbox' ><label for='attrs-758e71ba-a35e-4e76-9f90-4c29fbb2e298' title='Show/Hide attributes'><svg class='icon xr-icon-file-text2'><use xlink:href='#icon-file-text2'></use></svg></label><input id='data-30ed2f6b-a76d-4591-a314-d128d2c9cdf9' class='xr-var-data-in' type='checkbox'><label for='data-30ed2f6b-a76d-4591-a314-d128d2c9cdf9' title='Show/Hide data repr'><svg class='icon xr-icon-database'><use xlink:href='#icon-database'></use></svg></label><div class='xr-var-attrs'><dl class='xr-attrs'><dt><span>units :</span></dt><dd>10-5s-1</dd><dt><span>long_name :</span></dt><dd>vertical vorticity</dd></dl></div><div class='xr-var-data'><pre>[2060451 values with dtype=float32]</pre></div></li><li class='xr-var-item'><div class='xr-var-name'><span>DIV</span></div><div class='xr-var-dims'>(time, altitude, latitude, longitude)</div><div class='xr-var-dtype'>float32</div><div class='xr-var-preview xr-preview'>...</div><input id='attrs-a5c9ab6d-7216-4e93-a889-2146241afc23' class='xr-var-attrs-in' type='checkbox' ><label for='attrs-a5c9ab6d-7216-4e93-a889-2146241afc23' title='Show/Hide attributes'><svg class='icon xr-icon-file-text2'><use xlink:href='#icon-file-text2'></use></svg></label><input id='data-eaf45bac-d2d7-4b15-b169-1fed414a102c' class='xr-var-data-in' type='checkbox'><label for='data-eaf45bac-d2d7-4b15-b169-1fed414a102c' title='Show/Hide data repr'><svg class='icon xr-icon-database'><use xlink:href='#icon-database'></use></svg></label><div class='xr-var-attrs'><dl class='xr-attrs'><dt><span>units :</span></dt><dd>10-5s-1</dd><dt><span>long_name :</span></dt><dd>horizontal divergence</dd></dl></div><div class='xr-var-data'><pre>[2060451 values with dtype=float32]</pre></div></li><li class='xr-var-item'><div class='xr-var-name'><span>OW</span></div><div class='xr-var-dims'>(time, altitude, latitude, longitude)</div><div class='xr-var-dtype'>float32</div><div class='xr-var-preview xr-preview'>...</div><input id='attrs-57a2a418-6c1d-4319-a809-17b290754aa1' class='xr-var-attrs-in' type='checkbox' ><label for='attrs-57a2a418-6c1d-4319-a809-17b290754aa1' title='Show/Hide attributes'><svg class='icon xr-icon-file-text2'><use xlink:href='#icon-file-text2'></use></svg></label><input id='data-e8f6c793-61b8-4f5f-bcee-6210979fa66c' class='xr-var-data-in' type='checkbox'><label for='data-e8f6c793-61b8-4f5f-bcee-6210979fa66c' title='Show/Hide data repr'><svg class='icon xr-icon-database'><use xlink:href='#icon-database'></use></svg></label><div class='xr-var-attrs'><dl class='xr-attrs'><dt><span>units :</span></dt><dd>10-10s-1</dd><dt><span>long_name :</span></dt><dd>Okubo-Weiss parameter</dd></dl></div><div class='xr-var-data'><pre>[2060451 values with dtype=float32]</pre></div></li><li class='xr-var-item'><div class='xr-var-name'><span>STRAIN</span></div><div class='xr-var-dims'>(time, altitude, latitude, longitude)</div><div class='xr-var-dtype'>float32</div><div class='xr-var-preview xr-preview'>...</div><input id='attrs-849aec6b-6e9a-4239-b231-2bbf62705dd1' class='xr-var-attrs-in' type='checkbox' ><label for='attrs-849aec6b-6e9a-4239-b231-2bbf62705dd1' title='Show/Hide attributes'><svg class='icon xr-icon-file-text2'><use xlink:href='#icon-file-text2'></use></svg></label><input id='data-f7bf787f-14e1-44af-8573-2690ef8ad76a' class='xr-var-data-in' type='checkbox'><label for='data-f7bf787f-14e1-44af-8573-2690ef8ad76a' title='Show/Hide data repr'><svg class='icon xr-icon-database'><use xlink:href='#icon-database'></use></svg></label><div class='xr-var-attrs'><dl class='xr-attrs'><dt><span>units :</span></dt><dd>10-5s-1</dd><dt><span>long_name :</span></dt><dd>horizontal strain</dd></dl></div><div class='xr-var-data'><pre>[2060451 values with dtype=float32]</pre></div></li><li class='xr-var-item'><div class='xr-var-name'><span>TPW</span></div><div class='xr-var-dims'>(time, altitude, latitude, longitude)</div><div class='xr-var-dtype'>float32</div><div class='xr-var-preview xr-preview'>...</div><input id='attrs-4fae10c5-07a5-4153-a7e8-a145d98f93d2' class='xr-var-attrs-in' type='checkbox' ><label for='attrs-4fae10c5-07a5-4153-a7e8-a145d98f93d2' title='Show/Hide attributes'><svg class='icon xr-icon-file-text2'><use xlink:href='#icon-file-text2'></use></svg></label><input id='data-f8a2f853-cf2e-4301-819e-556f2903bbcb' class='xr-var-data-in' type='checkbox'><label for='data-f8a2f853-cf2e-4301-819e-556f2903bbcb' title='Show/Hide data repr'><svg class='icon xr-icon-database'><use xlink:href='#icon-database'></use></svg></label><div class='xr-var-attrs'><dl class='xr-attrs'><dt><span>units :</span></dt><dd>mm</dd><dt><span>long_name :</span></dt><dd>total precipitable water</dd></dl></div><div class='xr-var-data'><pre>[2060451 values with dtype=float32]</pre></div></li><li class='xr-var-item'><div class='xr-var-name'><span>RHOU</span></div><div class='xr-var-dims'>(time, altitude, latitude, longitude)</div><div class='xr-var-dtype'>float32</div><div class='xr-var-preview xr-preview'>...</div><input id='attrs-004c8ede-f883-4b05-b5fa-ece5d8aa5be0' class='xr-var-attrs-in' type='checkbox' ><label for='attrs-004c8ede-f883-4b05-b5fa-ece5d8aa5be0' title='Show/Hide attributes'><svg class='icon xr-icon-file-text2'><use xlink:href='#icon-file-text2'></use></svg></label><input id='data-033b9b41-b577-44b7-a231-e92917a90551' class='xr-var-data-in' type='checkbox'><label for='data-033b9b41-b577-44b7-a231-e92917a90551' title='Show/Hide data repr'><svg class='icon xr-icon-database'><use xlink:href='#icon-database'></use></svg></label><div class='xr-var-attrs'><dl class='xr-attrs'><dt><span>units :</span></dt><dd>kg m-2s-1</dd><dt><span>long_name :</span></dt><dd>mass-weighted u wind component</dd></dl></div><div class='xr-var-data'><pre>[2060451 values with dtype=float32]</pre></div></li><li class='xr-var-item'><div class='xr-var-name'><span>RHOV</span></div><div class='xr-var-dims'>(time, altitude, latitude, longitude)</div><div class='xr-var-dtype'>float32</div><div class='xr-var-preview xr-preview'>...</div><input id='attrs-e64ac755-1404-430d-809e-9ecb4d245d98' class='xr-var-attrs-in' type='checkbox' ><label for='attrs-e64ac755-1404-430d-809e-9ecb4d245d98' title='Show/Hide attributes'><svg class='icon xr-icon-file-text2'><use xlink:href='#icon-file-text2'></use></svg></label><input id='data-e1df6474-320c-48d0-b749-8c82b6d0b976' class='xr-var-data-in' type='checkbox'><label for='data-e1df6474-320c-48d0-b749-8c82b6d0b976' title='Show/Hide data repr'><svg class='icon xr-icon-database'><use xlink:href='#icon-database'></use></svg></label><div class='xr-var-attrs'><dl class='xr-attrs'><dt><span>units :</span></dt><dd>kg m-2s-1</dd><dt><span>long_name :</span></dt><dd>mass-weighted v wind component</dd></dl></div><div class='xr-var-data'><pre>[2060451 values with dtype=float32]</pre></div></li><li class='xr-var-item'><div class='xr-var-name'><span>RHOW</span></div><div class='xr-var-dims'>(time, altitude, latitude, longitude)</div><div class='xr-var-dtype'>float32</div><div class='xr-var-preview xr-preview'>...</div><input id='attrs-5051bfa7-9514-49f6-b2d8-baaa32a8edf1' class='xr-var-attrs-in' type='checkbox' ><label for='attrs-5051bfa7-9514-49f6-b2d8-baaa32a8edf1' title='Show/Hide attributes'><svg class='icon xr-icon-file-text2'><use xlink:href='#icon-file-text2'></use></svg></label><input id='data-c850566a-9615-4562-a2e1-89904a3d85fb' class='xr-var-data-in' type='checkbox'><label for='data-c850566a-9615-4562-a2e1-89904a3d85fb' title='Show/Hide data repr'><svg class='icon xr-icon-database'><use xlink:href='#icon-database'></use></svg></label><div class='xr-var-attrs'><dl class='xr-attrs'><dt><span>units :</span></dt><dd>kg m-2s-1</dd><dt><span>long_name :</span></dt><dd>mass-weighted w wind component</dd></dl></div><div class='xr-var-data'><pre>[2060451 values with dtype=float32]</pre></div></li><li class='xr-var-item'><div class='xr-var-name'><span>RHOA</span></div><div class='xr-var-dims'>(time, altitude, latitude, longitude)</div><div class='xr-var-dtype'>float32</div><div class='xr-var-preview xr-preview'>...</div><input id='attrs-273484a7-0745-4e8d-9620-5de3555a8bd8' class='xr-var-attrs-in' type='checkbox' ><label for='attrs-273484a7-0745-4e8d-9620-5de3555a8bd8' title='Show/Hide attributes'><svg class='icon xr-icon-file-text2'><use xlink:href='#icon-file-text2'></use></svg></label><input id='data-8739d66d-4390-4e93-bec0-ae28bd1a5d23' class='xr-var-data-in' type='checkbox'><label for='data-8739d66d-4390-4e93-bec0-ae28bd1a5d23' title='Show/Hide data repr'><svg class='icon xr-icon-database'><use xlink:href='#icon-database'></use></svg></label><div class='xr-var-attrs'><dl class='xr-attrs'><dt><span>units :</span></dt><dd>kg m-3</dd><dt><span>long_name :</span></dt><dd>density</dd></dl></div><div class='xr-var-data'><pre>[2060451 values with dtype=float32]</pre></div></li><li class='xr-var-item'><div class='xr-var-name'><span>P</span></div><div class='xr-var-dims'>(time, altitude, latitude, longitude)</div><div class='xr-var-dtype'>float32</div><div class='xr-var-preview xr-preview'>...</div><input id='attrs-5636cf0b-f79d-47ec-bb7e-ccf0b6d4a86e' class='xr-var-attrs-in' type='checkbox' ><label for='attrs-5636cf0b-f79d-47ec-bb7e-ccf0b6d4a86e' title='Show/Hide attributes'><svg class='icon xr-icon-file-text2'><use xlink:href='#icon-file-text2'></use></svg></label><input id='data-914b65fc-07f8-4a3b-b12a-bfc240068fee' class='xr-var-data-in' type='checkbox'><label for='data-914b65fc-07f8-4a3b-b12a-bfc240068fee' title='Show/Hide data repr'><svg class='icon xr-icon-database'><use xlink:href='#icon-database'></use></svg></label><div class='xr-var-attrs'><dl class='xr-attrs'><dt><span>units :</span></dt><dd>hPa</dd><dt><span>long_name :</span></dt><dd>pressure</dd></dl></div><div class='xr-var-data'><pre>[2060451 values with dtype=float32]</pre></div></li><li class='xr-var-item'><div class='xr-var-name'><span>T</span></div><div class='xr-var-dims'>(time, altitude, latitude, longitude)</div><div class='xr-var-dtype'>float32</div><div class='xr-var-preview xr-preview'>...</div><input id='attrs-8d3fc758-6c5b-4753-82eb-cedc282e1778' class='xr-var-attrs-in' type='checkbox' ><label for='attrs-8d3fc758-6c5b-4753-82eb-cedc282e1778' title='Show/Hide attributes'><svg class='icon xr-icon-file-text2'><use xlink:href='#icon-file-text2'></use></svg></label><input id='data-87b8a721-4f8a-4be6-a859-1d9b9e3333be' class='xr-var-data-in' type='checkbox'><label for='data-87b8a721-4f8a-4be6-a859-1d9b9e3333be' title='Show/Hide data repr'><svg class='icon xr-icon-database'><use xlink:href='#icon-database'></use></svg></label><div class='xr-var-attrs'><dl class='xr-attrs'><dt><span>units :</span></dt><dd>K</dd><dt><span>long_name :</span></dt><dd>temperature</dd></dl></div><div class='xr-var-data'><pre>[2060451 values with dtype=float32]</pre></div></li><li class='xr-var-item'><div class='xr-var-name'><span>QV</span></div><div class='xr-var-dims'>(time, altitude, latitude, longitude)</div><div class='xr-var-dtype'>float32</div><div class='xr-var-preview xr-preview'>...</div><input id='attrs-85d09a21-5ab8-4dc3-9b21-07d3956ee7e0' class='xr-var-attrs-in' type='checkbox' ><label for='attrs-85d09a21-5ab8-4dc3-9b21-07d3956ee7e0' title='Show/Hide attributes'><svg class='icon xr-icon-file-text2'><use xlink:href='#icon-file-text2'></use></svg></label><input id='data-d2527472-9875-4df6-a031-225eced9e962' class='xr-var-data-in' type='checkbox'><label for='data-d2527472-9875-4df6-a031-225eced9e962' title='Show/Hide data repr'><svg class='icon xr-icon-database'><use xlink:href='#icon-database'></use></svg></label><div class='xr-var-attrs'><dl class='xr-attrs'><dt><span>units :</span></dt><dd>g kg-1</dd><dt><span>long_name :</span></dt><dd>water vapor mixing ratio</dd></dl></div><div class='xr-var-data'><pre>[2060451 values with dtype=float32]</pre></div></li><li class='xr-var-item'><div class='xr-var-name'><span>H</span></div><div class='xr-var-dims'>(time, altitude, latitude, longitude)</div><div class='xr-var-dtype'>float32</div><div class='xr-var-preview xr-preview'>...</div><input id='attrs-8c4854e1-06b3-4de1-a17a-40a4a564d795' class='xr-var-attrs-in' type='checkbox' ><label for='attrs-8c4854e1-06b3-4de1-a17a-40a4a564d795' title='Show/Hide attributes'><svg class='icon xr-icon-file-text2'><use xlink:href='#icon-file-text2'></use></svg></label><input id='data-99585aa8-724f-4a43-b895-339249524373' class='xr-var-data-in' type='checkbox'><label for='data-99585aa8-724f-4a43-b895-339249524373' title='Show/Hide data repr'><svg class='icon xr-icon-database'><use xlink:href='#icon-database'></use></svg></label><div class='xr-var-attrs'><dl class='xr-attrs'><dt><span>units :</span></dt><dd>kJ</dd><dt><span>long_name :</span></dt><dd>moist static energy</dd></dl></div><div class='xr-var-data'><pre>[2060451 values with dtype=float32]</pre></div></li><li class='xr-var-item'><div class='xr-var-name'><span>DBZ</span></div><div class='xr-var-dims'>(time, altitude, latitude, longitude)</div><div class='xr-var-dtype'>float32</div><div class='xr-var-preview xr-preview'>...</div><input id='attrs-d04bc292-bf2b-4e1b-98cd-886b71250d5e' class='xr-var-attrs-in' type='checkbox' ><label for='attrs-d04bc292-bf2b-4e1b-98cd-886b71250d5e' title='Show/Hide attributes'><svg class='icon xr-icon-file-text2'><use xlink:href='#icon-file-text2'></use></svg></label><input id='data-61218909-bd3c-4f01-ae47-a809d84ebb6f' class='xr-var-data-in' type='checkbox'><label for='data-61218909-bd3c-4f01-ae47-a809d84ebb6f' title='Show/Hide data repr'><svg class='icon xr-icon-database'><use xlink:href='#icon-database'></use></svg></label><div class='xr-var-attrs'><dl class='xr-attrs'><dt><span>units :</span></dt><dd>dBZ</dd><dt><span>long_name :</span></dt><dd>radar reflectivity</dd></dl></div><div class='xr-var-data'><pre>[2060451 values with dtype=float32]</pre></div></li><li class='xr-var-item'><div class='xr-var-name'><span>ABSVORT</span></div><div class='xr-var-dims'>(time, altitude, latitude, longitude)</div><div class='xr-var-dtype'>float32</div><div class='xr-var-preview xr-preview'>...</div><input id='attrs-64da6547-13fd-4b18-aadc-2879a3867679' class='xr-var-attrs-in' type='checkbox' ><label for='attrs-64da6547-13fd-4b18-aadc-2879a3867679' title='Show/Hide attributes'><svg class='icon xr-icon-file-text2'><use xlink:href='#icon-file-text2'></use></svg></label><input id='data-cca2620e-a46c-4f7e-8546-f57b07e48f09' class='xr-var-data-in' type='checkbox'><label for='data-cca2620e-a46c-4f7e-8546-f57b07e48f09' title='Show/Hide data repr'><svg class='icon xr-icon-database'><use xlink:href='#icon-database'></use></svg></label><div class='xr-var-attrs'><dl class='xr-attrs'><dt><span>units :</span></dt><dd>10-5s-1</dd><dt><span>long_name :</span></dt><dd>absolute vertical vorticity</dd></dl></div><div class='xr-var-data'><pre>[2060451 values with dtype=float32]</pre></div></li><li class='xr-var-item'><div class='xr-var-name'><span>DEWPOINT</span></div><div class='xr-var-dims'>(time, altitude, latitude, longitude)</div><div class='xr-var-dtype'>float32</div><div class='xr-var-preview xr-preview'>...</div><input id='attrs-27a81b67-f667-4512-84dc-89fa14f65110' class='xr-var-attrs-in' type='checkbox' ><label for='attrs-27a81b67-f667-4512-84dc-89fa14f65110' title='Show/Hide attributes'><svg class='icon xr-icon-file-text2'><use xlink:href='#icon-file-text2'></use></svg></label><input id='data-de859bb0-7af7-4cf3-82dc-f275042c9b7c' class='xr-var-data-in' type='checkbox'><label for='data-de859bb0-7af7-4cf3-82dc-f275042c9b7c' title='Show/Hide data repr'><svg class='icon xr-icon-database'><use xlink:href='#icon-database'></use></svg></label><div class='xr-var-attrs'><dl class='xr-attrs'><dt><span>units :</span></dt><dd>K</dd><dt><span>long_name :</span></dt><dd>dewpoint temperature</dd></dl></div><div class='xr-var-data'><pre>[2060451 values with dtype=float32]</pre></div></li><li class='xr-var-item'><div class='xr-var-name'><span>THETA</span></div><div class='xr-var-dims'>(time, altitude, latitude, longitude)</div><div class='xr-var-dtype'>float32</div><div class='xr-var-preview xr-preview'>...</div><input id='attrs-cb1b9cfa-2b4f-4c06-9e61-5768b222a12c' class='xr-var-attrs-in' type='checkbox' ><label for='attrs-cb1b9cfa-2b4f-4c06-9e61-5768b222a12c' title='Show/Hide attributes'><svg class='icon xr-icon-file-text2'><use xlink:href='#icon-file-text2'></use></svg></label><input id='data-70ceca64-ae9c-4044-b453-794826355884' class='xr-var-data-in' type='checkbox'><label for='data-70ceca64-ae9c-4044-b453-794826355884' title='Show/Hide data repr'><svg class='icon xr-icon-database'><use xlink:href='#icon-database'></use></svg></label><div class='xr-var-attrs'><dl class='xr-attrs'><dt><span>units :</span></dt><dd>K</dd><dt><span>long_name :</span></dt><dd>potential temperature</dd></dl></div><div class='xr-var-data'><pre>[2060451 values with dtype=float32]</pre></div></li><li class='xr-var-item'><div class='xr-var-name'><span>THETAE</span></div><div class='xr-var-dims'>(time, altitude, latitude, longitude)</div><div class='xr-var-dtype'>float32</div><div class='xr-var-preview xr-preview'>...</div><input id='attrs-91b5ba6d-186c-4716-bfec-b90ac03fddaf' class='xr-var-attrs-in' type='checkbox' ><label for='attrs-91b5ba6d-186c-4716-bfec-b90ac03fddaf' title='Show/Hide attributes'><svg class='icon xr-icon-file-text2'><use xlink:href='#icon-file-text2'></use></svg></label><input id='data-7cda35af-21e0-4018-8d25-43f75d24a15f' class='xr-var-data-in' type='checkbox'><label for='data-7cda35af-21e0-4018-8d25-43f75d24a15f' title='Show/Hide data repr'><svg class='icon xr-icon-database'><use xlink:href='#icon-database'></use></svg></label><div class='xr-var-attrs'><dl class='xr-attrs'><dt><span>units :</span></dt><dd>K</dd><dt><span>long_name :</span></dt><dd>equivalent potential temperature</dd></dl></div><div class='xr-var-data'><pre>[2060451 values with dtype=float32]</pre></div></li><li class='xr-var-item'><div class='xr-var-name'><span>THETAES</span></div><div class='xr-var-dims'>(time, altitude, latitude, longitude)</div><div class='xr-var-dtype'>float32</div><div class='xr-var-preview xr-preview'>...</div><input id='attrs-edf36f94-859c-4864-a7ef-ed4936fb0e19' class='xr-var-attrs-in' type='checkbox' ><label for='attrs-edf36f94-859c-4864-a7ef-ed4936fb0e19' title='Show/Hide attributes'><svg class='icon xr-icon-file-text2'><use xlink:href='#icon-file-text2'></use></svg></label><input id='data-9ab4ebf9-4102-4884-bd06-639ecffd10ab' class='xr-var-data-in' type='checkbox'><label for='data-9ab4ebf9-4102-4884-bd06-639ecffd10ab' title='Show/Hide data repr'><svg class='icon xr-icon-database'><use xlink:href='#icon-database'></use></svg></label><div class='xr-var-attrs'><dl class='xr-attrs'><dt><span>units :</span></dt><dd>K</dd><dt><span>long_name :</span></dt><dd>saturation equivalent potential temperature</dd></dl></div><div class='xr-var-data'><pre>[2060451 values with dtype=float32]</pre></div></li><li class='xr-var-item'><div class='xr-var-name'><span>DUDX</span></div><div class='xr-var-dims'>(time, altitude, latitude, longitude)</div><div class='xr-var-dtype'>float32</div><div class='xr-var-preview xr-preview'>...</div><input id='attrs-a3c55f0f-6ef4-406f-8e62-edb13c63ca4f' class='xr-var-attrs-in' type='checkbox' ><label for='attrs-a3c55f0f-6ef4-406f-8e62-edb13c63ca4f' title='Show/Hide attributes'><svg class='icon xr-icon-file-text2'><use xlink:href='#icon-file-text2'></use></svg></label><input id='data-74ecc186-8020-4d92-bafa-e3e5fe55a4c5' class='xr-var-data-in' type='checkbox'><label for='data-74ecc186-8020-4d92-bafa-e3e5fe55a4c5' title='Show/Hide data repr'><svg class='icon xr-icon-database'><use xlink:href='#icon-database'></use></svg></label><div class='xr-var-attrs'><dl class='xr-attrs'><dt><span>units :</span></dt><dd>10-5s-1</dd><dt><span>long_name :</span></dt><dd>wind gradient</dd></dl></div><div class='xr-var-data'><pre>[2060451 values with dtype=float32]</pre></div></li><li class='xr-var-item'><div class='xr-var-name'><span>DVDX</span></div><div class='xr-var-dims'>(time, altitude, latitude, longitude)</div><div class='xr-var-dtype'>float32</div><div class='xr-var-preview xr-preview'>...</div><input id='attrs-cdc81fc7-406a-4421-9f21-760ebe58ccd2' class='xr-var-attrs-in' type='checkbox' ><label for='attrs-cdc81fc7-406a-4421-9f21-760ebe58ccd2' title='Show/Hide attributes'><svg class='icon xr-icon-file-text2'><use xlink:href='#icon-file-text2'></use></svg></label><input id='data-90239de7-cc5f-43ca-a6ad-efa6af80485f' class='xr-var-data-in' type='checkbox'><label for='data-90239de7-cc5f-43ca-a6ad-efa6af80485f' title='Show/Hide data repr'><svg class='icon xr-icon-database'><use xlink:href='#icon-database'></use></svg></label><div class='xr-var-attrs'><dl class='xr-attrs'><dt><span>units :</span></dt><dd>10-5s-1</dd><dt><span>long_name :</span></dt><dd>wind gradient</dd></dl></div><div class='xr-var-data'><pre>[2060451 values with dtype=float32]</pre></div></li><li class='xr-var-item'><div class='xr-var-name'><span>DWDX</span></div><div class='xr-var-dims'>(time, altitude, latitude, longitude)</div><div class='xr-var-dtype'>float32</div><div class='xr-var-preview xr-preview'>...</div><input id='attrs-1267c40d-4588-4d67-b2db-d8b23c2a2740' class='xr-var-attrs-in' type='checkbox' ><label for='attrs-1267c40d-4588-4d67-b2db-d8b23c2a2740' title='Show/Hide attributes'><svg class='icon xr-icon-file-text2'><use xlink:href='#icon-file-text2'></use></svg></label><input id='data-c3549121-a149-42b5-8276-c40d8d5f0e2a' class='xr-var-data-in' type='checkbox'><label for='data-c3549121-a149-42b5-8276-c40d8d5f0e2a' title='Show/Hide data repr'><svg class='icon xr-icon-database'><use xlink:href='#icon-database'></use></svg></label><div class='xr-var-attrs'><dl class='xr-attrs'><dt><span>units :</span></dt><dd>10-5s-1</dd><dt><span>long_name :</span></dt><dd>wind gradient</dd></dl></div><div class='xr-var-data'><pre>[2060451 values with dtype=float32]</pre></div></li><li class='xr-var-item'><div class='xr-var-name'><span>DUDY</span></div><div class='xr-var-dims'>(time, altitude, latitude, longitude)</div><div class='xr-var-dtype'>float32</div><div class='xr-var-preview xr-preview'>...</div><input id='attrs-56244783-5659-4282-b9be-b45fe361ead4' class='xr-var-attrs-in' type='checkbox' ><label for='attrs-56244783-5659-4282-b9be-b45fe361ead4' title='Show/Hide attributes'><svg class='icon xr-icon-file-text2'><use xlink:href='#icon-file-text2'></use></svg></label><input id='data-83b997cf-c87f-4d6b-b01b-bfa21bba5b1c' class='xr-var-data-in' type='checkbox'><label for='data-83b997cf-c87f-4d6b-b01b-bfa21bba5b1c' title='Show/Hide data repr'><svg class='icon xr-icon-database'><use xlink:href='#icon-database'></use></svg></label><div class='xr-var-attrs'><dl class='xr-attrs'><dt><span>units :</span></dt><dd>10-5s-1</dd><dt><span>long_name :</span></dt><dd>wind gradient</dd></dl></div><div class='xr-var-data'><pre>[2060451 values with dtype=float32]</pre></div></li><li class='xr-var-item'><div class='xr-var-name'><span>DVDY</span></div><div class='xr-var-dims'>(time, altitude, latitude, longitude)</div><div class='xr-var-dtype'>float32</div><div class='xr-var-preview xr-preview'>...</div><input id='attrs-b0b15647-e9c0-43a5-b4b0-01cc77098523' class='xr-var-attrs-in' type='checkbox' ><label for='attrs-b0b15647-e9c0-43a5-b4b0-01cc77098523' title='Show/Hide attributes'><svg class='icon xr-icon-file-text2'><use xlink:href='#icon-file-text2'></use></svg></label><input id='data-52a0ff82-b21d-4279-b8b0-891b53fc331a' class='xr-var-data-in' type='checkbox'><label for='data-52a0ff82-b21d-4279-b8b0-891b53fc331a' title='Show/Hide data repr'><svg class='icon xr-icon-database'><use xlink:href='#icon-database'></use></svg></label><div class='xr-var-attrs'><dl class='xr-attrs'><dt><span>units :</span></dt><dd>10-5s-1</dd><dt><span>long_name :</span></dt><dd>wind gradient</dd></dl></div><div class='xr-var-data'><pre>[2060451 values with dtype=float32]</pre></div></li><li class='xr-var-item'><div class='xr-var-name'><span>DWDY</span></div><div class='xr-var-dims'>(time, altitude, latitude, longitude)</div><div class='xr-var-dtype'>float32</div><div class='xr-var-preview xr-preview'>...</div><input id='attrs-b36c8805-6301-475c-9687-7017ee978054' class='xr-var-attrs-in' type='checkbox' ><label for='attrs-b36c8805-6301-475c-9687-7017ee978054' title='Show/Hide attributes'><svg class='icon xr-icon-file-text2'><use xlink:href='#icon-file-text2'></use></svg></label><input id='data-44216eb9-a59c-4577-953a-ef124b082d4e' class='xr-var-data-in' type='checkbox'><label for='data-44216eb9-a59c-4577-953a-ef124b082d4e' title='Show/Hide data repr'><svg class='icon xr-icon-database'><use xlink:href='#icon-database'></use></svg></label><div class='xr-var-attrs'><dl class='xr-attrs'><dt><span>units :</span></dt><dd>10-5s-1</dd><dt><span>long_name :</span></dt><dd>wind gradient</dd></dl></div><div class='xr-var-data'><pre>[2060451 values with dtype=float32]</pre></div></li><li class='xr-var-item'><div class='xr-var-name'><span>DUDZ</span></div><div class='xr-var-dims'>(time, altitude, latitude, longitude)</div><div class='xr-var-dtype'>float32</div><div class='xr-var-preview xr-preview'>...</div><input id='attrs-1a96e042-a1e3-4cc9-b34b-f7cd7a7fcd78' class='xr-var-attrs-in' type='checkbox' ><label for='attrs-1a96e042-a1e3-4cc9-b34b-f7cd7a7fcd78' title='Show/Hide attributes'><svg class='icon xr-icon-file-text2'><use xlink:href='#icon-file-text2'></use></svg></label><input id='data-4475ec96-2b32-47f1-bdd5-cd191d27fa25' class='xr-var-data-in' type='checkbox'><label for='data-4475ec96-2b32-47f1-bdd5-cd191d27fa25' title='Show/Hide data repr'><svg class='icon xr-icon-database'><use xlink:href='#icon-database'></use></svg></label><div class='xr-var-attrs'><dl class='xr-attrs'><dt><span>units :</span></dt><dd>10-5s-1</dd><dt><span>long_name :</span></dt><dd>wind gradient</dd></dl></div><div class='xr-var-data'><pre>[2060451 values with dtype=float32]</pre></div></li><li class='xr-var-item'><div class='xr-var-name'><span>DVDZ</span></div><div class='xr-var-dims'>(time, altitude, latitude, longitude)</div><div class='xr-var-dtype'>float32</div><div class='xr-var-preview xr-preview'>...</div><input id='attrs-0e0c24a9-d012-4661-ae4f-d323c75c3a5a' class='xr-var-attrs-in' type='checkbox' ><label for='attrs-0e0c24a9-d012-4661-ae4f-d323c75c3a5a' title='Show/Hide attributes'><svg class='icon xr-icon-file-text2'><use xlink:href='#icon-file-text2'></use></svg></label><input id='data-0165d06c-24d2-4f07-bb83-d72b009cf961' class='xr-var-data-in' type='checkbox'><label for='data-0165d06c-24d2-4f07-bb83-d72b009cf961' title='Show/Hide data repr'><svg class='icon xr-icon-database'><use xlink:href='#icon-database'></use></svg></label><div class='xr-var-attrs'><dl class='xr-attrs'><dt><span>units :</span></dt><dd>10-5s-1</dd><dt><span>long_name :</span></dt><dd>wind gradient</dd></dl></div><div class='xr-var-data'><pre>[2060451 values with dtype=float32]</pre></div></li><li class='xr-var-item'><div class='xr-var-name'><span>DWDZ</span></div><div class='xr-var-dims'>(time, altitude, latitude, longitude)</div><div class='xr-var-dtype'>float32</div><div class='xr-var-preview xr-preview'>...</div><input id='attrs-951186e5-1f06-45f2-bebe-e99cc3cf83dd' class='xr-var-attrs-in' type='checkbox' ><label for='attrs-951186e5-1f06-45f2-bebe-e99cc3cf83dd' title='Show/Hide attributes'><svg class='icon xr-icon-file-text2'><use xlink:href='#icon-file-text2'></use></svg></label><input id='data-a253cddd-a4c5-4b86-b8c6-1cd4f1ab213d' class='xr-var-data-in' type='checkbox'><label for='data-a253cddd-a4c5-4b86-b8c6-1cd4f1ab213d' title='Show/Hide data repr'><svg class='icon xr-icon-database'><use xlink:href='#icon-database'></use></svg></label><div class='xr-var-attrs'><dl class='xr-attrs'><dt><span>units :</span></dt><dd>10-5s-1</dd><dt><span>long_name :</span></dt><dd>wind gradient</dd></dl></div><div class='xr-var-data'><pre>[2060451 values with dtype=float32]</pre></div></li><li class='xr-var-item'><div class='xr-var-name'><span>DTDX</span></div><div class='xr-var-dims'>(time, altitude, latitude, longitude)</div><div class='xr-var-dtype'>float32</div><div class='xr-var-preview xr-preview'>...</div><input id='attrs-23ff5b01-4e68-4330-ae06-0e0d990bc079' class='xr-var-attrs-in' type='checkbox' ><label for='attrs-23ff5b01-4e68-4330-ae06-0e0d990bc079' title='Show/Hide attributes'><svg class='icon xr-icon-file-text2'><use xlink:href='#icon-file-text2'></use></svg></label><input id='data-62531276-87a2-445a-9192-67fe45490ec8' class='xr-var-data-in' type='checkbox'><label for='data-62531276-87a2-445a-9192-67fe45490ec8' title='Show/Hide data repr'><svg class='icon xr-icon-database'><use xlink:href='#icon-database'></use></svg></label><div class='xr-var-attrs'><dl class='xr-attrs'><dt><span>units :</span></dt><dd>K km-1</dd><dt><span>long_name :</span></dt><dd>temperature gradient</dd></dl></div><div class='xr-var-data'><pre>[2060451 values with dtype=float32]</pre></div></li><li class='xr-var-item'><div class='xr-var-name'><span>DQVDX</span></div><div class='xr-var-dims'>(time, altitude, latitude, longitude)</div><div class='xr-var-dtype'>float32</div><div class='xr-var-preview xr-preview'>...</div><input id='attrs-fc006090-974a-4857-be0f-268561200a80' class='xr-var-attrs-in' type='checkbox' ><label for='attrs-fc006090-974a-4857-be0f-268561200a80' title='Show/Hide attributes'><svg class='icon xr-icon-file-text2'><use xlink:href='#icon-file-text2'></use></svg></label><input id='data-06f97ab3-89fd-4ae7-ba31-6ca22c97b099' class='xr-var-data-in' type='checkbox'><label for='data-06f97ab3-89fd-4ae7-ba31-6ca22c97b099' title='Show/Hide data repr'><svg class='icon xr-icon-database'><use xlink:href='#icon-database'></use></svg></label><div class='xr-var-attrs'><dl class='xr-attrs'><dt><span>units :</span></dt><dd>g kg-1 km-1</dd><dt><span>long_name :</span></dt><dd>moisture gradient</dd></dl></div><div class='xr-var-data'><pre>[2060451 values with dtype=float32]</pre></div></li><li class='xr-var-item'><div class='xr-var-name'><span>DPDX</span></div><div class='xr-var-dims'>(time, altitude, latitude, longitude)</div><div class='xr-var-dtype'>float32</div><div class='xr-var-preview xr-preview'>...</div><input id='attrs-4caf3b04-feb4-45ab-a4fe-b2da9f84d841' class='xr-var-attrs-in' type='checkbox' ><label for='attrs-4caf3b04-feb4-45ab-a4fe-b2da9f84d841' title='Show/Hide attributes'><svg class='icon xr-icon-file-text2'><use xlink:href='#icon-file-text2'></use></svg></label><input id='data-2e1368df-fecb-4c0a-8236-b9f11a5b7574' class='xr-var-data-in' type='checkbox'><label for='data-2e1368df-fecb-4c0a-8236-b9f11a5b7574' title='Show/Hide data repr'><svg class='icon xr-icon-database'><use xlink:href='#icon-database'></use></svg></label><div class='xr-var-attrs'><dl class='xr-attrs'><dt><span>units :</span></dt><dd>hPa km-1</dd><dt><span>long_name :</span></dt><dd>pressure gradient</dd></dl></div><div class='xr-var-data'><pre>[2060451 values with dtype=float32]</pre></div></li><li class='xr-var-item'><div class='xr-var-name'><span>DTDY</span></div><div class='xr-var-dims'>(time, altitude, latitude, longitude)</div><div class='xr-var-dtype'>float32</div><div class='xr-var-preview xr-preview'>...</div><input id='attrs-6b3a5497-b14c-4554-9017-5ea875b37530' class='xr-var-attrs-in' type='checkbox' ><label for='attrs-6b3a5497-b14c-4554-9017-5ea875b37530' title='Show/Hide attributes'><svg class='icon xr-icon-file-text2'><use xlink:href='#icon-file-text2'></use></svg></label><input id='data-c92e7830-65a4-4ed0-be5d-d4ac8ed3f3b6' class='xr-var-data-in' type='checkbox'><label for='data-c92e7830-65a4-4ed0-be5d-d4ac8ed3f3b6' title='Show/Hide data repr'><svg class='icon xr-icon-database'><use xlink:href='#icon-database'></use></svg></label><div class='xr-var-attrs'><dl class='xr-attrs'><dt><span>units :</span></dt><dd>K km-1</dd><dt><span>long_name :</span></dt><dd>temperature gradient</dd></dl></div><div class='xr-var-data'><pre>[2060451 values with dtype=float32]</pre></div></li><li class='xr-var-item'><div class='xr-var-name'><span>DQVDY</span></div><div class='xr-var-dims'>(time, altitude, latitude, longitude)</div><div class='xr-var-dtype'>float32</div><div class='xr-var-preview xr-preview'>...</div><input id='attrs-b3750747-bd76-44d0-8621-138c33e148ab' class='xr-var-attrs-in' type='checkbox' ><label for='attrs-b3750747-bd76-44d0-8621-138c33e148ab' title='Show/Hide attributes'><svg class='icon xr-icon-file-text2'><use xlink:href='#icon-file-text2'></use></svg></label><input id='data-a81ace9b-da75-4308-9b9e-3ed03584e2fc' class='xr-var-data-in' type='checkbox'><label for='data-a81ace9b-da75-4308-9b9e-3ed03584e2fc' title='Show/Hide data repr'><svg class='icon xr-icon-database'><use xlink:href='#icon-database'></use></svg></label><div class='xr-var-attrs'><dl class='xr-attrs'><dt><span>units :</span></dt><dd>g kg-1 km-1</dd><dt><span>long_name :</span></dt><dd>moisture gradient</dd></dl></div><div class='xr-var-data'><pre>[2060451 values with dtype=float32]</pre></div></li><li class='xr-var-item'><div class='xr-var-name'><span>DPDY</span></div><div class='xr-var-dims'>(time, altitude, latitude, longitude)</div><div class='xr-var-dtype'>float32</div><div class='xr-var-preview xr-preview'>...</div><input id='attrs-cf0f9910-3c6a-4853-bb64-83fa5f923593' class='xr-var-attrs-in' type='checkbox' ><label for='attrs-cf0f9910-3c6a-4853-bb64-83fa5f923593' title='Show/Hide attributes'><svg class='icon xr-icon-file-text2'><use xlink:href='#icon-file-text2'></use></svg></label><input id='data-ce3d6ca7-f217-44d9-9eb8-dd3bac2866b9' class='xr-var-data-in' type='checkbox'><label for='data-ce3d6ca7-f217-44d9-9eb8-dd3bac2866b9' title='Show/Hide data repr'><svg class='icon xr-icon-database'><use xlink:href='#icon-database'></use></svg></label><div class='xr-var-attrs'><dl class='xr-attrs'><dt><span>units :</span></dt><dd>hPa km-1</dd><dt><span>long_name :</span></dt><dd>pressure gradient</dd></dl></div><div class='xr-var-data'><pre>[2060451 values with dtype=float32]</pre></div></li><li class='xr-var-item'><div class='xr-var-name'><span>DTDZ</span></div><div class='xr-var-dims'>(time, altitude, latitude, longitude)</div><div class='xr-var-dtype'>float32</div><div class='xr-var-preview xr-preview'>...</div><input id='attrs-028295cb-d8e2-40d9-8c4a-e519c558a524' class='xr-var-attrs-in' type='checkbox' ><label for='attrs-028295cb-d8e2-40d9-8c4a-e519c558a524' title='Show/Hide attributes'><svg class='icon xr-icon-file-text2'><use xlink:href='#icon-file-text2'></use></svg></label><input id='data-ab48d1f8-c1a0-4a5f-8ea7-5b36cc1bc396' class='xr-var-data-in' type='checkbox'><label for='data-ab48d1f8-c1a0-4a5f-8ea7-5b36cc1bc396' title='Show/Hide data repr'><svg class='icon xr-icon-database'><use xlink:href='#icon-database'></use></svg></label><div class='xr-var-attrs'><dl class='xr-attrs'><dt><span>units :</span></dt><dd>K km-1</dd><dt><span>long_name :</span></dt><dd>temperature gradient</dd></dl></div><div class='xr-var-data'><pre>[2060451 values with dtype=float32]</pre></div></li><li class='xr-var-item'><div class='xr-var-name'><span>DQVDZ</span></div><div class='xr-var-dims'>(time, altitude, latitude, longitude)</div><div class='xr-var-dtype'>float32</div><div class='xr-var-preview xr-preview'>...</div><input id='attrs-4e05e016-b97d-4cec-9892-a4a0c4ef686b' class='xr-var-attrs-in' type='checkbox' ><label for='attrs-4e05e016-b97d-4cec-9892-a4a0c4ef686b' title='Show/Hide attributes'><svg class='icon xr-icon-file-text2'><use xlink:href='#icon-file-text2'></use></svg></label><input id='data-a8fa7a60-0807-435b-a79f-2d5a90073c0a' class='xr-var-data-in' type='checkbox'><label for='data-a8fa7a60-0807-435b-a79f-2d5a90073c0a' title='Show/Hide data repr'><svg class='icon xr-icon-database'><use xlink:href='#icon-database'></use></svg></label><div class='xr-var-attrs'><dl class='xr-attrs'><dt><span>units :</span></dt><dd>g kg-1 km-1</dd><dt><span>long_name :</span></dt><dd>moisture gradient</dd></dl></div><div class='xr-var-data'><pre>[2060451 values with dtype=float32]</pre></div></li><li class='xr-var-item'><div class='xr-var-name'><span>DPDZ</span></div><div class='xr-var-dims'>(time, altitude, latitude, longitude)</div><div class='xr-var-dtype'>float32</div><div class='xr-var-preview xr-preview'>...</div><input id='attrs-d8ecdff7-ac93-448d-b8de-e9d08f715338' class='xr-var-attrs-in' type='checkbox' ><label for='attrs-d8ecdff7-ac93-448d-b8de-e9d08f715338' title='Show/Hide attributes'><svg class='icon xr-icon-file-text2'><use xlink:href='#icon-file-text2'></use></svg></label><input id='data-5d4883ee-2813-4db0-960c-9c14391d35de' class='xr-var-data-in' type='checkbox'><label for='data-5d4883ee-2813-4db0-960c-9c14391d35de' title='Show/Hide data repr'><svg class='icon xr-icon-database'><use xlink:href='#icon-database'></use></svg></label><div class='xr-var-attrs'><dl class='xr-attrs'><dt><span>units :</span></dt><dd>hPa km-1</dd><dt><span>long_name :</span></dt><dd>pressure gradient</dd></dl></div><div class='xr-var-data'><pre>[2060451 values with dtype=float32]</pre></div></li><li class='xr-var-item'><div class='xr-var-name'><span>DRHODX</span></div><div class='xr-var-dims'>(time, altitude, latitude, longitude)</div><div class='xr-var-dtype'>float32</div><div class='xr-var-preview xr-preview'>...</div><input id='attrs-64c79ec0-fbf4-4a81-a0d7-abd007677b7c' class='xr-var-attrs-in' type='checkbox' ><label for='attrs-64c79ec0-fbf4-4a81-a0d7-abd007677b7c' title='Show/Hide attributes'><svg class='icon xr-icon-file-text2'><use xlink:href='#icon-file-text2'></use></svg></label><input id='data-3b2eef7a-9e03-4a0a-a723-0e619d12ba90' class='xr-var-data-in' type='checkbox'><label for='data-3b2eef7a-9e03-4a0a-a723-0e619d12ba90' title='Show/Hide data repr'><svg class='icon xr-icon-database'><use xlink:href='#icon-database'></use></svg></label><div class='xr-var-attrs'><dl class='xr-attrs'><dt><span>units :</span></dt><dd>kg m-3 km-1</dd><dt><span>long_name :</span></dt><dd>density gradient</dd></dl></div><div class='xr-var-data'><pre>[2060451 values with dtype=float32]</pre></div></li><li class='xr-var-item'><div class='xr-var-name'><span>DRHODY</span></div><div class='xr-var-dims'>(time, altitude, latitude, longitude)</div><div class='xr-var-dtype'>float32</div><div class='xr-var-preview xr-preview'>...</div><input id='attrs-6a21b890-3c1c-4756-a112-1acdf92b0a73' class='xr-var-attrs-in' type='checkbox' ><label for='attrs-6a21b890-3c1c-4756-a112-1acdf92b0a73' title='Show/Hide attributes'><svg class='icon xr-icon-file-text2'><use xlink:href='#icon-file-text2'></use></svg></label><input id='data-d5bc15f7-be5f-4c34-be2d-1e44756e63a2' class='xr-var-data-in' type='checkbox'><label for='data-d5bc15f7-be5f-4c34-be2d-1e44756e63a2' title='Show/Hide data repr'><svg class='icon xr-icon-database'><use xlink:href='#icon-database'></use></svg></label><div class='xr-var-attrs'><dl class='xr-attrs'><dt><span>units :</span></dt><dd>kg m-3 km-1</dd><dt><span>long_name :</span></dt><dd>density gradient</dd></dl></div><div class='xr-var-data'><pre>[2060451 values with dtype=float32]</pre></div></li><li class='xr-var-item'><div class='xr-var-name'><span>DRHODZ</span></div><div class='xr-var-dims'>(time, altitude, latitude, longitude)</div><div class='xr-var-dtype'>float32</div><div class='xr-var-preview xr-preview'>...</div><input id='attrs-124b0263-858e-410e-892b-74bf2df3170d' class='xr-var-attrs-in' type='checkbox' ><label for='attrs-124b0263-858e-410e-892b-74bf2df3170d' title='Show/Hide attributes'><svg class='icon xr-icon-file-text2'><use xlink:href='#icon-file-text2'></use></svg></label><input id='data-4c7f9f54-4388-41f8-9af0-aba9852ab3e7' class='xr-var-data-in' type='checkbox'><label for='data-4c7f9f54-4388-41f8-9af0-aba9852ab3e7' title='Show/Hide data repr'><svg class='icon xr-icon-database'><use xlink:href='#icon-database'></use></svg></label><div class='xr-var-attrs'><dl class='xr-attrs'><dt><span>units :</span></dt><dd>kg m-3 km-1</dd><dt><span>long_name :</span></dt><dd>density gradient</dd></dl></div><div class='xr-var-data'><pre>[2060451 values with dtype=float32]</pre></div></li><li class='xr-var-item'><div class='xr-var-name'><span>MCRESIDUAL</span></div><div class='xr-var-dims'>(time, altitude, latitude, longitude)</div><div class='xr-var-dtype'>float32</div><div class='xr-var-preview xr-preview'>...</div><input id='attrs-0a5b3b66-ea0c-4fe0-8108-d432ebe14e2f' class='xr-var-attrs-in' type='checkbox' ><label for='attrs-0a5b3b66-ea0c-4fe0-8108-d432ebe14e2f' title='Show/Hide attributes'><svg class='icon xr-icon-file-text2'><use xlink:href='#icon-file-text2'></use></svg></label><input id='data-de4a7b01-16a5-4681-b25a-27c009797db2' class='xr-var-data-in' type='checkbox'><label for='data-de4a7b01-16a5-4681-b25a-27c009797db2' title='Show/Hide data repr'><svg class='icon xr-icon-database'><use xlink:href='#icon-database'></use></svg></label><div class='xr-var-attrs'><dl class='xr-attrs'><dt><span>units :</span></dt><dd>kg m-3 km-1</dd><dt><span>long_name :</span></dt><dd>residual from mass continuity equation</dd></dl></div><div class='xr-var-data'><pre>[2060451 values with dtype=float32]</pre></div></li></ul></div></li><li class='xr-section-item'><input id='section-e7d79de3-3a29-4669-9a1b-6b209eba8f0a' class='xr-section-summary-in' type='checkbox' disabled ><label for='section-e7d79de3-3a29-4669-9a1b-6b209eba8f0a' class='xr-section-summary'  title='Expand/collapse section'>Attributes: <span>(0)</span></label><div class='xr-section-inline-details'></div><div class='xr-section-details'><dl class='xr-attrs'></dl></div></li></ul></div></div>"
      ],
      "text/plain": [
       "<xarray.Dataset>\n",
       "Dimensions:     (longitude: 201, latitude: 201, altitude: 51, time: 1)\n",
       "Coordinates:\n",
       "  * longitude   (longitude) float32 -66.12 -66.1 -66.07 ... -61.93 -61.9 -61.88\n",
       "  * latitude    (latitude) float32 -33.8 -33.79 -33.77 ... -30.23 -30.21 -30.2\n",
       "  * altitude    (altitude) float32 0.0 0.5 1.0 1.5 2.0 ... 23.5 24.0 24.5 25.0\n",
       "  * time        (time) datetime64[ns] 2019-01-25T22:00:03\n",
       "Data variables: (12/53)\n",
       "    x           (longitude) float32 ...\n",
       "    y           (latitude) float32 ...\n",
       "    U           (time, altitude, latitude, longitude) float32 ...\n",
       "    V           (time, altitude, latitude, longitude) float32 ...\n",
       "    W           (time, altitude, latitude, longitude) float32 ...\n",
       "    WSPD        (time, altitude, latitude, longitude) float32 ...\n",
       "    ...          ...\n",
       "    DQVDZ       (time, altitude, latitude, longitude) float32 ...\n",
       "    DPDZ        (time, altitude, latitude, longitude) float32 ...\n",
       "    DRHODX      (time, altitude, latitude, longitude) float32 ...\n",
       "    DRHODY      (time, altitude, latitude, longitude) float32 ...\n",
       "    DRHODZ      (time, altitude, latitude, longitude) float32 ...\n",
       "    MCRESIDUAL  (time, altitude, latitude, longitude) float32 ..."
      ]
     },
     "execution_count": 52,
     "metadata": {},
     "output_type": "execute_result"
    }
   ],
   "source": [
    "ds_radar"
   ]
  },
  {
   "cell_type": "code",
   "execution_count": null,
   "id": "30a7650f",
   "metadata": {},
   "outputs": [],
   "source": [
    "# ds_radar.W.sel(altitude=2).plot()\n",
    "# ds_radar.W.isel(altitude=4).plot()\n",
    "# ds_radar.DBZ.sel(altitude=2).data[0].shape"
   ]
  },
  {
   "cell_type": "markdown",
   "id": "85e6b438",
   "metadata": {},
   "source": [
    "#### from FRACTL:"
   ]
  },
  {
   "cell_type": "code",
   "execution_count": null,
   "id": "0f75bf1d",
   "metadata": {},
   "outputs": [],
   "source": []
  },
  {
   "cell_type": "markdown",
   "id": "5dc2c68b",
   "metadata": {},
   "source": [
    "#### from EVAD:"
   ]
  },
  {
   "cell_type": "code",
   "execution_count": null,
   "id": "fddecb2e",
   "metadata": {},
   "outputs": [],
   "source": [
    "# ds_radar = xr.open_dataset('/home/hyu/2scratch2/DATA_DOE_CACTI_cases/test_EVAD/output/20190125/profile.20190125_180003.CSAPR2.nc')"
   ]
  },
  {
   "cell_type": "code",
   "execution_count": null,
   "id": "3d366602",
   "metadata": {},
   "outputs": [],
   "source": [
    "# ds_radar"
   ]
  },
  {
   "cell_type": "code",
   "execution_count": null,
   "id": "4f7873aa",
   "metadata": {},
   "outputs": [],
   "source": [
    "# ds_radar.profile.plot()"
   ]
  },
  {
   "cell_type": "markdown",
   "id": "d003da47",
   "metadata": {},
   "source": [
    "### Plot: Cross-sections using WRF-Python:"
   ]
  },
  {
   "cell_type": "markdown",
   "id": "88e91fde-a153-422f-8040-010a45cd1daf",
   "metadata": {},
   "source": [
    "#### Calculate linear DBZ:"
   ]
  },
  {
   "cell_type": "code",
   "execution_count": 37,
   "id": "05f22184",
   "metadata": {},
   "outputs": [],
   "source": [
    "da_LDBZ = 10**(da_DBZ/10.)\n",
    "# da_LDBZ"
   ]
  },
  {
   "cell_type": "markdown",
   "id": "8594657e-8956-4855-aea9-b7acde2ecee2",
   "metadata": {},
   "source": [
    "#### Generate 3-D z data:"
   ]
  },
  {
   "cell_type": "code",
   "execution_count": 38,
   "id": "573418c0-47d0-489a-a67b-27e3e07471e9",
   "metadata": {},
   "outputs": [
    {
     "data": {
      "text/plain": [
       "(51, 201, 201)"
      ]
     },
     "execution_count": 38,
     "metadata": {},
     "output_type": "execute_result"
    }
   ],
   "source": [
    "z_data = ds_radar_re.altitude.data\n",
    "# z_data\n",
    "\n",
    "z_data_3d = np.tile(z_data[:, np.newaxis, np.newaxis], (1, 201, 201))\n",
    "z_data_3d.shape"
   ]
  },
  {
   "cell_type": "code",
   "execution_count": 16,
   "id": "6c5c26cb-4e6f-4fa3-966f-baafeed07233",
   "metadata": {},
   "outputs": [],
   "source": [
    "# ds_radar_re = ds_radar_re.assign({'z': (('altitude', 'latitude', 'longitude'), z_data_3d)})\n",
    "# ds_radar_re"
   ]
  },
  {
   "cell_type": "markdown",
   "id": "af3f8476",
   "metadata": {},
   "source": [
    "#### Function: Find the nearest grid locations to the desired point:"
   ]
  },
  {
   "cell_type": "code",
   "execution_count": 39,
   "id": "abd9062a",
   "metadata": {},
   "outputs": [],
   "source": [
    "def xy_point_loc_from_grid_latlon(grid_lon, grid_lat, lon, lat):\n",
    "    abslon = np.abs(grid_lon-lon)\n",
    "    abslat = np.abs(grid_lat-lat)\n",
    "    c = np.maximum(abslon, abslat)\n",
    "    ([xloc], [yloc]) = np.where(c == np.min(c))\n",
    "    \n",
    "    # print(c)\n",
    "    # print(np.min(c))\n",
    "    # print(np.where(c == np.min(c)))\n",
    "    \n",
    "    return xloc, yloc"
   ]
  },
  {
   "cell_type": "markdown",
   "id": "f26910e0-176d-4da9-a90d-3a08269c3aa0",
   "metadata": {},
   "source": [
    "#### Set cross-section parameters:"
   ]
  },
  {
   "cell_type": "code",
   "execution_count": 40,
   "id": "e8c835db-f16f-44eb-abeb-cc2e7f4b7423",
   "metadata": {},
   "outputs": [],
   "source": [
    "## Set the LON/LAT for cross-section Start/End points:\n",
    "xsec1_LON = [-65.3, -63.5]\n",
    "xsec1_LAT = [-33, -30.5]"
   ]
  },
  {
   "cell_type": "markdown",
   "id": "c5afe4cd",
   "metadata": {},
   "source": [
    "#### Define the cross-section start and end points to nearest X, Y locations:"
   ]
  },
  {
   "cell_type": "code",
   "execution_count": 41,
   "id": "dfb25255",
   "metadata": {},
   "outputs": [],
   "source": [
    "xsec_LON = xsec1_LON\n",
    "xsec_LAT = xsec1_LAT\n",
    "\n",
    "loc_start = xy_point_loc_from_grid_latlon(lon, lat, xsec_LON[0], xsec_LAT[0])\n",
    "loc_end = xy_point_loc_from_grid_latlon(lon, lat, xsec_LON[1], xsec_LAT[1])\n",
    "\n",
    "## !!! REMEMBER TO SWITCH X, Y TO GET THE CORRECT LAT/LON !!!\n",
    "cross_start = CoordPair(x=loc_start[1], y=loc_start[0])\n",
    "cross_end = CoordPair(x=loc_end[1], y=loc_end[0])"
   ]
  },
  {
   "cell_type": "markdown",
   "id": "5abc1f5b",
   "metadata": {},
   "source": [
    "#### Compute the vertical cross-section (from X, Y):"
   ]
  },
  {
   "cell_type": "code",
   "execution_count": 121,
   "id": "a7eb5d5d",
   "metadata": {},
   "outputs": [],
   "source": [
    "# ds_radar_re\n",
    "# da_LDBZ"
   ]
  },
  {
   "cell_type": "code",
   "execution_count": 42,
   "id": "99387873",
   "metadata": {},
   "outputs": [],
   "source": [
    "DBZ_xsec = vertcross( da_LDBZ # Use linear Z for interpolation\n",
    "                    , z_data_3d #ds_radar_re.z.data\n",
    "                    , start_point=cross_start\n",
    "                    , end_point=cross_end\n",
    "                    )\n",
    "\n",
    "DBZ_xsec = 10.0 * np.log10(DBZ_xsec) # Convert back to dBZ after interpolation"
   ]
  },
  {
   "cell_type": "code",
   "execution_count": 43,
   "id": "254ce488",
   "metadata": {},
   "outputs": [],
   "source": [
    "# DBZ_xsec"
   ]
  },
  {
   "cell_type": "code",
   "execution_count": 44,
   "id": "6d99c6bd-3433-43e7-a1aa-edc2b7a7d7db",
   "metadata": {},
   "outputs": [],
   "source": [
    "W_xsec = vertcross( da_W\n",
    "                  , z_data_3d #ds_radar_re.z.data\n",
    "                  , start_point=cross_start\n",
    "                  , end_point=cross_end\n",
    "                  )\n"
   ]
  },
  {
   "cell_type": "markdown",
   "id": "b54f5d61-cd76-4978-ba8c-2da4abdfe851",
   "metadata": {},
   "source": [
    "#### Get lat/lon coordinate for the cross section line:"
   ]
  },
  {
   "cell_type": "code",
   "execution_count": 45,
   "id": "6e5d0839-10e5-4a8b-a6bd-7e44ca7a4c14",
   "metadata": {},
   "outputs": [],
   "source": [
    "xsec_lon = interpline( lon\n",
    "                     # , wrfin=wrf_file\n",
    "                     , start_point=cross_start\n",
    "                     , end_point=cross_end\n",
    "                     )\n",
    "xsec_lat = interpline( lat\n",
    "                     # , wrfin=wrf_file\n",
    "                     , start_point=cross_start\n",
    "                     , end_point=cross_end\n",
    "                     )"
   ]
  },
  {
   "cell_type": "code",
   "execution_count": 68,
   "id": "cda328c2-c7e5-4f4e-9429-9b8b8736466a",
   "metadata": {},
   "outputs": [
    {
     "name": "stdout",
     "output_type": "stream",
     "text": [
      "163\n"
     ]
    }
   ],
   "source": [
    "print(xsec_lon.shape[0])"
   ]
  },
  {
   "cell_type": "markdown",
   "id": "4ebf6ce5-1a3e-4c12-b603-a703e7f59dd6",
   "metadata": {},
   "source": [
    "### Plot 1: Cross-section:"
   ]
  },
  {
   "cell_type": "markdown",
   "id": "1e70028a-d5ca-4e5b-b773-9faa22077ae7",
   "metadata": {
    "tags": []
   },
   "source": [
    "#### Function: Creating new map:"
   ]
  },
  {
   "cell_type": "code",
   "execution_count": 71,
   "id": "11daaafb-b222-482b-924c-9cd1ace5d696",
   "metadata": {},
   "outputs": [],
   "source": [
    "def new_xsec(fig):\n",
    "    \n",
    "    # axis_color = xsec_line2_color\n",
    "    \n",
    "    ax = plt.axes()\n",
    "    \n",
    "    # ax.set_xticks([0,DBZ_xsec.xy_loc.size-1])\n",
    "    # ax.set_xticklabels( ['SW', 'NE'] \n",
    "    #                     # ['NW', 'SE']\n",
    "    #                     # ['W', 'E']\n",
    "    #                   , fontsize=14\n",
    "    #                   , fontweight='bold'\n",
    "    #                   # , color=axis_color\n",
    "    #                   , rotation = 45\n",
    "    #                   , ha='right' # horizontalalignment\n",
    "    #                   )\n",
    "    \n",
    "    # ax.set_xticks([0, xsec_lon.shape[0]])\n",
    "    # ax.set_xticklabels( np.arange(0, xsec_lon.shape[0], 2)\n",
    "    #                   , fontsize=12\n",
    "    #                   , fontweight='bold'\n",
    "    #                   )\n",
    "    \n",
    "    ax.set_ylim([0, 25])\n",
    "    ax.set_yticks(np.arange(0, 26, 2))\n",
    "    # ax.set_yticklabels( np.arange(0, 14001, 2000)/1000\n",
    "    #                   , fontsize=12\n",
    "    #                   , fontweight='bold'\n",
    "    #                   )\n",
    "    \n",
    "    # ax.spines['bottom'].set_color(axis_color)\n",
    "    # ax.spines['bottom'].set_linewidth(2.5)\n",
    "    \n",
    "    return ax"
   ]
  },
  {
   "cell_type": "markdown",
   "id": "d7897203-0ec4-4ed2-bb55-20e2bf44dd02",
   "metadata": {},
   "source": [
    "#### Plot dBZ:"
   ]
  },
  {
   "cell_type": "code",
   "execution_count": 58,
   "id": "12287ec3",
   "metadata": {},
   "outputs": [],
   "source": [
    "## Set NWS reflectivity colorbar:\n",
    "from metpy.plots import ctables\n",
    "ref_norm, ref_cmap = ctables.registry.get_with_steps('NWSStormClearReflectivity', -20, 0.5)\n",
    "\n",
    "## Set CWB reflectivity colorbar:\n",
    "clevs = [-5,0,5,10,15,20,25,30,35,40,45,50,55,60,65,70,75,85]\n",
    "ccols = ['#ffffff','#98ffff','#009aff','#1919ff','#19ff19','#19cd19','#19A019','#fefe08','#ffcb00','#ff9c00','#fe0005','#c90200','#9d0000','#9a009d','#cf00d7','#ff00f7','#fdcafe']\n",
    "# clevs = [-30,-25,-20,-15,-10,-5,0,5,10,15,20,25,30,35,40,45,50,55,60,65,70,75,85]\n",
    "# ccols = ['#f0f8ff','#f0f8ff','#f0f8ff','#f0f8ff','#f0f8ff','#f0f8ff','#98ffff','#009aff','#1919ff','#19ff19','#19cd19','#19A019','#fefe08','#ffcb00','#ff9c00','#fe0005','#c90200','#9d0000','#9a009d','#cf00d7','#ff00f7','#fdcafe']"
   ]
  },
  {
   "cell_type": "code",
   "execution_count": 29,
   "id": "e737c92b",
   "metadata": {
    "tags": []
   },
   "outputs": [
    {
     "data": {
      "text/plain": [
       "'2019-01-25T22:00:03'"
      ]
     },
     "execution_count": 29,
     "metadata": {},
     "output_type": "execute_result"
    }
   ],
   "source": [
    "np.datetime_as_string(ds_radar.time.data[0], unit='s')"
   ]
  },
  {
   "cell_type": "code",
   "execution_count": 72,
   "id": "c68f9d6e-a26c-4cd8-8055-ef0e7e0a8b0c",
   "metadata": {},
   "outputs": [
    {
     "data": {
      "text/plain": [
       "Text(0.5, -0.1, '[dBZ]')"
      ]
     },
     "execution_count": 72,
     "metadata": {},
     "output_type": "execute_result"
    },
    {
     "data": {
      "image/png": "[encoded data removed]",
      "text/plain": [
       "<Figure size 1152x648 with 2 Axes>"
      ]
     },
     "metadata": {
      "needs_background": "light"
     },
     "output_type": "display_data"
    }
   ],
   "source": [
    "fig_xsec = plt.figure(figsize=(16,9))\n",
    "ax_xsec = new_xsec(fig_xsec)\n",
    "\n",
    "plotting_var = DBZ_xsec.data\n",
    "plotting_x = np.arange(DBZ_xsec.xy_loc.size)\n",
    "plotting_y = DBZ_xsec.vertical.data\n",
    "\n",
    "## CWB colorbar (xarray plot):\n",
    "# cf2 = dbz_xsec.plot.contourf( vmin=0, vmax=80, levels=clevs, colors=ccols)\n",
    "\n",
    "## CWB colorbar:\n",
    "cf2 = ax_xsec.contourf( plotting_x, plotting_y, plotting_var\n",
    "                      , levels=clevs\n",
    "                      , colors=ccols\n",
    "                      # , vmin=0\n",
    "                      # , vmax=20\n",
    "                      )\n",
    "\n",
    "## NWS colorbar:\n",
    "# cf2 = ax_xsec.pcolormesh( plotting_x, plotting_y, plotting_var\n",
    "#                         , cmap=ref_cmap\n",
    "#                         , norm=ref_norm\n",
    "#                         , shading='auto'\n",
    "#                         )\n",
    "\n",
    "plt.ylabel('Altitude (km)', {'size': 14, 'weight': 'bold'})\n",
    "\n",
    "## Plot the sigmal level line:\n",
    "# xsec_color = xsec_line2_color\n",
    "\n",
    "# sigma_lev_h = ax_xsec.plot( plotting_x, sigma_line\n",
    "#                           , color=xsec_color)\n",
    "\n",
    "# ax_xsec.legend( sigma_lev_h, ['$\\sigma$-level: ' + str(sigma_lev)]\n",
    "#               , loc='upper left'\n",
    "#               # , fontsize=14\n",
    "#               , prop={'size':14, 'weight':'bold'}\n",
    "#               )\n",
    "\n",
    "## Fill in the mountain terrain:\n",
    "# ter_fill = ax_xsec.fill_between(plotting_x, 0, ter_line,\n",
    "#                                 facecolor='dimgrey')\n",
    "\n",
    "# cf2_title = plt.title( np.datetime_as_string(dbz_lev.Time.data, unit='h')\n",
    "#                      + ' / '\n",
    "#                      + wrf_sim_type\n",
    "#                      + ' / dBZ cross-section'\n",
    "#                      # + 'z=' + str(interp_vertical_lev) + dbz_lev.vert_units \n",
    "#                      # + ' / $\\sigma$-Level index: ' + str(sigma_lev)\n",
    "#                      ,fontsize=14 \n",
    "#                      ,fontweight='bold'\n",
    "#                      )\n",
    "\n",
    "cbar_ax = fig_xsec.add_axes([0.92, 0.3, 0.015, 0.4])\n",
    "cbar = fig_xsec.colorbar(cf2, cax=cbar_ax, fraction=0.04)\n",
    "cbar.ax.tick_params(labelsize=12)\n",
    "cbar.ax.set_title('[dBZ]', fontsize=12, y=-0.1)\n",
    "\n",
    "\n",
    "## Save figure:\n",
    "\n",
    "# plt.savefig('./' + np.datetime_as_string(dbz_lev.Time.data, unit='h') + '_dbz_xsec.png', \n",
    "#             bbox_inches='tight', \n",
    "#             dpi=300)\n",
    "\n",
    "\n"
   ]
  },
  {
   "cell_type": "markdown",
   "id": "0ff047dc-3b72-4c1b-8a8c-060e25444f6f",
   "metadata": {},
   "source": [
    "#### Plot W:"
   ]
  },
  {
   "cell_type": "code",
   "execution_count": 52,
   "id": "b4f6431b-0e2a-4db2-a8df-45ff8e29c9ad",
   "metadata": {},
   "outputs": [],
   "source": [
    "## W Colormap settings:\n",
    "w_bounds = np.arange(-6, 6.1, 0.5)\n",
    "w_cmap = cm.get_cmap('RdBu_r', w_bounds.size+1)\n",
    "w_norm = mpl.colors.BoundaryNorm(w_bounds, w_cmap.N, extend='both')\n"
   ]
  },
  {
   "cell_type": "code",
   "execution_count": 73,
   "id": "8e81a039-0d9f-45ea-8ba2-99b0d6c7fbcb",
   "metadata": {},
   "outputs": [
    {
     "data": {
      "text/plain": [
       "Text(0.5, -0.2, '[m/s]')"
      ]
     },
     "execution_count": 73,
     "metadata": {},
     "output_type": "execute_result"
    },
    {
     "data": {
      "image/png": "[encoded data removed]",
      "text/plain": [
       "<Figure size 1152x648 with 2 Axes>"
      ]
     },
     "metadata": {
      "needs_background": "light"
     },
     "output_type": "display_data"
    }
   ],
   "source": [
    "fig_xsec = plt.figure(figsize=(16,9))\n",
    "ax_xsec = new_xsec(fig_xsec)\n",
    "\n",
    "plotting_var = W_xsec.data\n",
    "plotting_x = np.arange(W_xsec.xy_loc.size)\n",
    "plotting_y = W_xsec.vertical.data\n",
    "\n",
    "## CWB colorbar (xarray plot):\n",
    "# cf2 = dbz_xsec.plot.contourf( vmin=0, vmax=80, levels=clevs, colors=ccols)\n",
    "\n",
    "## CWB colorbar:\n",
    "cf2 = ax_xsec.pcolormesh( plotting_x, plotting_y, plotting_var\n",
    "                      , cmap=w_cmap\n",
    "                      , norm=w_norm\n",
    "                      , alpha=0.8\n",
    "                      , shading='auto'\n",
    "                      )\n",
    "\n",
    "## NWS colorbar:\n",
    "# cf2 = ax_xsec.pcolormesh( plotting_x, plotting_y, plotting_var\n",
    "#                         , cmap=ref_cmap\n",
    "#                         , norm=ref_norm\n",
    "#                         , shading='auto'\n",
    "#                         )\n",
    "\n",
    "plt.ylabel('Altitude (km)', {'size': 14, 'weight': 'bold'})\n",
    "\n",
    "## Plot the sigmal level line:\n",
    "# xsec_color = xsec_line2_color\n",
    "\n",
    "# sigma_lev_h = ax_xsec.plot( plotting_x, sigma_line\n",
    "#                           , color=xsec_color)\n",
    "\n",
    "# ax_xsec.legend( sigma_lev_h, ['$\\sigma$-level: ' + str(sigma_lev)]\n",
    "#               , loc='upper left'\n",
    "#               # , fontsize=14\n",
    "#               , prop={'size':14, 'weight':'bold'}\n",
    "#               )\n",
    "\n",
    "## Fill in the mountain terrain:\n",
    "# ter_fill = ax_xsec.fill_between(plotting_x, 0, ter_line,\n",
    "#                                 facecolor='dimgrey')\n",
    "\n",
    "# cf2_title = plt.title( np.datetime_as_string(dbz_lev.Time.data, unit='h')\n",
    "#                      + ' / '\n",
    "#                      + wrf_sim_type\n",
    "#                      + ' / dBZ cross-section'\n",
    "#                      # + 'z=' + str(interp_vertical_lev) + dbz_lev.vert_units \n",
    "#                      # + ' / $\\sigma$-Level index: ' + str(sigma_lev)\n",
    "#                      ,fontsize=14 \n",
    "#                      ,fontweight='bold'\n",
    "#                      )\n",
    "\n",
    "cbar_ax = fig_xsec.add_axes([0.92, 0.3, 0.015, 0.4])\n",
    "cbar = fig_xsec.colorbar(cf2, cax=cbar_ax, fraction=0.04)\n",
    "cbar.ax.tick_params(labelsize=12)\n",
    "cbar.ax.set_title('[m/s]', fontsize=12, y=-0.2)\n",
    "\n",
    "\n",
    "## Save figure:\n",
    "\n",
    "# plt.savefig('./' + np.datetime_as_string(dbz_lev.Time.data, unit='h') + '_dbz_xsec.png', \n",
    "#             bbox_inches='tight', \n",
    "#             dpi=300)\n",
    "\n",
    "\n",
    "\n"
   ]
  },
  {
   "cell_type": "markdown",
   "id": "3b9bb673",
   "metadata": {},
   "source": [
    "### <font color='teal'>**Supplement Codes:**</font>"
   ]
  },
  {
   "cell_type": "markdown",
   "id": "1afd8538",
   "metadata": {},
   "source": [
    "### Plot 1: Maps:"
   ]
  },
  {
   "cell_type": "markdown",
   "id": "451280c8",
   "metadata": {},
   "source": [
    "#### Set plotting parameters:"
   ]
  },
  {
   "cell_type": "code",
   "execution_count": null,
   "id": "e0b66b02",
   "metadata": {},
   "outputs": [],
   "source": [
    "plot_alt = 2.5 #km"
   ]
  },
  {
   "cell_type": "markdown",
   "id": "31261580",
   "metadata": {},
   "source": [
    "#### Function: Creating new map:"
   ]
  },
  {
   "cell_type": "code",
   "execution_count": null,
   "id": "732dda35",
   "metadata": {},
   "outputs": [],
   "source": [
    "def new_map(fig):\n",
    "    \n",
    "    # proj = ccrs.LambertConformal( central_longitude=0.0, central_latitude=30, globe=None )\n",
    "    # proj = ccrs.LambertCylindrical( central_longitude=0.0, globe=None )\n",
    "    proj = ccrs.PlateCarree( central_longitude=0, globe=None)\n",
    "    \n",
    "    # ax = fig.add_subplot(1, 1, 1, projection=proj)\n",
    "    ax = plt.axes(projection=proj)\n",
    "    \n",
    "    ## Add background image:\n",
    "    # ax.stock_img()\n",
    "    \n",
    "    ## Add Stamen terrain:\n",
    "    stamen_terrain = cimgt.Stamen('terrain')\n",
    "    \n",
    "    ax.add_image(stamen_terrain, 8)\n",
    "    \n",
    "    ## Set extent:\n",
    "    # ax.set_global()\n",
    "    \n",
    "    ## S. America:\n",
    "    # ax.set_extent([-30, -90, 20, -60], crs=proj)\n",
    "    ## CACTI:\n",
    "    # ax.set_extent([-61.5, -67, -28.5, -34.5], crs=proj)\n",
    "    ax.set_extent([-62.5, -66.5, -29.5, -33.5], crs=proj)\n",
    "    # ax.set_extent([-62.5, -66, -29.5, -33.5], crs=proj)\n",
    "    # ax.set_extent([-55, -75, -20, -40], crs=proj)\n",
    "    \n",
    "    ## Add coast lines:\n",
    "    ax.coastlines('10m', 'black', linewidth=1)\n",
    "    \n",
    "    ## Grab state shapefile:\n",
    "    state_borders = cfeat.NaturalEarthFeature( category='cultural' # 'physical'\n",
    "                                             , name='admin_1_states_provinces_lines'\n",
    "                                             # , name='geography_regions_elevation_points'\n",
    "                                             , scale='50m'\n",
    "                                             , facecolor='none'\n",
    "                                             , edgecolor='gray'\n",
    "                                             )\n",
    "    ## Add features:\n",
    "    # ax.add_feature(cfeat.BORDERS)\n",
    "    # ax.add_feature(cfeat.LAND)\n",
    "    # ax.add_feature(cfeat.COASTLINE)\n",
    "    # ax.add_feature(cfeat.OCEAN, edgecolor=None) #, fc='none')\n",
    "    # ax.add_feature(cfeat.GSHHSFeature(scale='auto', levels=None))\n",
    "    # ax.add_feature(state_borders, linewidth=0.8)\n",
    "    \n",
    "    ## Add the gridlines:\n",
    "    latlon_grid_int = 1\n",
    "    ax_gl = ax.gridlines( crs=ccrs.PlateCarree()\n",
    "                        , linewidth=0.5\n",
    "                        , color='#454545' \n",
    "                        , alpha=0.9\n",
    "                        , linestyle='--'\n",
    "                        , draw_labels=True \n",
    "                        , dms=True\n",
    "                        # , x_inline=False \n",
    "                        # , y_inline=False\n",
    "                        , xlocs=np.arange(-180, 181, latlon_grid_int)\n",
    "                        , ylocs=np.arange(-90, 91, latlon_grid_int)\n",
    "                        )\n",
    "    ax_gl.top_labels = False\n",
    "    ax_gl.right_labels = False\n",
    "    ax_gl.bottom_labels = True\n",
    "    ax_gl.left_labels = True\n",
    "    ax_gl.xlabel_style = {'size': 14, 'weight': 'bold'}\n",
    "    ax_gl.ylabel_style = {'size': 14, 'weight': 'bold'}\n",
    "    \n",
    "    \n",
    "    return ax"
   ]
  },
  {
   "cell_type": "markdown",
   "id": "217c73df",
   "metadata": {},
   "source": [
    "#### Plot dBZ:"
   ]
  },
  {
   "cell_type": "code",
   "execution_count": null,
   "id": "382eb6dc",
   "metadata": {},
   "outputs": [],
   "source": [
    "## Set NWS reflectivity colorbar:\n",
    "from metpy.plots import ctables\n",
    "ref_norm, ref_cmap = ctables.registry.get_with_steps('NWSStormClearReflectivity', -20, 0.5)\n",
    "\n",
    "## Set CWB reflectivity colorbar:\n",
    "clevs = [-5,0,5,10,15,20,25,30,35,40,45,50,55,60,65,70,75,85]\n",
    "ccols = ['#ffffff','#98ffff','#009aff','#1919ff','#19ff19','#19cd19','#19A019','#fefe08','#ffcb00','#ff9c00','#fe0005','#c90200','#9d0000','#9a009d','#cf00d7','#ff00f7','#fdcafe']\n",
    "# clevs = [-30,-25,-20,-15,-10,-5,0,5,10,15,20,25,30,35,40,45,50,55,60,65,70,75,85]\n",
    "# ccols = ['#f0f8ff','#f0f8ff','#f0f8ff','#f0f8ff','#f0f8ff','#f0f8ff','#98ffff','#009aff','#1919ff','#19ff19','#19cd19','#19A019','#fefe08','#ffcb00','#ff9c00','#fe0005','#c90200','#9d0000','#9a009d','#cf00d7','#ff00f7','#fdcafe']"
   ]
  },
  {
   "cell_type": "code",
   "execution_count": null,
   "id": "f680a57b",
   "metadata": {},
   "outputs": [],
   "source": [
    "np.datetime_as_string(ds_radar.time.data[0], unit='s')"
   ]
  },
  {
   "cell_type": "code",
   "execution_count": null,
   "id": "6095d2c2",
   "metadata": {},
   "outputs": [],
   "source": [
    "fig = plt.figure(figsize=(10,10))\n",
    "ax1 = new_map(fig)\n",
    "# ax1 = plt.axes(projection = ccrs.LambertConformal(central_longitude=-100, central_latitude=40))\n",
    "# ax1 = plt.axes(projection = ccrs.PlateCarree())\n",
    "\n",
    "plotting_var = ds_radar.DBZ.sel(altitude=plot_alt).data[0]\n",
    "plotting_lon = ds_radar.longitude\n",
    "plotting_lat = ds_radar.latitude\n",
    "\n",
    "\n",
    "## CWB colorbar:\n",
    "cf1 = ax1.contourf( plotting_lon, plotting_lat, plotting_var\n",
    "                  , levels=clevs, colors=ccols\n",
    "                  , alpha=0.6\n",
    "                  )\n",
    "\n",
    "## NWS colorbar:\n",
    "# cf1 = ax1.pcolormesh( plotting_lon, plotting_lat, plotting_var\n",
    "#                     , cmap=ref_cmap, norm=ref_norm\n",
    "#                     , alpha=0.8\n",
    "#                     , shading='auto'\n",
    "#                     )\n",
    "# cf1 = ax1.pcolormesh( plotting_lon, plotting_lat, plotting_var\n",
    "#                     , vmax=70\n",
    "#                     , vmin=-5\n",
    "#                     , cmap=ctables.registry.get_colortable('NWSReflectivity')\n",
    "#                     # , norm=Normalize(-5, 75)\n",
    "#                     )\n",
    "\n",
    "## Loc. CSAPR2:\n",
    "plt.plot( -64.73, -32.13\n",
    "        # , color='k'\n",
    "        , marker='o'\n",
    "        , markersize=10\n",
    "        , mec='k'\n",
    "        , mew=3\n",
    "        , mfc='none'\n",
    "        # , markevery=[0,-1]\n",
    "        # , linewidth=1.0\n",
    "        # , linestyle='--'\n",
    "        )\n",
    "\n",
    "## Loc. CHIVO:\n",
    "plt.plot( -64.17, -31.63\n",
    "        # , color='k'\n",
    "        , marker='o'\n",
    "        , markersize=12\n",
    "        , mec='k'\n",
    "        , mew=1\n",
    "        , mfc='k'\n",
    "        # , markevery=[0,-1]\n",
    "        # , linewidth=1.0\n",
    "        # , linestyle='--'\n",
    "        )\n",
    "\n",
    "cf1_title = plt.title( 'Retrieved dBZ'\n",
    "                     # + test_time.strftime('%Y-%m-%d T%H:%M:%SZ') \n",
    "                     + '\\n Time: ' + np.datetime_as_string(ds_radar.time.data[0], unit='s') + 'Z'\n",
    "                     + ' / Height: ' + str(plot_alt) + '-km'\n",
    "                     + ' \\n Method: ' + test_method\n",
    "                     ,fontsize=14 \n",
    "                     ,fontweight='bold'\n",
    "                     )\n",
    "\n",
    "cbar_ax = fig.add_axes([0.95, 0.3, 0.02, 0.4])\n",
    "cbar = fig.colorbar(cf1, cax=cbar_ax, fraction=0.04)\n",
    "cbar.ax.tick_params(labelsize=12)\n",
    "cbar.ax.set_title('[dBZ]', fontsize=12, y=-0.1)\n",
    "\n",
    "\n",
    "## Save figure:\n",
    "\n",
    "# plt.savefig('./' + np.datetime_as_string(dbz_lev.Time.data, unit='h') + '_dbz_xline.png', \n",
    "#             bbox_inches='tight', \n",
    "#             dpi=300)\n",
    "\n"
   ]
  },
  {
   "cell_type": "markdown",
   "id": "56924746",
   "metadata": {},
   "source": [
    "#### Plot W:"
   ]
  },
  {
   "cell_type": "code",
   "execution_count": null,
   "id": "5b0576a7",
   "metadata": {},
   "outputs": [],
   "source": [
    "## W Colormap settings:\n",
    "w_bounds = np.arange(-4, 4.1, 0.5)\n",
    "w_cmap = cm.get_cmap('RdBu_r', w_bounds.size+1)\n",
    "w_norm = mpl.colors.BoundaryNorm(w_bounds, w_cmap.N, extend='both')\n"
   ]
  },
  {
   "cell_type": "code",
   "execution_count": null,
   "id": "44a76b21",
   "metadata": {},
   "outputs": [],
   "source": [
    "fig = plt.figure(figsize=(9,16))\n",
    "ax1 = new_map(fig)\n",
    "# ax1 = plt.axes(projection = ccrs.LambertConformal(central_longitude=-100, central_latitude=40))\n",
    "# ax1 = plt.axes(projection = ccrs.PlateCarree())\n",
    "\n",
    "plotting_var = ds_radar.W.sel(altitude=2.5).data[0]\n",
    "plotting_lon = ds_radar.longitude\n",
    "plotting_lat = ds_radar.latitude\n",
    "\n",
    "\n",
    "cf1 = ax1.pcolormesh( plotting_lon, plotting_lat, plotting_var\n",
    "                    , cmap=w_cmap\n",
    "                    , norm=w_norm\n",
    "                    , alpha=0.8\n",
    "                    , shading='auto')\n",
    "\n",
    "\n",
    "## Loc. CSAPR2:\n",
    "plt.plot( -64.73, -32.13\n",
    "        # , color='k'\n",
    "        , marker='o'\n",
    "        , markersize=14\n",
    "        , mec='k'\n",
    "        , mew=1\n",
    "        , mfc='k'\n",
    "        # , markevery=[0,-1]\n",
    "        # , linewidth=1.0\n",
    "        # , linestyle='--'\n",
    "        )\n",
    "\n",
    "## Loc. CHIVO:\n",
    "plt.plot( -64.17, -31.63\n",
    "        # , color='k'\n",
    "        , marker='o'\n",
    "        , markersize=14\n",
    "        , mec='k'\n",
    "        , mew=1\n",
    "        , mfc='k'\n",
    "        # , markevery=[0,-1]\n",
    "        # , linewidth=1.0\n",
    "        # , linestyle='--'\n",
    "        )\n",
    "\n",
    "## Plot cross-section lines:\n",
    "plt.plot( [-63.5, -65.5], [-31.5, -33]\n",
    "        , color='green'\n",
    "        , marker='.'\n",
    "        , markersize=14\n",
    "        # , mec='k'\n",
    "        # , mew=1\n",
    "        # , mfc='k'\n",
    "        , markevery=[0,-1]\n",
    "        , linewidth=2.0\n",
    "        , linestyle='--'\n",
    "        )\n",
    "\n",
    "cf1_title = plt.title( 'Retrieved W'\n",
    "                     # + test_time.strftime('%Y-%m-%d T%H:%M:%SZ') \n",
    "                     + '\\n Time: ' + np.datetime_as_string(ds_radar.time.data[0], unit='s') + 'Z'\n",
    "                     + ' / Height: ' + str(plot_alt) + '-km'\n",
    "                     + ' \\n Method: ' + test_method\n",
    "                     ,fontsize=14 \n",
    "                     ,fontweight='bold'\n",
    "                     )\n",
    "\n",
    "cbar_ax = fig.add_axes([0.95, 0.3, 0.02, 0.4])\n",
    "cbar = fig.colorbar(cf1, cax=cbar_ax, fraction=0.04)\n",
    "cbar.ax.tick_params(labelsize=12)\n",
    "cbar.ax.set_title('[m/s]', fontsize=12, y=-0.1)\n",
    "\n",
    "\n",
    "## Save figure:\n",
    "\n",
    "# plt.savefig('./' + np.datetime_as_string(dbz_lev.Time.data, unit='h') + '_dbz_xline.png', \n",
    "#             bbox_inches='tight', \n",
    "#             dpi=300)\n"
   ]
  },
  {
   "cell_type": "markdown",
   "id": "7ccb53c2",
   "metadata": {},
   "source": [
    "### <font color='dodgerblue'>**Supplement Codes from Marqi:**</font>"
   ]
  },
  {
   "cell_type": "code",
   "execution_count": null,
   "id": "9ac82669",
   "metadata": {},
   "outputs": [],
   "source": [
    "import numpy as np\n",
    "import matplotlib.pyplot as plt\n",
    "from netCDF4 import Dataset\n",
    "from astropy.convolution import convolve, Gaussian2DKernel\n",
    "import pyart\n",
    "from csu_radartools import (csu_fhc, csu_liquid_ice_mass, csu_blended_rain, \n",
    "                            csu_dsd, csu_kdp, csu_misc, fundamentals)\n",
    "import csu_radartools\n",
    "import matplotlib.colors as colors\n",
    "import difflib\n",
    "import os\n",
    "from datetime import datetime\n"
   ]
  },
  {
   "cell_type": "code",
   "execution_count": null,
   "id": "3889e7d1",
   "metadata": {},
   "outputs": [],
   "source": [
    "print (csu_radartools.__version__)"
   ]
  },
  {
   "cell_type": "code",
   "execution_count": null,
   "id": "f12dd5ce",
   "metadata": {},
   "outputs": [],
   "source": [
    "def two_panel_plot(radar, sweep=0, var1='reflectivity', vmin1=0, vmax1=70,\n",
    "                   cmap1='pyart_HomeyerRainbow', units1='dBZ', var2='differential_reflectivity',\n",
    "                   vmin2=-5, vmax2=5, cmap2='RdYlBu_r', units2='dB', return_flag=False,\n",
    "                   xlim=[-150,150], ylim=[-150,150]):\n",
    "    display = pyart.graph.RadarDisplay(radar)\n",
    "    fig = plt.figure(figsize=(18,5))\n",
    "    fig.patch.set_facecolor('xkcd:white')\n",
    "    ax1 = fig.add_subplot(121)\n",
    "    display.plot_rhi(var1, sweep=sweep, vmin=vmin1, vmax=vmax1, cmap=cmap1, \n",
    "                     colorbar_label=units1, mask_outside=True)\n",
    "    display.set_limits(xlim=xlim, ylim=ylim)\n",
    "    ax2 = fig.add_subplot(122)\n",
    "    display.plot_rhi(var2, sweep=sweep, vmin=vmin2, vmax=vmax2, cmap=cmap2, \n",
    "                     colorbar_label=units2, mask_outside=True)\n",
    "    display.set_limits(xlim=xlim, ylim=ylim)\n",
    "    if return_flag:\n",
    "        return fig, ax1, ax2, display"
   ]
  },
  {
   "cell_type": "code",
   "execution_count": null,
   "id": "d2b1df4b",
   "metadata": {},
   "outputs": [],
   "source": [
    "#radarfile = '/home/mrocque/research/relampago/csapr2/corcsapr2cfrppiqcM1.b1.20181214.030003.custom.nc2'\n",
    "radarfile = '/home/mrocque/research/relampago/csapr2/corcsapr2cfrppiqcM1.b1.20181214.140003.custom.nc1'\n",
    "#radarfile = '/rasmussen-scratch/krasmussen/DATA/RELAMPAGO/CSAPR2/ppi/20181214/corcsapr2cfrppiqcM1.b1.20181214.141504.custom.nc'\n",
    "#radarfile = '/rasmussen-scratch/krasmussen/DATA/RELAMPAGO/CSAPR2/ppi/20181214/corcsapr2cfrppiqcM1.b1.20181214.234504.custom.nc'\n",
    "#radarfile = '/home/mrocque/research/relampago/csapr2/corcsapr2cfrhsrhiqcM1.b1.20181214.030715.custom.nc2'\n",
    "radar = pyart.io.read(radarfile)\n",
    "print(radar.fields.keys())\n",
    "\n",
    "dz = radar.fields['DZ_qc']['data']\n",
    "dr = radar.fields['ZDR_qc']['data']\n",
    "kd = radar.fields['PHIDP_qc']['data']\n",
    "rh = radar.fields['RHOHV_qc']['data']"
   ]
  },
  {
   "cell_type": "code",
   "execution_count": null,
   "id": "608ebae4",
   "metadata": {},
   "outputs": [],
   "source": [
    "del radar.fields['uncorrected_reflectivity_v']"
   ]
  },
  {
   "cell_type": "code",
   "execution_count": null,
   "id": "4cfaa38f",
   "metadata": {},
   "outputs": [],
   "source": [
    "print (radar.fields.keys())"
   ]
  },
  {
   "cell_type": "code",
   "execution_count": null,
   "id": "9c3b9c51",
   "metadata": {},
   "outputs": [],
   "source": [
    "snd_times = []\n",
    "filenames = []\n",
    "for filename in os.listdir('/rasmussen-scratch/mrocque/research/relampago/CACTI_ARM_soundings/netcdf/'):\n",
    "    filenames.append(filename)\n",
    "    str2 = (filename[18:33])\n",
    "    snd_times.append(datetime.strptime(str2, '%Y%m%d.%H%M%S'))\n"
   ]
  },
  {
   "cell_type": "code",
   "execution_count": null,
   "id": "a81b450a",
   "metadata": {},
   "outputs": [],
   "source": [
    "filenames.sort()\n",
    "snd_times.sort()"
   ]
  },
  {
   "cell_type": "code",
   "execution_count": null,
   "id": "88e226c1",
   "metadata": {},
   "outputs": [],
   "source": [
    "print (snd_times)"
   ]
  },
  {
   "cell_type": "code",
   "execution_count": null,
   "id": "fef9ce2a",
   "metadata": {},
   "outputs": [],
   "source": [
    "#str1 = radarfile[63:78]\n",
    "str1 = radarfile[88:103]\n",
    "print (str1)\n",
    "\n",
    "#closest = difflib.get_close_matches(str1, snd_times, 1)\n",
    "#print (snd_times.index(closest[0]))"
   ]
  },
  {
   "cell_type": "code",
   "execution_count": null,
   "id": "2ebaa181",
   "metadata": {
    "scrolled": true
   },
   "outputs": [],
   "source": [
    "dt_obj = datetime.strptime(str1, '%Y%m%d.%H%M%S')\n",
    "\n",
    "res = min(snd_times, key=lambda sub: abs(sub - dt_obj))\n"
   ]
  },
  {
   "cell_type": "code",
   "execution_count": null,
   "id": "fbe0d757",
   "metadata": {},
   "outputs": [],
   "source": [
    "print (dt_obj)"
   ]
  },
  {
   "cell_type": "code",
   "execution_count": null,
   "id": "2e7bc811",
   "metadata": {},
   "outputs": [],
   "source": [
    "print (res)\n",
    "print (snd_times.index(res))"
   ]
  },
  {
   "cell_type": "code",
   "execution_count": null,
   "id": "dcbe1224",
   "metadata": {},
   "outputs": [],
   "source": [
    "print (filenames[339])"
   ]
  },
  {
   "cell_type": "code",
   "execution_count": null,
   "id": "26004cff",
   "metadata": {},
   "outputs": [],
   "source": [
    "#584\n",
    "#707\n",
    "\n",
    "print (filenames[340])"
   ]
  },
  {
   "cell_type": "code",
   "execution_count": null,
   "id": "68323d21",
   "metadata": {},
   "outputs": [],
   "source": [
    "sndfile = '/rasmussen-scratch/mrocque/research/relampago/CACTI_ARM_soundings/netcdf/corsondewnpnM1.b1.20181214.000000.custom.cdf'\n",
    "\n",
    "data = Dataset(sndfile, 'r')\n",
    "print (data.variables.keys())\n",
    "temp = np.array(data.variables['tdry'])\n",
    "hght = np.array(data.variables['alt'])"
   ]
  },
  {
   "cell_type": "code",
   "execution_count": null,
   "id": "2ea77092",
   "metadata": {},
   "outputs": [],
   "source": [
    "print (data.variables['base_time'])"
   ]
  },
  {
   "cell_type": "code",
   "execution_count": null,
   "id": "f54599cd",
   "metadata": {},
   "outputs": [],
   "source": [
    "def radar_coords_to_cart(rng, az, ele, debug=False):\n",
    "    \"\"\"\n",
    "    TJL - taken from old Py-ART version\n",
    "    Calculate Cartesian coordinate from radar coordinates\n",
    "    Parameters\n",
    "    ----------\n",
    "    rng : array\n",
    "        Distances to the center of the radar gates (bins) in kilometers.\n",
    "    az : array\n",
    "        Azimuth angle of the radar in degrees.\n",
    "    ele : array\n",
    "        Elevation angle of the radar in degrees.\n",
    "    Returns\n",
    "    -------\n",
    "    x, y, z : array\n",
    "        Cartesian coordinates in meters from the radar.\n",
    "    Notes\n",
    "    -----\n",
    "    The calculation for Cartesian coordinate is adapted from equations\n",
    "    2.28(b) and 2.28(c) of Doviak and Zrnic [1]_ assuming a\n",
    "    standard atmosphere (4/3 Earth's radius model).\n",
    "    .. math::\n",
    "        z = \\\\sqrt{r^2+R^2+r*R*sin(\\\\theta_e)} - R\n",
    "        s = R * arcsin(\\\\frac{r*cos(\\\\theta_e)}{R+z})\n",
    "        x = s * sin(\\\\theta_a)\n",
    "        y = s * cos(\\\\theta_a)\n",
    "    Where r is the distance from the radar to the center of the gate,\n",
    "    :math:\\\\theta_a is the azimuth angle, :math:\\\\theta_e is the\n",
    "    elevation angle, s is the arc length, and R is the effective radius\n",
    "    of the earth, taken to be 4/3 the mean radius of earth (6371 km).\n",
    "    References\n",
    "    ----------\n",
    "    .. [1] Doviak and Zrnic, Doppler Radar and Weather Observations, Second\n",
    "        Edition, 1993, p. 21.\n",
    "    \"\"\"\n",
    "    theta_e = ele * np.pi / 180.0  # elevation angle in radians.\n",
    "    theta_a = az * np.pi / 180.0  # azimuth angle in radians.\n",
    "    R = 6371.0 * 1000.0 * 4.0 / 3.0  # effective radius of earth in meters.\n",
    "    r = rng * 1000.0  # distances to gates in meters.\n",
    "\n",
    "    z = (r ** 2 + R ** 2 + 2.0 * r * R * np.sin(theta_e)) ** 0.5 - R\n",
    "    s = R * np.arcsin(r * np.cos(theta_e) / (R + z))  # arc length in m.\n",
    "    x = s * np.sin(theta_a)\n",
    "    y = s * np.cos(theta_a)\n",
    "    return x, y, z\n",
    "\n",
    "\n",
    "def get_z_from_radar(radar):\n",
    "    \"\"\"Input radar object, return z from radar (km, 2D)\"\"\"\n",
    "    azimuth_1D = radar.azimuth['data']\n",
    "    elevation_1D = radar.elevation['data']\n",
    "    srange_1D = radar.range['data']\n",
    "    sr_2d, az_2d = np.meshgrid(srange_1D, azimuth_1D)\n",
    "    el_2d = np.meshgrid(srange_1D, elevation_1D)[1]\n",
    "    xx, yy, zz = radar_coords_to_cart(sr_2d/1000.0, az_2d, el_2d)\n",
    "    return zz + radar.altitude['data']\n",
    "\n",
    "def check_sounding_for_montonic(sounding):\n",
    "    \"\"\"\n",
    "    So the sounding interpolation doesn't fail, force the sounding to behave\n",
    "    monotonically so that z always increases. This eliminates data from\n",
    "    descending balloons.\n",
    "    \"\"\"\n",
    "    snd_T = np.array(sounding.variables['tdry'])\n",
    "    snd_z = np.array(sounding.variables['alt'])\n",
    "    \n",
    "    #snd_T = sounding.soundingdata['temp']  # In old SkewT, was sounding.data\n",
    "    #snd_z = sounding.soundingdata['hght']  # In old SkewT, was sounding.data\n",
    "    dummy_z = []\n",
    "    dummy_T = []\n",
    "    #if not snd_T.mask[0]: #May cause issue for specific soundings\n",
    "    dummy_z.append(snd_z[0])\n",
    "    dummy_T.append(snd_T[0])\n",
    "    for i, height in enumerate(snd_z):\n",
    "        if i > 0:\n",
    "            if snd_z[i] > snd_z[i-1]:# and not snd_T.mask[i]:\n",
    "                dummy_z.append(snd_z[i])\n",
    "                dummy_T.append(snd_T[i])\n",
    "    snd_z = np.array(dummy_z)\n",
    "    snd_T = np.array(dummy_T)\n",
    "    return snd_T, snd_z\n",
    "\n",
    "\n",
    "def interpolate_sounding_to_radar(sounding, radar):\n",
    "    \"\"\"Takes sounding data and interpolates it to every radar gate.\"\"\"\n",
    "    radar_z = get_z_from_radar(radar)\n",
    "    radar_T = None\n",
    "    snd_T, snd_z = check_sounding_for_montonic(sounding)\n",
    "    shape = np.shape(radar_z)\n",
    "    rad_z1d = radar_z.ravel()\n",
    "    rad_T1d = np.interp(rad_z1d, snd_z, snd_T)\n",
    "    return np.reshape(rad_T1d, shape), radar_z\n"
   ]
  },
  {
   "cell_type": "code",
   "execution_count": null,
   "id": "bf55146d",
   "metadata": {
    "scrolled": true
   },
   "outputs": [],
   "source": [
    "radar_T, radar_z = interpolate_sounding_to_radar(data, radar)"
   ]
  },
  {
   "cell_type": "code",
   "execution_count": null,
   "id": "c169df08",
   "metadata": {
    "scrolled": true
   },
   "outputs": [],
   "source": [
    "scores = csu_fhc.csu_fhc_summer(dz=dz, zdr=dr, rho=rh, kdp=kd, use_temp=True, band='C',\n",
    "                                T=radar_T, method='hybrid')#, use_trap=True)\n",
    "\n",
    "fh = np.argmax(scores, axis=0) + 1"
   ]
  },
  {
   "cell_type": "code",
   "execution_count": null,
   "id": "c23f5bf5",
   "metadata": {},
   "outputs": [],
   "source": [
    "def add_field_to_radar_object(field, radar, field_name='HID_hyb', units='unitless', \n",
    "                              long_name='Hydrometeor ID', standard_name='Hydrometeor ID',\n",
    "                              dz_field='DZ_qc'):\n",
    "    \"\"\"\n",
    "    Adds a newly created field to the Py-ART radar object. If reflectivity is a masked array,\n",
    "    make the new field masked the same as reflectivity.\n",
    "    \"\"\"\n",
    "    fill_value = -32768\n",
    "    masked_field = np.ma.asanyarray(field)\n",
    "    masked_field.mask = masked_field == fill_value\n",
    "    if hasattr(radar.fields[dz_field]['data'], 'mask'):\n",
    "        setattr(masked_field, 'mask', \n",
    "                np.logical_or(masked_field.mask, radar.fields[dz_field]['data'].mask))\n",
    "        fill_value = radar.fields[dz_field]['_FillValue']\n",
    "    field_dict = {'data': masked_field,\n",
    "                  'units': units,\n",
    "                  'long_name': long_name,\n",
    "                  'standard_name': standard_name,\n",
    "                  '_FillValue': fill_value}\n",
    "    radar.add_field(field_name, field_dict, replace_existing=True)\n",
    "    return radar"
   ]
  },
  {
   "cell_type": "code",
   "execution_count": null,
   "id": "7ca6e887",
   "metadata": {},
   "outputs": [],
   "source": [
    "radar = add_field_to_radar_object(fh, radar)\n"
   ]
  },
  {
   "cell_type": "code",
   "execution_count": null,
   "id": "e8046597",
   "metadata": {},
   "outputs": [],
   "source": [
    "hid_colors = ['White', 'LightBlue', 'MediumBlue', 'DarkOrange', 'LightPink',\n",
    "              'Cyan', 'DarkGray', 'Lime', 'Yellow', 'Red', 'Fuchsia']\n",
    "cmaphid = colors.ListedColormap(hid_colors)\n",
    "cmapmeth = colors.ListedColormap(hid_colors[0:6])\n",
    "cmapmeth_trop = colors.ListedColormap(hid_colors[0:7])\n",
    "\n",
    "def adjust_fhc_colorbar_for_pyart(cb):\n",
    "    cb.set_ticks(np.arange(1.4, 10, 0.9))\n",
    "    cb.ax.set_yticklabels(['Drizzle', 'Rain', 'Ice Crystals', 'Aggregates',\n",
    "                           'Wet Snow', 'Vertical Ice', 'LD Graupel',\n",
    "                           'HD Graupel', 'Hail', 'Big Drops'])\n",
    "    cb.ax.set_ylabel('')\n",
    "    cb.ax.tick_params(length=0)\n",
    "    return cb\n",
    "\n",
    "def adjust_meth_colorbar_for_pyart(cb, tropical=False):\n",
    "    if not tropical:\n",
    "        cb.set_ticks(np.arange(1.25, 5, 0.833))\n",
    "        cb.ax.set_yticklabels(['R(Kdp, Zdr)', 'R(Kdp)', 'R(Z, Zdr)', 'R(Z)', 'R(Zrain)'])\n",
    "    else:\n",
    "        cb.set_ticks(np.arange(1.3, 6, 0.85))\n",
    "        cb.ax.set_yticklabels(['R(Kdp, Zdr)', 'R(Kdp)', 'R(Z, Zdr)', 'R(Z_all)', 'R(Z_c)', 'R(Z_s)'])\n",
    "    cb.ax.set_ylabel('')\n",
    "    cb.ax.tick_params(length=0)\n",
    "    return cb"
   ]
  },
  {
   "cell_type": "code",
   "execution_count": null,
   "id": "815c32c1",
   "metadata": {},
   "outputs": [],
   "source": [
    "# Actual plotting done here\n",
    "lim = [0, 100]\n",
    "lim2 = [0, 20]\n",
    "fig, ax1, ax2, display = two_panel_plot(\n",
    "    radar, sweep=3, var1='DZ_qc', vmin1=0, vmax1=70, var2='HID_hyb', vmin2=0, vmax2=10,\n",
    "    cmap2=cmaphid, units2='', return_flag=True, xlim=lim, ylim=lim2)\n",
    "display.cbs[1] = adjust_fhc_colorbar_for_pyart(display.cbs[1])\n",
    "\n",
    "#plt.savefig('caspr2_20181214_030715_30rhi_hid_hyb.png', dpi=400, bbox_inches='tight')"
   ]
  },
  {
   "cell_type": "code",
   "execution_count": null,
   "id": "b48bc859",
   "metadata": {},
   "outputs": [],
   "source": [
    "plt.plot(temp, hght)\n",
    "plt.xlim(-10, 10)"
   ]
  },
  {
   "cell_type": "code",
   "execution_count": null,
   "id": "a4eefdc9",
   "metadata": {},
   "outputs": [],
   "source": []
  }
 ],
 "metadata": {
  "kernelspec": {
   "display_name": "Python 3 (ipykernel)",
   "language": "python",
   "name": "python3"
  },
  "language_info": {
   "codemirror_mode": {
    "name": "ipython",
    "version": 3
   },
   "file_extension": ".py",
   "mimetype": "text/x-python",
   "name": "python",
   "nbconvert_exporter": "python",
   "pygments_lexer": "ipython3",
   "version": "3.8.13"
  }
 },
 "nbformat": 4,
 "nbformat_minor": 5
}
