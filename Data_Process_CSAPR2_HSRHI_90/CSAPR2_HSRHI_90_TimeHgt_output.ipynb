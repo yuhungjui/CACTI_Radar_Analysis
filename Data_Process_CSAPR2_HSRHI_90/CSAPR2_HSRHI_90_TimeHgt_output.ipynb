{
 "cells": [
  {
   "cell_type": "markdown",
   "id": "6b04ab35",
   "metadata": {},
   "source": [
    "## CACTI Radars Data Process: CSAPR2 HSRHI 90º-angle retrieval:\n",
    "\n",
    "* For vertical motion (W) profile evolution, retrieve the ~90º angle of radial velocity from CSAPR2 HSRHI scans during the CACTI/RELAMPAGO campaign, and output them into a Time-Height dataset.\n",
    "\n",
    "**Hungjui Yu 20220915**"
   ]
  },
  {
   "cell_type": "markdown",
   "id": "237db2c8",
   "metadata": {},
   "source": [
    "***\n",
    "***\n",
    "## <font color='dodgerblue'>**Supplement Codes from Marqi:**</font>"
   ]
  },
  {
   "cell_type": "code",
   "execution_count": 1,
   "id": "25cf4638",
   "metadata": {},
   "outputs": [
    {
     "name": "stdout",
     "output_type": "stream",
     "text": [
      "\n",
      "## You are using the Python ARM Radar Toolkit (Py-ART), an open source\n",
      "## library for working with weather radar data. Py-ART is partly\n",
      "## supported by the U.S. Department of Energy as part of the Atmospheric\n",
      "## Radiation Measurement (ARM) Climate Research Facility, an Office of\n",
      "## Science user facility.\n",
      "##\n",
      "## If you use this software to prepare a publication, please cite:\n",
      "##\n",
      "##     JJ Helmus and SM Collis, JORS 2016, doi: 10.5334/jors.119\n",
      "\n"
     ]
    },
    {
     "name": "stderr",
     "output_type": "stream",
     "text": [
      "/usr/local/anaconda3/lib/python3.8/site-packages/h5py/__init__.py:46: DeprecationWarning: `np.typeDict` is a deprecated alias for `np.sctypeDict`.\n",
      "  from ._conv import register_converters as _register_converters\n"
     ]
    }
   ],
   "source": [
    "import numpy as np\n",
    "import matplotlib.pyplot as plt\n",
    "from netCDF4 import Dataset\n",
    "from astropy.convolution import convolve, Gaussian2DKernel\n",
    "import pyart\n",
    "from csu_radartools import (csu_fhc, csu_liquid_ice_mass, csu_blended_rain, \n",
    "                            csu_dsd, csu_kdp, csu_misc, fundamentals)\n",
    "import csu_radartools\n",
    "import matplotlib.colors as colors\n",
    "import difflib\n",
    "import os\n",
    "from datetime import datetime\n",
    "import time\n"
   ]
  },
  {
   "cell_type": "code",
   "execution_count": 3,
   "id": "cfdb6269",
   "metadata": {},
   "outputs": [
    {
     "name": "stderr",
     "output_type": "stream",
     "text": [
      "/usr/local/anaconda3/lib/python3.8/site-packages/ipykernel/ipkernel.py:287: DeprecationWarning: `should_run_async` will not call `transform_cell` automatically in the future. Please pass the result to `transformed_cell` argument and any exception that happen during thetransform in `preprocessing_exc_tuple` in IPython 7.17 and above.\n",
      "  and should_run_async(code)\n"
     ]
    }
   ],
   "source": [
    "def two_panel_plot_csrhi(radar, sweep=0, var1='reflectivity', vmin1=0, vmax1=70,\n",
    "                   cmap1='pyart_HomeyerRainbow', units1='dBZ', var2='differential_reflectivity',\n",
    "                   vmin2=-5, vmax2=5, cmap2='RdYlBu_r', units2='ms-1', return_flag=True,\n",
    "                   xlim=[-0.5,0.5], ylim=[0,20]):\n",
    "    \n",
    "    display = pyart.graph.RadarDisplay(radar)\n",
    "    fig = plt.figure(figsize=(18,5))\n",
    "    fig.patch.set_facecolor('xkcd:white')\n",
    "    ax1 = fig.add_subplot(121)\n",
    "    display.plot_rhi(var1, sweep=sweep, vmin=vmin1, vmax=vmax1, cmap=cmap1, \n",
    "                     colorbar_label=units1, mask_outside=True, title_flag=True)\n",
    "    display.set_limits(xlim=xlim, ylim=ylim)\n",
    "    ax2 = fig.add_subplot(122)\n",
    "    display.plot_rhi(var2, sweep=sweep, vmin=vmin2, vmax=vmax2, cmap=cmap2, \n",
    "                     colorbar_label=units2, mask_outside=True, title_flag=True)\n",
    "    display.set_limits(xlim=xlim, ylim=ylim)\n",
    "    #plt.savefig('csapr2_20181214_0237_hsrhi30_regvel_10ints.png', dpi=400, bbox_inches='tight')\n",
    "    \n",
    "    if return_flag:\n",
    "        return fig, ax1, ax2, display"
   ]
  },
  {
   "cell_type": "code",
   "execution_count": 4,
   "id": "fa6eb4f3",
   "metadata": {},
   "outputs": [
    {
     "name": "stderr",
     "output_type": "stream",
     "text": [
      "/usr/local/anaconda3/lib/python3.8/site-packages/ipykernel/ipkernel.py:287: DeprecationWarning: `should_run_async` will not call `transform_cell` automatically in the future. Please pass the result to `transformed_cell` argument and any exception that happen during thetransform in `preprocessing_exc_tuple` in IPython 7.17 and above.\n",
      "  and should_run_async(code)\n"
     ]
    },
    {
     "data": {
      "text/plain": [
       "16.492000579833984"
      ]
     },
     "execution_count": 4,
     "metadata": {},
     "output_type": "execute_result"
    }
   ],
   "source": [
    "#read in pyart data\n",
    "csrhi = '/rasmussen-scratch/mrocque/research/relampago/csapr2_qc/hsrhi/20181214/corcsapr2cfrhsrhiqcM1.b1.20181214.015600.csuqc.nc'\n",
    "\n",
    "radar = pyart.io.read(csrhi)\n",
    "radar.get_nyquist_vel(0) #get nyquist at the first sweep just to make sure nothing is weird"
   ]
  },
  {
   "cell_type": "code",
   "execution_count": 8,
   "id": "06783c29",
   "metadata": {
    "scrolled": true
   },
   "outputs": [
    {
     "name": "stderr",
     "output_type": "stream",
     "text": [
      "/usr/local/anaconda3/lib/python3.8/site-packages/ipykernel/ipkernel.py:287: DeprecationWarning: `should_run_async` will not call `transform_cell` automatically in the future. Please pass the result to `transformed_cell` argument and any exception that happen during thetransform in `preprocessing_exc_tuple` in IPython 7.17 and above.\n",
      "  and should_run_async(code)\n"
     ]
    }
   ],
   "source": [
    "time = (radar.time['data'])\n"
   ]
  },
  {
   "cell_type": "code",
   "execution_count": 10,
   "id": "5b48a959",
   "metadata": {},
   "outputs": [
    {
     "name": "stdout",
     "output_type": "stream",
     "text": [
      "(2204,)\n"
     ]
    },
    {
     "name": "stderr",
     "output_type": "stream",
     "text": [
      "/usr/local/anaconda3/lib/python3.8/site-packages/ipykernel/ipkernel.py:287: DeprecationWarning: `should_run_async` will not call `transform_cell` automatically in the future. Please pass the result to `transformed_cell` argument and any exception that happen during thetransform in `preprocessing_exc_tuple` in IPython 7.17 and above.\n",
      "  and should_run_async(code)\n"
     ]
    }
   ],
   "source": [
    "print (np.shape(time))"
   ]
  },
  {
   "cell_type": "code",
   "execution_count": null,
   "id": "96d64e55",
   "metadata": {},
   "outputs": [],
   "source": []
  },
  {
   "cell_type": "code",
   "execution_count": null,
   "id": "55ea3f66",
   "metadata": {},
   "outputs": [],
   "source": []
  },
  {
   "cell_type": "code",
   "execution_count": 4,
   "id": "253ab956",
   "metadata": {
    "scrolled": false
   },
   "outputs": [
    {
     "name": "stderr",
     "output_type": "stream",
     "text": [
      "/usr/local/anaconda3/lib/python3.8/site-packages/ipykernel/ipkernel.py:287: DeprecationWarning: `should_run_async` will not call `transform_cell` automatically in the future. Please pass the result to `transformed_cell` argument and any exception that happen during thetransform in `preprocessing_exc_tuple` in IPython 7.17 and above.\n",
      "  and should_run_async(code)\n"
     ]
    },
    {
     "data": {
      "text/plain": [
       "(<Figure size 1296x360 with 4 Axes>,\n",
       " <AxesSubplot:title={'center':'CSAPR2 0.0 Deg. 2018-12-14T01:56:00Z \\nDZ (QCed)'}, xlabel='Distance from radar (km)', ylabel='Distance Above radar  (km)'>,\n",
       " <AxesSubplot:title={'center':'CSAPR2 0.0 Deg. 2018-12-14T01:56:00Z \\nVR (QCed)'}, xlabel='Distance from radar (km)', ylabel='Distance Above radar  (km)'>,\n",
       " <pyart.graph.radardisplay.RadarDisplay at 0x7fa046f3f280>)"
      ]
     },
     "execution_count": 4,
     "metadata": {},
     "output_type": "execute_result"
    },
    {
     "data": {
      "image/png": "[encoded data removed]",
      "text/plain": [
       "<Figure size 1296x360 with 4 Axes>"
      ]
     },
     "metadata": {},
     "output_type": "display_data"
    }
   ],
   "source": [
    "two_panel_plot_csrhi(radar, 0, var1='DZ_qc', vmin1=0, vmax1=70, cmap1='pyart_HomeyerRainbow', var2='VR_qc', vmin2=-20, \n",
    "               vmax2=20, cmap2='seismic')"
   ]
  },
  {
   "cell_type": "code",
   "execution_count": 5,
   "id": "0e36f1b6",
   "metadata": {},
   "outputs": [
    {
     "name": "stderr",
     "output_type": "stream",
     "text": [
      "/usr/local/anaconda3/lib/python3.8/site-packages/ipykernel/ipkernel.py:287: DeprecationWarning: `should_run_async` will not call `transform_cell` automatically in the future. Please pass the result to `transformed_cell` argument and any exception that happen during thetransform in `preprocessing_exc_tuple` in IPython 7.17 and above.\n",
      "  and should_run_async(code)\n"
     ]
    }
   ],
   "source": [
    "#automatic dealias\n",
    "velqc = pyart.correct.dealias_region_based(radar, vel_field='VR_qc', interval_splits=5)#, nyquist_vel=26.65)\n",
    "\n",
    "\n",
    "field_dict = {'data':velqc['data'],'units':'ms-1', 'long_name':'velocity region-based5',\n",
    "              'standard_name':'Velocity (QCed + reg5)', \n",
    "              '_FillValue':'-32768'}\n",
    "\n",
    "radar.add_field('VR_qc2_reg5', field_dict, replace_existing=True)"
   ]
  },
  {
   "cell_type": "code",
   "execution_count": null,
   "id": "eda47e3d",
   "metadata": {},
   "outputs": [],
   "source": [
    "two_panel_plot_csrhi(radar, 0, var1='DZ_qc', vmin1=0, vmax1=70, cmap1='pyart_HomeyerRainbow', var2='VR_qc2_reg5', vmin2=-25, \n",
    "               vmax2=25, cmap2='seismic')"
   ]
  },
  {
   "cell_type": "code",
   "execution_count": null,
   "id": "73791584",
   "metadata": {},
   "outputs": [],
   "source": [
    "#function to write out new file\n",
    "\n",
    "#pyart.io.write_cfradial(outdir+new_file, radar)\n"
   ]
  },
  {
   "cell_type": "code",
   "execution_count": 6,
   "id": "3408baf7",
   "metadata": {
    "scrolled": true
   },
   "outputs": [
    {
     "name": "stderr",
     "output_type": "stream",
     "text": [
      "/usr/local/anaconda3/lib/python3.8/site-packages/ipykernel/ipkernel.py:287: DeprecationWarning: `should_run_async` will not call `transform_cell` automatically in the future. Please pass the result to `transformed_cell` argument and any exception that happen during thetransform in `preprocessing_exc_tuple` in IPython 7.17 and above.\n",
      "  and should_run_async(code)\n"
     ]
    }
   ],
   "source": [
    "elevs = radar.get_elevation(0)\n",
    "azs = radar.get_azimuth(0)"
   ]
  },
  {
   "cell_type": "code",
   "execution_count": null,
   "id": "b3a26862",
   "metadata": {
    "scrolled": true
   },
   "outputs": [],
   "source": [
    "print (elevs[175])"
   ]
  },
  {
   "cell_type": "code",
   "execution_count": 13,
   "id": "e8dc8f70",
   "metadata": {
    "scrolled": true
   },
   "outputs": [
    {
     "name": "stderr",
     "output_type": "stream",
     "text": [
      "/usr/local/anaconda3/lib/python3.8/site-packages/ipykernel/ipkernel.py:287: DeprecationWarning: `should_run_async` will not call `transform_cell` automatically in the future. Please pass the result to `transformed_cell` argument and any exception that happen during thetransform in `preprocessing_exc_tuple` in IPython 7.17 and above.\n",
      "  and should_run_async(code)\n"
     ]
    }
   ],
   "source": [
    "vel = radar.fields['VR_qc']['data']\n",
    "\n",
    "\n",
    "#vel0 = radar0.fields['VR_qc']['data']"
   ]
  },
  {
   "cell_type": "code",
   "execution_count": 17,
   "id": "02dfb2b2",
   "metadata": {},
   "outputs": [
    {
     "name": "stdout",
     "output_type": "stream",
     "text": [
      "{'_FillValue': -32768.0, 'long_name': 'Velocity (QCed)', 'units': 'm/s', 'standard_name': 'VR (QCed)', 'data': masked_array(\n",
      "  data=[[--, --, --, ..., --, --, --],\n",
      "        [--, --, --, ..., --, --, --],\n",
      "        [--, --, --, ..., --, --, --],\n",
      "        ...,\n",
      "        [--, --, 5.0356292724609375, ..., -3.8931126594543457, --, --],\n",
      "        [--, --, --, ..., --, --, --],\n",
      "        [--, --, --, ..., --, --, --]],\n",
      "  mask=[[ True,  True,  True, ...,  True,  True,  True],\n",
      "        [ True,  True,  True, ...,  True,  True,  True],\n",
      "        [ True,  True,  True, ...,  True,  True,  True],\n",
      "        ...,\n",
      "        [ True,  True, False, ..., False,  True,  True],\n",
      "        [ True,  True,  True, ...,  True,  True,  True],\n",
      "        [ True,  True,  True, ...,  True,  True,  True]],\n",
      "  fill_value=-32768.0,\n",
      "  dtype=float32)}\n"
     ]
    },
    {
     "name": "stderr",
     "output_type": "stream",
     "text": [
      "/usr/local/anaconda3/lib/python3.8/site-packages/ipykernel/ipkernel.py:287: DeprecationWarning: `should_run_async` will not call `transform_cell` automatically in the future. Please pass the result to `transformed_cell` argument and any exception that happen during thetransform in `preprocessing_exc_tuple` in IPython 7.17 and above.\n",
      "  and should_run_async(code)\n"
     ]
    }
   ],
   "source": [
    "print (radar.fields['VR_qc'])"
   ]
  },
  {
   "cell_type": "code",
   "execution_count": null,
   "id": "7cd5420a",
   "metadata": {},
   "outputs": [],
   "source": []
  },
  {
   "cell_type": "code",
   "execution_count": 16,
   "id": "898fae75",
   "metadata": {},
   "outputs": [
    {
     "name": "stdout",
     "output_type": "stream",
     "text": [
      "[6960.       6960.082999 6960.165999 6960.249    6960.332    6960.414999\n",
      " 6960.497999 6960.582    6960.664999 6960.747999]\n"
     ]
    },
    {
     "name": "stderr",
     "output_type": "stream",
     "text": [
      "/usr/local/anaconda3/lib/python3.8/site-packages/ipykernel/ipkernel.py:287: DeprecationWarning: `should_run_async` will not call `transform_cell` automatically in the future. Please pass the result to `transformed_cell` argument and any exception that happen during thetransform in `preprocessing_exc_tuple` in IPython 7.17 and above.\n",
      "  and should_run_async(code)\n"
     ]
    }
   ],
   "source": [
    "print (radar.time['data'][0:10])"
   ]
  },
  {
   "cell_type": "code",
   "execution_count": 14,
   "id": "82ac49dd",
   "metadata": {},
   "outputs": [
    {
     "name": "stdout",
     "output_type": "stream",
     "text": [
      "(2204, 1100)\n"
     ]
    },
    {
     "name": "stderr",
     "output_type": "stream",
     "text": [
      "/usr/local/anaconda3/lib/python3.8/site-packages/ipykernel/ipkernel.py:287: DeprecationWarning: `should_run_async` will not call `transform_cell` automatically in the future. Please pass the result to `transformed_cell` argument and any exception that happen during thetransform in `preprocessing_exc_tuple` in IPython 7.17 and above.\n",
      "  and should_run_async(code)\n"
     ]
    }
   ],
   "source": [
    "print (np.shape(vel))"
   ]
  },
  {
   "cell_type": "code",
   "execution_count": 7,
   "id": "22d5cd16",
   "metadata": {
    "scrolled": true
   },
   "outputs": [
    {
     "name": "stderr",
     "output_type": "stream",
     "text": [
      "/usr/local/anaconda3/lib/python3.8/site-packages/ipykernel/ipkernel.py:287: DeprecationWarning: `should_run_async` will not call `transform_cell` automatically in the future. Please pass the result to `transformed_cell` argument and any exception that happen during thetransform in `preprocessing_exc_tuple` in IPython 7.17 and above.\n",
      "  and should_run_async(code)\n"
     ]
    }
   ],
   "source": [
    "vel0 = radar.get_field(0, 'VR_qc')[180,:]\n",
    "vel1 = radar.get_field(0, 'VR_qc')[179,:]\n",
    "vel2 = radar.get_field(0, 'VR_qc')[181,:]\n",
    "vel3 = radar.get_field(0, 'VR_qc')[182,:]\n",
    "vel4 = radar.get_field(0, 'VR_qc')[178,:]"
   ]
  },
  {
   "cell_type": "code",
   "execution_count": null,
   "id": "a7e3b256",
   "metadata": {},
   "outputs": [],
   "source": []
  },
  {
   "cell_type": "code",
   "execution_count": 18,
   "id": "cc16ebc4",
   "metadata": {},
   "outputs": [
    {
     "name": "stderr",
     "output_type": "stream",
     "text": [
      "/usr/local/anaconda3/lib/python3.8/site-packages/ipykernel/ipkernel.py:287: DeprecationWarning: `should_run_async` will not call `transform_cell` automatically in the future. Please pass the result to `transformed_cell` argument and any exception that happen during thetransform in `preprocessing_exc_tuple` in IPython 7.17 and above.\n",
      "  and should_run_async(code)\n"
     ]
    }
   ],
   "source": [
    "vels = radar.get_field(0, 'VR_qc')[:,:]"
   ]
  },
  {
   "cell_type": "code",
   "execution_count": 28,
   "id": "df4f8638",
   "metadata": {},
   "outputs": [
    {
     "name": "stdout",
     "output_type": "stream",
     "text": [
      "[6989.736999 6994.720999]\n"
     ]
    },
    {
     "name": "stderr",
     "output_type": "stream",
     "text": [
      "/usr/local/anaconda3/lib/python3.8/site-packages/ipykernel/ipkernel.py:287: DeprecationWarning: `should_run_async` will not call `transform_cell` automatically in the future. Please pass the result to `transformed_cell` argument and any exception that happen during thetransform in `preprocessing_exc_tuple` in IPython 7.17 and above.\n",
      "  and should_run_async(code)\n"
     ]
    }
   ],
   "source": [
    "print (radar.time['data'][358:360])"
   ]
  },
  {
   "cell_type": "code",
   "execution_count": 37,
   "id": "dfbf293c",
   "metadata": {},
   "outputs": [
    {
     "name": "stdout",
     "output_type": "stream",
     "text": [
      "29.90400099999988\n"
     ]
    },
    {
     "name": "stderr",
     "output_type": "stream",
     "text": [
      "/usr/local/anaconda3/lib/python3.8/site-packages/ipykernel/ipkernel.py:287: DeprecationWarning: `should_run_async` will not call `transform_cell` automatically in the future. Please pass the result to `transformed_cell` argument and any exception that happen during thetransform in `preprocessing_exc_tuple` in IPython 7.17 and above.\n",
      "  and should_run_async(code)\n"
     ]
    }
   ],
   "source": [
    "t = 359\n",
    "t1 = t + 360\n",
    "\n",
    "print (radar.time['data'][t1]- radar.time['data'][t])"
   ]
  },
  {
   "cell_type": "code",
   "execution_count": 19,
   "id": "9aaf0200",
   "metadata": {},
   "outputs": [
    {
     "name": "stdout",
     "output_type": "stream",
     "text": [
      "(359, 1100)\n"
     ]
    },
    {
     "name": "stderr",
     "output_type": "stream",
     "text": [
      "/usr/local/anaconda3/lib/python3.8/site-packages/ipykernel/ipkernel.py:287: DeprecationWarning: `should_run_async` will not call `transform_cell` automatically in the future. Please pass the result to `transformed_cell` argument and any exception that happen during thetransform in `preprocessing_exc_tuple` in IPython 7.17 and above.\n",
      "  and should_run_async(code)\n"
     ]
    }
   ],
   "source": [
    "print (np.shape(vels))"
   ]
  },
  {
   "cell_type": "code",
   "execution_count": 16,
   "id": "1ebb3337",
   "metadata": {
    "scrolled": false
   },
   "outputs": [
    {
     "name": "stdout",
     "output_type": "stream",
     "text": [
      "<class 'numpy.ndarray'>\n"
     ]
    },
    {
     "name": "stderr",
     "output_type": "stream",
     "text": [
      "/usr/local/anaconda3/lib/python3.8/site-packages/ipykernel/ipkernel.py:287: DeprecationWarning: `should_run_async` will not call `transform_cell` automatically in the future. Please pass the result to `transformed_cell` argument and any exception that happen during thetransform in `preprocessing_exc_tuple` in IPython 7.17 and above.\n",
      "  and should_run_async(code)\n"
     ]
    }
   ],
   "source": [
    "vals = np.array(radar.get_gate_x_y_z(1))\n",
    "print (type(vals))\n",
    "\n",
    "\n",
    "z = (vals[2,180,:])/1000"
   ]
  },
  {
   "cell_type": "code",
   "execution_count": 20,
   "id": "4be38060",
   "metadata": {},
   "outputs": [
    {
     "name": "stdout",
     "output_type": "stream",
     "text": [
      "[-0.000000e+00 -6.019965e+00 -1.203979e+01 ... -6.520383e+03 -6.526251e+03\n",
      " -6.532120e+03]\n"
     ]
    },
    {
     "name": "stderr",
     "output_type": "stream",
     "text": [
      "/usr/local/anaconda3/lib/python3.8/site-packages/ipykernel/ipkernel.py:287: DeprecationWarning: `should_run_async` will not call `transform_cell` automatically in the future. Please pass the result to `transformed_cell` argument and any exception that happen during thetransform in `preprocessing_exc_tuple` in IPython 7.17 and above.\n",
      "  and should_run_async(code)\n"
     ]
    }
   ],
   "source": [
    "x = (vals[0,180,:])\n",
    "print (x)"
   ]
  },
  {
   "cell_type": "code",
   "execution_count": 18,
   "id": "effa8596",
   "metadata": {},
   "outputs": [
    {
     "name": "stdout",
     "output_type": "stream",
     "text": [
      "(3, 375, 1100)\n"
     ]
    },
    {
     "name": "stderr",
     "output_type": "stream",
     "text": [
      "/usr/local/anaconda3/lib/python3.8/site-packages/ipykernel/ipkernel.py:287: DeprecationWarning: `should_run_async` will not call `transform_cell` automatically in the future. Please pass the result to `transformed_cell` argument and any exception that happen during thetransform in `preprocessing_exc_tuple` in IPython 7.17 and above.\n",
      "  and should_run_async(code)\n"
     ]
    }
   ],
   "source": [
    "print (np.shape(vals))"
   ]
  },
  {
   "cell_type": "code",
   "execution_count": null,
   "id": "70af65dc",
   "metadata": {},
   "outputs": [],
   "source": [
    "print (vals[2,180,0:20])"
   ]
  },
  {
   "cell_type": "code",
   "execution_count": 15,
   "id": "7d42536e",
   "metadata": {
    "scrolled": false
   },
   "outputs": [
    {
     "name": "stderr",
     "output_type": "stream",
     "text": [
      "/usr/local/anaconda3/lib/python3.8/site-packages/ipykernel/ipkernel.py:287: DeprecationWarning: `should_run_async` will not call `transform_cell` automatically in the future. Please pass the result to `transformed_cell` argument and any exception that happen during thetransform in `preprocessing_exc_tuple` in IPython 7.17 and above.\n",
      "  and should_run_async(code)\n",
      "No artists with labels found to put in legend.  Note that artists whose label start with an underscore are ignored when legend() is called with no argument.\n"
     ]
    },
    {
     "data": {
      "image/png": "[encoded data removed]",
      "text/plain": [
       "<Figure size 432x288 with 1 Axes>"
      ]
     },
     "metadata": {},
     "output_type": "display_data"
    }
   ],
   "source": [
    "fig = plt.figure(figsize=(6,4))\n",
    "fig.patch.set_facecolor('xkcd:white')\n",
    "\n",
    "plt.plot(vel0, z, 'k', lw=4)#, label='90.40')\n",
    "\n",
    "# for i in np.arange(0, len(vels), 1):\n",
    "#     m = i + 177\n",
    "#     plt.plot(vels[i], z, lw=1, label=elevs[m])\n",
    "# plt.plot(vel0, z, 'k', lw=3, label='90.40')\n",
    "# plt.plot(vel1, z, 'r', lw=1, label='89.85')\n",
    "# plt.plot(vel2, z, 'b', lw=1, label='90.88')\n",
    "# plt.plot(vel3, z, 'g', lw=1)\n",
    "# plt.plot(vel4, z, 'y', lw=1)\n",
    "\n",
    "plt.ylim(0, 20)\n",
    "plt.xlim(-20, 20)\n",
    "\n",
    "plt.legend()\n",
    "plt.xlabel('speed [m s$^{-1}$]')\n",
    "plt.ylabel('height [km]')\n",
    "\n",
    "plt.title('20181214_0156')\n",
    "\n",
    "plt.savefig('csapr2_test2.png', dpi=400, bbox_inches='tight')"
   ]
  },
  {
   "cell_type": "code",
   "execution_count": null,
   "id": "1bb0469a",
   "metadata": {},
   "outputs": [],
   "source": [
    "print (vel0[10:150])"
   ]
  },
  {
   "cell_type": "code",
   "execution_count": null,
   "id": "1ee1e867",
   "metadata": {},
   "outputs": [],
   "source": [
    "print (np.max(z))\n",
    "print (np.shape(z))"
   ]
  },
  {
   "cell_type": "code",
   "execution_count": null,
   "id": "817e23c4",
   "metadata": {},
   "outputs": [],
   "source": [
    "print (np.shape(x))\n",
    "\n",
    "z = x[2,180,:]"
   ]
  },
  {
   "cell_type": "code",
   "execution_count": null,
   "id": "48db917e",
   "metadata": {},
   "outputs": [],
   "source": [
    "print (elevs[180])"
   ]
  },
  {
   "cell_type": "code",
   "execution_count": null,
   "id": "1ab83f06",
   "metadata": {},
   "outputs": [],
   "source": [
    "for i in np.arange(0, len(elevs), 1):\n",
    "    if (elevs[i] < 91) & (elevs[i] > 89):\n",
    "        "
   ]
  },
  {
   "cell_type": "code",
   "execution_count": null,
   "id": "e3b4a86b",
   "metadata": {},
   "outputs": [],
   "source": [
    "print (len(elevs))"
   ]
  },
  {
   "cell_type": "code",
   "execution_count": null,
   "id": "e80454bd",
   "metadata": {},
   "outputs": [],
   "source": []
  }
 ],
 "metadata": {
  "kernelspec": {
   "display_name": "Python 3",
   "language": "python",
   "name": "python3"
  },
  "language_info": {
   "codemirror_mode": {
    "name": "ipython",
    "version": 3
   },
   "file_extension": ".py",
   "mimetype": "text/x-python",
   "name": "python",
   "nbconvert_exporter": "python",
   "pygments_lexer": "ipython3",
   "version": "3.8.5"
  }
 },
 "nbformat": 4,
 "nbformat_minor": 5
}
