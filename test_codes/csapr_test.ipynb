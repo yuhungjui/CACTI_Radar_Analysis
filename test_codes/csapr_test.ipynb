{
 "cells": [
  {
   "cell_type": "code",
   "execution_count": 1,
   "id": "49dd98c6",
   "metadata": {},
   "outputs": [
    {
     "name": "stdout",
     "output_type": "stream",
     "text": [
      "\n",
      "## You are using the Python ARM Radar Toolkit (Py-ART), an open source\n",
      "## library for working with weather radar data. Py-ART is partly\n",
      "## supported by the U.S. Department of Energy as part of the Atmospheric\n",
      "## Radiation Measurement (ARM) Climate Research Facility, an Office of\n",
      "## Science user facility.\n",
      "##\n",
      "## If you use this software to prepare a publication, please cite:\n",
      "##\n",
      "##     JJ Helmus and SM Collis, JORS 2016, doi: 10.5334/jors.119\n",
      "\n"
     ]
    }
   ],
   "source": [
    "import numpy as np\n",
    "import matplotlib.pyplot as plt\n",
    "from netCDF4 import Dataset\n",
    "from astropy.convolution import convolve, Gaussian2DKernel\n",
    "import pyart"
   ]
  },
  {
   "cell_type": "code",
   "execution_count": 2,
   "id": "f06b4a50",
   "metadata": {},
   "outputs": [
    {
     "name": "stderr",
     "output_type": "stream",
     "text": [
      "/usr/local/anaconda3/lib/python3.8/site-packages/ipykernel/ipkernel.py:287: DeprecationWarning: `should_run_async` will not call `transform_cell` automatically in the future. Please pass the result to `transformed_cell` argument and any exception that happen during thetransform in `preprocessing_exc_tuple` in IPython 7.17 and above.\n",
      "  and should_run_async(code)\n"
     ]
    }
   ],
   "source": [
    "def two_panel_plot(radar, radar2, sweep=0, var1='reflectivity', vmin1=0, vmax1=65, cmap1='RdYlBu_r', \n",
    "                   units1='dBZ', var2='differential_reflectivity', vmin2=-5, vmax2=5, cmap2='RdYlBu_r',\n",
    "                   units2='dB', return_flag=False, xlim=[-150,150], ylim=[-150,150]):\n",
    "    \n",
    "    display = pyart.graph.RadarDisplay(radar)\n",
    "    fig = plt.figure(figsize=(14,5))\n",
    "    ax1 = fig.add_subplot(121)\n",
    "    display.plot_ppi(var1, sweep=sweep, vmin=vmin1, vmax=vmax1, cmap=cmap1, colorbar_label=units1, mask_outside=True)\n",
    "    display.set_limits(xlim=xlim, ylim=ylim)\n",
    "    display.plot_range_rings([50,110], lw=0.5)\n",
    "    display.plot_cross_hair(5)\n",
    "    \n",
    "    display = pyart.graph.RadarDisplay(radar2)\n",
    "    ax2 = fig.add_subplot(122)\n",
    "    display.plot_ppi(var2, sweep=sweep, vmin=vmin2, vmax=vmax2, cmap=cmap2, colorbar_label=units2, mask_outside=True)\n",
    "    display.set_limits(xlim=xlim, ylim=ylim)\n",
    "    display.plot_range_rings([50,110], lw=0.5)\n",
    "    display.plot_cross_hair(5)\n",
    "    \n",
    "    plt.subplots_adjust(left=None, bottom=None, right=None, top=None, wspace=0.35, hspace=None)\n",
    "    #plt.savefig('test1.png', dpi=400, bbox_inches='tight')\n",
    "\n",
    "    if return_flag:\n",
    "        return fig, ax1, ax2, display"
   ]
  },
  {
   "cell_type": "code",
   "execution_count": 3,
   "id": "1e15145f",
   "metadata": {},
   "outputs": [
    {
     "name": "stderr",
     "output_type": "stream",
     "text": [
      "/usr/local/anaconda3/lib/python3.8/site-packages/ipykernel/ipkernel.py:287: DeprecationWarning: `should_run_async` will not call `transform_cell` automatically in the future. Please pass the result to `transformed_cell` argument and any exception that happen during thetransform in `preprocessing_exc_tuple` in IPython 7.17 and above.\n",
      "  and should_run_async(code)\n"
     ]
    },
    {
     "name": "stdout",
     "output_type": "stream",
     "text": [
      "dict_keys(['attenuation_corrected_differential_reflectivity', 'attenuation_corrected_differential_reflectivity_lag_1', 'attenuation_corrected_reflectivity_h', 'censor_mask', 'classification_mask', 'copol_correlation_coeff', 'differential_phase', 'differential_reflectivity', 'differential_reflectivity_lag_1', 'mean_doppler_velocity', 'mean_doppler_velocity_v', 'normalized_coherent_power', 'normalized_coherent_power_v', 'reflectivity', 'reflectivity_v', 'signal_to_noise_ratio_copolar_h', 'signal_to_noise_ratio_copolar_v', 'specific_attenuation', 'specific_differential_attenuation', 'specific_differential_phase', 'spectral_width', 'spectral_width_v', 'uncorrected_copol_correlation_coeff', 'uncorrected_differential_phase', 'uncorrected_differential_reflectivity', 'uncorrected_differential_reflectivity_lag_1', 'uncorrected_mean_doppler_velocity_h', 'uncorrected_mean_doppler_velocity_v', 'uncorrected_reflectivity_h', 'uncorrected_reflectivity_v', 'uncorrected_spectral_width_h', 'uncorrected_spectral_width_v', 'unthresholded_power_copolar_h', 'unthresholded_power_copolar_v'])\n"
     ]
    }
   ],
   "source": [
    "path = '/rasmussen-scratch/krasmussen/DATA/RELAMPAGO/CSAPR2/hsrhi/20181214/'\n",
    "file = 'corcsapr2cfrhsrhiqcM1.b1.20181214.030715.custom.nc'\n",
    "\n",
    "radar = pyart.io.read_cfradial(path+file)\n",
    "display = pyart.graph.RadarDisplay(radar)\n",
    "\n",
    "print (radar.fields.keys())"
   ]
  },
  {
   "cell_type": "code",
   "execution_count": null,
   "id": "e609c97b",
   "metadata": {},
   "outputs": [],
   "source": [
    "plt.figure(figsize=(8,3))\n",
    "\n",
    "display.plot('reflectivity', 2, vmin=0, vmax=65, title_flag=True)\n",
    "\n",
    "#display.set_limits(xlim=[-120,120], ylim=[0, 25])\n",
    "#cs.cmap.set_under('w')"
   ]
  },
  {
   "cell_type": "code",
   "execution_count": null,
   "id": "21e5379d",
   "metadata": {},
   "outputs": [],
   "source": [
    "plt.figure(figsize=(8,3))\n",
    "\n",
    "display.plot('mean_doppler_velocity', 2, vmin=-20, vmax=20, title_flag=True, cmap='seismic')\n",
    "\n",
    "display.set_limits(xlim=[-120,120], ylim=[0, 25])\n",
    "#cs.cmap.set_under('w')"
   ]
  },
  {
   "cell_type": "code",
   "execution_count": null,
   "id": "2252a11f",
   "metadata": {},
   "outputs": [],
   "source": [
    "#corrected_vel = pyart.correct.dealias_region_based(radar, vel_field='mean_doppler_velocity', nyquist_vel=17.5)"
   ]
  },
  {
   "cell_type": "code",
   "execution_count": null,
   "id": "39342827",
   "metadata": {},
   "outputs": [],
   "source": [
    "# field_dict = {'data':corrected_vel['data'],'units':'dB', 'long_name':'pyart_dealias_velocity', 'standard_name':'CV', \n",
    "#               '_FillValue':'-32768'}\n",
    "\n",
    "# radar.add_field('CV', field_dict, replace_existing=True)"
   ]
  },
  {
   "cell_type": "code",
   "execution_count": null,
   "id": "b843909b",
   "metadata": {},
   "outputs": [],
   "source": [
    "# plt.figure(figsize=(8,3))\n",
    "\n",
    "# display.plot('CV', 2, vmin=-20, vmax=20, title_flag=True, cmap='seismic')\n",
    "\n",
    "# display.set_limits(xlim=[-120,120], ylim=[0, 25])\n",
    "# #cs.cmap.set_under('w')"
   ]
  },
  {
   "cell_type": "markdown",
   "id": "d81f296c",
   "metadata": {},
   "source": [
    "### PPI"
   ]
  },
  {
   "cell_type": "code",
   "execution_count": null,
   "id": "fa12cef4",
   "metadata": {},
   "outputs": [],
   "source": [
    "path = '/rasmussen-scratch/krasmussen/DATA/RELAMPAGO/CSAPR2/ppi/20181214/'\n",
    "#file = 'corcsapr2cfrppiqcM1.b1.20181214.020004.custom.nc'\n",
    "file = 'corcsapr2cfrppiqcM1.b1.20181214.030003.custom.nc'\n",
    "#file = 'corcsapr2cfrppiqcM1.b1.20181214.140003.custom.nc'\n",
    "\n",
    "radar = pyart.io.read_cfradial(path+file)\n",
    "display = pyart.graph.RadarDisplay(radar)\n",
    "\n",
    "print (radar.fields.keys())"
   ]
  },
  {
   "cell_type": "code",
   "execution_count": null,
   "id": "6c5aa012",
   "metadata": {},
   "outputs": [],
   "source": [
    "print (radar.fields['censor_mask'])"
   ]
  },
  {
   "cell_type": "code",
   "execution_count": null,
   "id": "0d0769c6",
   "metadata": {},
   "outputs": [],
   "source": [
    "print (radar.fields['attenuation_corrected_reflectivity_h'])"
   ]
  },
  {
   "cell_type": "code",
   "execution_count": null,
   "id": "a1b2a12e",
   "metadata": {
    "scrolled": false
   },
   "outputs": [],
   "source": [
    "plt.figure(figsize=(6,5))\n",
    "\n",
    "display.plot_ppi('attenuation_corrected_reflectivity_h', 0, vmin=0, vmax=65, title_flag=True, cmap='pyart_HomeyerRainbow')\n",
    "\n",
    "display.set_limits(xlim=[-120,120], ylim=[-120, 120])\n",
    "#cs.cmap.set_under('w')"
   ]
  },
  {
   "cell_type": "code",
   "execution_count": null,
   "id": "084986b1",
   "metadata": {},
   "outputs": [],
   "source": [
    "import matplotlib.colors as colors\n",
    "\n",
    "class_colors = ['White','Blue', 'LimeGreen', 'LimeGreen','Red', 'Red', 'Red', 'Red', 'Black', 'Black', 'Black', 'Black', 'Black','Black', 'Black', 'Yellow','Yellow']\n",
    "cmapclass = colors.ListedColormap(class_colors)\n"
   ]
  },
  {
   "cell_type": "code",
   "execution_count": null,
   "id": "e2018c37",
   "metadata": {
    "scrolled": false
   },
   "outputs": [],
   "source": [
    "plt.figure(figsize=(10,7))\n",
    "\n",
    "display.plot_ppi('classification_mask', 2, vmin=0, vmax=16, title_flag=True, cmap=cmapclass, colorbar_flag=False, alpha=1)\n",
    "display.plot_ppi('attenuation_corrected_reflectivity_h', 0, vmin=0, vmax=65, title_flag=True, cmap='pyart_HomeyerRainbow', alpha=0.5)\n",
    "\n",
    "display.set_limits(xlim=[-120,120], ylim=[-120, 120])\n",
    "display.plot_colorbar(ticks=[1,2,4,8,16], ticklabs=['2nd trip', '3rd trip', 'RFI', 'clutter', 'sun'], label='')\n",
    "#cs.cmap.set_under('w')\n",
    "\n",
    "#plt.savefig('csapr2_ppi_20181214.140003_26elev_clutter.png', dpi=400, bbox_inches='tight')"
   ]
  },
  {
   "cell_type": "markdown",
   "id": "9d889e94",
   "metadata": {},
   "source": [
    "### test QC from CHIVO on CSAPR2"
   ]
  },
  {
   "cell_type": "code",
   "execution_count": 4,
   "id": "dd985c5d",
   "metadata": {
    "scrolled": true
   },
   "outputs": [
    {
     "name": "stderr",
     "output_type": "stream",
     "text": [
      "/usr/local/anaconda3/lib/python3.8/site-packages/ipykernel/ipkernel.py:287: DeprecationWarning: `should_run_async` will not call `transform_cell` automatically in the future. Please pass the result to `transformed_cell` argument and any exception that happen during thetransform in `preprocessing_exc_tuple` in IPython 7.17 and above.\n",
      "  and should_run_async(code)\n"
     ]
    }
   ],
   "source": [
    "from csapr2_qc_v1 import radar_qc\n",
    "from csapr_mask0 import radar_0"
   ]
  },
  {
   "cell_type": "code",
   "execution_count": 5,
   "id": "af5011ab",
   "metadata": {},
   "outputs": [
    {
     "name": "stderr",
     "output_type": "stream",
     "text": [
      "/usr/local/anaconda3/lib/python3.8/site-packages/ipykernel/ipkernel.py:287: DeprecationWarning: `should_run_async` will not call `transform_cell` automatically in the future. Please pass the result to `transformed_cell` argument and any exception that happen during thetransform in `preprocessing_exc_tuple` in IPython 7.17 and above.\n",
      "  and should_run_async(code)\n"
     ]
    }
   ],
   "source": [
    "outdir = './'\n",
    "# new_radar = radar_qc('/rasmussen-scratch/krasmussen/DATA/RELAMPAGO/CSAPR2/ppi/20181214/'+file)\n",
    "# pyart.io.write_cfradial(outdir+file+'2', new_radar)\n",
    "\n",
    "new_radar = radar_qc('/rasmussen-scratch/krasmussen/DATA/RELAMPAGO/CSAPR2/hsrhi/20181214/'+file)\n",
    "pyart.io.write_cfradial(outdir+file+'2', new_radar)\n",
    "\n",
    "# new_radar0 = radar_0('/rasmussen-scratch/krasmussen/DATA/RELAMPAGO/CSAPR2/ppi/20181214/'+file)\n",
    "# pyart.io.write_cfradial(outdir+file+'0', new_radar0)\n",
    "\n",
    "\n",
    "# for path,dirs,files in sorted(os.walk('/rasmussen-scratch/krasmussen/DATA/RELAMPAGO/csu_moments_v1b/ppi/')):\n",
    "#         for file in sorted(files):\n",
    "#             if fnmatch.fnmatch(file,'*.nc'):\n",
    "#                 fullname = os.path.join(path,file)\n",
    "#                 if file[0:8] == 'chivo.1b':\n",
    "#                     new_radar = radar_qc(fullname)\n",
    "#                     new_file = file.replace(\"chivo.1b\", \"chivo.1bf\")\n",
    "#                     pyart.io.write_cfradial(outdir+new_file, new_radar)\n",
    "#                     print ('done with ' + new_file)\n",
    "#                     #print(file.replace(\"chivo.1b\", \"chivo.1bf\"))\n",
    "#                 elif file[0:8] == 'chivo.1a':\n",
    "#                     new_radar = radar_qc(fullname)\n",
    "#                     new_file = file.replace(\"chivo.1a\", \"chivo.1bf\")\n",
    "#                     pyart.io.write_cfradial(outdir+new_file, new_radar)\n",
    "#                     print ('done with ' + new_file)"
   ]
  },
  {
   "cell_type": "code",
   "execution_count": null,
   "id": "2ae9675c",
   "metadata": {
    "scrolled": false
   },
   "outputs": [],
   "source": [
    "# file0 = 'corcsapr2cfrppiqcM1.b1.20181214.020004.custom.nc0'\n",
    "\n",
    "# radar0 = pyart.io.read_cfradial(file0)\n",
    "# display0 = pyart.graph.RadarDisplay(radar0)\n",
    "#print (radar0.fields.keys())\n",
    "\n",
    "file1 = 'corcsapr2cfrppiqcM1.b1.20181214.030003.custom.nc2'\n",
    "\n",
    "radar1 = pyart.io.read_cfradial(file1)\n",
    "display1 = pyart.graph.RadarDisplay(radar1)\n",
    "\n",
    "print (radar1.fields.keys())"
   ]
  },
  {
   "cell_type": "code",
   "execution_count": null,
   "id": "725ff764",
   "metadata": {},
   "outputs": [],
   "source": [
    "class_colorsk = ['White','Black','Black','Black','Black','Black','Black','Black','Black','Black','Black','Black','Black','Black','Black','Black','Black']\n",
    "cmapclassk = colors.ListedColormap(class_colorsk)\n"
   ]
  },
  {
   "cell_type": "code",
   "execution_count": null,
   "id": "6f8299bb",
   "metadata": {},
   "outputs": [],
   "source": [
    "plt.figure(figsize=(10,8))\n",
    "\n",
    "display1.plot_ppi('DZ_qc', 2, vmin=0, vmax=65, title_flag=True, cmap='pyart_HomeyerRainbow', alpha=1, colorbar_flag=False)\n",
    "\n",
    "display0.plot_ppi('classification_mask', 2, vmin=0, vmax=16, title_flag=True, cmap=cmapclassk, colorbar_flag=False, alpha=0.3)\n",
    "display0.plot_colorbar(ticks=[1,2,4,8,16], ticklabs=['2nd trip', '3rd trip', 'RFI', 'clutter', 'sun'], label='')\n",
    "\n",
    "\n",
    "display0.set_limits(xlim=[-110,110], ylim=[-110, 110])\n",
    "#cs.cmap.set_under('w')\n",
    "\n",
    "plt.savefig('csapr2_ppi_20181214.020004_26elev_clutter_dbz.png', dpi=400, bbox_inches='tight')"
   ]
  },
  {
   "cell_type": "code",
   "execution_count": null,
   "id": "055c725c",
   "metadata": {},
   "outputs": [],
   "source": [
    "two_panel_plot(radar0, radar1, sweep=0, var1='DZ_no0', vmin1=0, vmax1=65, cmap1='pyart_HomeyerRainbow', \n",
    "                   units1='dBZ', var2='DZ_qc', vmin2=0, vmax2=65, cmap2='pyart_HomeyerRainbow',\n",
    "                   units2='dBZ', return_flag=False, xlim=[-110,110], ylim=[-110,110])\n"
   ]
  },
  {
   "cell_type": "code",
   "execution_count": null,
   "id": "154ad2a1",
   "metadata": {
    "scrolled": false
   },
   "outputs": [],
   "source": [
    "two_panel_plot(radar0, radar1, sweep=1, var1='DZ_no0', vmin1=0, vmax1=65, cmap1='pyart_HomeyerRainbow', \n",
    "                   units1='dBZ', var2='DZ_qc', vmin2=0, vmax2=65, cmap2='pyart_HomeyerRainbow',\n",
    "                   units2='dBZ', return_flag=False, xlim=[-110,110], ylim=[-110,110])\n"
   ]
  },
  {
   "cell_type": "code",
   "execution_count": null,
   "id": "1d214284",
   "metadata": {
    "scrolled": false
   },
   "outputs": [],
   "source": [
    "two_panel_plot(radar0, radar1, sweep=2, var1='DZ_no0', vmin1=0, vmax1=65, cmap1='pyart_HomeyerRainbow', \n",
    "                   units1='dBZ', var2='DZ_qc', vmin2=0, vmax2=65, cmap2='pyart_HomeyerRainbow',\n",
    "                   units2='dBZ', return_flag=False, xlim=[-110,110], ylim=[-110,110])\n"
   ]
  },
  {
   "cell_type": "code",
   "execution_count": null,
   "id": "606b8c03",
   "metadata": {},
   "outputs": [],
   "source": [
    "plt.figure(figsize=(6,5))\n",
    "\n",
    "display.plot_ppi('attenuation_corrected_reflectivity_h', 0, vmin=0, vmax=65, title_flag=True, cmap='pyart_HomeyerRainbow')\n",
    "\n",
    "display.set_limits(xlim=[-120,120], ylim=[-120, 120])\n",
    "#cs.cmap.set_under('w')"
   ]
  },
  {
   "cell_type": "markdown",
   "id": "8fed2e9d",
   "metadata": {},
   "source": [
    "### Gridded"
   ]
  },
  {
   "cell_type": "code",
   "execution_count": null,
   "id": "ff5b1efc",
   "metadata": {},
   "outputs": [],
   "source": [
    "file = '/rasmussen-scratch/mrocque/research/relampago/csapr2_test/csapr2_20181115_000004_PPI.nc'\n",
    "data = Dataset(file, 'r')\n",
    "print (data.variables.keys())"
   ]
  },
  {
   "cell_type": "code",
   "execution_count": null,
   "id": "579aedee",
   "metadata": {},
   "outputs": [],
   "source": [
    "hid = data.variables['classification_mask']\n",
    "lat = data.variables['lat0']\n",
    "lon = data.variables['lon0']\n",
    "z = data.variables['z0']\n",
    "ncp = data.variables['normalized_coherent_power']\n",
    "dp = data.variables['differential_phase']"
   ]
  },
  {
   "cell_type": "code",
   "execution_count": null,
   "id": "560abdb4",
   "metadata": {},
   "outputs": [],
   "source": [
    "refl = np.squeeze(data.variables['reflectivity'])"
   ]
  },
  {
   "cell_type": "code",
   "execution_count": null,
   "id": "66ae1c85",
   "metadata": {
    "scrolled": true
   },
   "outputs": [],
   "source": [
    "print (np.array(z))"
   ]
  },
  {
   "cell_type": "code",
   "execution_count": null,
   "id": "2965afb7",
   "metadata": {},
   "outputs": [],
   "source": [
    "max_dbz = np.zeros([lon.shape[0],lon.shape[1]])\n",
    "for i in range(lon.shape[0]):\n",
    "    for j in range(lon.shape[0]):\n",
    "        max_dbz[i,j] = np.nanmax(refl[5:,i,j])"
   ]
  },
  {
   "cell_type": "code",
   "execution_count": null,
   "id": "a219751a",
   "metadata": {},
   "outputs": [],
   "source": [
    "fig = plt.figure(figsize=(6,5))\n",
    "cs = plt.pcolormesh(refl[4,:,:], vmin=0, vmax=70, cmap='nipy_spectral')\n",
    "cs.cmap.set_under('w')\n",
    "\n",
    "plt.colorbar()\n",
    "\n",
    "#plt.contour(ncp[0,4,:,:], levels=[0.2], colors='magenta')"
   ]
  },
  {
   "cell_type": "code",
   "execution_count": null,
   "id": "57ed1db3",
   "metadata": {},
   "outputs": [],
   "source": [
    "\n",
    "sm_g_rad = 1\n",
    "gauss_kernel = Gaussian2DKernel(sm_g_rad, sm_g_rad)\n",
    "\n",
    "ncp_smooth = convolve(np.array(ncp[0,4,:,:]), gauss_kernel)"
   ]
  },
  {
   "cell_type": "code",
   "execution_count": null,
   "id": "f51cd6ee",
   "metadata": {},
   "outputs": [],
   "source": [
    "fig = plt.figure(figsize=(6,5))\n",
    "cs = plt.pcolormesh(lon, lat, ncp[0,4,:,:], vmin=0.2, vmax=1, cmap='nipy_spectral')\n",
    "cs.cmap.set_under('w')\n",
    "plt.colorbar()\n"
   ]
  },
  {
   "cell_type": "code",
   "execution_count": null,
   "id": "170739f1",
   "metadata": {},
   "outputs": [],
   "source": [
    "fig = plt.figure(figsize=(6,5))\n",
    "cs = plt.pcolormesh(lon, lat, ncp_smooth[:,:], vmin=0.2, vmax=1, cmap='nipy_spectral')\n",
    "cs.cmap.set_under('w')\n",
    "plt.colorbar()\n"
   ]
  },
  {
   "cell_type": "code",
   "execution_count": null,
   "id": "bc8ae578",
   "metadata": {},
   "outputs": [],
   "source": []
  }
 ],
 "metadata": {
  "kernelspec": {
   "display_name": "Python 3",
   "language": "python",
   "name": "python3"
  },
  "language_info": {
   "codemirror_mode": {
    "name": "ipython",
    "version": 3
   },
   "file_extension": ".py",
   "mimetype": "text/x-python",
   "name": "python",
   "nbconvert_exporter": "python",
   "pygments_lexer": "ipython3",
   "version": "3.8.5"
  }
 },
 "nbformat": 4,
 "nbformat_minor": 5
}
