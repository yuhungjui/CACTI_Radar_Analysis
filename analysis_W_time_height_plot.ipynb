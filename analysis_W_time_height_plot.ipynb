{
 "cells": [
  {
   "cell_type": "code",
   "execution_count": null,
   "id": "2c46fa81",
   "metadata": {},
   "outputs": [],
   "source": []
  },
  {
   "cell_type": "markdown",
   "id": "2e280f75",
   "metadata": {},
   "source": [
    "***\n",
    "***\n",
    "## <font color='dodgerblue'>**Supplement Codes from Marqi:**</font>"
   ]
  },
  {
   "cell_type": "code",
   "execution_count": 28,
   "id": "d86310e5",
   "metadata": {
    "scrolled": true
   },
   "outputs": [
    {
     "name": "stderr",
     "output_type": "stream",
     "text": [
      "/usr/local/anaconda3/lib/python3.8/site-packages/ipykernel/ipkernel.py:287: DeprecationWarning: `should_run_async` will not call `transform_cell` automatically in the future. Please pass the result to `transformed_cell` argument and any exception that happen during thetransform in `preprocessing_exc_tuple` in IPython 7.17 and above.\n",
      "  and should_run_async(code)\n"
     ]
    }
   ],
   "source": [
    "#import the goods\n",
    "import numpy as np\n",
    "import matplotlib.pyplot as plt\n",
    "from netCDF4 import Dataset\n",
    "import pyart\n",
    "\n",
    "import difflib\n",
    "import os\n",
    "from datetime import datetime\n",
    "import time\n",
    "import glob\n",
    "import fnmatch\n",
    "import matplotlib.colors as colors"
   ]
  },
  {
   "cell_type": "code",
   "execution_count": null,
   "id": "f2f82499",
   "metadata": {},
   "outputs": [],
   "source": [
    "#make an HID color map specific for CSU (Dolan et al. 2013)\n",
    "hid_colors = ['White', 'LightBlue', 'MediumBlue', 'DarkOrange', 'LightPink',\n",
    "              'Cyan', 'DarkGray', 'Lime', 'Yellow', 'Red', 'Fuchsia']\n",
    "cmaphid = colors.ListedColormap(hid_colors)\n",
    "cmapmeth = colors.ListedColormap(hid_colors[0:6])\n",
    "cmapmeth_trop = colors.ListedColormap(hid_colors[0:7])\n",
    "\n",
    "def adjust_fhc_colorbar_for_pyart(cb):\n",
    "    cb.set_ticks(np.arange(1.4, 10, 0.9))\n",
    "    cb.ax.set_yticklabels(['Drizzle', 'Rain', 'Ice Crystals', 'Aggregates',\n",
    "                           'Wet Snow', 'Vertical Ice', 'LD Graupel',\n",
    "                           'HD Graupel', 'Hail', 'Big Drops'])\n",
    "    cb.ax.set_ylabel('')\n",
    "    cb.ax.tick_params(length=0)\n",
    "    return cb\n",
    "\n",
    "def adjust_meth_colorbar_for_pyart(cb, tropical=False):\n",
    "    if not tropical:\n",
    "        cb.set_ticks(np.arange(1.25, 5, 0.833))\n",
    "        cb.ax.set_yticklabels(['R(Kdp, Zdr)', 'R(Kdp)', 'R(Z, Zdr)', 'R(Z)', 'R(Zrain)'])\n",
    "    else:\n",
    "        cb.set_ticks(np.arange(1.3, 6, 0.85))\n",
    "        cb.ax.set_yticklabels(['R(Kdp, Zdr)', 'R(Kdp)', 'R(Z, Zdr)', 'R(Z_all)', 'R(Z_c)', 'R(Z_s)'])\n",
    "    cb.ax.set_ylabel('')\n",
    "    cb.ax.tick_params(length=0)\n",
    "    return cb"
   ]
  },
  {
   "cell_type": "markdown",
   "id": "855ad914",
   "metadata": {},
   "source": [
    "### 20181214"
   ]
  },
  {
   "cell_type": "code",
   "execution_count": 132,
   "id": "2a60fe87",
   "metadata": {
    "scrolled": true
   },
   "outputs": [
    {
     "name": "stderr",
     "output_type": "stream",
     "text": [
      "/usr/local/anaconda3/lib/python3.8/site-packages/ipykernel/ipkernel.py:287: DeprecationWarning: `should_run_async` will not call `transform_cell` automatically in the future. Please pass the result to `transformed_cell` argument and any exception that happen during thetransform in `preprocessing_exc_tuple` in IPython 7.17 and above.\n",
      "  and should_run_async(code)\n"
     ]
    },
    {
     "name": "stdout",
     "output_type": "stream",
     "text": [
      "/rasmussen-scratch/mrocque/research/relampago/csapr2_qc/hsrhi/20181214/corcsapr2cfrhsrhiqcM1.b1.20181214.000715.csuqc.nc\n",
      "/rasmussen-scratch/mrocque/research/relampago/csapr2_qc/hsrhi/20181214/corcsapr2cfrhsrhiqcM1.b1.20181214.001100.csuqc.nc\n",
      "/rasmussen-scratch/mrocque/research/relampago/csapr2_qc/hsrhi/20181214/corcsapr2cfrhsrhiqcM1.b1.20181214.002215.csuqc.nc\n",
      "/rasmussen-scratch/mrocque/research/relampago/csapr2_qc/hsrhi/20181214/corcsapr2cfrhsrhiqcM1.b1.20181214.002600.csuqc.nc\n",
      "/rasmussen-scratch/mrocque/research/relampago/csapr2_qc/hsrhi/20181214/corcsapr2cfrhsrhiqcM1.b1.20181214.003715.csuqc.nc\n",
      "/rasmussen-scratch/mrocque/research/relampago/csapr2_qc/hsrhi/20181214/corcsapr2cfrhsrhiqcM1.b1.20181214.004100.csuqc.nc\n",
      "/rasmussen-scratch/mrocque/research/relampago/csapr2_qc/hsrhi/20181214/corcsapr2cfrhsrhiqcM1.b1.20181214.005215.csuqc.nc\n",
      "/rasmussen-scratch/mrocque/research/relampago/csapr2_qc/hsrhi/20181214/corcsapr2cfrhsrhiqcM1.b1.20181214.005600.csuqc.nc\n",
      "/rasmussen-scratch/mrocque/research/relampago/csapr2_qc/hsrhi/20181214/corcsapr2cfrhsrhiqcM1.b1.20181214.010715.csuqc.nc\n",
      "/rasmussen-scratch/mrocque/research/relampago/csapr2_qc/hsrhi/20181214/corcsapr2cfrhsrhiqcM1.b1.20181214.011100.csuqc.nc\n",
      "/rasmussen-scratch/mrocque/research/relampago/csapr2_qc/hsrhi/20181214/corcsapr2cfrhsrhiqcM1.b1.20181214.012215.csuqc.nc\n",
      "/rasmussen-scratch/mrocque/research/relampago/csapr2_qc/hsrhi/20181214/corcsapr2cfrhsrhiqcM1.b1.20181214.012600.csuqc.nc\n",
      "/rasmussen-scratch/mrocque/research/relampago/csapr2_qc/hsrhi/20181214/corcsapr2cfrhsrhiqcM1.b1.20181214.013715.csuqc.nc\n",
      "/rasmussen-scratch/mrocque/research/relampago/csapr2_qc/hsrhi/20181214/corcsapr2cfrhsrhiqcM1.b1.20181214.014100.csuqc.nc\n",
      "/rasmussen-scratch/mrocque/research/relampago/csapr2_qc/hsrhi/20181214/corcsapr2cfrhsrhiqcM1.b1.20181214.015215.csuqc.nc\n",
      "/rasmussen-scratch/mrocque/research/relampago/csapr2_qc/hsrhi/20181214/corcsapr2cfrhsrhiqcM1.b1.20181214.015600.csuqc.nc\n",
      "/rasmussen-scratch/mrocque/research/relampago/csapr2_qc/hsrhi/20181214/corcsapr2cfrhsrhiqcM1.b1.20181214.020715.csuqc.nc\n",
      "/rasmussen-scratch/mrocque/research/relampago/csapr2_qc/hsrhi/20181214/corcsapr2cfrhsrhiqcM1.b1.20181214.021100.csuqc.nc\n",
      "/rasmussen-scratch/mrocque/research/relampago/csapr2_qc/hsrhi/20181214/corcsapr2cfrhsrhiqcM1.b1.20181214.022215.csuqc.nc\n",
      "/rasmussen-scratch/mrocque/research/relampago/csapr2_qc/hsrhi/20181214/corcsapr2cfrhsrhiqcM1.b1.20181214.022600.csuqc.nc\n",
      "/rasmussen-scratch/mrocque/research/relampago/csapr2_qc/hsrhi/20181214/corcsapr2cfrhsrhiqcM1.b1.20181214.023715.csuqc.nc\n",
      "/rasmussen-scratch/mrocque/research/relampago/csapr2_qc/hsrhi/20181214/corcsapr2cfrhsrhiqcM1.b1.20181214.024100.csuqc.nc\n",
      "/rasmussen-scratch/mrocque/research/relampago/csapr2_qc/hsrhi/20181214/corcsapr2cfrhsrhiqcM1.b1.20181214.025215.csuqc.nc\n",
      "/rasmussen-scratch/mrocque/research/relampago/csapr2_qc/hsrhi/20181214/corcsapr2cfrhsrhiqcM1.b1.20181214.025600.csuqc.nc\n",
      "/rasmussen-scratch/mrocque/research/relampago/csapr2_qc/hsrhi/20181214/corcsapr2cfrhsrhiqcM1.b1.20181214.030715.csuqc.nc\n",
      "/rasmussen-scratch/mrocque/research/relampago/csapr2_qc/hsrhi/20181214/corcsapr2cfrhsrhiqcM1.b1.20181214.031100.csuqc.nc\n",
      "/rasmussen-scratch/mrocque/research/relampago/csapr2_qc/hsrhi/20181214/corcsapr2cfrhsrhiqcM1.b1.20181214.032215.csuqc.nc\n",
      "/rasmussen-scratch/mrocque/research/relampago/csapr2_qc/hsrhi/20181214/corcsapr2cfrhsrhiqcM1.b1.20181214.032600.csuqc.nc\n",
      "/rasmussen-scratch/mrocque/research/relampago/csapr2_qc/hsrhi/20181214/corcsapr2cfrhsrhiqcM1.b1.20181214.033715.csuqc.nc\n",
      "/rasmussen-scratch/mrocque/research/relampago/csapr2_qc/hsrhi/20181214/corcsapr2cfrhsrhiqcM1.b1.20181214.034100.csuqc.nc\n",
      "/rasmussen-scratch/mrocque/research/relampago/csapr2_qc/hsrhi/20181214/corcsapr2cfrhsrhiqcM1.b1.20181214.035215.csuqc.nc\n",
      "/rasmussen-scratch/mrocque/research/relampago/csapr2_qc/hsrhi/20181214/corcsapr2cfrhsrhiqcM1.b1.20181214.035600.csuqc.nc\n",
      "/rasmussen-scratch/mrocque/research/relampago/csapr2_qc/hsrhi/20181214/corcsapr2cfrhsrhiqcM1.b1.20181214.040715.csuqc.nc\n",
      "/rasmussen-scratch/mrocque/research/relampago/csapr2_qc/hsrhi/20181214/corcsapr2cfrhsrhiqcM1.b1.20181214.041100.csuqc.nc\n",
      "/rasmussen-scratch/mrocque/research/relampago/csapr2_qc/hsrhi/20181214/corcsapr2cfrhsrhiqcM1.b1.20181214.042215.csuqc.nc\n",
      "/rasmussen-scratch/mrocque/research/relampago/csapr2_qc/hsrhi/20181214/corcsapr2cfrhsrhiqcM1.b1.20181214.042600.csuqc.nc\n",
      "/rasmussen-scratch/mrocque/research/relampago/csapr2_qc/hsrhi/20181214/corcsapr2cfrhsrhiqcM1.b1.20181214.043715.csuqc.nc\n",
      "/rasmussen-scratch/mrocque/research/relampago/csapr2_qc/hsrhi/20181214/corcsapr2cfrhsrhiqcM1.b1.20181214.044100.csuqc.nc\n",
      "/rasmussen-scratch/mrocque/research/relampago/csapr2_qc/hsrhi/20181214/corcsapr2cfrhsrhiqcM1.b1.20181214.045215.csuqc.nc\n",
      "/rasmussen-scratch/mrocque/research/relampago/csapr2_qc/hsrhi/20181214/corcsapr2cfrhsrhiqcM1.b1.20181214.045600.csuqc.nc\n",
      "/rasmussen-scratch/mrocque/research/relampago/csapr2_qc/hsrhi/20181214/corcsapr2cfrhsrhiqcM1.b1.20181214.050715.csuqc.nc\n",
      "/rasmussen-scratch/mrocque/research/relampago/csapr2_qc/hsrhi/20181214/corcsapr2cfrhsrhiqcM1.b1.20181214.051100.csuqc.nc\n",
      "/rasmussen-scratch/mrocque/research/relampago/csapr2_qc/hsrhi/20181214/corcsapr2cfrhsrhiqcM1.b1.20181214.052215.csuqc.nc\n",
      "/rasmussen-scratch/mrocque/research/relampago/csapr2_qc/hsrhi/20181214/corcsapr2cfrhsrhiqcM1.b1.20181214.052600.csuqc.nc\n",
      "/rasmussen-scratch/mrocque/research/relampago/csapr2_qc/hsrhi/20181214/corcsapr2cfrhsrhiqcM1.b1.20181214.053715.csuqc.nc\n",
      "/rasmussen-scratch/mrocque/research/relampago/csapr2_qc/hsrhi/20181214/corcsapr2cfrhsrhiqcM1.b1.20181214.054100.csuqc.nc\n",
      "/rasmussen-scratch/mrocque/research/relampago/csapr2_qc/hsrhi/20181214/corcsapr2cfrhsrhiqcM1.b1.20181214.055215.csuqc.nc\n",
      "/rasmussen-scratch/mrocque/research/relampago/csapr2_qc/hsrhi/20181214/corcsapr2cfrhsrhiqcM1.b1.20181214.055600.csuqc.nc\n",
      "/rasmussen-scratch/mrocque/research/relampago/csapr2_qc/hsrhi/20181214/corcsapr2cfrhsrhiqcM1.b1.20181214.060715.csuqc.nc\n",
      "/rasmussen-scratch/mrocque/research/relampago/csapr2_qc/hsrhi/20181214/corcsapr2cfrhsrhiqcM1.b1.20181214.061100.csuqc.nc\n",
      "/rasmussen-scratch/mrocque/research/relampago/csapr2_qc/hsrhi/20181214/corcsapr2cfrhsrhiqcM1.b1.20181214.062215.csuqc.nc\n",
      "/rasmussen-scratch/mrocque/research/relampago/csapr2_qc/hsrhi/20181214/corcsapr2cfrhsrhiqcM1.b1.20181214.062600.csuqc.nc\n",
      "/rasmussen-scratch/mrocque/research/relampago/csapr2_qc/hsrhi/20181214/corcsapr2cfrhsrhiqcM1.b1.20181214.063715.csuqc.nc\n",
      "/rasmussen-scratch/mrocque/research/relampago/csapr2_qc/hsrhi/20181214/corcsapr2cfrhsrhiqcM1.b1.20181214.064100.csuqc.nc\n",
      "/rasmussen-scratch/mrocque/research/relampago/csapr2_qc/hsrhi/20181214/corcsapr2cfrhsrhiqcM1.b1.20181214.065215.csuqc.nc\n",
      "/rasmussen-scratch/mrocque/research/relampago/csapr2_qc/hsrhi/20181214/corcsapr2cfrhsrhiqcM1.b1.20181214.065600.csuqc.nc\n",
      "/rasmussen-scratch/mrocque/research/relampago/csapr2_qc/hsrhi/20181214/corcsapr2cfrhsrhiqcM1.b1.20181214.070715.csuqc.nc\n",
      "/rasmussen-scratch/mrocque/research/relampago/csapr2_qc/hsrhi/20181214/corcsapr2cfrhsrhiqcM1.b1.20181214.071100.csuqc.nc\n",
      "/rasmussen-scratch/mrocque/research/relampago/csapr2_qc/hsrhi/20181214/corcsapr2cfrhsrhiqcM1.b1.20181214.072215.csuqc.nc\n",
      "/rasmussen-scratch/mrocque/research/relampago/csapr2_qc/hsrhi/20181214/corcsapr2cfrhsrhiqcM1.b1.20181214.072600.csuqc.nc\n",
      "/rasmussen-scratch/mrocque/research/relampago/csapr2_qc/hsrhi/20181214/corcsapr2cfrhsrhiqcM1.b1.20181214.073715.csuqc.nc\n",
      "/rasmussen-scratch/mrocque/research/relampago/csapr2_qc/hsrhi/20181214/corcsapr2cfrhsrhiqcM1.b1.20181214.074101.csuqc.nc\n",
      "/rasmussen-scratch/mrocque/research/relampago/csapr2_qc/hsrhi/20181214/corcsapr2cfrhsrhiqcM1.b1.20181214.075215.csuqc.nc\n",
      "/rasmussen-scratch/mrocque/research/relampago/csapr2_qc/hsrhi/20181214/corcsapr2cfrhsrhiqcM1.b1.20181214.075600.csuqc.nc\n",
      "/rasmussen-scratch/mrocque/research/relampago/csapr2_qc/hsrhi/20181214/corcsapr2cfrhsrhiqcM1.b1.20181214.080715.csuqc.nc\n",
      "/rasmussen-scratch/mrocque/research/relampago/csapr2_qc/hsrhi/20181214/corcsapr2cfrhsrhiqcM1.b1.20181214.081100.csuqc.nc\n",
      "/rasmussen-scratch/mrocque/research/relampago/csapr2_qc/hsrhi/20181214/corcsapr2cfrhsrhiqcM1.b1.20181214.082215.csuqc.nc\n",
      "/rasmussen-scratch/mrocque/research/relampago/csapr2_qc/hsrhi/20181214/corcsapr2cfrhsrhiqcM1.b1.20181214.082600.csuqc.nc\n"
     ]
    },
    {
     "name": "stdout",
     "output_type": "stream",
     "text": [
      "/rasmussen-scratch/mrocque/research/relampago/csapr2_qc/hsrhi/20181214/corcsapr2cfrhsrhiqcM1.b1.20181214.083715.csuqc.nc\n",
      "/rasmussen-scratch/mrocque/research/relampago/csapr2_qc/hsrhi/20181214/corcsapr2cfrhsrhiqcM1.b1.20181214.084100.csuqc.nc\n",
      "/rasmussen-scratch/mrocque/research/relampago/csapr2_qc/hsrhi/20181214/corcsapr2cfrhsrhiqcM1.b1.20181214.085215.csuqc.nc\n",
      "/rasmussen-scratch/mrocque/research/relampago/csapr2_qc/hsrhi/20181214/corcsapr2cfrhsrhiqcM1.b1.20181214.085601.csuqc.nc\n",
      "/rasmussen-scratch/mrocque/research/relampago/csapr2_qc/hsrhi/20181214/corcsapr2cfrhsrhiqcM1.b1.20181214.090715.csuqc.nc\n",
      "/rasmussen-scratch/mrocque/research/relampago/csapr2_qc/hsrhi/20181214/corcsapr2cfrhsrhiqcM1.b1.20181214.091100.csuqc.nc\n",
      "/rasmussen-scratch/mrocque/research/relampago/csapr2_qc/hsrhi/20181214/corcsapr2cfrhsrhiqcM1.b1.20181214.092215.csuqc.nc\n",
      "/rasmussen-scratch/mrocque/research/relampago/csapr2_qc/hsrhi/20181214/corcsapr2cfrhsrhiqcM1.b1.20181214.092601.csuqc.nc\n",
      "/rasmussen-scratch/mrocque/research/relampago/csapr2_qc/hsrhi/20181214/corcsapr2cfrhsrhiqcM1.b1.20181214.093716.csuqc.nc\n",
      "/rasmussen-scratch/mrocque/research/relampago/csapr2_qc/hsrhi/20181214/corcsapr2cfrhsrhiqcM1.b1.20181214.094101.csuqc.nc\n",
      "/rasmussen-scratch/mrocque/research/relampago/csapr2_qc/hsrhi/20181214/corcsapr2cfrhsrhiqcM1.b1.20181214.095215.csuqc.nc\n",
      "/rasmussen-scratch/mrocque/research/relampago/csapr2_qc/hsrhi/20181214/corcsapr2cfrhsrhiqcM1.b1.20181214.095600.csuqc.nc\n",
      "/rasmussen-scratch/mrocque/research/relampago/csapr2_qc/hsrhi/20181214/corcsapr2cfrhsrhiqcM1.b1.20181214.100715.csuqc.nc\n",
      "/rasmussen-scratch/mrocque/research/relampago/csapr2_qc/hsrhi/20181214/corcsapr2cfrhsrhiqcM1.b1.20181214.101100.csuqc.nc\n",
      "/rasmussen-scratch/mrocque/research/relampago/csapr2_qc/hsrhi/20181214/corcsapr2cfrhsrhiqcM1.b1.20181214.102216.csuqc.nc\n",
      "/rasmussen-scratch/mrocque/research/relampago/csapr2_qc/hsrhi/20181214/corcsapr2cfrhsrhiqcM1.b1.20181214.102601.csuqc.nc\n",
      "/rasmussen-scratch/mrocque/research/relampago/csapr2_qc/hsrhi/20181214/corcsapr2cfrhsrhiqcM1.b1.20181214.103715.csuqc.nc\n",
      "/rasmussen-scratch/mrocque/research/relampago/csapr2_qc/hsrhi/20181214/corcsapr2cfrhsrhiqcM1.b1.20181214.104100.csuqc.nc\n",
      "/rasmussen-scratch/mrocque/research/relampago/csapr2_qc/hsrhi/20181214/corcsapr2cfrhsrhiqcM1.b1.20181214.105216.csuqc.nc\n",
      "/rasmussen-scratch/mrocque/research/relampago/csapr2_qc/hsrhi/20181214/corcsapr2cfrhsrhiqcM1.b1.20181214.105601.csuqc.nc\n",
      "/rasmussen-scratch/mrocque/research/relampago/csapr2_qc/hsrhi/20181214/corcsapr2cfrhsrhiqcM1.b1.20181214.110715.csuqc.nc\n",
      "/rasmussen-scratch/mrocque/research/relampago/csapr2_qc/hsrhi/20181214/corcsapr2cfrhsrhiqcM1.b1.20181214.111100.csuqc.nc\n",
      "/rasmussen-scratch/mrocque/research/relampago/csapr2_qc/hsrhi/20181214/corcsapr2cfrhsrhiqcM1.b1.20181214.112215.csuqc.nc\n",
      "/rasmussen-scratch/mrocque/research/relampago/csapr2_qc/hsrhi/20181214/corcsapr2cfrhsrhiqcM1.b1.20181214.112600.csuqc.nc\n",
      "/rasmussen-scratch/mrocque/research/relampago/csapr2_qc/hsrhi/20181214/corcsapr2cfrhsrhiqcM1.b1.20181214.113715.csuqc.nc\n",
      "/rasmussen-scratch/mrocque/research/relampago/csapr2_qc/hsrhi/20181214/corcsapr2cfrhsrhiqcM1.b1.20181214.114100.csuqc.nc\n",
      "/rasmussen-scratch/mrocque/research/relampago/csapr2_qc/hsrhi/20181214/corcsapr2cfrhsrhiqcM1.b1.20181214.115215.csuqc.nc\n",
      "/rasmussen-scratch/mrocque/research/relampago/csapr2_qc/hsrhi/20181214/corcsapr2cfrhsrhiqcM1.b1.20181214.115600.csuqc.nc\n",
      "/rasmussen-scratch/mrocque/research/relampago/csapr2_qc/hsrhi/20181214/corcsapr2cfrhsrhiqcM1.b1.20181214.120715.csuqc.nc\n",
      "/rasmussen-scratch/mrocque/research/relampago/csapr2_qc/hsrhi/20181214/corcsapr2cfrhsrhiqcM1.b1.20181214.121100.csuqc.nc\n",
      "/rasmussen-scratch/mrocque/research/relampago/csapr2_qc/hsrhi/20181214/corcsapr2cfrhsrhiqcM1.b1.20181214.122215.csuqc.nc\n",
      "/rasmussen-scratch/mrocque/research/relampago/csapr2_qc/hsrhi/20181214/corcsapr2cfrhsrhiqcM1.b1.20181214.122601.csuqc.nc\n",
      "/rasmussen-scratch/mrocque/research/relampago/csapr2_qc/hsrhi/20181214/corcsapr2cfrhsrhiqcM1.b1.20181214.123715.csuqc.nc\n",
      "/rasmussen-scratch/mrocque/research/relampago/csapr2_qc/hsrhi/20181214/corcsapr2cfrhsrhiqcM1.b1.20181214.124100.csuqc.nc\n",
      "/rasmussen-scratch/mrocque/research/relampago/csapr2_qc/hsrhi/20181214/corcsapr2cfrhsrhiqcM1.b1.20181214.125215.csuqc.nc\n",
      "/rasmussen-scratch/mrocque/research/relampago/csapr2_qc/hsrhi/20181214/corcsapr2cfrhsrhiqcM1.b1.20181214.125600.csuqc.nc\n",
      "/rasmussen-scratch/mrocque/research/relampago/csapr2_qc/hsrhi/20181214/corcsapr2cfrhsrhiqcM1.b1.20181214.130715.csuqc.nc\n",
      "/rasmussen-scratch/mrocque/research/relampago/csapr2_qc/hsrhi/20181214/corcsapr2cfrhsrhiqcM1.b1.20181214.131100.csuqc.nc\n",
      "/rasmussen-scratch/mrocque/research/relampago/csapr2_qc/hsrhi/20181214/corcsapr2cfrhsrhiqcM1.b1.20181214.132216.csuqc.nc\n",
      "/rasmussen-scratch/mrocque/research/relampago/csapr2_qc/hsrhi/20181214/corcsapr2cfrhsrhiqcM1.b1.20181214.132601.csuqc.nc\n",
      "/rasmussen-scratch/mrocque/research/relampago/csapr2_qc/hsrhi/20181214/corcsapr2cfrhsrhiqcM1.b1.20181214.133715.csuqc.nc\n",
      "/rasmussen-scratch/mrocque/research/relampago/csapr2_qc/hsrhi/20181214/corcsapr2cfrhsrhiqcM1.b1.20181214.134100.csuqc.nc\n",
      "/rasmussen-scratch/mrocque/research/relampago/csapr2_qc/hsrhi/20181214/corcsapr2cfrhsrhiqcM1.b1.20181214.135215.csuqc.nc\n",
      "/rasmussen-scratch/mrocque/research/relampago/csapr2_qc/hsrhi/20181214/corcsapr2cfrhsrhiqcM1.b1.20181214.135600.csuqc.nc\n",
      "/rasmussen-scratch/mrocque/research/relampago/csapr2_qc/hsrhi/20181214/corcsapr2cfrhsrhiqcM1.b1.20181214.140715.csuqc.nc\n",
      "/rasmussen-scratch/mrocque/research/relampago/csapr2_qc/hsrhi/20181214/corcsapr2cfrhsrhiqcM1.b1.20181214.141100.csuqc.nc\n",
      "/rasmussen-scratch/mrocque/research/relampago/csapr2_qc/hsrhi/20181214/corcsapr2cfrhsrhiqcM1.b1.20181214.142215.csuqc.nc\n",
      "/rasmussen-scratch/mrocque/research/relampago/csapr2_qc/hsrhi/20181214/corcsapr2cfrhsrhiqcM1.b1.20181214.142600.csuqc.nc\n",
      "/rasmussen-scratch/mrocque/research/relampago/csapr2_qc/hsrhi/20181214/corcsapr2cfrhsrhiqcM1.b1.20181214.143715.csuqc.nc\n",
      "/rasmussen-scratch/mrocque/research/relampago/csapr2_qc/hsrhi/20181214/corcsapr2cfrhsrhiqcM1.b1.20181214.144100.csuqc.nc\n",
      "/rasmussen-scratch/mrocque/research/relampago/csapr2_qc/hsrhi/20181214/corcsapr2cfrhsrhiqcM1.b1.20181214.145215.csuqc.nc\n",
      "/rasmussen-scratch/mrocque/research/relampago/csapr2_qc/hsrhi/20181214/corcsapr2cfrhsrhiqcM1.b1.20181214.145600.csuqc.nc\n",
      "/rasmussen-scratch/mrocque/research/relampago/csapr2_qc/hsrhi/20181214/corcsapr2cfrhsrhiqcM1.b1.20181214.150715.csuqc.nc\n",
      "/rasmussen-scratch/mrocque/research/relampago/csapr2_qc/hsrhi/20181214/corcsapr2cfrhsrhiqcM1.b1.20181214.151100.csuqc.nc\n",
      "/rasmussen-scratch/mrocque/research/relampago/csapr2_qc/hsrhi/20181214/corcsapr2cfrhsrhiqcM1.b1.20181214.152215.csuqc.nc\n",
      "/rasmussen-scratch/mrocque/research/relampago/csapr2_qc/hsrhi/20181214/corcsapr2cfrhsrhiqcM1.b1.20181214.152600.csuqc.nc\n",
      "/rasmussen-scratch/mrocque/research/relampago/csapr2_qc/hsrhi/20181214/corcsapr2cfrhsrhiqcM1.b1.20181214.153715.csuqc.nc\n",
      "/rasmussen-scratch/mrocque/research/relampago/csapr2_qc/hsrhi/20181214/corcsapr2cfrhsrhiqcM1.b1.20181214.154100.csuqc.nc\n",
      "/rasmussen-scratch/mrocque/research/relampago/csapr2_qc/hsrhi/20181214/corcsapr2cfrhsrhiqcM1.b1.20181214.155215.csuqc.nc\n",
      "/rasmussen-scratch/mrocque/research/relampago/csapr2_qc/hsrhi/20181214/corcsapr2cfrhsrhiqcM1.b1.20181214.155600.csuqc.nc\n",
      "/rasmussen-scratch/mrocque/research/relampago/csapr2_qc/hsrhi/20181214/corcsapr2cfrhsrhiqcM1.b1.20181214.160715.csuqc.nc\n",
      "/rasmussen-scratch/mrocque/research/relampago/csapr2_qc/hsrhi/20181214/corcsapr2cfrhsrhiqcM1.b1.20181214.161100.csuqc.nc\n",
      "/rasmussen-scratch/mrocque/research/relampago/csapr2_qc/hsrhi/20181214/corcsapr2cfrhsrhiqcM1.b1.20181214.162215.csuqc.nc\n",
      "/rasmussen-scratch/mrocque/research/relampago/csapr2_qc/hsrhi/20181214/corcsapr2cfrhsrhiqcM1.b1.20181214.162600.csuqc.nc\n",
      "/rasmussen-scratch/mrocque/research/relampago/csapr2_qc/hsrhi/20181214/corcsapr2cfrhsrhiqcM1.b1.20181214.163715.csuqc.nc\n",
      "/rasmussen-scratch/mrocque/research/relampago/csapr2_qc/hsrhi/20181214/corcsapr2cfrhsrhiqcM1.b1.20181214.164100.csuqc.nc\n",
      "/rasmussen-scratch/mrocque/research/relampago/csapr2_qc/hsrhi/20181214/corcsapr2cfrhsrhiqcM1.b1.20181214.165215.csuqc.nc\n",
      "/rasmussen-scratch/mrocque/research/relampago/csapr2_qc/hsrhi/20181214/corcsapr2cfrhsrhiqcM1.b1.20181214.165600.csuqc.nc\n"
     ]
    },
    {
     "name": "stdout",
     "output_type": "stream",
     "text": [
      "/rasmussen-scratch/mrocque/research/relampago/csapr2_qc/hsrhi/20181214/corcsapr2cfrhsrhiqcM1.b1.20181214.170715.csuqc.nc\n",
      "/rasmussen-scratch/mrocque/research/relampago/csapr2_qc/hsrhi/20181214/corcsapr2cfrhsrhiqcM1.b1.20181214.171100.csuqc.nc\n",
      "/rasmussen-scratch/mrocque/research/relampago/csapr2_qc/hsrhi/20181214/corcsapr2cfrhsrhiqcM1.b1.20181214.172216.csuqc.nc\n",
      "/rasmussen-scratch/mrocque/research/relampago/csapr2_qc/hsrhi/20181214/corcsapr2cfrhsrhiqcM1.b1.20181214.172601.csuqc.nc\n",
      "/rasmussen-scratch/mrocque/research/relampago/csapr2_qc/hsrhi/20181214/corcsapr2cfrhsrhiqcM1.b1.20181214.173715.csuqc.nc\n",
      "/rasmussen-scratch/mrocque/research/relampago/csapr2_qc/hsrhi/20181214/corcsapr2cfrhsrhiqcM1.b1.20181214.174100.csuqc.nc\n",
      "/rasmussen-scratch/mrocque/research/relampago/csapr2_qc/hsrhi/20181214/corcsapr2cfrhsrhiqcM1.b1.20181214.175215.csuqc.nc\n",
      "/rasmussen-scratch/mrocque/research/relampago/csapr2_qc/hsrhi/20181214/corcsapr2cfrhsrhiqcM1.b1.20181214.175600.csuqc.nc\n",
      "/rasmussen-scratch/mrocque/research/relampago/csapr2_qc/hsrhi/20181214/corcsapr2cfrhsrhiqcM1.b1.20181214.180715.csuqc.nc\n",
      "/rasmussen-scratch/mrocque/research/relampago/csapr2_qc/hsrhi/20181214/corcsapr2cfrhsrhiqcM1.b1.20181214.181100.csuqc.nc\n",
      "/rasmussen-scratch/mrocque/research/relampago/csapr2_qc/hsrhi/20181214/corcsapr2cfrhsrhiqcM1.b1.20181214.182215.csuqc.nc\n",
      "/rasmussen-scratch/mrocque/research/relampago/csapr2_qc/hsrhi/20181214/corcsapr2cfrhsrhiqcM1.b1.20181214.182600.csuqc.nc\n",
      "/rasmussen-scratch/mrocque/research/relampago/csapr2_qc/hsrhi/20181214/corcsapr2cfrhsrhiqcM1.b1.20181214.183715.csuqc.nc\n",
      "/rasmussen-scratch/mrocque/research/relampago/csapr2_qc/hsrhi/20181214/corcsapr2cfrhsrhiqcM1.b1.20181214.184100.csuqc.nc\n",
      "/rasmussen-scratch/mrocque/research/relampago/csapr2_qc/hsrhi/20181214/corcsapr2cfrhsrhiqcM1.b1.20181214.185215.csuqc.nc\n",
      "/rasmussen-scratch/mrocque/research/relampago/csapr2_qc/hsrhi/20181214/corcsapr2cfrhsrhiqcM1.b1.20181214.185600.csuqc.nc\n",
      "/rasmussen-scratch/mrocque/research/relampago/csapr2_qc/hsrhi/20181214/corcsapr2cfrhsrhiqcM1.b1.20181214.190715.csuqc.nc\n",
      "/rasmussen-scratch/mrocque/research/relampago/csapr2_qc/hsrhi/20181214/corcsapr2cfrhsrhiqcM1.b1.20181214.191100.csuqc.nc\n",
      "/rasmussen-scratch/mrocque/research/relampago/csapr2_qc/hsrhi/20181214/corcsapr2cfrhsrhiqcM1.b1.20181214.192215.csuqc.nc\n",
      "/rasmussen-scratch/mrocque/research/relampago/csapr2_qc/hsrhi/20181214/corcsapr2cfrhsrhiqcM1.b1.20181214.192600.csuqc.nc\n",
      "/rasmussen-scratch/mrocque/research/relampago/csapr2_qc/hsrhi/20181214/corcsapr2cfrhsrhiqcM1.b1.20181214.193715.csuqc.nc\n",
      "/rasmussen-scratch/mrocque/research/relampago/csapr2_qc/hsrhi/20181214/corcsapr2cfrhsrhiqcM1.b1.20181214.194100.csuqc.nc\n",
      "/rasmussen-scratch/mrocque/research/relampago/csapr2_qc/hsrhi/20181214/corcsapr2cfrhsrhiqcM1.b1.20181214.195215.csuqc.nc\n",
      "/rasmussen-scratch/mrocque/research/relampago/csapr2_qc/hsrhi/20181214/corcsapr2cfrhsrhiqcM1.b1.20181214.195600.csuqc.nc\n",
      "/rasmussen-scratch/mrocque/research/relampago/csapr2_qc/hsrhi/20181214/corcsapr2cfrhsrhiqcM1.b1.20181214.200715.csuqc.nc\n",
      "/rasmussen-scratch/mrocque/research/relampago/csapr2_qc/hsrhi/20181214/corcsapr2cfrhsrhiqcM1.b1.20181214.201101.csuqc.nc\n",
      "/rasmussen-scratch/mrocque/research/relampago/csapr2_qc/hsrhi/20181214/corcsapr2cfrhsrhiqcM1.b1.20181214.202215.csuqc.nc\n",
      "/rasmussen-scratch/mrocque/research/relampago/csapr2_qc/hsrhi/20181214/corcsapr2cfrhsrhiqcM1.b1.20181214.202600.csuqc.nc\n",
      "/rasmussen-scratch/mrocque/research/relampago/csapr2_qc/hsrhi/20181214/corcsapr2cfrhsrhiqcM1.b1.20181214.203715.csuqc.nc\n",
      "/rasmussen-scratch/mrocque/research/relampago/csapr2_qc/hsrhi/20181214/corcsapr2cfrhsrhiqcM1.b1.20181214.204100.csuqc.nc\n",
      "/rasmussen-scratch/mrocque/research/relampago/csapr2_qc/hsrhi/20181214/corcsapr2cfrhsrhiqcM1.b1.20181214.205215.csuqc.nc\n",
      "/rasmussen-scratch/mrocque/research/relampago/csapr2_qc/hsrhi/20181214/corcsapr2cfrhsrhiqcM1.b1.20181214.205600.csuqc.nc\n",
      "/rasmussen-scratch/mrocque/research/relampago/csapr2_qc/hsrhi/20181214/corcsapr2cfrhsrhiqcM1.b1.20181214.210715.csuqc.nc\n",
      "/rasmussen-scratch/mrocque/research/relampago/csapr2_qc/hsrhi/20181214/corcsapr2cfrhsrhiqcM1.b1.20181214.211101.csuqc.nc\n",
      "/rasmussen-scratch/mrocque/research/relampago/csapr2_qc/hsrhi/20181214/corcsapr2cfrhsrhiqcM1.b1.20181214.212215.csuqc.nc\n",
      "/rasmussen-scratch/mrocque/research/relampago/csapr2_qc/hsrhi/20181214/corcsapr2cfrhsrhiqcM1.b1.20181214.212600.csuqc.nc\n",
      "/rasmussen-scratch/mrocque/research/relampago/csapr2_qc/hsrhi/20181214/corcsapr2cfrhsrhiqcM1.b1.20181214.213715.csuqc.nc\n",
      "/rasmussen-scratch/mrocque/research/relampago/csapr2_qc/hsrhi/20181214/corcsapr2cfrhsrhiqcM1.b1.20181214.214100.csuqc.nc\n",
      "/rasmussen-scratch/mrocque/research/relampago/csapr2_qc/hsrhi/20181214/corcsapr2cfrhsrhiqcM1.b1.20181214.215215.csuqc.nc\n",
      "/rasmussen-scratch/mrocque/research/relampago/csapr2_qc/hsrhi/20181214/corcsapr2cfrhsrhiqcM1.b1.20181214.215600.csuqc.nc\n",
      "/rasmussen-scratch/mrocque/research/relampago/csapr2_qc/hsrhi/20181214/corcsapr2cfrhsrhiqcM1.b1.20181214.220715.csuqc.nc\n",
      "/rasmussen-scratch/mrocque/research/relampago/csapr2_qc/hsrhi/20181214/corcsapr2cfrhsrhiqcM1.b1.20181214.221100.csuqc.nc\n",
      "/rasmussen-scratch/mrocque/research/relampago/csapr2_qc/hsrhi/20181214/corcsapr2cfrhsrhiqcM1.b1.20181214.222215.csuqc.nc\n",
      "/rasmussen-scratch/mrocque/research/relampago/csapr2_qc/hsrhi/20181214/corcsapr2cfrhsrhiqcM1.b1.20181214.222600.csuqc.nc\n",
      "/rasmussen-scratch/mrocque/research/relampago/csapr2_qc/hsrhi/20181214/corcsapr2cfrhsrhiqcM1.b1.20181214.223715.csuqc.nc\n",
      "/rasmussen-scratch/mrocque/research/relampago/csapr2_qc/hsrhi/20181214/corcsapr2cfrhsrhiqcM1.b1.20181214.224100.csuqc.nc\n",
      "/rasmussen-scratch/mrocque/research/relampago/csapr2_qc/hsrhi/20181214/corcsapr2cfrhsrhiqcM1.b1.20181214.225215.csuqc.nc\n",
      "/rasmussen-scratch/mrocque/research/relampago/csapr2_qc/hsrhi/20181214/corcsapr2cfrhsrhiqcM1.b1.20181214.225600.csuqc.nc\n",
      "/rasmussen-scratch/mrocque/research/relampago/csapr2_qc/hsrhi/20181214/corcsapr2cfrhsrhiqcM1.b1.20181214.230715.csuqc.nc\n",
      "/rasmussen-scratch/mrocque/research/relampago/csapr2_qc/hsrhi/20181214/corcsapr2cfrhsrhiqcM1.b1.20181214.231100.csuqc.nc\n",
      "/rasmussen-scratch/mrocque/research/relampago/csapr2_qc/hsrhi/20181214/corcsapr2cfrhsrhiqcM1.b1.20181214.232215.csuqc.nc\n",
      "/rasmussen-scratch/mrocque/research/relampago/csapr2_qc/hsrhi/20181214/corcsapr2cfrhsrhiqcM1.b1.20181214.232600.csuqc.nc\n",
      "/rasmussen-scratch/mrocque/research/relampago/csapr2_qc/hsrhi/20181214/corcsapr2cfrhsrhiqcM1.b1.20181214.233715.csuqc.nc\n",
      "/rasmussen-scratch/mrocque/research/relampago/csapr2_qc/hsrhi/20181214/corcsapr2cfrhsrhiqcM1.b1.20181214.234100.csuqc.nc\n",
      "/rasmussen-scratch/mrocque/research/relampago/csapr2_qc/hsrhi/20181214/corcsapr2cfrhsrhiqcM1.b1.20181214.235215.csuqc.nc\n",
      "/rasmussen-scratch/mrocque/research/relampago/csapr2_qc/hsrhi/20181214/corcsapr2cfrhsrhiqcM1.b1.20181214.235600.csuqc.nc\n"
     ]
    }
   ],
   "source": [
    "#get the velocity and HID from each file at 90deg (vertical)\n",
    "path = '/rasmussen-scratch/mrocque/research/relampago/csapr2_qc/hsrhi/20181214/'\n",
    "speeds = []\n",
    "hids = []\n",
    "times = []\n",
    "\n",
    "for path,dirs,files in sorted(os.walk(path)):\n",
    "    for file in sorted(files):\n",
    "        if fnmatch.fnmatch(file,'*'):\n",
    "            f = os.path.join(path,file)\n",
    "            print (f)\n",
    "            radar = pyart.io.read(f)\n",
    "\n",
    "            for i in np.arange(0, 1, 1): #change the 1 to int(radar.nsweeps) to go thru all 6 sweeps of HSRHI\n",
    "                vel0 = radar.get_field(i, 'VR_qc')[180,:] #180 is about 90 degrees, can make this a range to include more\n",
    "                hid0 = radar.get_field(i, 'HID_qc')[180,:]\n",
    "                speeds.append(vel0)\n",
    "                hids.append(hid0)\n",
    "                times.append(pyart.util.datetime_from_radar(radar))"
   ]
  },
  {
   "cell_type": "code",
   "execution_count": 133,
   "id": "cf960b03",
   "metadata": {},
   "outputs": [
    {
     "name": "stdout",
     "output_type": "stream",
     "text": [
      "(192, 1100)\n",
      "192\n"
     ]
    },
    {
     "name": "stderr",
     "output_type": "stream",
     "text": [
      "/usr/local/anaconda3/lib/python3.8/site-packages/ipykernel/ipkernel.py:287: DeprecationWarning: `should_run_async` will not call `transform_cell` automatically in the future. Please pass the result to `transformed_cell` argument and any exception that happen during thetransform in `preprocessing_exc_tuple` in IPython 7.17 and above.\n",
      "  and should_run_async(code)\n"
     ]
    }
   ],
   "source": [
    "print (np.shape(np.array(speeds)))\n",
    "print (len(speeds))"
   ]
  },
  {
   "cell_type": "code",
   "execution_count": 134,
   "id": "b78ab68f",
   "metadata": {},
   "outputs": [
    {
     "name": "stderr",
     "output_type": "stream",
     "text": [
      "/usr/local/anaconda3/lib/python3.8/site-packages/ipykernel/ipkernel.py:287: DeprecationWarning: `should_run_async` will not call `transform_cell` automatically in the future. Please pass the result to `transformed_cell` argument and any exception that happen during thetransform in `preprocessing_exc_tuple` in IPython 7.17 and above.\n",
      "  and should_run_async(code)\n"
     ]
    }
   ],
   "source": [
    "speeds_unf = [] #dealiased velocity\n",
    "\n",
    "for l in np.arange(0, len(speeds), 1):\n",
    "\n",
    "    test_vel = np.array(speeds)[l,:]\n",
    "    test_vel[test_vel < -30000] = np.nan\n",
    "\n",
    "    #new_vel = np.zeros((len(test_vel)))\n",
    "    new_vel = 1 * test_vel\n",
    "\n",
    "    for j in np.arange(1, len(new_vel), 1): \n",
    "        if (new_vel[j] - new_vel[j-1]) > 16.5:  # if the velocity is blue and folds up to red, this 'if' will correct that\n",
    "            new_vel[j] = new_vel[j] - 16.5 + -16.5\n",
    "    #     elif (new_vel[j] - new_vel[j-1]) < 16.5:\n",
    "    #         new_vel[j] = new_vel[j] + 16.5 + 16.5\n",
    "        else:\n",
    "            new_vel[j] = new_vel[j]\n",
    "            \n",
    "    speeds_unf.append(new_vel)"
   ]
  },
  {
   "cell_type": "code",
   "execution_count": 136,
   "id": "e7eac0c4",
   "metadata": {},
   "outputs": [
    {
     "name": "stderr",
     "output_type": "stream",
     "text": [
      "/usr/local/anaconda3/lib/python3.8/site-packages/ipykernel/ipkernel.py:287: DeprecationWarning: `should_run_async` will not call `transform_cell` automatically in the future. Please pass the result to `transformed_cell` argument and any exception that happen during thetransform in `preprocessing_exc_tuple` in IPython 7.17 and above.\n",
      "  and should_run_async(code)\n"
     ]
    }
   ],
   "source": [
    "speed_arr = np.array(speeds_unf)\n",
    "hid_arr = np.array(hids)\n",
    "vals = np.array(radar.get_gate_x_y_z(0)) \n",
    "z = (vals[2,180,:])/1000   #get the heights along the 90deg ray and convert to km"
   ]
  },
  {
   "cell_type": "code",
   "execution_count": 137,
   "id": "61a814e0",
   "metadata": {},
   "outputs": [
    {
     "name": "stdout",
     "output_type": "stream",
     "text": [
      "(192, 1100)\n",
      "(192, 1100)\n"
     ]
    },
    {
     "name": "stderr",
     "output_type": "stream",
     "text": [
      "/usr/local/anaconda3/lib/python3.8/site-packages/ipykernel/ipkernel.py:287: DeprecationWarning: `should_run_async` will not call `transform_cell` automatically in the future. Please pass the result to `transformed_cell` argument and any exception that happen during thetransform in `preprocessing_exc_tuple` in IPython 7.17 and above.\n",
      "  and should_run_async(code)\n"
     ]
    }
   ],
   "source": [
    "print (np.shape(speed_arr))\n",
    "t = np.arange(0, len(speed_arr), 1)\n",
    "meshz, mesht = np.meshgrid(z, t)  #create a meshgrid for z and t to read into pcolormesh/contourf\n",
    "print (np.shape(mesht))"
   ]
  },
  {
   "cell_type": "code",
   "execution_count": 138,
   "id": "fde879e9",
   "metadata": {
    "scrolled": true
   },
   "outputs": [
    {
     "name": "stdout",
     "output_type": "stream",
     "text": [
      "[cftime.DatetimeGregorian(2018, 12, 14, 6, 7, 15, 0), cftime.DatetimeGregorian(2018, 12, 14, 6, 11, 0, 0), cftime.DatetimeGregorian(2018, 12, 14, 6, 22, 15, 0), cftime.DatetimeGregorian(2018, 12, 14, 6, 26, 0, 0), cftime.DatetimeGregorian(2018, 12, 14, 6, 37, 15, 0), cftime.DatetimeGregorian(2018, 12, 14, 6, 41, 0, 0), cftime.DatetimeGregorian(2018, 12, 14, 6, 52, 15, 0), cftime.DatetimeGregorian(2018, 12, 14, 6, 56, 0, 0)]\n"
     ]
    },
    {
     "name": "stderr",
     "output_type": "stream",
     "text": [
      "/usr/local/anaconda3/lib/python3.8/site-packages/ipykernel/ipkernel.py:287: DeprecationWarning: `should_run_async` will not call `transform_cell` automatically in the future. Please pass the result to `transformed_cell` argument and any exception that happen during thetransform in `preprocessing_exc_tuple` in IPython 7.17 and above.\n",
      "  and should_run_async(code)\n"
     ]
    }
   ],
   "source": [
    "print (times[48:56]) #just checking out some times here"
   ]
  },
  {
   "cell_type": "code",
   "execution_count": 139,
   "id": "7f520650",
   "metadata": {},
   "outputs": [
    {
     "name": "stdout",
     "output_type": "stream",
     "text": [
      "9.131073\n",
      "-20.03571\n"
     ]
    },
    {
     "name": "stderr",
     "output_type": "stream",
     "text": [
      "/usr/local/anaconda3/lib/python3.8/site-packages/ipykernel/ipkernel.py:287: DeprecationWarning: `should_run_async` will not call `transform_cell` automatically in the future. Please pass the result to `transformed_cell` argument and any exception that happen during thetransform in `preprocessing_exc_tuple` in IPython 7.17 and above.\n",
      "  and should_run_async(code)\n"
     ]
    }
   ],
   "source": [
    "#get max and min velocity for dataset\n",
    "print (np.nanmax(speed_arr))\n",
    "print (np.nanmin(speed_arr))"
   ]
  },
  {
   "cell_type": "code",
   "execution_count": 83,
   "id": "0c15edea",
   "metadata": {},
   "outputs": [
    {
     "name": "stderr",
     "output_type": "stream",
     "text": [
      "/usr/local/anaconda3/lib/python3.8/site-packages/ipykernel/ipkernel.py:287: DeprecationWarning: `should_run_async` will not call `transform_cell` automatically in the future. Please pass the result to `transformed_cell` argument and any exception that happen during thetransform in `preprocessing_exc_tuple` in IPython 7.17 and above.\n",
      "  and should_run_async(code)\n"
     ]
    },
    {
     "data": {
      "image/png": "[encoded data removed]",
      "text/plain": [
       "<Figure size 576x360 with 2 Axes>"
      ]
     },
     "metadata": {},
     "output_type": "display_data"
    }
   ],
   "source": [
    "#plot velocity \n",
    "\n",
    "fig = plt.figure(figsize=(8,5))\n",
    "fig.patch.set_facecolor('xkcd:white')\n",
    "\n",
    "plt.pcolormesh(mesht, meshz, speed_arr, cmap='seismic', vmin=-20, vmax=20)\n",
    "#plt.contourf(mesht, meshz, speed_arr, cmap='seismic', levels=np.arange(-20, 20.2, 0.2), extend='both')\n",
    "\n",
    "plt.xticks(np.arange(0, 55, 8), ['0007', '0107', '0207', '0307', '0407', '0507', '0607'])\n",
    "\n",
    "plt.ylim(0, 20)\n",
    "plt.xlim(0, 55)\n",
    "cbar = plt.colorbar(extend='both', ticks=np.arange(-20, 21, 5))\n",
    "cbar.set_label('m s$^{-1}$', fontsize=12)\n",
    "\n",
    "plt.xlabel('Time [UTC]', labelpad=20, fontsize=12)\n",
    "plt.ylabel('Height [km]', labelpad=20, fontsize=12)\n",
    "\n",
    "plt.title('Vertical Motion from CSAPR2 HSRHI\\n20181214', fontsize=14)\n",
    "\n",
    "plt.text(1, 17.5, 'Max: 9.13 m s$^{-1}$\\nMin: $-$20.04 m s$^{-1}$')\n",
    "\n",
    "#plt.savefig('csapr2_hsrhi_vertmot_height_20181214_contour.png', dpi=400, bbox_inches='tight')"
   ]
  },
  {
   "cell_type": "code",
   "execution_count": 141,
   "id": "ae3eacb0",
   "metadata": {},
   "outputs": [
    {
     "name": "stderr",
     "output_type": "stream",
     "text": [
      "/usr/local/anaconda3/lib/python3.8/site-packages/ipykernel/ipkernel.py:287: DeprecationWarning: `should_run_async` will not call `transform_cell` automatically in the future. Please pass the result to `transformed_cell` argument and any exception that happen during thetransform in `preprocessing_exc_tuple` in IPython 7.17 and above.\n",
      "  and should_run_async(code)\n"
     ]
    },
    {
     "data": {
      "image/png": "[encoded data removed]",
      "text/plain": [
       "<Figure size 576x360 with 2 Axes>"
      ]
     },
     "metadata": {},
     "output_type": "display_data"
    }
   ],
   "source": [
    "#plot HID\n",
    "fig = plt.figure(figsize=(8,5))\n",
    "fig.patch.set_facecolor('xkcd:white')\n",
    "\n",
    "plt.pcolormesh(mesht, meshz, hid_arr, cmap=cmaphid, vmin=0, vmax=10)\n",
    "\n",
    "plt.xticks(np.arange(0, 55, 8), ['0007', '0107', '0207', '0307', '0407', '0507', '0607'])\n",
    "\n",
    "plt.ylim(0, 20)\n",
    "plt.xlim(0, 55)\n",
    "cbar = plt.colorbar(extend='neither')#, ticks=np.arange(-20, 21, 5))\n",
    "#cbar.set_label('HID', fontsize=12)\n",
    "cbar.set_ticks(np.arange(1.4, 10, 0.9))\n",
    "cbar.ax.set_yticklabels(['Drizzle', 'Rain', 'Ice Crystals', 'Aggregates',\n",
    "                       'Wet Snow', 'Vertical Ice', 'LD Graupel',\n",
    "                       'HD Graupel', 'Hail', 'Big Drops'])\n",
    "#cbar.ax.set_ylabel('')\n",
    "cbar.ax.tick_params(length=0)\n",
    "\n",
    "plt.xlabel('Time [UTC]', labelpad=20, fontsize=12)\n",
    "plt.ylabel('Height [km]', labelpad=20, fontsize=12)\n",
    "\n",
    "plt.title('Particle Type from CSAPR2 HSRHI\\n20181214', fontsize=14)\n",
    "\n",
    "#plt.text(1, 17.5, 'Max: 9.13 m s$^{-1}$\\nMin: $-$20.04 m s$^{-1}$')\n",
    "\n",
    "#plt.savefig('csapr2_hsrhi_csuhid_height_20181214.png', dpi=400, bbox_inches='tight')"
   ]
  },
  {
   "cell_type": "markdown",
   "id": "a8786fa8",
   "metadata": {},
   "source": [
    "### 20190125"
   ]
  },
  {
   "cell_type": "code",
   "execution_count": 117,
   "id": "574ea9d4",
   "metadata": {
    "scrolled": true
   },
   "outputs": [
    {
     "name": "stderr",
     "output_type": "stream",
     "text": [
      "/usr/local/anaconda3/lib/python3.8/site-packages/ipykernel/ipkernel.py:287: DeprecationWarning: `should_run_async` will not call `transform_cell` automatically in the future. Please pass the result to `transformed_cell` argument and any exception that happen during thetransform in `preprocessing_exc_tuple` in IPython 7.17 and above.\n",
      "  and should_run_async(code)\n"
     ]
    },
    {
     "name": "stdout",
     "output_type": "stream",
     "text": [
      "/rasmussen-scratch/mrocque/research/relampago/csapr2_qc/hsrhi/20190125/corcsapr2cfrhsrhiqcM1.b1.20190125.000715.csuqc.nc\n",
      "/rasmussen-scratch/mrocque/research/relampago/csapr2_qc/hsrhi/20190125/corcsapr2cfrhsrhiqcM1.b1.20190125.001100.csuqc.nc\n",
      "/rasmussen-scratch/mrocque/research/relampago/csapr2_qc/hsrhi/20190125/corcsapr2cfrhsrhiqcM1.b1.20190125.002215.csuqc.nc\n",
      "/rasmussen-scratch/mrocque/research/relampago/csapr2_qc/hsrhi/20190125/corcsapr2cfrhsrhiqcM1.b1.20190125.002600.csuqc.nc\n",
      "/rasmussen-scratch/mrocque/research/relampago/csapr2_qc/hsrhi/20190125/corcsapr2cfrhsrhiqcM1.b1.20190125.003715.csuqc.nc\n",
      "/rasmussen-scratch/mrocque/research/relampago/csapr2_qc/hsrhi/20190125/corcsapr2cfrhsrhiqcM1.b1.20190125.004100.csuqc.nc\n",
      "/rasmussen-scratch/mrocque/research/relampago/csapr2_qc/hsrhi/20190125/corcsapr2cfrhsrhiqcM1.b1.20190125.005215.csuqc.nc\n",
      "/rasmussen-scratch/mrocque/research/relampago/csapr2_qc/hsrhi/20190125/corcsapr2cfrhsrhiqcM1.b1.20190125.005600.csuqc.nc\n",
      "/rasmussen-scratch/mrocque/research/relampago/csapr2_qc/hsrhi/20190125/corcsapr2cfrhsrhiqcM1.b1.20190125.010715.csuqc.nc\n",
      "/rasmussen-scratch/mrocque/research/relampago/csapr2_qc/hsrhi/20190125/corcsapr2cfrhsrhiqcM1.b1.20190125.011100.csuqc.nc\n",
      "/rasmussen-scratch/mrocque/research/relampago/csapr2_qc/hsrhi/20190125/corcsapr2cfrhsrhiqcM1.b1.20190125.012215.csuqc.nc\n",
      "/rasmussen-scratch/mrocque/research/relampago/csapr2_qc/hsrhi/20190125/corcsapr2cfrhsrhiqcM1.b1.20190125.012600.csuqc.nc\n",
      "/rasmussen-scratch/mrocque/research/relampago/csapr2_qc/hsrhi/20190125/corcsapr2cfrhsrhiqcM1.b1.20190125.013715.csuqc.nc\n",
      "/rasmussen-scratch/mrocque/research/relampago/csapr2_qc/hsrhi/20190125/corcsapr2cfrhsrhiqcM1.b1.20190125.014100.csuqc.nc\n",
      "/rasmussen-scratch/mrocque/research/relampago/csapr2_qc/hsrhi/20190125/corcsapr2cfrhsrhiqcM1.b1.20190125.015215.csuqc.nc\n",
      "/rasmussen-scratch/mrocque/research/relampago/csapr2_qc/hsrhi/20190125/corcsapr2cfrhsrhiqcM1.b1.20190125.015600.csuqc.nc\n",
      "/rasmussen-scratch/mrocque/research/relampago/csapr2_qc/hsrhi/20190125/corcsapr2cfrhsrhiqcM1.b1.20190125.020715.csuqc.nc\n",
      "/rasmussen-scratch/mrocque/research/relampago/csapr2_qc/hsrhi/20190125/corcsapr2cfrhsrhiqcM1.b1.20190125.021100.csuqc.nc\n",
      "/rasmussen-scratch/mrocque/research/relampago/csapr2_qc/hsrhi/20190125/corcsapr2cfrhsrhiqcM1.b1.20190125.022215.csuqc.nc\n",
      "/rasmussen-scratch/mrocque/research/relampago/csapr2_qc/hsrhi/20190125/corcsapr2cfrhsrhiqcM1.b1.20190125.022600.csuqc.nc\n",
      "/rasmussen-scratch/mrocque/research/relampago/csapr2_qc/hsrhi/20190125/corcsapr2cfrhsrhiqcM1.b1.20190125.023715.csuqc.nc\n",
      "/rasmussen-scratch/mrocque/research/relampago/csapr2_qc/hsrhi/20190125/corcsapr2cfrhsrhiqcM1.b1.20190125.024100.csuqc.nc\n",
      "/rasmussen-scratch/mrocque/research/relampago/csapr2_qc/hsrhi/20190125/corcsapr2cfrhsrhiqcM1.b1.20190125.025215.csuqc.nc\n",
      "/rasmussen-scratch/mrocque/research/relampago/csapr2_qc/hsrhi/20190125/corcsapr2cfrhsrhiqcM1.b1.20190125.025600.csuqc.nc\n",
      "/rasmussen-scratch/mrocque/research/relampago/csapr2_qc/hsrhi/20190125/corcsapr2cfrhsrhiqcM1.b1.20190125.030715.csuqc.nc\n",
      "/rasmussen-scratch/mrocque/research/relampago/csapr2_qc/hsrhi/20190125/corcsapr2cfrhsrhiqcM1.b1.20190125.031100.csuqc.nc\n",
      "/rasmussen-scratch/mrocque/research/relampago/csapr2_qc/hsrhi/20190125/corcsapr2cfrhsrhiqcM1.b1.20190125.032215.csuqc.nc\n",
      "/rasmussen-scratch/mrocque/research/relampago/csapr2_qc/hsrhi/20190125/corcsapr2cfrhsrhiqcM1.b1.20190125.032600.csuqc.nc\n",
      "/rasmussen-scratch/mrocque/research/relampago/csapr2_qc/hsrhi/20190125/corcsapr2cfrhsrhiqcM1.b1.20190125.033715.csuqc.nc\n",
      "/rasmussen-scratch/mrocque/research/relampago/csapr2_qc/hsrhi/20190125/corcsapr2cfrhsrhiqcM1.b1.20190125.034100.csuqc.nc\n",
      "/rasmussen-scratch/mrocque/research/relampago/csapr2_qc/hsrhi/20190125/corcsapr2cfrhsrhiqcM1.b1.20190125.035215.csuqc.nc\n",
      "/rasmussen-scratch/mrocque/research/relampago/csapr2_qc/hsrhi/20190125/corcsapr2cfrhsrhiqcM1.b1.20190125.035600.csuqc.nc\n",
      "/rasmussen-scratch/mrocque/research/relampago/csapr2_qc/hsrhi/20190125/corcsapr2cfrhsrhiqcM1.b1.20190125.040715.csuqc.nc\n",
      "/rasmussen-scratch/mrocque/research/relampago/csapr2_qc/hsrhi/20190125/corcsapr2cfrhsrhiqcM1.b1.20190125.041100.csuqc.nc\n",
      "/rasmussen-scratch/mrocque/research/relampago/csapr2_qc/hsrhi/20190125/corcsapr2cfrhsrhiqcM1.b1.20190125.042215.csuqc.nc\n",
      "/rasmussen-scratch/mrocque/research/relampago/csapr2_qc/hsrhi/20190125/corcsapr2cfrhsrhiqcM1.b1.20190125.042600.csuqc.nc\n",
      "/rasmussen-scratch/mrocque/research/relampago/csapr2_qc/hsrhi/20190125/corcsapr2cfrhsrhiqcM1.b1.20190125.043715.csuqc.nc\n",
      "/rasmussen-scratch/mrocque/research/relampago/csapr2_qc/hsrhi/20190125/corcsapr2cfrhsrhiqcM1.b1.20190125.044100.csuqc.nc\n",
      "/rasmussen-scratch/mrocque/research/relampago/csapr2_qc/hsrhi/20190125/corcsapr2cfrhsrhiqcM1.b1.20190125.045215.csuqc.nc\n",
      "/rasmussen-scratch/mrocque/research/relampago/csapr2_qc/hsrhi/20190125/corcsapr2cfrhsrhiqcM1.b1.20190125.045600.csuqc.nc\n",
      "/rasmussen-scratch/mrocque/research/relampago/csapr2_qc/hsrhi/20190125/corcsapr2cfrhsrhiqcM1.b1.20190125.050715.csuqc.nc\n",
      "/rasmussen-scratch/mrocque/research/relampago/csapr2_qc/hsrhi/20190125/corcsapr2cfrhsrhiqcM1.b1.20190125.051100.csuqc.nc\n",
      "/rasmussen-scratch/mrocque/research/relampago/csapr2_qc/hsrhi/20190125/corcsapr2cfrhsrhiqcM1.b1.20190125.052215.csuqc.nc\n",
      "/rasmussen-scratch/mrocque/research/relampago/csapr2_qc/hsrhi/20190125/corcsapr2cfrhsrhiqcM1.b1.20190125.052600.csuqc.nc\n",
      "/rasmussen-scratch/mrocque/research/relampago/csapr2_qc/hsrhi/20190125/corcsapr2cfrhsrhiqcM1.b1.20190125.053715.csuqc.nc\n",
      "/rasmussen-scratch/mrocque/research/relampago/csapr2_qc/hsrhi/20190125/corcsapr2cfrhsrhiqcM1.b1.20190125.054100.csuqc.nc\n",
      "/rasmussen-scratch/mrocque/research/relampago/csapr2_qc/hsrhi/20190125/corcsapr2cfrhsrhiqcM1.b1.20190125.055215.csuqc.nc\n",
      "/rasmussen-scratch/mrocque/research/relampago/csapr2_qc/hsrhi/20190125/corcsapr2cfrhsrhiqcM1.b1.20190125.055600.csuqc.nc\n",
      "/rasmussen-scratch/mrocque/research/relampago/csapr2_qc/hsrhi/20190125/corcsapr2cfrhsrhiqcM1.b1.20190125.060715.csuqc.nc\n",
      "/rasmussen-scratch/mrocque/research/relampago/csapr2_qc/hsrhi/20190125/corcsapr2cfrhsrhiqcM1.b1.20190125.061100.csuqc.nc\n",
      "/rasmussen-scratch/mrocque/research/relampago/csapr2_qc/hsrhi/20190125/corcsapr2cfrhsrhiqcM1.b1.20190125.062215.csuqc.nc\n",
      "/rasmussen-scratch/mrocque/research/relampago/csapr2_qc/hsrhi/20190125/corcsapr2cfrhsrhiqcM1.b1.20190125.062600.csuqc.nc\n",
      "/rasmussen-scratch/mrocque/research/relampago/csapr2_qc/hsrhi/20190125/corcsapr2cfrhsrhiqcM1.b1.20190125.063715.csuqc.nc\n",
      "/rasmussen-scratch/mrocque/research/relampago/csapr2_qc/hsrhi/20190125/corcsapr2cfrhsrhiqcM1.b1.20190125.064100.csuqc.nc\n",
      "/rasmussen-scratch/mrocque/research/relampago/csapr2_qc/hsrhi/20190125/corcsapr2cfrhsrhiqcM1.b1.20190125.065215.csuqc.nc\n",
      "/rasmussen-scratch/mrocque/research/relampago/csapr2_qc/hsrhi/20190125/corcsapr2cfrhsrhiqcM1.b1.20190125.065600.csuqc.nc\n",
      "/rasmussen-scratch/mrocque/research/relampago/csapr2_qc/hsrhi/20190125/corcsapr2cfrhsrhiqcM1.b1.20190125.070715.csuqc.nc\n",
      "/rasmussen-scratch/mrocque/research/relampago/csapr2_qc/hsrhi/20190125/corcsapr2cfrhsrhiqcM1.b1.20190125.071100.csuqc.nc\n",
      "/rasmussen-scratch/mrocque/research/relampago/csapr2_qc/hsrhi/20190125/corcsapr2cfrhsrhiqcM1.b1.20190125.072215.csuqc.nc\n",
      "/rasmussen-scratch/mrocque/research/relampago/csapr2_qc/hsrhi/20190125/corcsapr2cfrhsrhiqcM1.b1.20190125.072600.csuqc.nc\n",
      "/rasmussen-scratch/mrocque/research/relampago/csapr2_qc/hsrhi/20190125/corcsapr2cfrhsrhiqcM1.b1.20190125.073715.csuqc.nc\n",
      "/rasmussen-scratch/mrocque/research/relampago/csapr2_qc/hsrhi/20190125/corcsapr2cfrhsrhiqcM1.b1.20190125.074100.csuqc.nc\n",
      "/rasmussen-scratch/mrocque/research/relampago/csapr2_qc/hsrhi/20190125/corcsapr2cfrhsrhiqcM1.b1.20190125.075215.csuqc.nc\n",
      "/rasmussen-scratch/mrocque/research/relampago/csapr2_qc/hsrhi/20190125/corcsapr2cfrhsrhiqcM1.b1.20190125.075600.csuqc.nc\n",
      "/rasmussen-scratch/mrocque/research/relampago/csapr2_qc/hsrhi/20190125/corcsapr2cfrhsrhiqcM1.b1.20190125.080715.csuqc.nc\n",
      "/rasmussen-scratch/mrocque/research/relampago/csapr2_qc/hsrhi/20190125/corcsapr2cfrhsrhiqcM1.b1.20190125.081100.csuqc.nc\n",
      "/rasmussen-scratch/mrocque/research/relampago/csapr2_qc/hsrhi/20190125/corcsapr2cfrhsrhiqcM1.b1.20190125.082215.csuqc.nc\n",
      "/rasmussen-scratch/mrocque/research/relampago/csapr2_qc/hsrhi/20190125/corcsapr2cfrhsrhiqcM1.b1.20190125.082600.csuqc.nc\n"
     ]
    },
    {
     "name": "stdout",
     "output_type": "stream",
     "text": [
      "/rasmussen-scratch/mrocque/research/relampago/csapr2_qc/hsrhi/20190125/corcsapr2cfrhsrhiqcM1.b1.20190125.083715.csuqc.nc\n",
      "/rasmussen-scratch/mrocque/research/relampago/csapr2_qc/hsrhi/20190125/corcsapr2cfrhsrhiqcM1.b1.20190125.084100.csuqc.nc\n",
      "/rasmussen-scratch/mrocque/research/relampago/csapr2_qc/hsrhi/20190125/corcsapr2cfrhsrhiqcM1.b1.20190125.085215.csuqc.nc\n",
      "/rasmussen-scratch/mrocque/research/relampago/csapr2_qc/hsrhi/20190125/corcsapr2cfrhsrhiqcM1.b1.20190125.085600.csuqc.nc\n",
      "/rasmussen-scratch/mrocque/research/relampago/csapr2_qc/hsrhi/20190125/corcsapr2cfrhsrhiqcM1.b1.20190125.090715.csuqc.nc\n",
      "/rasmussen-scratch/mrocque/research/relampago/csapr2_qc/hsrhi/20190125/corcsapr2cfrhsrhiqcM1.b1.20190125.091100.csuqc.nc\n",
      "/rasmussen-scratch/mrocque/research/relampago/csapr2_qc/hsrhi/20190125/corcsapr2cfrhsrhiqcM1.b1.20190125.092215.csuqc.nc\n",
      "/rasmussen-scratch/mrocque/research/relampago/csapr2_qc/hsrhi/20190125/corcsapr2cfrhsrhiqcM1.b1.20190125.092600.csuqc.nc\n",
      "/rasmussen-scratch/mrocque/research/relampago/csapr2_qc/hsrhi/20190125/corcsapr2cfrhsrhiqcM1.b1.20190125.093715.csuqc.nc\n",
      "/rasmussen-scratch/mrocque/research/relampago/csapr2_qc/hsrhi/20190125/corcsapr2cfrhsrhiqcM1.b1.20190125.094100.csuqc.nc\n",
      "/rasmussen-scratch/mrocque/research/relampago/csapr2_qc/hsrhi/20190125/corcsapr2cfrhsrhiqcM1.b1.20190125.095215.csuqc.nc\n",
      "/rasmussen-scratch/mrocque/research/relampago/csapr2_qc/hsrhi/20190125/corcsapr2cfrhsrhiqcM1.b1.20190125.095600.csuqc.nc\n",
      "/rasmussen-scratch/mrocque/research/relampago/csapr2_qc/hsrhi/20190125/corcsapr2cfrhsrhiqcM1.b1.20190125.100715.csuqc.nc\n",
      "/rasmussen-scratch/mrocque/research/relampago/csapr2_qc/hsrhi/20190125/corcsapr2cfrhsrhiqcM1.b1.20190125.101100.csuqc.nc\n",
      "/rasmussen-scratch/mrocque/research/relampago/csapr2_qc/hsrhi/20190125/corcsapr2cfrhsrhiqcM1.b1.20190125.102215.csuqc.nc\n",
      "/rasmussen-scratch/mrocque/research/relampago/csapr2_qc/hsrhi/20190125/corcsapr2cfrhsrhiqcM1.b1.20190125.165237.csuqc.nc\n",
      "/rasmussen-scratch/mrocque/research/relampago/csapr2_qc/hsrhi/20190125/corcsapr2cfrhsrhiqcM1.b1.20190125.165629.csuqc.nc\n",
      "/rasmussen-scratch/mrocque/research/relampago/csapr2_qc/hsrhi/20190125/corcsapr2cfrhsrhiqcM1.b1.20190125.170724.csuqc.nc\n",
      "/rasmussen-scratch/mrocque/research/relampago/csapr2_qc/hsrhi/20190125/corcsapr2cfrhsrhiqcM1.b1.20190125.171117.csuqc.nc\n",
      "/rasmussen-scratch/mrocque/research/relampago/csapr2_qc/hsrhi/20190125/corcsapr2cfrhsrhiqcM1.b1.20190125.172215.csuqc.nc\n",
      "/rasmussen-scratch/mrocque/research/relampago/csapr2_qc/hsrhi/20190125/corcsapr2cfrhsrhiqcM1.b1.20190125.172600.csuqc.nc\n",
      "/rasmussen-scratch/mrocque/research/relampago/csapr2_qc/hsrhi/20190125/corcsapr2cfrhsrhiqcM1.b1.20190125.173714.csuqc.nc\n",
      "/rasmussen-scratch/mrocque/research/relampago/csapr2_qc/hsrhi/20190125/corcsapr2cfrhsrhiqcM1.b1.20190125.174100.csuqc.nc\n",
      "/rasmussen-scratch/mrocque/research/relampago/csapr2_qc/hsrhi/20190125/corcsapr2cfrhsrhiqcM1.b1.20190125.175214.csuqc.nc\n",
      "/rasmussen-scratch/mrocque/research/relampago/csapr2_qc/hsrhi/20190125/corcsapr2cfrhsrhiqcM1.b1.20190125.175600.csuqc.nc\n",
      "/rasmussen-scratch/mrocque/research/relampago/csapr2_qc/hsrhi/20190125/corcsapr2cfrhsrhiqcM1.b1.20190125.180714.csuqc.nc\n",
      "/rasmussen-scratch/mrocque/research/relampago/csapr2_qc/hsrhi/20190125/corcsapr2cfrhsrhiqcM1.b1.20190125.181100.csuqc.nc\n",
      "/rasmussen-scratch/mrocque/research/relampago/csapr2_qc/hsrhi/20190125/corcsapr2cfrhsrhiqcM1.b1.20190125.182214.csuqc.nc\n",
      "/rasmussen-scratch/mrocque/research/relampago/csapr2_qc/hsrhi/20190125/corcsapr2cfrhsrhiqcM1.b1.20190125.182600.csuqc.nc\n",
      "/rasmussen-scratch/mrocque/research/relampago/csapr2_qc/hsrhi/20190125/corcsapr2cfrhsrhiqcM1.b1.20190125.183714.csuqc.nc\n",
      "/rasmussen-scratch/mrocque/research/relampago/csapr2_qc/hsrhi/20190125/corcsapr2cfrhsrhiqcM1.b1.20190125.184100.csuqc.nc\n",
      "/rasmussen-scratch/mrocque/research/relampago/csapr2_qc/hsrhi/20190125/corcsapr2cfrhsrhiqcM1.b1.20190125.185214.csuqc.nc\n",
      "/rasmussen-scratch/mrocque/research/relampago/csapr2_qc/hsrhi/20190125/corcsapr2cfrhsrhiqcM1.b1.20190125.185600.csuqc.nc\n",
      "/rasmussen-scratch/mrocque/research/relampago/csapr2_qc/hsrhi/20190125/corcsapr2cfrhsrhiqcM1.b1.20190125.190714.csuqc.nc\n",
      "/rasmussen-scratch/mrocque/research/relampago/csapr2_qc/hsrhi/20190125/corcsapr2cfrhsrhiqcM1.b1.20190125.191100.csuqc.nc\n",
      "/rasmussen-scratch/mrocque/research/relampago/csapr2_qc/hsrhi/20190125/corcsapr2cfrhsrhiqcM1.b1.20190125.192215.csuqc.nc\n",
      "/rasmussen-scratch/mrocque/research/relampago/csapr2_qc/hsrhi/20190125/corcsapr2cfrhsrhiqcM1.b1.20190125.192600.csuqc.nc\n",
      "/rasmussen-scratch/mrocque/research/relampago/csapr2_qc/hsrhi/20190125/corcsapr2cfrhsrhiqcM1.b1.20190125.193715.csuqc.nc\n",
      "/rasmussen-scratch/mrocque/research/relampago/csapr2_qc/hsrhi/20190125/corcsapr2cfrhsrhiqcM1.b1.20190125.194100.csuqc.nc\n",
      "/rasmussen-scratch/mrocque/research/relampago/csapr2_qc/hsrhi/20190125/corcsapr2cfrhsrhiqcM1.b1.20190125.195215.csuqc.nc\n",
      "/rasmussen-scratch/mrocque/research/relampago/csapr2_qc/hsrhi/20190125/corcsapr2cfrhsrhiqcM1.b1.20190125.195600.csuqc.nc\n",
      "/rasmussen-scratch/mrocque/research/relampago/csapr2_qc/hsrhi/20190125/corcsapr2cfrhsrhiqcM1.b1.20190125.200715.csuqc.nc\n",
      "/rasmussen-scratch/mrocque/research/relampago/csapr2_qc/hsrhi/20190125/corcsapr2cfrhsrhiqcM1.b1.20190125.201100.csuqc.nc\n",
      "/rasmussen-scratch/mrocque/research/relampago/csapr2_qc/hsrhi/20190125/corcsapr2cfrhsrhiqcM1.b1.20190125.202215.csuqc.nc\n",
      "/rasmussen-scratch/mrocque/research/relampago/csapr2_qc/hsrhi/20190125/corcsapr2cfrhsrhiqcM1.b1.20190125.202600.csuqc.nc\n",
      "/rasmussen-scratch/mrocque/research/relampago/csapr2_qc/hsrhi/20190125/corcsapr2cfrhsrhiqcM1.b1.20190125.203715.csuqc.nc\n",
      "/rasmussen-scratch/mrocque/research/relampago/csapr2_qc/hsrhi/20190125/corcsapr2cfrhsrhiqcM1.b1.20190125.204100.csuqc.nc\n",
      "/rasmussen-scratch/mrocque/research/relampago/csapr2_qc/hsrhi/20190125/corcsapr2cfrhsrhiqcM1.b1.20190125.205215.csuqc.nc\n",
      "/rasmussen-scratch/mrocque/research/relampago/csapr2_qc/hsrhi/20190125/corcsapr2cfrhsrhiqcM1.b1.20190125.205600.csuqc.nc\n",
      "/rasmussen-scratch/mrocque/research/relampago/csapr2_qc/hsrhi/20190125/corcsapr2cfrhsrhiqcM1.b1.20190125.210715.csuqc.nc\n",
      "/rasmussen-scratch/mrocque/research/relampago/csapr2_qc/hsrhi/20190125/corcsapr2cfrhsrhiqcM1.b1.20190125.211100.csuqc.nc\n",
      "/rasmussen-scratch/mrocque/research/relampago/csapr2_qc/hsrhi/20190125/corcsapr2cfrhsrhiqcM1.b1.20190125.212214.csuqc.nc\n",
      "/rasmussen-scratch/mrocque/research/relampago/csapr2_qc/hsrhi/20190125/corcsapr2cfrhsrhiqcM1.b1.20190125.212600.csuqc.nc\n",
      "/rasmussen-scratch/mrocque/research/relampago/csapr2_qc/hsrhi/20190125/corcsapr2cfrhsrhiqcM1.b1.20190125.213715.csuqc.nc\n",
      "/rasmussen-scratch/mrocque/research/relampago/csapr2_qc/hsrhi/20190125/corcsapr2cfrhsrhiqcM1.b1.20190125.214100.csuqc.nc\n",
      "/rasmussen-scratch/mrocque/research/relampago/csapr2_qc/hsrhi/20190125/corcsapr2cfrhsrhiqcM1.b1.20190125.215215.csuqc.nc\n",
      "/rasmussen-scratch/mrocque/research/relampago/csapr2_qc/hsrhi/20190125/corcsapr2cfrhsrhiqcM1.b1.20190125.215600.csuqc.nc\n",
      "/rasmussen-scratch/mrocque/research/relampago/csapr2_qc/hsrhi/20190125/corcsapr2cfrhsrhiqcM1.b1.20190125.220714.csuqc.nc\n",
      "/rasmussen-scratch/mrocque/research/relampago/csapr2_qc/hsrhi/20190125/corcsapr2cfrhsrhiqcM1.b1.20190125.221108.csuqc.nc\n",
      "/rasmussen-scratch/mrocque/research/relampago/csapr2_qc/hsrhi/20190125/corcsapr2cfrhsrhiqcM1.b1.20190125.222215.csuqc.nc\n",
      "/rasmussen-scratch/mrocque/research/relampago/csapr2_qc/hsrhi/20190125/corcsapr2cfrhsrhiqcM1.b1.20190125.222607.csuqc.nc\n",
      "/rasmussen-scratch/mrocque/research/relampago/csapr2_qc/hsrhi/20190125/corcsapr2cfrhsrhiqcM1.b1.20190125.223715.csuqc.nc\n",
      "/rasmussen-scratch/mrocque/research/relampago/csapr2_qc/hsrhi/20190125/corcsapr2cfrhsrhiqcM1.b1.20190125.224100.csuqc.nc\n",
      "/rasmussen-scratch/mrocque/research/relampago/csapr2_qc/hsrhi/20190125/corcsapr2cfrhsrhiqcM1.b1.20190125.225215.csuqc.nc\n",
      "/rasmussen-scratch/mrocque/research/relampago/csapr2_qc/hsrhi/20190125/corcsapr2cfrhsrhiqcM1.b1.20190125.225600.csuqc.nc\n",
      "/rasmussen-scratch/mrocque/research/relampago/csapr2_qc/hsrhi/20190125/corcsapr2cfrhsrhiqcM1.b1.20190125.230714.csuqc.nc\n",
      "/rasmussen-scratch/mrocque/research/relampago/csapr2_qc/hsrhi/20190125/corcsapr2cfrhsrhiqcM1.b1.20190125.231100.csuqc.nc\n",
      "/rasmussen-scratch/mrocque/research/relampago/csapr2_qc/hsrhi/20190125/corcsapr2cfrhsrhiqcM1.b1.20190125.232215.csuqc.nc\n"
     ]
    },
    {
     "name": "stdout",
     "output_type": "stream",
     "text": [
      "/rasmussen-scratch/mrocque/research/relampago/csapr2_qc/hsrhi/20190125/corcsapr2cfrhsrhiqcM1.b1.20190125.232600.csuqc.nc\n",
      "/rasmussen-scratch/mrocque/research/relampago/csapr2_qc/hsrhi/20190125/corcsapr2cfrhsrhiqcM1.b1.20190125.233715.csuqc.nc\n",
      "/rasmussen-scratch/mrocque/research/relampago/csapr2_qc/hsrhi/20190125/corcsapr2cfrhsrhiqcM1.b1.20190125.234100.csuqc.nc\n",
      "/rasmussen-scratch/mrocque/research/relampago/csapr2_qc/hsrhi/20190125/corcsapr2cfrhsrhiqcM1.b1.20190125.235215.csuqc.nc\n",
      "/rasmussen-scratch/mrocque/research/relampago/csapr2_qc/hsrhi/20190125/corcsapr2cfrhsrhiqcM1.b1.20190125.235600.csuqc.nc\n"
     ]
    }
   ],
   "source": [
    "path = '/rasmussen-scratch/mrocque/research/relampago/csapr2_qc/hsrhi/20190125/'\n",
    "speeds = []\n",
    "times = []\n",
    "hids = []\n",
    "\n",
    "for path,dirs,files in sorted(os.walk(path)):\n",
    "    for file in sorted(files):\n",
    "        if fnmatch.fnmatch(file,'*'):\n",
    "            f = os.path.join(path,file)\n",
    "\n",
    "# files = sorted(filter(os.path.isfile, glob.glob(path + '*')))\n",
    "# #print (files)\n",
    "\n",
    "#for f in files:\n",
    "            print (f)\n",
    "            radar = pyart.io.read(f)\n",
    "\n",
    "            for i in np.arange(0, 1, 1):\n",
    "                vel0 = radar.get_field(i, 'VR_qc')[180,:]\n",
    "                hid0 = radar.get_field(i, 'HID_qc')[180,:]\n",
    "                #vals = np.array(radar.get_gate_x_y_z(0))\n",
    "                #z = (vals[2,180,:])/1000\n",
    "                #heights.append(z)\n",
    "                speeds.append(vel0)\n",
    "                hids.append(hid0)\n",
    "                times.append(pyart.util.datetime_from_radar(radar))"
   ]
  },
  {
   "cell_type": "code",
   "execution_count": 118,
   "id": "a4ad7cfe",
   "metadata": {},
   "outputs": [
    {
     "name": "stdout",
     "output_type": "stream",
     "text": [
      "(141, 1100)\n",
      "141\n"
     ]
    },
    {
     "name": "stderr",
     "output_type": "stream",
     "text": [
      "/usr/local/anaconda3/lib/python3.8/site-packages/ipykernel/ipkernel.py:287: DeprecationWarning: `should_run_async` will not call `transform_cell` automatically in the future. Please pass the result to `transformed_cell` argument and any exception that happen during thetransform in `preprocessing_exc_tuple` in IPython 7.17 and above.\n",
      "  and should_run_async(code)\n"
     ]
    }
   ],
   "source": [
    "print (np.shape(np.array(speeds)))\n",
    "print (len(speeds))"
   ]
  },
  {
   "cell_type": "code",
   "execution_count": 119,
   "id": "f5124b07",
   "metadata": {},
   "outputs": [
    {
     "name": "stderr",
     "output_type": "stream",
     "text": [
      "/usr/local/anaconda3/lib/python3.8/site-packages/ipykernel/ipkernel.py:287: DeprecationWarning: `should_run_async` will not call `transform_cell` automatically in the future. Please pass the result to `transformed_cell` argument and any exception that happen during thetransform in `preprocessing_exc_tuple` in IPython 7.17 and above.\n",
      "  and should_run_async(code)\n"
     ]
    }
   ],
   "source": [
    "speeds_unf = []\n",
    "\n",
    "for l in np.arange(0, len(speeds), 1):\n",
    "\n",
    "    test_vel = np.array(speeds)[l,:]\n",
    "    test_vel[test_vel < -30000] = np.nan\n",
    "\n",
    "    #new_vel = np.zeros((len(test_vel)))\n",
    "    new_vel = 1 * test_vel\n",
    "\n",
    "    for j in np.arange(1, len(new_vel), 1):\n",
    "        if (new_vel[j] - new_vel[j-1]) > 16.5:\n",
    "            new_vel[j] = new_vel[j] - 16.5 + -16.5\n",
    "    #     elif (new_vel[j] - new_vel[j-1]) < 16.5:\n",
    "    #         new_vel[j] = new_vel[j] + 16.5 + 16.5\n",
    "        else:\n",
    "            new_vel[j] = new_vel[j]\n",
    "            \n",
    "    speeds_unf.append(new_vel)"
   ]
  },
  {
   "cell_type": "code",
   "execution_count": 120,
   "id": "ba0a0a7f",
   "metadata": {},
   "outputs": [
    {
     "name": "stdout",
     "output_type": "stream",
     "text": [
      "(141, 1100)\n"
     ]
    },
    {
     "name": "stderr",
     "output_type": "stream",
     "text": [
      "/usr/local/anaconda3/lib/python3.8/site-packages/ipykernel/ipkernel.py:287: DeprecationWarning: `should_run_async` will not call `transform_cell` automatically in the future. Please pass the result to `transformed_cell` argument and any exception that happen during thetransform in `preprocessing_exc_tuple` in IPython 7.17 and above.\n",
      "  and should_run_async(code)\n"
     ]
    }
   ],
   "source": [
    "print (np.shape(np.array(speeds_unf)))"
   ]
  },
  {
   "cell_type": "code",
   "execution_count": 121,
   "id": "beb1de07",
   "metadata": {},
   "outputs": [
    {
     "name": "stderr",
     "output_type": "stream",
     "text": [
      "/usr/local/anaconda3/lib/python3.8/site-packages/ipykernel/ipkernel.py:287: DeprecationWarning: `should_run_async` will not call `transform_cell` automatically in the future. Please pass the result to `transformed_cell` argument and any exception that happen during thetransform in `preprocessing_exc_tuple` in IPython 7.17 and above.\n",
      "  and should_run_async(code)\n"
     ]
    }
   ],
   "source": [
    "speed_arr = np.array(speeds_unf)\n",
    "hid_arr = np.array(hids)\n",
    "vals = np.array(radar.get_gate_x_y_z(0))\n",
    "z = (vals[2,180,:])/1000"
   ]
  },
  {
   "cell_type": "code",
   "execution_count": 122,
   "id": "599f2dbf",
   "metadata": {},
   "outputs": [
    {
     "name": "stdout",
     "output_type": "stream",
     "text": [
      "(141, 1100)\n",
      "(141, 1100)\n"
     ]
    },
    {
     "name": "stderr",
     "output_type": "stream",
     "text": [
      "/usr/local/anaconda3/lib/python3.8/site-packages/ipykernel/ipkernel.py:287: DeprecationWarning: `should_run_async` will not call `transform_cell` automatically in the future. Please pass the result to `transformed_cell` argument and any exception that happen during thetransform in `preprocessing_exc_tuple` in IPython 7.17 and above.\n",
      "  and should_run_async(code)\n"
     ]
    }
   ],
   "source": [
    "print (np.shape(speed_arr))\n",
    "t = np.arange(0, len(speed_arr), 1)\n",
    "meshz, mesht = np.meshgrid(z, t)\n",
    "print (np.shape(mesht))"
   ]
  },
  {
   "cell_type": "code",
   "execution_count": 106,
   "id": "48579b3c",
   "metadata": {},
   "outputs": [
    {
     "name": "stdout",
     "output_type": "stream",
     "text": [
      "[cftime.DatetimeGregorian(2019, 1, 25, 22, 52, 15, 0), cftime.DatetimeGregorian(2019, 1, 25, 22, 56, 0, 0), cftime.DatetimeGregorian(2019, 1, 25, 23, 7, 14, 0), cftime.DatetimeGregorian(2019, 1, 25, 23, 11, 0, 0), cftime.DatetimeGregorian(2019, 1, 25, 23, 22, 15, 0), cftime.DatetimeGregorian(2019, 1, 25, 23, 26, 0, 0), cftime.DatetimeGregorian(2019, 1, 25, 23, 37, 15, 0), cftime.DatetimeGregorian(2019, 1, 25, 23, 41, 0, 0)]\n"
     ]
    },
    {
     "name": "stderr",
     "output_type": "stream",
     "text": [
      "/usr/local/anaconda3/lib/python3.8/site-packages/ipykernel/ipkernel.py:287: DeprecationWarning: `should_run_async` will not call `transform_cell` automatically in the future. Please pass the result to `transformed_cell` argument and any exception that happen during thetransform in `preprocessing_exc_tuple` in IPython 7.17 and above.\n",
      "  and should_run_async(code)\n"
     ]
    }
   ],
   "source": [
    "print (times[131:139])"
   ]
  },
  {
   "cell_type": "code",
   "execution_count": 94,
   "id": "aa5a8a38",
   "metadata": {},
   "outputs": [
    {
     "name": "stdout",
     "output_type": "stream",
     "text": [
      "10.657113\n",
      "-19.500689\n"
     ]
    },
    {
     "name": "stderr",
     "output_type": "stream",
     "text": [
      "/usr/local/anaconda3/lib/python3.8/site-packages/ipykernel/ipkernel.py:287: DeprecationWarning: `should_run_async` will not call `transform_cell` automatically in the future. Please pass the result to `transformed_cell` argument and any exception that happen during thetransform in `preprocessing_exc_tuple` in IPython 7.17 and above.\n",
      "  and should_run_async(code)\n"
     ]
    }
   ],
   "source": [
    "print (np.nanmax(speed_arr))\n",
    "print (np.nanmin(speed_arr))"
   ]
  },
  {
   "cell_type": "code",
   "execution_count": 125,
   "id": "5539d210",
   "metadata": {},
   "outputs": [
    {
     "name": "stderr",
     "output_type": "stream",
     "text": [
      "/usr/local/anaconda3/lib/python3.8/site-packages/ipykernel/ipkernel.py:287: DeprecationWarning: `should_run_async` will not call `transform_cell` automatically in the future. Please pass the result to `transformed_cell` argument and any exception that happen during thetransform in `preprocessing_exc_tuple` in IPython 7.17 and above.\n",
      "  and should_run_async(code)\n"
     ]
    }
   ],
   "source": []
  },
  {
   "cell_type": "code",
   "execution_count": 131,
   "id": "62331fc8",
   "metadata": {},
   "outputs": [
    {
     "name": "stderr",
     "output_type": "stream",
     "text": [
      "/usr/local/anaconda3/lib/python3.8/site-packages/ipykernel/ipkernel.py:287: DeprecationWarning: `should_run_async` will not call `transform_cell` automatically in the future. Please pass the result to `transformed_cell` argument and any exception that happen during thetransform in `preprocessing_exc_tuple` in IPython 7.17 and above.\n",
      "  and should_run_async(code)\n"
     ]
    },
    {
     "data": {
      "text/plain": [
       "Text(0.5, 1.0, 'Particle Type from CSAPR2 HSRHI\\n20190125')"
      ]
     },
     "execution_count": 131,
     "metadata": {},
     "output_type": "execute_result"
    },
    {
     "data": {
      "image/png": "[encoded data removed]",
      "text/plain": [
       "<Figure size 576x360 with 2 Axes>"
      ]
     },
     "metadata": {},
     "output_type": "display_data"
    }
   ],
   "source": [
    "fig = plt.figure(figsize=(8,5))\n",
    "fig.patch.set_facecolor('xkcd:white')\n",
    "\n",
    "plt.pcolormesh(mesht, meshz, hid_arr, cmap=cmaphid, vmin=0, vmax=10)\n",
    "#plt.contourf(mesht, meshz, hid_arr, cmap=cmaphid, levels=np.arange(0, 11, 1))#, extend='both')\n",
    "\n",
    "plt.xticks(np.arange(83, 141, 8), ['1652', '1752', '1852', '1952', '2052', '2152', '2252', '2352'])\n",
    "\n",
    "plt.ylim(0, 20)\n",
    "plt.xlim(83, 140)\n",
    "cbar = plt.colorbar(extend='neither')#, ticks=np.arange(-20, 21, 5))\n",
    "#cbar.set_label('HID', fontsize=12)\n",
    "cbar.set_ticks(np.arange(1.4, 10, 0.9))\n",
    "cbar.ax.set_yticklabels(['Drizzle', 'Rain', 'Ice Crystals', 'Aggregates',\n",
    "                       'Wet Snow', 'Vertical Ice', 'LD Graupel',\n",
    "                       'HD Graupel', 'Hail', 'Big Drops'])\n",
    "#cbar.ax.set_ylabel('')\n",
    "cbar.ax.tick_params(length=0)\n",
    "    \n",
    "    \n",
    "plt.xlabel('Time [UTC]', labelpad=20, fontsize=12)\n",
    "plt.ylabel('Height [km]', labelpad=20, fontsize=12)\n",
    "\n",
    "plt.title('Particle Type from CSAPR2 HSRHI\\n20190125', fontsize=14)\n",
    "\n",
    "#plt.text(84, 17.5, 'Max: 10.66 m s$^{-1}$\\nMin: $-$19.50 m s$^{-1}$')\n",
    "\n",
    "#plt.savefig('csapr2_hsrhi_csuhid_height_20190125.png', dpi=400, bbox_inches='tight')"
   ]
  },
  {
   "cell_type": "code",
   "execution_count": 115,
   "id": "d9bc6e70",
   "metadata": {},
   "outputs": [
    {
     "name": "stderr",
     "output_type": "stream",
     "text": [
      "/usr/local/anaconda3/lib/python3.8/site-packages/ipykernel/ipkernel.py:287: DeprecationWarning: `should_run_async` will not call `transform_cell` automatically in the future. Please pass the result to `transformed_cell` argument and any exception that happen during thetransform in `preprocessing_exc_tuple` in IPython 7.17 and above.\n",
      "  and should_run_async(code)\n"
     ]
    },
    {
     "data": {
      "image/png": "[encoded data removed]",
      "text/plain": [
       "<Figure size 576x360 with 2 Axes>"
      ]
     },
     "metadata": {},
     "output_type": "display_data"
    }
   ],
   "source": [
    "# fig = plt.figure(figsize=(8,5))\n",
    "# fig.patch.set_facecolor('xkcd:white')\n",
    "\n",
    "# plt.pcolormesh(mesht, meshz, speed_arr, cmap='seismic', vmin=-20, vmax=20)\n",
    "# #plt.contourf(mesht, meshz, speed_arr, cmap='seismic', levels=np.arange(-20, 20.2, 0.2), extend='both')\n",
    "\n",
    "# plt.xticks(np.arange(83, 141, 8), ['1652', '1752', '1852', '1952', '2052', '2152', '2252', '2352'])\n",
    "\n",
    "# plt.ylim(0, 20)\n",
    "# plt.xlim(83, 140)\n",
    "# cbar = plt.colorbar(extend='both', ticks=np.arange(-20, 21, 5))\n",
    "# cbar.set_label('m s$^{-1}$', fontsize=12)\n",
    "\n",
    "# plt.xlabel('Time [UTC]', labelpad=20, fontsize=12)\n",
    "# plt.ylabel('Height [km]', labelpad=20, fontsize=12)\n",
    "\n",
    "# plt.title('Vertical Motion from CSAPR2 HSRHI\\n20190125', fontsize=14)\n",
    "\n",
    "# plt.text(84, 17.5, 'Max: 10.66 m s$^{-1}$\\nMin: $-$19.50 m s$^{-1}$')\n",
    "\n",
    "# #plt.savefig('csapr2_hsrhi_vertmot_height_20190125.png', dpi=400, bbox_inches='tight')"
   ]
  }
 ],
 "metadata": {
  "kernelspec": {
   "display_name": "Python 3",
   "language": "python",
   "name": "python3"
  },
  "language_info": {
   "codemirror_mode": {
    "name": "ipython",
    "version": 3
   },
   "file_extension": ".py",
   "mimetype": "text/x-python",
   "name": "python",
   "nbconvert_exporter": "python",
   "pygments_lexer": "ipython3",
   "version": "3.8.5"
  }
 },
 "nbformat": 4,
 "nbformat_minor": 5
}
