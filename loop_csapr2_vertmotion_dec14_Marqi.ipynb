{
 "cells": [
  {
   "cell_type": "code",
   "execution_count": 1,
   "id": "f32f5efa",
   "metadata": {},
   "outputs": [
    {
     "name": "stdout",
     "output_type": "stream",
     "text": [
      "\n",
      "## You are using the Python ARM Radar Toolkit (Py-ART), an open source\n",
      "## library for working with weather radar data. Py-ART is partly\n",
      "## supported by the U.S. Department of Energy as part of the Atmospheric\n",
      "## Radiation Measurement (ARM) Climate Research Facility, an Office of\n",
      "## Science user facility.\n",
      "##\n",
      "## If you use this software to prepare a publication, please cite:\n",
      "##\n",
      "##     JJ Helmus and SM Collis, JORS 2016, doi: 10.5334/jors.119\n",
      "\n"
     ]
    },
    {
     "name": "stderr",
     "output_type": "stream",
     "text": [
      "/usr/local/anaconda3/lib/python3.8/site-packages/h5py/__init__.py:46: DeprecationWarning: `np.typeDict` is a deprecated alias for `np.sctypeDict`.\n",
      "  from ._conv import register_converters as _register_converters\n"
     ]
    }
   ],
   "source": [
    "#import the goods\n",
    "import numpy as np\n",
    "import matplotlib.pyplot as plt\n",
    "from netCDF4 import Dataset\n",
    "import pyart\n",
    "\n",
    "import difflib\n",
    "import os\n",
    "import datetime\n",
    "import time\n",
    "import glob\n",
    "import fnmatch\n",
    "import matplotlib.colors as colors\n",
    "from scipy import stats\n"
   ]
  },
  {
   "cell_type": "code",
   "execution_count": 2,
   "id": "cda5e650",
   "metadata": {},
   "outputs": [
    {
     "name": "stderr",
     "output_type": "stream",
     "text": [
      "/usr/local/anaconda3/lib/python3.8/site-packages/ipykernel/ipkernel.py:287: DeprecationWarning: `should_run_async` will not call `transform_cell` automatically in the future. Please pass the result to `transformed_cell` argument and any exception that happen during thetransform in `preprocessing_exc_tuple` in IPython 7.17 and above.\n",
      "  and should_run_async(code)\n"
     ]
    }
   ],
   "source": [
    "def add_field_to_radar_object(field, radar, field_name='FH', units='unitless', \n",
    "                              long_name='Hydrometeor ID', standard_name='Hydrometeor ID',\n",
    "                              dz_field='ZC'):\n",
    "    \n",
    "    fill_value = -32768\n",
    "    masked_field = np.ma.asanyarray(field)\n",
    "    masked_field.mask = masked_field == fill_value\n",
    "    if hasattr(radar.fields[dz_field]['data'], 'mask'):\n",
    "        setattr(masked_field, 'mask', \n",
    "                np.logical_or(masked_field.mask, radar.fields[dz_field]['data'].mask))\n",
    "    field_dict = {'data': masked_field,\n",
    "                  'units': units,\n",
    "                  'long_name': long_name,\n",
    "                  'standard_name': standard_name,\n",
    "                  '_FillValue': fill_value}\n",
    "    radar.add_field(field_name, field_dict, replace_existing=True)\n",
    "    return radar"
   ]
  },
  {
   "cell_type": "code",
   "execution_count": null,
   "id": "a6ad54f8",
   "metadata": {},
   "outputs": [],
   "source": [
    "### EXAMPLE FOR A SINGLE PROFILE\n",
    "\n",
    "#vel1q mean is the vr profile and z is the heights\n",
    "\n",
    "radar = pyart.io.read(filename)\n",
    "print (int(radar.nsweeps)) # get the number of sweeps, usually 6\n",
    "swp = 0  #change this to get different sweeps (0-5)\n",
    "elevs = radar.get_elevation(swp)\n",
    "id_90 = (np.abs(elevs - 90)).argmin()\n",
    "vel1q = radar.get_field(swp, 'VR_qc_reg5')[id_90-2:id_90+3, :] # this is +- 1 degreee\n",
    "vel1q_mean = np.mean(vel1q, axis=0)\n",
    "            \n",
    "vals = np.array(radar.get_gate_x_y_z(swp)) #get the x, y, z coordinates\n",
    "z = (vals[2,id_90,:])/1000 #get height in km"
   ]
  },
  {
   "cell_type": "code",
   "execution_count": 16,
   "id": "a6c6f46c",
   "metadata": {
    "scrolled": true
   },
   "outputs": [
    {
     "name": "stderr",
     "output_type": "stream",
     "text": [
      "/usr/local/anaconda3/lib/python3.8/site-packages/ipykernel/ipkernel.py:287: DeprecationWarning: `should_run_async` will not call `transform_cell` automatically in the future. Please pass the result to `transformed_cell` argument and any exception that happen during thetransform in `preprocessing_exc_tuple` in IPython 7.17 and above.\n",
      "  and should_run_async(code)\n"
     ]
    },
    {
     "name": "stdout",
     "output_type": "stream",
     "text": [
      "/rasmussen-scratch2/mrocque/research/relampago/hsrhi_dec5/corcsapr2cfrhsrhiqcM1.b1.20181205.192234.csuqc.nc\n",
      "/rasmussen-scratch2/mrocque/research/relampago/hsrhi_dec5/corcsapr2cfrhsrhiqcM1.b1.20181205.192620.csuqc.nc\n",
      "/rasmussen-scratch2/mrocque/research/relampago/hsrhi_dec5/corcsapr2cfrhsrhiqcM1.b1.20181205.193714.csuqc.nc\n",
      "/rasmussen-scratch2/mrocque/research/relampago/hsrhi_dec5/corcsapr2cfrhsrhiqcM1.b1.20181205.194100.csuqc.nc\n",
      "/rasmussen-scratch2/mrocque/research/relampago/hsrhi_dec5/corcsapr2cfrhsrhiqcM1.b1.20181205.195214.csuqc.nc\n",
      "/rasmussen-scratch2/mrocque/research/relampago/hsrhi_dec5/corcsapr2cfrhsrhiqcM1.b1.20181205.195600.csuqc.nc\n",
      "/rasmussen-scratch2/mrocque/research/relampago/hsrhi_dec5/corcsapr2cfrhsrhiqcM1.b1.20181205.200714.csuqc.nc\n",
      "/rasmussen-scratch2/mrocque/research/relampago/hsrhi_dec5/corcsapr2cfrhsrhiqcM1.b1.20181205.201100.csuqc.nc\n",
      "/rasmussen-scratch2/mrocque/research/relampago/hsrhi_dec5/corcsapr2cfrhsrhiqcM1.b1.20181205.202214.csuqc.nc\n",
      "/rasmussen-scratch2/mrocque/research/relampago/hsrhi_dec5/corcsapr2cfrhsrhiqcM1.b1.20181205.202600.csuqc.nc\n",
      "/rasmussen-scratch2/mrocque/research/relampago/hsrhi_dec5/corcsapr2cfrhsrhiqcM1.b1.20181205.203714.csuqc.nc\n",
      "/rasmussen-scratch2/mrocque/research/relampago/hsrhi_dec5/corcsapr2cfrhsrhiqcM1.b1.20181205.204100.csuqc.nc\n",
      "/rasmussen-scratch2/mrocque/research/relampago/hsrhi_dec5/corcsapr2cfrhsrhiqcM1.b1.20181205.205215.csuqc.nc\n",
      "/rasmussen-scratch2/mrocque/research/relampago/hsrhi_dec5/corcsapr2cfrhsrhiqcM1.b1.20181205.205600.csuqc.nc\n",
      "/rasmussen-scratch2/mrocque/research/relampago/hsrhi_dec5/corcsapr2cfrhsrhiqcM1.b1.20181205.210714.csuqc.nc\n",
      "/rasmussen-scratch2/mrocque/research/relampago/hsrhi_dec5/corcsapr2cfrhsrhiqcM1.b1.20181205.211100.csuqc.nc\n",
      "/rasmussen-scratch2/mrocque/research/relampago/hsrhi_dec5/corcsapr2cfrhsrhiqcM1.b1.20181205.212215.csuqc.nc\n",
      "/rasmussen-scratch2/mrocque/research/relampago/hsrhi_dec5/corcsapr2cfrhsrhiqcM1.b1.20181205.212600.csuqc.nc\n",
      "/rasmussen-scratch2/mrocque/research/relampago/hsrhi_dec5/corcsapr2cfrhsrhiqcM1.b1.20181205.213715.csuqc.nc\n",
      "/rasmussen-scratch2/mrocque/research/relampago/hsrhi_dec5/corcsapr2cfrhsrhiqcM1.b1.20181205.214100.csuqc.nc\n",
      "/rasmussen-scratch2/mrocque/research/relampago/hsrhi_dec5/corcsapr2cfrhsrhiqcM1.b1.20181205.215214.csuqc.nc\n",
      "/rasmussen-scratch2/mrocque/research/relampago/hsrhi_dec5/corcsapr2cfrhsrhiqcM1.b1.20181205.215600.csuqc.nc\n",
      "/rasmussen-scratch2/mrocque/research/relampago/hsrhi_dec5/corcsapr2cfrhsrhiqcM1.b1.20181205.220715.csuqc.nc\n",
      "/rasmussen-scratch2/mrocque/research/relampago/hsrhi_dec5/corcsapr2cfrhsrhiqcM1.b1.20181205.221100.csuqc.nc\n",
      "/rasmussen-scratch2/mrocque/research/relampago/hsrhi_dec5/corcsapr2cfrhsrhiqcM1.b1.20181205.222215.csuqc.nc\n",
      "/rasmussen-scratch2/mrocque/research/relampago/hsrhi_dec5/corcsapr2cfrhsrhiqcM1.b1.20181205.222600.csuqc.nc\n",
      "/rasmussen-scratch2/mrocque/research/relampago/hsrhi_dec5/corcsapr2cfrhsrhiqcM1.b1.20181205.223715.csuqc.nc\n",
      "/rasmussen-scratch2/mrocque/research/relampago/hsrhi_dec5/corcsapr2cfrhsrhiqcM1.b1.20181205.224100.csuqc.nc\n",
      "/rasmussen-scratch2/mrocque/research/relampago/hsrhi_dec5/corcsapr2cfrhsrhiqcM1.b1.20181205.225215.csuqc.nc\n",
      "/rasmussen-scratch2/mrocque/research/relampago/hsrhi_dec5/corcsapr2cfrhsrhiqcM1.b1.20181205.225600.csuqc.nc\n",
      "/rasmussen-scratch2/mrocque/research/relampago/hsrhi_dec5/corcsapr2cfrhsrhiqcM1.b1.20181205.230715.csuqc.nc\n",
      "/rasmussen-scratch2/mrocque/research/relampago/hsrhi_dec5/corcsapr2cfrhsrhiqcM1.b1.20181205.231100.csuqc.nc\n",
      "/rasmussen-scratch2/mrocque/research/relampago/hsrhi_dec5/corcsapr2cfrhsrhiqcM1.b1.20181205.232215.csuqc.nc\n",
      "/rasmussen-scratch2/mrocque/research/relampago/hsrhi_dec5/corcsapr2cfrhsrhiqcM1.b1.20181205.232600.csuqc.nc\n",
      "/rasmussen-scratch2/mrocque/research/relampago/hsrhi_dec5/corcsapr2cfrhsrhiqcM1.b1.20181205.233715.csuqc.nc\n",
      "/rasmussen-scratch2/mrocque/research/relampago/hsrhi_dec5/corcsapr2cfrhsrhiqcM1.b1.20181205.234100.csuqc.nc\n",
      "/rasmussen-scratch2/mrocque/research/relampago/hsrhi_dec5/corcsapr2cfrhsrhiqcM1.b1.20181205.235215.csuqc.nc\n",
      "/rasmussen-scratch2/mrocque/research/relampago/hsrhi_dec5/corcsapr2cfrhsrhiqcM1.b1.20181205.235600.csuqc.nc\n"
     ]
    }
   ],
   "source": [
    "vel1_cone = []\n",
    "vel1q_cone = []\n",
    "vel1qc_cone = []\n",
    "vel1_cone_all = []\n",
    "vel1q_cone_all = []\n",
    "vel1qc_cone_all = []\n",
    "vel2_cone = []\n",
    "vel2q_cone = []\n",
    "vel2qc_cone = []\n",
    "\n",
    "hid1_cone = []\n",
    "hid1_cone_all = []\n",
    "hid2_cone = []\n",
    "\n",
    "dates = []\n",
    "height = []\n",
    "height_all = []\n",
    "\n",
    "path = '/rasmussen-scratch2/mrocque/research/relampago/hsrhi_dec5/'\n",
    "\n",
    "for path,dirs,files in sorted(os.walk(path)):\n",
    "    for file in sorted(files):\n",
    "        if fnmatch.fnmatch(file,'*'):\n",
    "            fullname = os.path.join(path,file)\n",
    "            radar = pyart.io.read(fullname)\n",
    "            print (fullname)\n",
    "\n",
    "            for swp in np.arange(0, int(radar.nsweeps), 1): #change the 1 to int(radar.nsweeps) to go thru all 6 sweeps of HSRHI\n",
    "                new_rad = radar.extract_sweeps([swp])\n",
    "\n",
    "                elevs = new_rad.get_elevation(0)\n",
    "                id_90 = (np.abs(elevs - 90)).argmin()\n",
    "                dbzs = new_rad.get_field(0, 'DZ_qc')[id_90-2:id_90+3, :]\n",
    "                dbzs_mean = np.mean(dbzs, axis=0)\n",
    "\n",
    "                vel1q = new_rad.get_field(0, 'VR_qc_reg5')[id_90-2:id_90+3, :] # this is +- 1 degreee\n",
    "                vel1q_mean = np.mean(vel1q, axis=0)\n",
    "                #print (np.shape(vel1_mean))\n",
    "                #vel1q_cone.append(vel1_mean)\n",
    "\n",
    "                vel1 = new_rad.get_field(0, 'VR_qc')[id_90-2:id_90+3, :] # this is +- 1 degreee\n",
    "                vel1_mean = np.mean(vel1, axis=0)\n",
    "                #print (np.shape(vel1_mean))\n",
    "                #vel1_cone.append(vel1_mean)\n",
    "\n",
    "                shp = (np.shape(new_rad.get_field(0, 'VR_qc'))[0])\n",
    "                vr_mask = np.empty((int(shp), 1100))\n",
    "                vr_mask[:] = -32768\n",
    "                vr_mask[id_90-2:id_90+3,:] = vel1\n",
    "\n",
    "                add_field_to_radar_object(vr_mask, new_rad, field_name='VR_mask', units='m/s', long_name='vr mask for +- 1cone',\n",
    "                                                   standard_name='VR mask', dz_field='DZ_qc')\n",
    "\n",
    "                gatefilter = pyart.correct.GateFilter(new_rad)\n",
    "                gatefilter.exclude_invalid('VR_mask')\n",
    "\n",
    "                velqc = pyart.correct.dealias_region_based(new_rad, vel_field='VR_qc', interval_splits=5, gatefilter=gatefilter)\n",
    "\n",
    "                vel1qc = velqc['data'][id_90-2:id_90+3, :]\n",
    "                vel1qc_mean = np.mean(vel1qc, axis=0)\n",
    "                #vel1qc_cone.append(vel1qc_mean)\n",
    "                \n",
    "                hid1 = new_rad.get_field(0, 'HID_qc')[id_90-2:id_90+3, :]\n",
    "                mode1 = stats.mode(hid1, axis=0)[0]\n",
    "                #hid1_cone.append(mode1[0])\n",
    "                #print (np.shape(mode1[0]))\n",
    "                \n",
    "                vals = np.array(new_rad.get_gate_x_y_z(0))\n",
    "                z = (vals[2,id_90,:])/1000\n",
    "\n",
    "                for x in np.arange(0, len(z), 1):\n",
    "                    if dbzs_mean[x] > 0:\n",
    "                        vel1_cone.append(vel1_mean[x])\n",
    "                        vel1q_cone.append(vel1q_mean[x])\n",
    "                        vel1qc_cone.append(vel1qc_mean[x])\n",
    "                        hid1_cone.append(mode1[0][x])\n",
    "                        height.append(z[x])\n",
    "#                     else:\n",
    "#                         vel1_cone.append(-100)\n",
    "#                         vel1q_cone.append(-100)\n",
    "#                         vel1qc_cone.append(-100)\n",
    "#                         hid1_cone.append(0)\n",
    "\n",
    "                for x in np.arange(0, len(z), 1):\n",
    "                    if dbzs_mean[x] > 0:\n",
    "                        vel1_cone_all.append(vel1_mean[x])\n",
    "                        vel1q_cone_all.append(vel1q_mean[x])\n",
    "                        vel1qc_cone_all.append(vel1qc_mean[x])\n",
    "                        hid1_cone_all.append(mode1[0][x])\n",
    "                        height_all.append(z[x])\n",
    "                    else:\n",
    "                        vel1_cone_all.append(-100)\n",
    "                        vel1q_cone_all.append(-100)\n",
    "                        vel1qc_cone_all.append(-100)\n",
    "                        hid1_cone_all.append(0)\n",
    "                        height_all.append(z[x])\n",
    "\n",
    "\n",
    "\n",
    "\n",
    "#                 vel2 = new_rad.get_field(0, 'VR_qc_reg5')[id_90-4:id_90+5, :] # this is +- 2 degreee\n",
    "#                 vel2_mean = np.mean(vel2, axis=0)\n",
    "#                 vel2q_cone.append(vel2_mean)\n",
    "\n",
    "#                 vel2 = new_rad.get_field(0, 'VR_qc')[id_90-4:id_90+5, :] # this is +- 2 degreee\n",
    "#                 vel2_mean = np.mean(vel2, axis=0)\n",
    "#                 vel2_cone.append(vel2_mean)\n",
    "\n",
    "#                 shp = (np.shape(new_rad.get_field(0, 'VR_qc'))[0])\n",
    "#                 vr_mask = np.empty((int(shp), 1100))\n",
    "#                 vr_mask[:] = -32768\n",
    "#                 vr_mask[id_90-4:id_90+5,:] = vel2\n",
    "\n",
    "#                 add_field_to_radar_object(vr_mask, new_rad, field_name='VR_mask', units='m/s', long_name='vr mask for +- 1cone',\n",
    "#                                                    standard_name='VR mask', dz_field='DZ_qc')\n",
    "\n",
    "#                 gatefilter = pyart.correct.GateFilter(new_rad)\n",
    "#                 gatefilter.exclude_invalid('VR_mask')\n",
    "\n",
    "#                 velqc = pyart.correct.dealias_region_based(new_rad, vel_field='VR_qc', interval_splits=5, gatefilter=gatefilter)\n",
    "\n",
    "#                 vel2qc = velqc['data'][id_90-4:id_90+5, :]\n",
    "#                 vel2qc_mean = np.mean(vel2qc, axis=0)\n",
    "#                 vel2qc_cone.append(vel2qc_mean)\n",
    "\n",
    "\n",
    "\n",
    "#                 #hid1_mean = np.mean(hid1, axis=0)\n",
    "#                 #hid1_cone.append(hid1_mean)\n",
    "\n",
    "#                 hid2 = new_rad.get_field(0, 'HID_qc')[id_90-4:id_90+5, :]\n",
    "#                 mode2 = stats.mode(hid2, axis=0)[0]\n",
    "#                 hid2_cone.append(mode2[0])\n",
    "\n",
    "#                 #hid2_mean = np.mean(hid2, axis=0)\n",
    "#                 #hid2_cone.append(hid2_mean)\n",
    "\n",
    "                date = str(pyart.util.datetime_from_radar(new_rad))\n",
    "                conv_date = datetime.datetime.strptime(date[0:19],'%Y-%m-%d %H:%M:%S')\n",
    "                conv2 = conv_date.strftime(\"%Y%m%d_%H%M%S\")\n",
    "\n",
    "                dates.append(conv2)\n",
    "\n",
    "\n"
   ]
  },
  {
   "cell_type": "code",
   "execution_count": 17,
   "id": "fdbe5d33",
   "metadata": {},
   "outputs": [
    {
     "name": "stderr",
     "output_type": "stream",
     "text": [
      "/usr/local/anaconda3/lib/python3.8/site-packages/ipykernel/ipkernel.py:287: DeprecationWarning: `should_run_async` will not call `transform_cell` automatically in the future. Please pass the result to `transformed_cell` argument and any exception that happen during thetransform in `preprocessing_exc_tuple` in IPython 7.17 and above.\n",
      "  and should_run_async(code)\n"
     ]
    }
   ],
   "source": [
    "vel1_cone1 = 1 * np.array(vel1_cone)\n",
    "vel1_cone1[vel1_cone1 < -100] = np.nan\n",
    "\n",
    "vel1q_cone1 = 1 * np.array(vel1q_cone)\n",
    "vel1q_cone1[vel1q_cone1 < -100] = np.nan\n",
    "\n",
    "vel1qc_cone1 = 1 * np.array(vel1qc_cone)\n",
    "vel1qc_cone1[vel1qc_cone1 < -100] = np.nan\n",
    "\n",
    "vel2_cone1 = 1 * np.array(vel2_cone)\n",
    "vel2_cone1[vel2_cone1 < -100] = np.nan\n",
    "\n",
    "vel2q_cone1 = 1 * np.array(vel2q_cone)\n",
    "vel2q_cone1[vel2q_cone1 < -100] = np.nan\n",
    "\n",
    "vel2qc_cone1 = 1 * np.array(vel2qc_cone)\n",
    "vel2qc_cone1[vel2qc_cone1 < -100] = np.nan\n",
    "\n",
    "hid1_cone1 = 1 * np.array(hid1_cone, dtype=float)\n",
    "hid1_cone1[hid1_cone1 < 0] = np.nan\n",
    "\n",
    "hid2_cone1 = 1 * np.array(hid2_cone, dtype=float)\n",
    "hid2_cone1[hid2_cone1 < 0] = np.nan\n"
   ]
  },
  {
   "cell_type": "code",
   "execution_count": 18,
   "id": "42fae7ef",
   "metadata": {
    "scrolled": false
   },
   "outputs": [
    {
     "name": "stderr",
     "output_type": "stream",
     "text": [
      "/usr/local/anaconda3/lib/python3.8/site-packages/ipykernel/ipkernel.py:287: DeprecationWarning: `should_run_async` will not call `transform_cell` automatically in the future. Please pass the result to `transformed_cell` argument and any exception that happen during thetransform in `preprocessing_exc_tuple` in IPython 7.17 and above.\n",
      "  and should_run_async(code)\n",
      "<>:17: DeprecationWarning: invalid escape sequence \\p\n",
      "<>:17: DeprecationWarning: invalid escape sequence \\p\n",
      "<ipython-input-18-aac9677b4de9>:17: DeprecationWarning: invalid escape sequence \\p\n",
      "  plt.title('Distribution of Vertical Motions from all HSRHIs\\n(uncorrected, folded, $\\pm$1$^{\\circ}$ cone, dBZ>0)', fontsize=14)\n"
     ]
    },
    {
     "data": {
      "text/plain": [
       "Text(-68, 0.1, 'min = -12.54')"
      ]
     },
     "execution_count": 18,
     "metadata": {},
     "output_type": "execute_result"
    },
    {
     "data": {
      "image/png": "[encoded data removed]",
      "text/plain": [
       "<Figure size 576x360 with 1 Axes>"
      ]
     },
     "metadata": {},
     "output_type": "display_data"
    }
   ],
   "source": [
    "fig = plt.figure(figsize=(8,5))\n",
    "fig.patch.set_facecolor('xkcd:white')\n",
    "\n",
    "b = np.arange(-68, 68.5, 1)\n",
    "weights = np.ones_like(vel1qc_cone1) / len(vel1qc_cone1)\n",
    "\n",
    "ax = plt.subplot(111)\n",
    "\n",
    "plt.hist(vel1qc_cone1, bins=b, color='r', edgecolor='k', weights=weights, alpha=1)\n",
    "\n",
    "\n",
    "plt.xlim(-70, 70)\n",
    "plt.xlabel('speed [m/s]', labelpad=10, fontsize=12)\n",
    "plt.ylabel('density', labelpad=10, fontsize=12)\n",
    "\n",
    "plt.axvline(0, 0, 1, color='k', lw=2)\n",
    "plt.title('Distribution of Vertical Motions from all HSRHIs\\n(uncorrected, folded, $\\pm$1$^{\\circ}$ cone, dBZ>0)', fontsize=14)\n",
    "plt.yscale('log')\n",
    "#plt.ylim(1e-9, 1e0)\n",
    "\n",
    "plt.text(-68, 3e-1, 'max = '+str(np.round(np.nanmax(vel1qc_cone1), 2)))\n",
    "plt.text(-68, 1e-1, 'min = '+str(np.round(np.nanmin(vel1qc_cone1), 2)))\n",
    "\n",
    "#plt.savefig('hsrhi_vertmotion_uncorr_all_log_wrfmatch.png', dpi=400, bbox_inches='tight')"
   ]
  },
  {
   "cell_type": "code",
   "execution_count": 19,
   "id": "0cad1269",
   "metadata": {},
   "outputs": [
    {
     "name": "stderr",
     "output_type": "stream",
     "text": [
      "/usr/local/anaconda3/lib/python3.8/site-packages/ipykernel/ipkernel.py:287: DeprecationWarning: `should_run_async` will not call `transform_cell` automatically in the future. Please pass the result to `transformed_cell` argument and any exception that happen during thetransform in `preprocessing_exc_tuple` in IPython 7.17 and above.\n",
      "  and should_run_async(code)\n"
     ]
    },
    {
     "data": {
      "text/plain": [
       "Text(0.5, 1.02, 'CFAD Vertical Motion from WRF\\n20181205_1500 $-$ 20181206_0000 UTC')"
      ]
     },
     "execution_count": 19,
     "metadata": {},
     "output_type": "execute_result"
    },
    {
     "data": {
      "image/png": "[encoded data removed]",
      "text/plain": [
       "<Figure size 576x360 with 2 Axes>"
      ]
     },
     "metadata": {},
     "output_type": "display_data"
    }
   ],
   "source": [
    "fig = plt.figure(figsize=(8,5))\n",
    "fig.patch.set_facecolor('xkcd:white')\n",
    "import matplotlib\n",
    "my_cmap = matplotlib.cm.get_cmap(\"Spectral_r\").copy()\n",
    "my_cmap.set_under('w')\n",
    "\n",
    "ax = plt.subplot(111)\n",
    "\n",
    "pl1 = plt.hist2d(vel1qc_cone1, height, (120,44), [[-60, 80], [0.5, 22]], density=True, cmap=my_cmap, norm=colors.LogNorm(vmin=1e-4, vmax=1e-1))\n",
    "plt.colorbar(extend='neither')\n",
    "plt.xlim(-60, 80)\n",
    "plt.ylim(0, 20)\n",
    "plt.xlabel('speed [m s$^{-1}$]', labelpad=15, fontsize=13)\n",
    "plt.ylabel('height [km]', labelpad=15, fontsize=13)\n",
    "\n",
    "plt.title('CFAD Vertical Motion from WRF\\n20181205_1500 $-$ 20181206_0000 UTC', y=1.02, fontsize=15)\n",
    "\n",
    "#plt.savefig('wrf1km_cfad_vertmotion_alltemps_alldom_20181205.png', dpi=400, bbox_inches='tight')"
   ]
  },
  {
   "cell_type": "code",
   "execution_count": 7,
   "id": "92353411",
   "metadata": {},
   "outputs": [
    {
     "name": "stderr",
     "output_type": "stream",
     "text": [
      "/usr/local/anaconda3/lib/python3.8/site-packages/ipykernel/ipkernel.py:287: DeprecationWarning: `should_run_async` will not call `transform_cell` automatically in the future. Please pass the result to `transformed_cell` argument and any exception that happen during thetransform in `preprocessing_exc_tuple` in IPython 7.17 and above.\n",
      "  and should_run_async(code)\n"
     ]
    }
   ],
   "source": [
    "np.savetxt('./dec14_csapr2_hsrhi_corrected_cone1.txt', np.array(vel1qc_cone1))#, fmt='%s')\n",
    "np.savetxt('./dec14_csapr2_hsrhi_heights_cone1.txt', np.array(height))#, fmt='%s')"
   ]
  },
  {
   "cell_type": "code",
   "execution_count": 15,
   "id": "25521608",
   "metadata": {},
   "outputs": [
    {
     "name": "stderr",
     "output_type": "stream",
     "text": [
      "/usr/local/anaconda3/lib/python3.8/site-packages/ipykernel/ipkernel.py:287: DeprecationWarning: `should_run_async` will not call `transform_cell` automatically in the future. Please pass the result to `transformed_cell` argument and any exception that happen during thetransform in `preprocessing_exc_tuple` in IPython 7.17 and above.\n",
      "  and should_run_async(code)\n"
     ]
    }
   ],
   "source": [
    "np.savetxt('./jan25_csapr2_hsrhi_corrected_cone1.txt', np.array(vel1qc_cone1))#, fmt='%s')\n",
    "np.savetxt('./jan25_csapr2_hsrhi_heights_cone1.txt', np.array(height))#, fmt='%s')"
   ]
  },
  {
   "cell_type": "code",
   "execution_count": 20,
   "id": "c9b1e19d",
   "metadata": {},
   "outputs": [
    {
     "name": "stderr",
     "output_type": "stream",
     "text": [
      "/usr/local/anaconda3/lib/python3.8/site-packages/ipykernel/ipkernel.py:287: DeprecationWarning: `should_run_async` will not call `transform_cell` automatically in the future. Please pass the result to `transformed_cell` argument and any exception that happen during thetransform in `preprocessing_exc_tuple` in IPython 7.17 and above.\n",
      "  and should_run_async(code)\n"
     ]
    }
   ],
   "source": [
    "np.savetxt('./dec5_csapr2_hsrhi_corrected_cone1.txt', np.array(vel1qc_cone1))#, fmt='%s')\n",
    "np.savetxt('./dec5_csapr2_hsrhi_heights_cone1.txt', np.array(height))#, fmt='%s')"
   ]
  },
  {
   "cell_type": "code",
   "execution_count": 21,
   "id": "2f3257b4",
   "metadata": {},
   "outputs": [
    {
     "name": "stderr",
     "output_type": "stream",
     "text": [
      "/usr/local/anaconda3/lib/python3.8/site-packages/ipykernel/ipkernel.py:287: DeprecationWarning: `should_run_async` will not call `transform_cell` automatically in the future. Please pass the result to `transformed_cell` argument and any exception that happen during thetransform in `preprocessing_exc_tuple` in IPython 7.17 and above.\n",
      "  and should_run_async(code)\n"
     ]
    }
   ],
   "source": [
    "dec14_vr = np.loadtxt('./dec14_csapr2_hsrhi_corrected_cone1.txt')\n",
    "jan25_vr = np.loadtxt('./jan25_csapr2_hsrhi_corrected_cone1.txt')\n",
    "dec5_vr = np.loadtxt('./dec5_csapr2_hsrhi_corrected_cone1.txt')"
   ]
  },
  {
   "cell_type": "code",
   "execution_count": 22,
   "id": "a8ae6308",
   "metadata": {},
   "outputs": [
    {
     "name": "stdout",
     "output_type": "stream",
     "text": [
      "-12.53778533935547\n",
      "2.589536666870117\n",
      "-22.294273376464844\n",
      "7.590336608886719\n",
      "-24.205648803710936\n",
      "12.91124267578125\n"
     ]
    },
    {
     "name": "stderr",
     "output_type": "stream",
     "text": [
      "/usr/local/anaconda3/lib/python3.8/site-packages/ipykernel/ipkernel.py:287: DeprecationWarning: `should_run_async` will not call `transform_cell` automatically in the future. Please pass the result to `transformed_cell` argument and any exception that happen during thetransform in `preprocessing_exc_tuple` in IPython 7.17 and above.\n",
      "  and should_run_async(code)\n"
     ]
    }
   ],
   "source": [
    "print (np.min(dec5_vr))\n",
    "print (np.max(dec5_vr))\n",
    "print (np.min(dec14_vr))\n",
    "print (np.max(dec14_vr))\n",
    "print (np.min(jan25_vr))\n",
    "print (np.max(jan25_vr))"
   ]
  },
  {
   "cell_type": "code",
   "execution_count": 30,
   "id": "1c23c878",
   "metadata": {},
   "outputs": [
    {
     "name": "stderr",
     "output_type": "stream",
     "text": [
      "/usr/local/anaconda3/lib/python3.8/site-packages/ipykernel/ipkernel.py:287: DeprecationWarning: `should_run_async` will not call `transform_cell` automatically in the future. Please pass the result to `transformed_cell` argument and any exception that happen during thetransform in `preprocessing_exc_tuple` in IPython 7.17 and above.\n",
      "  and should_run_async(code)\n",
      "<>:22: DeprecationWarning: invalid escape sequence \\p\n",
      "<>:22: DeprecationWarning: invalid escape sequence \\p\n",
      "<ipython-input-30-ae4e8a445189>:22: DeprecationWarning: invalid escape sequence \\p\n",
      "  plt.title('Distribution of Vertical Motions from HSRHIs\\n(uncorrected, dealiased, $\\pm$1$^{\\circ}$ cone, dBZ>0)', fontsize=14)\n"
     ]
    },
    {
     "data": {
      "image/png": "[encoded data removed]",
      "text/plain": [
       "<Figure size 576x360 with 1 Axes>"
      ]
     },
     "metadata": {},
     "output_type": "display_data"
    }
   ],
   "source": [
    "fig = plt.figure(figsize=(8,5))\n",
    "fig.patch.set_facecolor('xkcd:white')\n",
    "b = np.arange(-25, 25.5, 0.5)\n",
    "\n",
    "\n",
    "ax = plt.subplot(111)\n",
    "\n",
    "weights = np.ones_like(jan25_vr) / len(jan25_vr)\n",
    "plt.hist(jan25_vr, bins=b, color='r', edgecolor='k', weights=weights, alpha=0.5, label='Jan. 25-26')\n",
    "\n",
    "weights = np.ones_like(dec14_vr) / len(dec14_vr)\n",
    "plt.hist(dec14_vr, bins=b, color='b', edgecolor='k', weights=weights, alpha=0.5, label='Dec. 13-14')\n",
    "\n",
    "weights = np.ones_like(dec5_vr) / len(dec5_vr)\n",
    "plt.hist(dec5_vr, bins=b, color='y', edgecolor='k', weights=weights, alpha=0.5, label='Dec. 5')\n",
    "\n",
    "plt.xlim(-26, 26)\n",
    "plt.xlabel('speed [m/s]', labelpad=10, fontsize=12)\n",
    "plt.ylabel('density', labelpad=10, fontsize=12)\n",
    "\n",
    "plt.axvline(0, 0, 1, color='k', lw=2)\n",
    "plt.title('Distribution of Vertical Motions from HSRHIs\\n(uncorrected, dealiased, $\\pm$1$^{\\circ}$ cone, dBZ>0)', fontsize=14)\n",
    "plt.yscale('log')\n",
    "plt.ylim(1e-5, 1e0)\n",
    "\n",
    "plt.legend()\n",
    "\n",
    "#plt.text(-68, 3e-1, 'max = '+str(np.round(np.nanmax(vel1qc_cone1), 2)))\n",
    "#plt.text(-68, 1e-1, 'min = '+str(np.round(np.nanmin(vel1qc_cone1), 2)))\n",
    "\n",
    "#plt.savefig('hsrhi_vertmotion_uncorr_dealiased_cases_log.png', dpi=400, bbox_inches='tight')"
   ]
  },
  {
   "cell_type": "code",
   "execution_count": 31,
   "id": "aa8fb8d8",
   "metadata": {},
   "outputs": [
    {
     "name": "stderr",
     "output_type": "stream",
     "text": [
      "/usr/local/anaconda3/lib/python3.8/site-packages/ipykernel/ipkernel.py:287: DeprecationWarning: `should_run_async` will not call `transform_cell` automatically in the future. Please pass the result to `transformed_cell` argument and any exception that happen during thetransform in `preprocessing_exc_tuple` in IPython 7.17 and above.\n",
      "  and should_run_async(code)\n"
     ]
    }
   ],
   "source": [
    "hgt5 = np.loadtxt('./dec5_csapr2_hsrhi_heights_cone1.txt')\n",
    "hgt14 = np.loadtxt('./dec14_csapr2_hsrhi_heights_cone1.txt')\n",
    "hgt25 = np.loadtxt('./jan25_csapr2_hsrhi_heights_cone1.txt')"
   ]
  },
  {
   "cell_type": "code",
   "execution_count": 42,
   "id": "dac1cc20",
   "metadata": {},
   "outputs": [
    {
     "name": "stderr",
     "output_type": "stream",
     "text": [
      "/usr/local/anaconda3/lib/python3.8/site-packages/ipykernel/ipkernel.py:287: DeprecationWarning: `should_run_async` will not call `transform_cell` automatically in the future. Please pass the result to `transformed_cell` argument and any exception that happen during thetransform in `preprocessing_exc_tuple` in IPython 7.17 and above.\n",
      "  and should_run_async(code)\n"
     ]
    },
    {
     "data": {
      "image/png": "[encoded data removed]",
      "text/plain": [
       "<Figure size 576x360 with 2 Axes>"
      ]
     },
     "metadata": {},
     "output_type": "display_data"
    }
   ],
   "source": [
    "fig = plt.figure(figsize=(8,5))\n",
    "fig.patch.set_facecolor('xkcd:white')\n",
    "import matplotlib\n",
    "my_cmap = matplotlib.cm.get_cmap(\"Spectral_r\").copy()\n",
    "my_cmap.set_under('w')\n",
    "\n",
    "ax = plt.subplot(111)\n",
    "\n",
    "pl1 = plt.hist2d(dec5_vr, hgt5, (50,44), [[-25, 25], [0.5, 22]], density=True, cmap=my_cmap, norm=colors.LogNorm(vmin=1e-4, vmax=1e-1))\n",
    "plt.colorbar(extend='neither')\n",
    "plt.xlim(-25, 25)\n",
    "plt.ylim(0, 20)\n",
    "plt.xlabel('speed [m s$^{-1}$]', labelpad=15, fontsize=13)\n",
    "plt.ylabel('height [km]', labelpad=15, fontsize=13)\n",
    "\n",
    "plt.title('CFAD HSRHI Vertical Motion: Dec. 5th', y=1.02, fontsize=15)\n",
    "plt.grid()\n",
    "\n",
    "#plt.savefig('cfad_hsrhi_vertmotion_uncor_dealias_dec5.png', dpi=400, bbox_inches='tight')"
   ]
  },
  {
   "cell_type": "code",
   "execution_count": 44,
   "id": "4e1bbf8f",
   "metadata": {},
   "outputs": [
    {
     "name": "stderr",
     "output_type": "stream",
     "text": [
      "/usr/local/anaconda3/lib/python3.8/site-packages/ipykernel/ipkernel.py:287: DeprecationWarning: `should_run_async` will not call `transform_cell` automatically in the future. Please pass the result to `transformed_cell` argument and any exception that happen during thetransform in `preprocessing_exc_tuple` in IPython 7.17 and above.\n",
      "  and should_run_async(code)\n"
     ]
    },
    {
     "data": {
      "image/png": "[encoded data removed]",
      "text/plain": [
       "<Figure size 576x360 with 2 Axes>"
      ]
     },
     "metadata": {},
     "output_type": "display_data"
    }
   ],
   "source": [
    "fig = plt.figure(figsize=(8,5))\n",
    "fig.patch.set_facecolor('xkcd:white')\n",
    "import matplotlib\n",
    "my_cmap = matplotlib.cm.get_cmap(\"Spectral_r\").copy()\n",
    "my_cmap.set_under('w')\n",
    "\n",
    "ax = plt.subplot(111)\n",
    "\n",
    "pl1 = plt.hist2d(dec14_vr, hgt14, (50,44), [[-25, 25], [0.5, 22]], density=True, cmap=my_cmap, norm=colors.LogNorm(vmin=1e-4, vmax=1e-1))\n",
    "plt.colorbar(extend='neither')\n",
    "plt.xlim(-25, 25)\n",
    "plt.ylim(0, 20)\n",
    "plt.xlabel('speed [m s$^{-1}$]', labelpad=15, fontsize=13)\n",
    "plt.ylabel('height [km]', labelpad=15, fontsize=13)\n",
    "\n",
    "plt.title('CFAD HSRHI Vertical Motion: Dec. 13-14th', y=1.02, fontsize=15)\n",
    "plt.grid()\n",
    "\n",
    "#plt.savefig('cfad_hsrhi_vertmotion_uncor_dealias_dec14.png', dpi=400, bbox_inches='tight')"
   ]
  },
  {
   "cell_type": "code",
   "execution_count": 46,
   "id": "16eb56b2",
   "metadata": {},
   "outputs": [
    {
     "name": "stderr",
     "output_type": "stream",
     "text": [
      "/usr/local/anaconda3/lib/python3.8/site-packages/ipykernel/ipkernel.py:287: DeprecationWarning: `should_run_async` will not call `transform_cell` automatically in the future. Please pass the result to `transformed_cell` argument and any exception that happen during thetransform in `preprocessing_exc_tuple` in IPython 7.17 and above.\n",
      "  and should_run_async(code)\n"
     ]
    },
    {
     "data": {
      "image/png": "[encoded data removed]",
      "text/plain": [
       "<Figure size 576x360 with 2 Axes>"
      ]
     },
     "metadata": {},
     "output_type": "display_data"
    }
   ],
   "source": [
    "fig = plt.figure(figsize=(8,5))\n",
    "fig.patch.set_facecolor('xkcd:white')\n",
    "import matplotlib\n",
    "my_cmap = matplotlib.cm.get_cmap(\"Spectral_r\").copy()\n",
    "my_cmap.set_under('w')\n",
    "\n",
    "ax = plt.subplot(111)\n",
    "\n",
    "pl1 = plt.hist2d(jan25_vr, hgt25, (50,44), [[-25, 25], [0.5, 22]], density=True, cmap=my_cmap, norm=colors.LogNorm(vmin=1e-4, vmax=1e-1))\n",
    "plt.colorbar(extend='neither')\n",
    "plt.xlim(-25, 25)\n",
    "plt.ylim(0, 20)\n",
    "plt.xlabel('speed [m s$^{-1}$]', labelpad=15, fontsize=13)\n",
    "plt.ylabel('height [km]', labelpad=15, fontsize=13)\n",
    "\n",
    "plt.title('CFAD HSRHI Vertical Motion: Jan. 25-26th', y=1.02, fontsize=15)\n",
    "plt.grid()\n",
    "\n",
    "#plt.savefig('cfad_hsrhi_vertmotion_uncor_dealias_jan25.png', dpi=400, bbox_inches='tight')"
   ]
  },
  {
   "cell_type": "code",
   "execution_count": null,
   "id": "0cd70c90",
   "metadata": {},
   "outputs": [],
   "source": [
    "fig = plt.figure(figsize=(8,5))\n",
    "fig.patch.set_facecolor('xkcd:white')\n",
    "\n",
    "b = np.arange(1, 11, 1)\n",
    "weights = np.ones_like(hid1_cone1) / len(hid1_cone1)\n",
    "\n",
    "ax = plt.subplot(111)\n",
    "\n",
    "plt.hist(hid1_cone1, bins=b, color='r', edgecolor='k', weights=weights, alpha=1)\n",
    "\n",
    "\n",
    "plt.xlim(0, 10)\n",
    "plt.xlabel('speed [m/s]', labelpad=10, fontsize=12)\n",
    "plt.ylabel('density', labelpad=10, fontsize=12)\n",
    "\n",
    "plt.axvline(0, 0, 1, color='k', lw=2)\n",
    "plt.title('Distribution of Vertical Motions from all HSRHIs\\n(uncorrected, folded, $\\pm$1$^{\\circ}$ cone, dBZ>0)', fontsize=14)\n",
    "plt.yscale('log')\n",
    "#plt.ylim(1e-9, 1e0)\n",
    "\n",
    "plt.text(-1, 3e-1, 'max = '+str(np.round(np.nanmax(hid1_cone1), 2)))\n",
    "plt.text(-1, 1e-1, 'min = '+str(np.round(np.nanmin(hid1_cone1), 2)))\n",
    "\n",
    "#plt.savefig('hsrhi_vertmotion_uncorr_all_log_wrfmatch.png', dpi=400, bbox_inches='tight')"
   ]
  },
  {
   "cell_type": "code",
   "execution_count": null,
   "id": "bc51aede",
   "metadata": {},
   "outputs": [],
   "source": [
    "print (np.shape(vel1qc_cone_all))\n",
    "print (np.shape(height_all))\n",
    "print (np.shape(dates))\n",
    "print (np.shape(hid1_cone_all))"
   ]
  },
  {
   "cell_type": "code",
   "execution_count": null,
   "id": "41e7637d",
   "metadata": {},
   "outputs": [],
   "source": [
    "new_velqc = np.reshape(vel1qc_cone_all, (576, 1100))\n",
    "new_hid1 = np.reshape(hid1_cone_all, (576, 1100))"
   ]
  },
  {
   "cell_type": "code",
   "execution_count": null,
   "id": "6bae7a5b",
   "metadata": {},
   "outputs": [],
   "source": [
    "print (np.shape(new_velqc))"
   ]
  },
  {
   "cell_type": "code",
   "execution_count": null,
   "id": "453a7385",
   "metadata": {},
   "outputs": [],
   "source": [
    "plt.pcolormesh(new_hid1.T, vmin=0, vmax=10)\n",
    "plt.ylim(0, 200)"
   ]
  },
  {
   "cell_type": "code",
   "execution_count": null,
   "id": "9a93419c",
   "metadata": {},
   "outputs": [],
   "source": [
    "plt.pcolormesh(new_velqc.T)\n",
    "plt.ylim(0, 200)"
   ]
  },
  {
   "cell_type": "code",
   "execution_count": null,
   "id": "765dc76c",
   "metadata": {},
   "outputs": [],
   "source": [
    "# plt.plot(vel1qc_cone)\n",
    "plt.ylim(-20, 20)"
   ]
  },
  {
   "cell_type": "code",
   "execution_count": null,
   "id": "4e1d98c6",
   "metadata": {},
   "outputs": [],
   "source": [
    "vel1_cone2 = np.ndarray.flatten(vel1_cone1)\n",
    "vel1q_cone2 = np.ndarray.flatten(vel1q_cone1)\n",
    "vel1qc_cone2 = np.ndarray.flatten(vel1qc_cone1)\n",
    "vel2_cone2 = np.ndarray.flatten(vel2_cone1)\n",
    "vel2q_cone2 = np.ndarray.flatten(vel2q_cone1)\n",
    "vel2qc_cone2 = np.ndarray.flatten(vel2qc_cone1)\n",
    "\n",
    "hid1_cone2 = np.ndarray.flatten(hid1_cone1)\n",
    "hid2_cone2 = np.ndarray.flatten(hid2_cone2)"
   ]
  },
  {
   "cell_type": "code",
   "execution_count": null,
   "id": "010832e7",
   "metadata": {
    "scrolled": true
   },
   "outputs": [],
   "source": [
    "# #get the velocity and HID from each file at 90deg (vertical)\n",
    "# path = '/rasmussen-scratch2/mrocque/research/relampago/hsrhi_dec14/'\n",
    "# vel1_cone = []\n",
    "# vel1q_cone = []\n",
    "# vel2_cone = []\n",
    "# vel2q_cone = []\n",
    "\n",
    "# hid1_cone = []\n",
    "# hid2_cone = []\n",
    "\n",
    "# dates = []\n",
    "\n",
    "# for path,dirs,files in sorted(os.walk(path)):\n",
    "#     for file in sorted(files):\n",
    "#         if fnmatch.fnmatch(file,'*'):\n",
    "#             f = os.path.join(path,file)\n",
    "#             print (f)\n",
    "#             radar = pyart.io.read(f)\n",
    "\n",
    "#             for swp in np.arange(0, int(radar.nsweeps), 1): #change the 1 to int(radar.nsweeps) to go thru all 6 sweeps of HSRHI\n",
    "#                 new_rad = radar.extract_sweeps([swp])\n",
    "                \n",
    "#                 elevs = new_rad.get_elevation(0)\n",
    "#                 id_90 = (np.abs(elevs - 90)).argmin()\n",
    "                \n",
    "#                 vel1 = new_rad.get_field(0, 'VR_qc_reg5')[id_90-2:id_90+3, :] # this is +- 1 degreee\n",
    "#                 vel1_mean = np.mean(vel1, axis=0)\n",
    "#                 vel1q_cone.append(vel1_mean)\n",
    "                \n",
    "#                 vel1 = new_rad.get_field(0, 'VR_qc')[id_90-2:id_90+3, :] # this is +- 1 degreee\n",
    "#                 vel1_mean = np.mean(vel1, axis=0)\n",
    "#                 vel1_cone.append(vel1_mean)\n",
    "                \n",
    "#                 vel2 = new_rad.get_field(0, 'VR_qc_reg5')[id_90-4:id_90+5, :] # this is +- 2 degreee\n",
    "#                 vel2_mean = np.mean(vel2, axis=0)\n",
    "#                 vel2q_cone.append(vel2_mean)\n",
    "                \n",
    "#                 vel2 = new_rad.get_field(0, 'VR_qc')[id_90-4:id_90+5, :] # this is +- 2 degreee\n",
    "#                 vel2_mean = np.mean(vel2, axis=0)\n",
    "#                 vel2_cone.append(vel2_mean)\n",
    "                \n",
    "#                 hid1 = new_rad.get_field(0, 'HID_qc')[id_90-2:id_90+3, :]\n",
    "#                 hid1_mean = np.mean(hid1, axis=0)\n",
    "#                 hid1_cone.append(hid1_mean)\n",
    "                \n",
    "#                 hid2 = new_rad.get_field(0, 'HID_qc')[id_90-4:id_90+5, :]\n",
    "#                 hid2_mean = np.mean(hid2, axis=0)\n",
    "#                 hid2_cone.append(hid2_mean)\n",
    "\n",
    "#                 date = str(pyart.util.datetime_from_radar(new_rad))\n",
    "#                 conv_date = datetime.datetime.strptime(date[0:19],'%Y-%m-%d %H:%M:%S')\n",
    "#                 conv2 = conv_date.strftime(\"%Y%m%d_%H%M%S\")\n",
    "\n",
    "#                 dates.append(conv2)"
   ]
  },
  {
   "cell_type": "code",
   "execution_count": null,
   "id": "dcf7b0ea",
   "metadata": {},
   "outputs": [],
   "source": [
    "vals = np.array(new_rad.get_gate_x_y_z(0)) \n",
    "z = (vals[2,id_90,:])/1000 "
   ]
  },
  {
   "cell_type": "code",
   "execution_count": null,
   "id": "ca602dd3",
   "metadata": {},
   "outputs": [],
   "source": [
    "print (np.shape(dates))\n",
    "print (np.shape(vel1_cone))\n",
    "print (np.shape(z))"
   ]
  },
  {
   "cell_type": "code",
   "execution_count": null,
   "id": "2eda6344",
   "metadata": {
    "scrolled": true
   },
   "outputs": [],
   "source": [
    "t = np.arange(0, len(dates), 1)\n",
    "\n",
    "meshz, mesht = np.array(np.meshgrid(z, t))  #create a meshgrid for z and t to read into pcolormesh/contourf\n",
    "print (type(mesht))"
   ]
  },
  {
   "cell_type": "code",
   "execution_count": null,
   "id": "9158952d",
   "metadata": {},
   "outputs": [],
   "source": [
    "print (np.max(vel1_cone))\n",
    "print (np.min(vel2_cone))"
   ]
  },
  {
   "cell_type": "code",
   "execution_count": null,
   "id": "82b5cd05",
   "metadata": {},
   "outputs": [],
   "source": [
    "print (dates[:][-6:-2])"
   ]
  },
  {
   "cell_type": "code",
   "execution_count": null,
   "id": "71588f3f",
   "metadata": {
    "scrolled": false
   },
   "outputs": [],
   "source": [
    "fig = plt.figure(figsize=(12,6))\n",
    "fig.patch.set_facecolor('xkcd:white')\n",
    "\n",
    "plt.pcolormesh(mesht, meshz, vel1_cone, cmap='seismic', vmin=-15, vmax=15)\n",
    "cbar = plt.colorbar()\n",
    "cbar.set_label('m/s')\n",
    "\n",
    "t1 = np.arange(0, len(t)+1, 48)\n",
    "plt.xticks(ticks=t1, labels=['20', '21', '22', '23','00', '01', '02', '03', '04', '05', '06', '07', '08'])\n",
    "\n",
    "plt.ylim(0, 16)\n",
    "plt.ylabel('height (km)', fontsize=12, labelpad=15)\n",
    "plt.xlabel('time (UTC)', fontsize=12, labelpad=15)\n",
    "plt.xlim(144, 480)\n",
    "\n",
    "plt.title(r'w (folded, uncorrected) from $\\pm$1$^{\\circ}$ cone', fontsize=14)\n",
    "\n",
    "#plt.savefig('dec14_hsrhi_w_cone1_uncor.png', dpi=400, bbox_inches='tight')"
   ]
  },
  {
   "cell_type": "code",
   "execution_count": null,
   "id": "f3aab441",
   "metadata": {},
   "outputs": [],
   "source": [
    "fig = plt.figure(figsize=(12,6))\n",
    "fig.patch.set_facecolor('xkcd:white')\n",
    "\n",
    "plt.pcolormesh(mesht, meshz, vel2_cone, cmap='seismic', vmin=-15, vmax=15)\n",
    "cbar = plt.colorbar()\n",
    "cbar.set_label('m/s')\n",
    "\n",
    "t1 = np.arange(0, len(t)+1, 48)\n",
    "plt.xticks(ticks=t1, labels=['20', '21', '22', '23','00', '01', '02', '03', '04', '05', '06', '07', '08'])\n",
    "\n",
    "plt.ylim(0, 16)\n",
    "plt.ylabel('height (km)', fontsize=12, labelpad=15)\n",
    "plt.xlabel('time (UTC)', fontsize=12, labelpad=15)\n",
    "plt.xlim(144, 480)\n",
    "\n",
    "plt.title(r'w (folded, uncorrected) from $\\pm$2$^{\\circ}$ cone', fontsize=14)\n",
    "\n",
    "#plt.savefig('dec14_hsrhi_w_cone2_uncor.png', dpi=400, bbox_inches='tight')"
   ]
  },
  {
   "cell_type": "code",
   "execution_count": null,
   "id": "cfe08f9f",
   "metadata": {},
   "outputs": [],
   "source": [
    "fig = plt.figure(figsize=(12,6))\n",
    "fig.patch.set_facecolor('xkcd:white')\n",
    "\n",
    "plt.pcolormesh(mesht, meshz, vel1q_cone, cmap='seismic', vmin=-15, vmax=15)\n",
    "cbar = plt.colorbar()\n",
    "cbar.set_label('m/s')\n",
    "\n",
    "t1 = np.arange(0, len(t)+1, 48)\n",
    "plt.xticks(ticks=t1, labels=['20', '21', '22', '23','00', '01', '02', '03', '04', '05', '06', '07', '08'])\n",
    "\n",
    "plt.ylim(0, 16)\n",
    "plt.ylabel('height (km)', fontsize=12, labelpad=15)\n",
    "plt.xlabel('time (UTC)', fontsize=12, labelpad=15)\n",
    "plt.xlim(144, 480)\n",
    "\n",
    "plt.title(r'w (unfolded, uncorrected) from $\\pm$1$^{\\circ}$ cone', fontsize=14)\n",
    "\n",
    "#plt.savefig('dec14_hsrhi_w_cone1.png', dpi=400, bbox_inches='tight')"
   ]
  },
  {
   "cell_type": "code",
   "execution_count": null,
   "id": "d7abd707",
   "metadata": {},
   "outputs": [],
   "source": [
    "fig = plt.figure(figsize=(12,6))\n",
    "fig.patch.set_facecolor('xkcd:white')\n",
    "\n",
    "plt.pcolormesh(mesht, meshz, vel2q_cone, cmap='seismic', vmin=-15, vmax=15)\n",
    "cbar = plt.colorbar()\n",
    "cbar.set_label('m/s')\n",
    "\n",
    "t1 = np.arange(0, len(t)+1, 48)\n",
    "plt.xticks(ticks=t1, labels=['20', '21', '22', '23','00', '01', '02', '03', '04', '05', '06', '07', '08'])\n",
    "\n",
    "plt.ylim(0, 16)\n",
    "plt.ylabel('height (km)', fontsize=12, labelpad=15)\n",
    "plt.xlabel('time (UTC)', fontsize=12, labelpad=15)\n",
    "plt.xlim(144, 480)\n",
    "\n",
    "plt.title(r'w (unfolded, uncorrected) from $\\pm$2$^{\\circ}$ cone', fontsize=14)\n",
    "\n",
    "#plt.savefig('dec14_hsrhi_w_cone2.png', dpi=400, bbox_inches='tight')"
   ]
  },
  {
   "cell_type": "code",
   "execution_count": null,
   "id": "a88307a4",
   "metadata": {},
   "outputs": [],
   "source": [
    "def two_panel_plot_csrhi(radar, sweep=0, var1='reflectivity', vmin1=0, vmax1=70,\n",
    "                   cmap1='pyart_HomeyerRainbow', units1='dBZ', var2='differential_reflectivity',\n",
    "                   vmin2=-5, vmax2=5, cmap2='RdYlBu_r', units2='ms-1', return_flag=True,\n",
    "                   xlim=[-5,5], ylim=[0,20]):\n",
    "    \n",
    "    display = pyart.graph.RadarDisplay(radar)\n",
    "    fig = plt.figure(figsize=(18,5))\n",
    "    fig.patch.set_facecolor('xkcd:white')\n",
    "    ax1 = fig.add_subplot(121)\n",
    "    display.plot_rhi(var1, sweep=sweep, vmin=vmin1, vmax=vmax1, cmap=cmap1, \n",
    "                     colorbar_label=units1, mask_outside=False, title_flag=True)\n",
    "    display.set_limits(xlim=xlim, ylim=ylim)\n",
    "    ax2 = fig.add_subplot(122)\n",
    "    display.plot_rhi(var2, sweep=sweep, vmin=vmin2, vmax=vmax2, cmap=cmap2, \n",
    "                     colorbar_label=units2, mask_outside=False, title_flag=True)\n",
    "    display.set_limits(xlim=xlim, ylim=ylim)\n",
    "    #plt.savefig('csapr2_20181214_0237_hsrhi30_regvel_10ints.png', dpi=400, bbox_inches='tight')\n",
    "    \n",
    "    if return_flag:\n",
    "        return fig, ax1, ax2, display"
   ]
  },
  {
   "cell_type": "code",
   "execution_count": null,
   "id": "98dcfac3",
   "metadata": {},
   "outputs": [],
   "source": [
    "def add_field_to_radar_object(field, radar, field_name='FH', units='unitless', \n",
    "                              long_name='Hydrometeor ID', standard_name='Hydrometeor ID',\n",
    "                              dz_field='ZC'):\n",
    "    \n",
    "    fill_value = -32768\n",
    "    masked_field = np.ma.asanyarray(field)\n",
    "    masked_field.mask = masked_field == fill_value\n",
    "    if hasattr(radar.fields[dz_field]['data'], 'mask'):\n",
    "        setattr(masked_field, 'mask', \n",
    "                np.logical_or(masked_field.mask, radar.fields[dz_field]['data'].mask))\n",
    "    field_dict = {'data': masked_field,\n",
    "                  'units': units,\n",
    "                  'long_name': long_name,\n",
    "                  'standard_name': standard_name,\n",
    "                  '_FillValue': fill_value}\n",
    "    radar.add_field(field_name, field_dict, replace_existing=True)\n",
    "    return radar"
   ]
  },
  {
   "cell_type": "code",
   "execution_count": null,
   "id": "199574d2",
   "metadata": {
    "scrolled": true
   },
   "outputs": [],
   "source": [
    "#path = '/rasmussen-scratch2/mrocque/research/relampago/hsrhi_dec14/corcsapr2cfrhsrhiqcM1.b1.20181214.050715.csuqc.nc'\n",
    "#path = '/rasmussen-scratch2/mrocque/research/relampago/hsrhi_dec14/corcsapr2cfrhsrhiqcM1.b1.20181214.011100.csuqc.nc'\n",
    "path = '/rasmussen-scratch2/mrocque/research/relampago/hsrhi_dec14/corcsapr2cfrhsrhiqcM1.b1.20181214.020715.csuqc.nc'\n",
    "radar = pyart.io.read(path)\n",
    "\n",
    "elevs = radar.get_elevation(3)\n",
    "id_90 = (np.abs(elevs - 90)).argmin()"
   ]
  },
  {
   "cell_type": "code",
   "execution_count": null,
   "id": "c5a24b97",
   "metadata": {},
   "outputs": [],
   "source": [
    "new_rad = radar.extract_sweeps([3])\n",
    "\n",
    "vr = new_rad.get_field(0, 'VR_qc')[id_90-2:id_90+3, :]\n",
    "#vr_mask = radar.get_field(0, 'VR_qc')[:,:]\n",
    "\n",
    "print (np.shape(vr))\n",
    "print (np.shape(new_rad.get_field(0, 'VR_qc'))[0])"
   ]
  },
  {
   "cell_type": "code",
   "execution_count": null,
   "id": "c7cabdbe",
   "metadata": {},
   "outputs": [],
   "source": [
    "vr_mask = np.empty((np.shape(new_rad.get_field(0, 'VR_qc'))[0], 1100))\n",
    "vr_mask[:] = -32768\n",
    "vr_mask[id_90-2:id_90+3,:] = vr\n",
    "\n",
    "add_field_to_radar_object(vr_mask, new_rad, field_name='VR_mask', units='m/s', long_name='vr mask for +- 1cone',\n",
    "                                   standard_name='VR mask', dz_field='DZ_qc')\n"
   ]
  },
  {
   "cell_type": "code",
   "execution_count": null,
   "id": "42bb8fa0",
   "metadata": {},
   "outputs": [],
   "source": [
    "gatefilter = pyart.correct.GateFilter(new_rad)\n",
    "gatefilter.exclude_invalid('VR_mask')"
   ]
  },
  {
   "cell_type": "code",
   "execution_count": null,
   "id": "cf872712",
   "metadata": {},
   "outputs": [],
   "source": [
    "velqc = pyart.correct.dealias_region_based(new_rad, vel_field='VR_qc', interval_splits=5, gatefilter=gatefilter)#, nyquist_vel=26.65)"
   ]
  },
  {
   "cell_type": "code",
   "execution_count": null,
   "id": "1d50af2c",
   "metadata": {},
   "outputs": [],
   "source": [
    "print (np.shape(velqc['data']))"
   ]
  },
  {
   "cell_type": "code",
   "execution_count": null,
   "id": "0fd07fee",
   "metadata": {},
   "outputs": [],
   "source": [
    "field_dict = {'data':velqc['data'],'units':'ms-1', 'long_name':'velocity region-based5',\n",
    "              'standard_name':'Velocity (QCed + reg5)', \n",
    "              '_FillValue':'-32768'}\n",
    "\n",
    "new_rad.add_field('VR_qc2_reg5', field_dict, replace_existing=True)"
   ]
  },
  {
   "cell_type": "code",
   "execution_count": null,
   "id": "5122c0de",
   "metadata": {
    "scrolled": false
   },
   "outputs": [],
   "source": [
    "fig = two_panel_plot_csrhi(new_rad, 0, var1='VR_qc_reg5', vmin1=-20, vmax1=20, cmap1='seismic', var2='VR_qc2_reg5', vmin2=-20, \n",
    "               vmax2=20, cmap2='seismic')\n",
    "\n",
    "#plt.savefig('bad_vrqc_20181214_0111_swp3_50km.png', dpi=400, bbox_inches='tight')"
   ]
  },
  {
   "cell_type": "code",
   "execution_count": null,
   "id": "06b1ce31",
   "metadata": {},
   "outputs": [],
   "source": []
  },
  {
   "cell_type": "code",
   "execution_count": null,
   "id": "7b1e2df8",
   "metadata": {},
   "outputs": [],
   "source": [
    "hid = radar.get_field(0, 'HID_qc')[id_90-4:id_90+5, :]"
   ]
  },
  {
   "cell_type": "code",
   "execution_count": null,
   "id": "534d80e1",
   "metadata": {},
   "outputs": [],
   "source": [
    "from scipy import stats\n",
    "\n",
    "mode = stats.mode(hid, axis=0)[0]\n"
   ]
  },
  {
   "cell_type": "code",
   "execution_count": null,
   "id": "c0fbfc95",
   "metadata": {},
   "outputs": [],
   "source": [
    "print (mode[0])"
   ]
  },
  {
   "cell_type": "code",
   "execution_count": null,
   "id": "cf7fcbe0",
   "metadata": {},
   "outputs": [],
   "source": [
    "plt.plot(mode[0])\n",
    "plt.ylim(0, 10)"
   ]
  },
  {
   "cell_type": "code",
   "execution_count": null,
   "id": "694be6bc",
   "metadata": {},
   "outputs": [],
   "source": [
    "plt.plot(mode[0])\n",
    "plt.ylim(0, 10)"
   ]
  },
  {
   "cell_type": "code",
   "execution_count": null,
   "id": "eb572c01",
   "metadata": {},
   "outputs": [],
   "source": []
  }
 ],
 "metadata": {
  "kernelspec": {
   "display_name": "Python 3",
   "language": "python",
   "name": "python3"
  },
  "language_info": {
   "codemirror_mode": {
    "name": "ipython",
    "version": 3
   },
   "file_extension": ".py",
   "mimetype": "text/x-python",
   "name": "python",
   "nbconvert_exporter": "python",
   "pygments_lexer": "ipython3",
   "version": "3.8.5"
  }
 },
 "nbformat": 4,
 "nbformat_minor": 5
}
